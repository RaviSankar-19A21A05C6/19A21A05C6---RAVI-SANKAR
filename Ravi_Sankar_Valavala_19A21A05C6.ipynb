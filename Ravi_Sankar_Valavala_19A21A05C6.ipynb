{
  "nbformat": 4,
  "nbformat_minor": 0,
  "metadata": {
    "colab": {
      "name": "Ravi Sankar Valavala --19A21A05C6",
      "provenance": [],
      "authorship_tag": "ABX9TyMfii0RzqePRUdeccyqgEle",
      "include_colab_link": true
    },
    "kernelspec": {
      "display_name": "Python 3",
      "name": "python3"
    },
    "language_info": {
      "name": "python"
    }
  },
  "cells": [
    {
      "cell_type": "markdown",
      "metadata": {
        "id": "view-in-github",
        "colab_type": "text"
      },
      "source": [
        "<a href=\"https://colab.research.google.com/github/RaviSankar-19A21A05C6/19A21A05C6---RAVI-SANKAR/blob/main/Ravi_Sankar_Valavala_19A21A05C6.ipynb\" target=\"_parent\"><img src=\"https://colab.research.google.com/assets/colab-badge.svg\" alt=\"Open In Colab\"/></a>"
      ]
    },
    {
      "cell_type": "markdown",
      "metadata": {
        "id": "SxK8FvkY-txD"
      },
      "source": [
        "NAME   :V.Ravi Sankar\n",
        "\n",
        "\n",
        "SECTION:CSE-B\n",
        "\n",
        "\n",
        "REG NO :19A21A05C6\n"
      ]
    },
    {
      "cell_type": "markdown",
      "metadata": {
        "id": "awnIupfm_JwO"
      },
      "source": [
        "# **Exercise 1 - Basics**\n",
        "\n",
        "**AIM:**\n",
        "\n",
        "a) Running instructions in Interactive interpreter and a Python Script"
      ]
    },
    {
      "cell_type": "markdown",
      "metadata": {
        "id": "fCBN1fNO_NIP"
      },
      "source": [
        "**DESCRIPTION:**"
      ]
    },
    {
      "cell_type": "markdown",
      "metadata": {
        "id": "YWkDGdoe_l8B"
      },
      "source": [
        "Python is a high-level, interpreted, interactive and object-oriented \n",
        "scripting language. \n",
        "Python is designed to be highly readable.  It uses English keywords frequently where as other languages use \n",
        "punctuation, and it has fewer syntactical constructions than other languages. \n",
        "\n",
        "* Python is Interpreted \n",
        "\n",
        "* Python is Interactive \n",
        "\n",
        "* Python is Object-Oriented\n",
        "\n",
        "* Python is a Beginner's Language\n",
        "\n",
        "**Python Programming Running Python Scripts**\n",
        "\n",
        "Running Python in THREE ways: \n",
        "\n",
        "a) Running Python Interpreter \n",
        "\n",
        "b) Running Python Scripts in IDLE \n",
        "\n",
        "c) Running python scripts in Command Prompt \n",
        "\n",
        "**a) Running Python Interpreter:**\n",
        "Python comes with an interactive interpreter. When you type python in your shell or command prompt, the python interpreter becomes active with a >>> prompt and waits for your commands\n",
        "\n",
        "b) **Running Python Scripts in IDLE:**\n",
        ". Go to File menu click on New File (CTRL+N) and write the \n",
        "code and save first.py\n",
        "\n",
        "c) **Running python scripts in Command Prompt: ** **bold text**\n",
        "· Before going to run we have to check the PATH in environment \n",
        "variables. \n",
        "\n"
      ]
    },
    {
      "cell_type": "markdown",
      "metadata": {
        "id": "K5lhnLW4_Qoh"
      },
      "source": [
        ""
      ]
    },
    {
      "cell_type": "markdown",
      "metadata": {
        "id": "5Ied3W3e_vpr"
      },
      "source": [
        "**PROGRAM:-**"
      ]
    },
    {
      "cell_type": "code",
      "metadata": {
        "colab": {
          "base_uri": "https://localhost:8080/"
        },
        "id": "XNfxnYap_zHS",
        "outputId": "e0d3e7d0-1542-449e-c5db-00804db0b575"
      },
      "source": [
        "print(\"HII RAVI\")"
      ],
      "execution_count": null,
      "outputs": [
        {
          "name": "stdout",
          "output_type": "stream",
          "text": [
            "HII RAVI\n"
          ]
        }
      ]
    },
    {
      "cell_type": "markdown",
      "metadata": {
        "id": "pEIH2-OvACMa"
      },
      "source": [
        "**AIM:**\n",
        "\n",
        "b) Write a program to purposefully raise Indentation Error and Correct it\n",
        "\n",
        "**DESCRIPTION:**\n",
        "\n",
        "**Indentation** \n",
        "* Python does not support braces to indicate blocks of code for class and \n",
        "function definitions or flow control. \n",
        "\n",
        "* Blocks of code are denoted by line indentation.\n",
        "\n",
        "* All the continuous lines indented with same number of spaces would form a block. \n",
        "\n",
        "* Python strictly follow indentation rules to indicate the blocks. \n",
        ".\n"
      ]
    },
    {
      "cell_type": "markdown",
      "metadata": {
        "id": "DhMSDD0NAI0y"
      },
      "source": [
        "**PROGRAM:**"
      ]
    },
    {
      "cell_type": "code",
      "metadata": {
        "colab": {
          "base_uri": "https://localhost:8080/",
          "height": 128
        },
        "id": "2keku2RTAPeJ",
        "outputId": "ddad666c-becc-4850-fd49-166cd6284103"
      },
      "source": [
        "if True:\n",
        "    print(\"True\");\n",
        "   else:\n",
        "    print(\"false\");"
      ],
      "execution_count": null,
      "outputs": [
        {
          "ename": "IndentationError",
          "evalue": "ignored",
          "output_type": "error",
          "traceback": [
            "\u001b[0;36m  File \u001b[0;32m\"<ipython-input-2-67bd72984f4b>\"\u001b[0;36m, line \u001b[0;32m3\u001b[0m\n\u001b[0;31m    else:\u001b[0m\n\u001b[0m         ^\u001b[0m\n\u001b[0;31mIndentationError\u001b[0m\u001b[0;31m:\u001b[0m unindent does not match any outer indentation level\n"
          ]
        }
      ]
    },
    {
      "cell_type": "markdown",
      "metadata": {
        "id": "-sPja9HRAeJL"
      },
      "source": [
        "Correct Program:"
      ]
    },
    {
      "cell_type": "code",
      "metadata": {
        "colab": {
          "base_uri": "https://localhost:8080/"
        },
        "id": "f7be0kzTAhdO",
        "outputId": "b6215233-96e5-43c9-b343-4d53b1257f0e"
      },
      "source": [
        "if True:\n",
        "    print(\"True\");\n",
        "else:\n",
        "    print(\"false\");"
      ],
      "execution_count": null,
      "outputs": [
        {
          "name": "stdout",
          "output_type": "stream",
          "text": [
            "True\n"
          ]
        }
      ]
    },
    {
      "cell_type": "markdown",
      "metadata": {
        "id": "7P1YudfKA_OI"
      },
      "source": [
        "*italicized text*# **Exercise 2 - Operations**\n",
        "**AIM:**\n",
        "\n",
        "a) Write a program to compute distance between two points taking input from the user(PythagoreanTheorem)\n",
        "\n",
        "**DESCRIPTION:**\n",
        "\n",
        "**Taking Input From the User:**\n",
        "A function is defined as a block of organized, reusable code used to perform a single, related action. Python has many built-in functions; you can also create your own. \n",
        "\n",
        "Python has an input function which lets you ask a user for some text input. You call this function to tell the program to stop and wait for the user to key in the data.\n",
        "\n",
        " In Python 2, you have a built-in function raw_input(), whereas in Python 3, you have input(). The program will resume once the user presses the ENTER or RETURN key.\n",
        "\n",
        " **Input Function**\n",
        "\n",
        "input(prompt=None,/). \n",
        "\n",
        "Read a string from standard input. The trailing newline is stripped. \n",
        "\n",
        "The prompt string, if given, is printed to standard output without a trailing newline before reading input. \n",
        "\n",
        "If the user hits EOF (*nix: Ctrl-D, Windows: Ctrl Z+Return), raise EOFError."
      ]
    },
    {
      "cell_type": "markdown",
      "metadata": {
        "id": "7m1omVtqBDbS"
      },
      "source": [
        "**PROGRAM**"
      ]
    },
    {
      "cell_type": "code",
      "metadata": {
        "colab": {
          "base_uri": "https://localhost:8080/"
        },
        "id": "jqbKOJcUBKjF",
        "outputId": "a30fcd8e-6210-45e3-e636-88b9b00fe25d"
      },
      "source": [
        "import math\n",
        "x1=int(input(\"enter x1 : \"))\n",
        "\n",
        "x2=int(input(\"enter x2 : \"))\n",
        "\n",
        "y1=int(input(\"enter y1 : \"))\n",
        "\n",
        "y2=int(input(\"enter y2 : \"))\n",
        "\n",
        "d= math.sqrt(((x2 - x1 )**2) + ((y2-y1)**2) )\n",
        "\n",
        "print(\"distance between two points = \",d)"
      ],
      "execution_count": null,
      "outputs": [
        {
          "name": "stdout",
          "output_type": "stream",
          "text": [
            "enter x1 : 10\n",
            "enter x2 : 20\n",
            "enter y1 : 30\n",
            "enter y2 : 40\n",
            "distance between two points =  14.142135623730951\n"
          ]
        }
      ]
    },
    {
      "cell_type": "markdown",
      "metadata": {
        "id": "UyjTBHAFBbjW"
      },
      "source": [
        "**AIM:**\n",
        "# The arguments that are given after the name of the program in the command line shell of the operating system are known as Command Line Arguments. Python provides various ways of dealing with these types of arguments. The three most common are: \n",
        "\n",
        "Using sys.argv\n",
        "\n",
        "Using getopt module\n",
        "\n",
        "Using argparse module\n",
        "\n",
        "Using sys.argv\n",
        "\n",
        "The sys module provides functions and variables used to manipulate different parts of the Python runtime environment. This module provides access to some variables used or maintained by the interpreter and to functions that interact strongly with the interpreter.\n",
        "\n",
        "One such variable is sys.argv which is a simple list structure. It’s main purpose are:\n",
        "\n",
        "* It is a list of command line arguments.\n",
        "\n",
        "* len(sys.argv) provides the number of command line arguments.\n",
        "\n",
        "* sys.argv[0] is the name of the current Python script. "
      ]
    },
    {
      "cell_type": "markdown",
      "metadata": {
        "id": "H_sOmUCGBgZK"
      },
      "source": [
        "**PROGRAM**"
      ]
    },
    {
      "cell_type": "code",
      "metadata": {
        "id": "GHazBkvQBotu"
      },
      "source": [
        "import sys\n",
        "x=int(sys.argv[1])\n",
        "y=int(sys.argv[2])\n",
        "sum=x+y\n",
        "print(\"The addition is :\",sum)"
      ],
      "execution_count": null,
      "outputs": []
    },
    {
      "cell_type": "markdown",
      "metadata": {
        "id": "3O9sV3SdBvjI"
      },
      "source": [
        "# **Exercise - 3 Control Flow**\n",
        "\n",
        "**AIM:**\n",
        "\n",
        "a) Write a Program for checking whether the given number is an even number or not.\n",
        "\n",
        "**DESCRIPTION:**\n",
        "**if..else Statement**\n",
        "When there is an alternate operation in control flow, use an else statement alongside with if statement. The general format is\n",
        "\n",
        "if condition:\n",
        "\n",
        "        true statement\n",
        "\n",
        "else:\n",
        "\n",
        "         false statement"
      ]
    },
    {
      "cell_type": "markdown",
      "metadata": {
        "id": "7sluxB2lBzOT"
      },
      "source": [
        "**PROGRAM**"
      ]
    },
    {
      "cell_type": "code",
      "metadata": {
        "colab": {
          "base_uri": "https://localhost:8080/"
        },
        "id": "Urt2KDT-B2Z-",
        "outputId": "a19b409b-1645-48b1-c964-1c46ec6e05f4"
      },
      "source": [
        "val=int(input(\"Enter a number: \"))\n",
        "if  val % 2 == 0:\n",
        "    print(\"The given Number is Even\")\n",
        "else:\n",
        "     print(\"The given Number is odd\")"
      ],
      "execution_count": null,
      "outputs": [
        {
          "name": "stdout",
          "output_type": "stream",
          "text": [
            "Enter a number: 4\n",
            "The given Number is Even\n"
          ]
        }
      ]
    },
    {
      "cell_type": "markdown",
      "metadata": {
        "id": "3qyACrlrCCak"
      },
      "source": [
        "**AIM:**\n",
        "\n",
        "b) Using a for loop, write a program that prints out the decimal equivalents of 1/2, 1/3, 1/4, . . .1/10\n",
        "\n",
        "**DESCRIPTION**\n",
        "\n",
        "**For Loop:**\n",
        "For loops can iterate over a sequence of numbers using the \"range\" and \"xrange\" functions. The difference between range and xrange is that the range function returns a new list with numbers of that specified range, whereas xrange returns an iterator, which is more efficient. \n",
        "\n",
        "The general format is\n",
        "\n",
        "for x in range(start,stop,step):\n",
        "\n",
        "statements"
      ]
    },
    {
      "cell_type": "markdown",
      "metadata": {
        "id": "Ew9zpgXYCJKW"
      },
      "source": [
        "**PROGRAM**"
      ]
    },
    {
      "cell_type": "code",
      "metadata": {
        "colab": {
          "base_uri": "https://localhost:8080/"
        },
        "id": "s1u-JllSFBxU",
        "outputId": "a00113a5-7a3a-4b57-aee9-8e692b643a9a"
      },
      "source": [
        "n=int(input(\"Enter a number\"))\n",
        "for i in range(2,n):\n",
        "  de=1/i\n",
        "  print(\"1/\"+str(i)+\"=\",de)"
      ],
      "execution_count": null,
      "outputs": [
        {
          "name": "stdout",
          "output_type": "stream",
          "text": [
            "Enter a number11\n",
            "1/2= 0.5\n",
            "1/3= 0.3333333333333333\n",
            "1/4= 0.25\n",
            "1/5= 0.2\n",
            "1/6= 0.16666666666666666\n",
            "1/7= 0.14285714285714285\n",
            "1/8= 0.125\n",
            "1/9= 0.1111111111111111\n",
            "1/10= 0.1\n"
          ]
        }
      ]
    },
    {
      "cell_type": "markdown",
      "metadata": {
        "id": "_bSgz3stFIqo"
      },
      "source": [
        "**AIM:**"
      ]
    },
    {
      "cell_type": "markdown",
      "metadata": {
        "id": "jpMNAk_KFNlj"
      },
      "source": [
        "c) Write a program using a for loop that loops over a sequence. What is sequence?"
      ]
    },
    {
      "cell_type": "markdown",
      "metadata": {
        "id": "AyzMc_eoFWmW"
      },
      "source": [
        "**DESCRIPTION:**\n",
        "\n",
        "**For Loop:**\n",
        "For loops can iterate over a sequence of numbers using the \"range\" and \"xrange\" functions. The difference between range and xrange is that the range function returns a new list with numbers of that specified range, whereas xrange returns an iterator, which is more efficient. \n",
        "\n",
        "The general format is\n",
        "\n",
        "for x in range(start,stop,step):\n",
        "\n",
        "statements"
      ]
    },
    {
      "cell_type": "markdown",
      "metadata": {
        "id": "y-kyUWqbFaQi"
      },
      "source": [
        "**PROGRAM**"
      ]
    },
    {
      "cell_type": "code",
      "metadata": {
        "colab": {
          "base_uri": "https://localhost:8080/"
        },
        "id": "n5hJrkBaFc_p",
        "outputId": "35b88f88-5353-490b-ab26-3cc7d9e7796d"
      },
      "source": [
        "arr=[4,\"abc\",-45,'c',10.5,True,5,10.6,\"xyz\"]\n",
        "print(\"given array:\",arr)\n",
        "for x in arr:\n",
        "  print(x)"
      ],
      "execution_count": null,
      "outputs": [
        {
          "name": "stdout",
          "output_type": "stream",
          "text": [
            "given array: [4, 'abc', -45, 'c', 10.5, True, 5, 10.6, 'xyz']\n",
            "4\n",
            "abc\n",
            "-45\n",
            "c\n",
            "10.5\n",
            "True\n",
            "5\n",
            "10.6\n",
            "xyz\n"
          ]
        }
      ]
    },
    {
      "cell_type": "markdown",
      "metadata": {
        "id": "Bs5txSWHFice"
      },
      "source": [
        "**AIM:**"
      ]
    },
    {
      "cell_type": "markdown",
      "metadata": {
        "id": "cf7FLGjfFlpl"
      },
      "source": [
        "**DESCRIPTION:**\n",
        "\n",
        " While Loop is used to execute a block of statements repeatedly until a given condition is satisfied. And when the condition becomes false, the line immediately after the loop in the program is executed. While loop falls under the category of indefinite iteration\n",
        "\n",
        " The syntax for a while loop is: \n",
        " \n",
        " while [ condition]"
      ]
    },
    {
      "cell_type": "markdown",
      "metadata": {
        "id": "wflQp9EzFpMO"
      },
      "source": [
        "**PROGRAM:**"
      ]
    },
    {
      "cell_type": "code",
      "metadata": {
        "colab": {
          "base_uri": "https://localhost:8080/"
        },
        "id": "NUvbL1bvFtAi",
        "outputId": "b03b5509-bc67-4a13-d31b-ee41007090bd"
      },
      "source": [
        "n=int(input(\"Enter Value of n\"))\n",
        "while n>=0:\n",
        "   print(n)\n",
        "   n-=1"
      ],
      "execution_count": null,
      "outputs": [
        {
          "name": "stdout",
          "output_type": "stream",
          "text": [
            "Enter Value of n5\n",
            "5\n",
            "4\n",
            "3\n",
            "2\n",
            "1\n",
            "0\n"
          ]
        }
      ]
    },
    {
      "cell_type": "markdown",
      "metadata": {
        "id": "xBd_YYOBF0W0"
      },
      "source": [
        "# **Exercise 4 - Control Flow - Continued**"
      ]
    },
    {
      "cell_type": "markdown",
      "metadata": {
        "id": "8R7Vwh2NF4xE"
      },
      "source": [
        "a) Find the sum of all the primes below two million. Each new term in the Fibonacci sequence is generated by adding the previous two terms. Bystarting with 1 and 2, the first 10 terms will be: 1, 2, 3, 5, 8, 13, 21, 34, 55, 89, ..."
      ]
    },
    {
      "cell_type": "markdown",
      "metadata": {
        "id": "c4Ucu7Z8F9N3"
      },
      "source": [
        "**DESCRIPTION:**\n",
        "\n",
        "A Fibonacci sequence is the integer sequence of 0, 1, 1, 2, 3, 5, 8....\n",
        "\n",
        "The first two terms are 0 and 1. All other terms are obtained by adding the preceding two terms. This means to say the nth term is the sum of (n-1)th and (n-2)th term\n",
        "\n",
        "Here, we store the number of terms in nterms. We initialize the first term to 0 and the second term to 1.\n",
        "\n",
        "If the number of terms is more than 2, we use a while loop to find the next term in the sequence by adding the preceding two terms. We then interchange the variables (update it) and continue on with the process.\n",
        "\n",
        "**PROGRAM:**"
      ]
    },
    {
      "cell_type": "code",
      "metadata": {
        "colab": {
          "base_uri": "https://localhost:8080/"
        },
        "id": "6t6l3zUOGImB",
        "outputId": "2a065df7-d3d8-4634-ad14-ec9fe3d2d53f"
      },
      "source": [
        "n=int(input(\"enter an Ending Number: \"));\n",
        "st=\"\"\n",
        "sum=0\n",
        "for i in range(2,n):\n",
        "    state=True\n",
        "    for j in range(2,i):\n",
        "        if(i%j)==0:\n",
        "            state=False\n",
        "            break;\n",
        "    if state==True:\n",
        "            st+=\" \"+str(i)\n",
        "            sum+=i\n",
        " \n",
        "print(\"prime Numbers: \")\n",
        "print(st)\n",
        "print(\"Sum of the prime Numbers: \",sum)"
      ],
      "execution_count": null,
      "outputs": [
        {
          "name": "stdout",
          "output_type": "stream",
          "text": [
            "enter an Ending Number: 200\n",
            "prime Numbers: \n",
            " 2 3 5 7 11 13 17 19 23 29 31 37 41 43 47 53 59 61 67 71 73 79 83 89 97 101 103 107 109 113 127 131 137 139 149 151 157 163 167 173 179 181 191 193 197 199\n",
            "Sum of the prime Numbers:  4227\n"
          ]
        }
      ]
    },
    {
      "cell_type": "markdown",
      "metadata": {
        "id": "0dET75h5GRRC"
      },
      "source": [
        "**AIM:**\n",
        "\n",
        "b) By considering the terms in the Fibonacci sequence whose values do not exceed four million,find\n",
        "the sum of the even-valued terms.\n",
        "\n",
        "**DESCRIPTION:**\n",
        "\n",
        "A Fibonacci sequence is the integer sequence of 0, 1, 1, 2, 3, 5, 8....\n",
        "\n",
        "The first two terms are 0 and 1. All other terms are obtained by adding the preceding two terms. This means to say the nth term is the sum of (n-1)th and (n-2)th term\n",
        "\n",
        "Here, we store the number of terms in nterms. We initialize the first term to 0 and the second term to 1.\n",
        "\n",
        "If the number of terms is more than 2, we use a while loop to find the next term in the sequence by adding the preceding two terms. We then interchange the variables (update it) and continue on with the process.\n",
        "\n",
        "**PROGRAM:**"
      ]
    },
    {
      "cell_type": "code",
      "metadata": {
        "colab": {
          "base_uri": "https://localhost:8080/"
        },
        "id": "nzOrSgyLGkX3",
        "outputId": "d676dddb-a02f-4ce4-f5ec-0a6840f26b82"
      },
      "source": [
        "n=int(input(\"Enter value of n: \"))\n",
        "a=0\n",
        "b=1\n",
        "c=a+b\n",
        "sum=0\n",
        "print(\"Even numbers in Fibonacci series:\\t \",end='')\n",
        "while c<=n:\n",
        "    if c%2==0:\n",
        "        print(c,end=' ')\n",
        "        sum+=c\n",
        "    a=b\n",
        "    b=c\n",
        "    c=a+b\n",
        "print(\"\\nsum of Fibonacci Series is: \",sum)"
      ],
      "execution_count": null,
      "outputs": [
        {
          "name": "stdout",
          "output_type": "stream",
          "text": [
            "Enter value of n: 4000000\n",
            "Even numbers in Fibonacci series:\t 2 8 34 144 610 2584 10946 46368 196418 832040 3524578 \n",
            "sum of Fibonacci Series is:  4613732\n"
          ]
        }
      ]
    },
    {
      "cell_type": "markdown",
      "metadata": {
        "id": "XRitrHpbG2MX"
      },
      "source": [
        "## **Exercise - 5 - DS**\n",
        "\n",
        "**AIM:**\n",
        "\n",
        "a) Write a program to count the numbers of characters in the string and store them in adictionary data\n",
        "structure \n",
        "\n",
        "**DESCRIPTION:**\n",
        "\n",
        "Given a string, the task is to find the frequencies of all the characters in that string and return a dictionary with key as the character and its value as its frequency in the given string.\n",
        "\n",
        "Method #1 : Naive method\n",
        "\n",
        "Simply iterate through the string and form a key in dictionary of newly occurred element or if element is already occurred, increase its value by 1.\n",
        "\n",
        "Method #2 : Using collections.Counter()\n",
        "\n",
        "The most suggested method that could be used to find all occurrences is this method, this actually gets all element frequency and could also be used to print single element frequency if required.\n",
        "\n",
        "**PROGRAM:**"
      ]
    },
    {
      "cell_type": "code",
      "metadata": {
        "colab": {
          "base_uri": "https://localhost:8080/"
        },
        "id": "PuXqBP3GHfxz",
        "outputId": "c5d79c91-2b00-4870-bb40-ec613f55f05f"
      },
      "source": [
        "name=input(\"Enter a Name: \")\n",
        "dic={}\n",
        " \n",
        "for ch in name:\n",
        "    keys=dic.keys()\n",
        " \n",
        "    if(ch in keys):\n",
        "        dic[ch]=dic[ch]+1\n",
        "    else:\n",
        "        dic[ch]=1\n",
        " \n",
        "print(\"Dictionary is: \",dic)"
      ],
      "execution_count": null,
      "outputs": [
        {
          "name": "stdout",
          "output_type": "stream",
          "text": [
            "Enter a Name: ravisankar\n",
            "Dictionary is:  {'r': 2, 'a': 3, 'v': 1, 'i': 1, 's': 1, 'n': 1, 'k': 1}\n"
          ]
        }
      ]
    },
    {
      "cell_type": "markdown",
      "metadata": {
        "id": "85Icy9ZQHqot"
      },
      "source": [
        "**AIM:**\n",
        "\n",
        "b) Write a program to use split and join methods in the string and trace a birthday with adictionary data structure\n",
        "\n",
        "**DESCRIPTION:**\n",
        "\n",
        "Python program to Split a string based on a delimiter and join the string using another delimiter.\n",
        "\n",
        "Split a string can be quite useful sometimes, especially when you need only certain parts of strings. A simple yet effective example is splitting the First-name and Last-name of a person. Another application is CSV(Comma Separated Files). We use split to get data from CSV and join to write data to CSV.\n",
        "\n",
        "In Python, we can use the function split() to split a string and \n",
        "\n",
        "join() to join a string. \n",
        "\n",
        "**PROGRAM**"
      ]
    },
    {
      "cell_type": "code",
      "metadata": {
        "colab": {
          "base_uri": "https://localhost:8080/"
        },
        "id": "MWky1tR6H5qo",
        "outputId": "0c109a48-bb31-488c-d271-d98902f747c8"
      },
      "source": [
        "dob={\"ravi\":\"25-Dec-2001\",\"Nani\":\"15-03-2001\"}\n",
        "\n",
        "name=input(\"Which person DOB You Want: \")\n",
        "I=name.split()\n",
        "birth=\"\"\n",
        "\n",
        "for i in I:\n",
        "    if i in dob.keys():\n",
        "        pers=i\n",
        "\n",
        "print(\" \".join([pers,\"Birthday is\",dob[pers]]))\n"
      ],
      "execution_count": null,
      "outputs": [
        {
          "name": "stdout",
          "output_type": "stream",
          "text": [
            "Which person DOB You Want: ravi\n",
            "ravi Birthday is 25-Dec-2001\n"
          ]
        }
      ]
    },
    {
      "cell_type": "markdown",
      "metadata": {
        "id": "eJ1HsRXRIOx7"
      },
      "source": [
        "## **Exercise - 6 DS - Continued**\n",
        "\n",
        "**AIM:**\n",
        "\n",
        "a) Write a program combinelists that combines these lists into a dictionary.\n",
        "\n",
        "**DESCRIPTION:**\n",
        "\n",
        "For this, simply declare a dictionary, and then run nested loop for both the lists and assign key and value pairs to from list values to dictionary.\n",
        "\n",
        "Most pythonic and generic method to perform this very task is by using zip(). This function pairs the list element with other list element at corresponding index in form of key-value pairs.\n",
        "\n",
        "**PROGRAM**"
      ]
    },
    {
      "cell_type": "code",
      "metadata": {
        "colab": {
          "base_uri": "https://localhost:8080/"
        },
        "id": "nFyd3L1LIYc2",
        "outputId": "3aeb7610-b98a-482e-971a-6add665e459d"
      },
      "source": [
        "subj=[\"DAA\",\"OS\",\"DBMS\",\"P&S\",\"PPL\",\"SE\"]\n",
        "marks=[85,96,78,68,98,56]\n",
        "\n",
        "print(\"Given Lists are: \")\n",
        "print(\"Subjects Names: \",subj)\n",
        "print(\"Mark Values: \",marks)\n",
        "\n",
        "dic=dict(zip(subj,marks))\n",
        "print(\"\\n Dictionary: \",dic)"
      ],
      "execution_count": null,
      "outputs": [
        {
          "name": "stdout",
          "output_type": "stream",
          "text": [
            "Given Lists are: \n",
            "Subjects Names:  ['DAA', 'OS', 'DBMS', 'P&S', 'PPL', 'SE']\n",
            "Mark Values:  [85, 96, 78, 68, 98, 56]\n",
            "\n",
            " Dictionary:  {'DAA': 85, 'OS': 96, 'DBMS': 78, 'P&S': 68, 'PPL': 98, 'SE': 56}\n"
          ]
        }
      ]
    },
    {
      "cell_type": "markdown",
      "metadata": {
        "id": "1THdYJ_jIhRc"
      },
      "source": [
        "**AIM:**\n",
        "\n",
        "b) Write a program to count frequency of characters in a given file. Can you use characterfrequency to\n",
        "tell whether the given file is a Python program file, C program file or a text file?\n",
        "\n",
        "\n",
        "**DESCRIPTION:**\n",
        "\n",
        "approaches to count the number of times a letter appears in a text file in Python.\n",
        "\n",
        "Method 1: Using the in-built count() method.\n",
        "\n",
        "**Approach:**\n",
        "\n",
        "1. Read the file.\n",
        "2. Store the content of the file in a variable.\n",
        "3. Use the count() method with the argument as a letter whose frequency is required.\n",
        "4. Display the count of the letter.\n",
        "\n",
        "**PROGRAM**"
      ]
    },
    {
      "cell_type": "markdown",
      "metadata": {
        "id": "hxt5uqmHCNLo"
      },
      "source": [
        ""
      ]
    },
    {
      "cell_type": "code",
      "metadata": {
        "id": "qkuM3qy4JNnR"
      },
      "source": [
        "filetypes=['.py','.c','.txt']\n",
        "fn=input(\"Enter the file name:\")\n",
        "f=open(fn,\"r\")\n",
        "count=dict()\n",
        "print(\"Given file is\",end=\"\")\n",
        "for ft in filetypes:\n",
        "  if(ft in fn):\n",
        "    if(ft=='.py'):\n",
        "      print(\"Python file\")\n",
        "    elif(ft=='.c'):\n",
        "      print(\"C File\")\n",
        "    elif(ft=='.txt'):\n",
        "       print(\"Text File\")\n",
        "for line in f:\n",
        "  for ch in line:\n",
        "    if ch in count:\n",
        "      count[ch]=count[ch]+1\n",
        "    else:\n",
        "      count[ch]=1\n",
        "print(count)\n",
        "f.close()"
      ],
      "execution_count": null,
      "outputs": []
    },
    {
      "cell_type": "markdown",
      "metadata": {
        "id": "bkLV30d9JROo"
      },
      "source": [
        "## **Exercise - 7 Files**\n",
        "\n",
        "**AIM**\n",
        "\n",
        "a) Write a program to print each line of a file in reverse order.\n",
        "\n",
        "**DESCRIPTION:**\n",
        "\n",
        "The file handling plays an important role when the data needs to be stored permanently into the\n",
        "file. A file is a named location on disk to store related information. We can access the stored\n",
        "information (non-volatile) after the program termination.\n",
        "In Python, files are treated in two modes as text or binary. The file may be in the text or binary\n",
        "format, and each line of a file is ended with the special character.\n",
        "Hence, a file operation can be done in the following order.\n",
        "\n",
        " Open a file\n",
        "\n",
        " Read or write - Performing operation\n",
        "\n",
        " Close the file\n",
        "\n",
        "**PROGRAM:**"
      ]
    },
    {
      "cell_type": "code",
      "metadata": {
        "id": "iBnWB3KAJjpb"
      },
      "source": [
        "obj=open(\"abc.txt\",\"r\")\n",
        "if obj:\n",
        "  st=obj.read()\n",
        "  print(\"File content is:\\n\",st)\n",
        "obj.close()\n",
        "print()\n",
        "lines=st.split('\\n')\n",
        "for ln in lines:\n",
        "  i=len(ln)-1\n",
        "  while(i>=0):\n",
        "    print(ln[i],end=\"\")\n",
        "    i=i-1\n",
        "  print()"
      ],
      "execution_count": null,
      "outputs": []
    },
    {
      "cell_type": "markdown",
      "metadata": {
        "id": "tSIhLezNJtDV"
      },
      "source": [
        "**AIM:**\n",
        "\n",
        "\n",
        "b) Write a program to compute the number of characters, words and lines in a file\n",
        "\n",
        "**DESCRIPTION:**\n",
        "\n",
        "Given a text file fname, the task is to count the total number of characters, words, spaces and lines in the file.\n",
        "\n",
        "As we know, Python provides multiple in-built features and modules for handling files. Let’s discuss different ways to calculate total number of characters, words, spaces and lines in a file using Python.\n",
        "\n",
        "Method #1: Naive approach\n",
        "\n",
        "In this approach, the idea is to solve the task by developing our own logic. Without using any built-in function of Python, the total number of characters, words, spaces and lines of the file will be calculated.\n",
        "\n",
        "Method #2: Using some built-in functions and OS module functions\n",
        "\n",
        "In this approach, the idea is to use the os.linesep() method of OS module to separate the lines on the current platform. When the interpreter’s scanner encounter os.linesep it replaces it with \\n character. After that strip() and split() functions will be used to carry out the task.\n",
        "\n",
        "**PROGRAM**"
      ]
    },
    {
      "cell_type": "code",
      "metadata": {
        "id": "8j9jil2iKCUt"
      },
      "source": [
        "nc=nw=nl=0\n",
        "file=open(\"abc.txt\",\"r\")\n",
        "\n",
        "nl=nw=nc=0\n",
        "print(\"File content:\\n\")\n",
        "for line in file:\n",
        "    ln=line.strip(\"\\n\")\n",
        "    print(ln)\n",
        "    words=ln.split()\n",
        "    nl+=1\n",
        "    nw+=len(words)\n",
        "    nc+=len(line)\n",
        "file.close()\n",
        "\n",
        "print(\"\\n No.of lines:\",nl,\"words:\",nw,\"characters:\",nc)\n"
      ],
      "execution_count": null,
      "outputs": []
    },
    {
      "cell_type": "markdown",
      "metadata": {
        "id": "OEoxRL2NKHSq"
      },
      "source": [
        "## **Exercise - 8 Functions**\n",
        "\n",
        "**AIM:**\n",
        "\n",
        "a) Write a function ball collide that takes two balls as parameters and computes if they arecolliding.\n",
        "Your function should return a Boolean representing whether or not the balls arecolliding.\n",
        "\n",
        "\n",
        "\n",
        "\n",
        "*Hint: Represent a ball on a plane as a tuple of (x, y, r), r being the radius\n",
        "If (distance between two balls centers) <= (sum of their radii) then (they are colliding)*\n",
        "\n",
        "**DESCRIPTION**\n",
        "\n",
        "**Functions**\n",
        "A function in python is a block of code that is defined for doing frequent operations in a\n",
        "particular task. The general format is\n",
        "\n",
        "def  Functionname(arguments):\n",
        "\n",
        "      Statements\n",
        "\n",
        "**Calling a Function:**\n",
        "\n",
        "A function can be called by its name followed by arguments within parenthesis.\n",
        "\n",
        "function()\n",
        "\n",
        "**PROGRAM:**"
      ]
    },
    {
      "cell_type": "code",
      "metadata": {
        "colab": {
          "base_uri": "https://localhost:8080/"
        },
        "id": "Lf6RC67VKQc9",
        "outputId": "1decfb43-8630-4b25-d56d-b8f4d34ea1df"
      },
      "source": [
        "import math\n",
        "def collide(ball_tup1,ball_tup2):\n",
        "    x1,y1,r1=ball_tup1\n",
        "    x2,y2,r2=ball_tup2\n",
        "\n",
        "    print(\"Ball-01: \",ball_tup1)\n",
        "    print(\"Ball-02: \",ball_tup2)\n",
        "\n",
        "    d=math.sqrt((x2-x1)**2+(y2-y1)**2)\n",
        "    print(\"Centroid Distance of two balls: \",d)\n",
        "    print(\"Sum of Radius Ball-01 &Ball-02 is: {}+{}={}\".format(r1,r2,r1+r2))\n",
        "\n",
        "    if d<=r1+r2:\n",
        "        return True\n",
        "    else:\n",
        "        return False\n",
        "b1=(-2,-4,3)\n",
        "b2=(4,6,3)\n",
        "\n",
        "if collide(b1,b2):\n",
        "    print(\"Balls are Colliode....!\")\n",
        "else:\n",
        "    print(\"Balls are not Colliede...!\")\n"
      ],
      "execution_count": null,
      "outputs": [
        {
          "name": "stdout",
          "output_type": "stream",
          "text": [
            "Ball-01:  (-2, -4, 3)\n",
            "Ball-02:  (4, 6, 3)\n",
            "Centroid Distance of two balls:  11.661903789690601\n",
            "Sum of Radius Ball-01 &Ball-02 is: 3+3=6\n",
            "Balls are not Colliede...!\n"
          ]
        }
      ]
    },
    {
      "cell_type": "markdown",
      "metadata": {
        "id": "ogcidNARKUgv"
      },
      "source": [
        "**AIM:**\n",
        "\n",
        "b) Find mean, median, mode for the given set of numbers in a list\n",
        "\n",
        "**DESCRIPTION**\n",
        "\n",
        "Mean : The mean is the average of all numbers and is sometimes called the arithmetic mean. This code calculates Mean or Average of a list containing numbers:\n",
        "\n",
        "Median : The median is the middle number in a group of numbers. This code calculates Median of a list containing numbers:\n",
        "\n",
        "Mode : The mode is the number that occurs most often within a set of numbers. This code calculates Mode of a list containing numbers:\n",
        "\n",
        "We will import Counter from collections library which is a built-in module in Python 2 and 3. This module will help us count duplicate elements in a list.\n",
        "We define a list of numbers and calculate the length of the list. We then call Counter (a dict subclass) which helps to count hashable objects, and we then convert it to dict object. We then initialize a list with a For Loop to compare all the dict values (Number of elements) to the max of all dict values (count of most occurring element) and it returns all the elements equal to max count. If the elements returned are equal to the number of total elements in a list then we print out ‘No mode’, else we print out the modes returned.\n",
        "\n",
        "**PROGRAM:**"
      ]
    },
    {
      "cell_type": "code",
      "metadata": {
        "colab": {
          "base_uri": "https://localhost:8080/"
        },
        "id": "plLsjkNZKwgx",
        "outputId": "08b56feb-4b8b-4167-dbe7-17e9ef440937"
      },
      "source": [
        "def list_mean(num_list):\n",
        "    return sum(num_list)/len(num_list)\n",
        "\n",
        "def list_median(num_list):\n",
        "    num_list.sort()\n",
        "    n=len(num_list)\n",
        "    mid=n//2\n",
        "    if(n%2==1):\n",
        "        return num_list[mid]\n",
        "    else:\n",
        "        mid\n",
        "        return(num_list[mid+1]+num_list[mid])/2\n",
        "\n",
        "def list_mode(num_list):\n",
        "    num_list.sort()\n",
        "    temp=[]\n",
        "\n",
        "    i=0\n",
        "    while i<len(num_list):\n",
        "        temp.append(num_list.count(num_list[i]))\n",
        "        i+=1\n",
        "\n",
        "    dic=dict(zip(num_list,temp))\n",
        "    mode={k for(k,v) in dic.items() if v==max(temp)}\n",
        "    return mode\n",
        "\n",
        "\n",
        "    \n",
        "lst=[1,1,2,2,2,3,4,5,3]\n",
        "\n",
        "print(\"Given list is; \",lst)\n",
        "print(\"Mean of the given list: \",list_mean(lst))\n",
        "print(\"Median of the given list: \",list_median(lst))\n",
        "print(\"Mode of the given list: \",list_mode(lst))\n"
      ],
      "execution_count": null,
      "outputs": [
        {
          "name": "stdout",
          "output_type": "stream",
          "text": [
            "Given list is;  [1, 1, 2, 2, 2, 3, 4, 5, 3]\n",
            "Mean of the given list:  2.5555555555555554\n",
            "Median of the given list:  2\n",
            "Mode of the given list:  {2}\n"
          ]
        }
      ]
    },
    {
      "cell_type": "markdown",
      "metadata": {
        "id": "3rzs6VEKK0jw"
      },
      "source": [
        "# **Exercise - 9 Functions - Continued**\n",
        "\n",
        "**AIM:**\n",
        "\n",
        "a) Write a function nearly equal to test whether two strings are nearly\n",
        "\n",
        "**DESCRIPTION:**\n",
        "\n",
        "strlen() function is used to check wether the two string are nearly equal or not by basis of the Length of those Strings\n",
        "\n",
        "len() function is an inbuilt function in Python programming language that returns the length of the string.\n",
        "\n",
        "len() is a built-in function in python.You can use the len() to get the length of the given string, array, list, tuple, dictionary, etc.\n",
        "\n",
        "Value: the given value you want the length of.\n",
        "\n",
        "Return value a return an integer value i.e. the length of the given string, or array, or list, or collections.\n",
        "\n",
        "Syntax:\n",
        "\n",
        "len(string)\n",
        "\n",
        "**PROGRAM**"
      ]
    },
    {
      "cell_type": "code",
      "metadata": {
        "colab": {
          "base_uri": "https://localhost:8080/"
        },
        "id": "2bO12_AzK_Z0",
        "outputId": "291dc5e2-723e-467d-91a4-3725a4aab003"
      },
      "source": [
        "def nearly_eq(str1,str2):\n",
        "    count=0\n",
        "    i=j=0\n",
        "    while(i<len(str1) and j<len(str2)):\n",
        "        if(str1[i]!=str2[j]):\n",
        "            count+=1\n",
        "            if(len(str1)>len(str2)):\n",
        "                i+=1\n",
        "            elif(len(str1)==len(str2)):\n",
        "                pass\n",
        "            else:\n",
        "                i-=1\n",
        "        if(count>1):\n",
        "            return False\n",
        "        i+=1\n",
        "        j+=1\n",
        "    if(count<2):\n",
        "        return True\n",
        "s1=input(\"Enter String1: \")\n",
        "s2=input(\"Enter String2: \")\n",
        "bln=nearly_eq(s1,s2)\n",
        "if(bln):\n",
        "    print(\"Strings are nearly equal.\")\n",
        "else:\n",
        "    print(\"Strings are Not Equal.\")"
      ],
      "execution_count": null,
      "outputs": [
        {
          "name": "stdout",
          "output_type": "stream",
          "text": [
            "Enter String1: ravi\n",
            "Enter String2: sai\n",
            "Strings are Not Equal.\n"
          ]
        }
      ]
    },
    {
      "cell_type": "markdown",
      "metadata": {
        "id": "CEINMkdCLIOM"
      },
      "source": [
        "**AIM:**\n",
        "\n",
        "b) Write a function dup to find all duplicates in the list.\n",
        "\n",
        "\n",
        "**DESCRIPTION:**\n",
        "\n",
        "To check if a list contains any duplicate element follow the following steps,\n",
        "\n",
        "1. Add the contents of list in a set.\n",
        "\n",
        "        As set contains only unique elements, so no duplicates will be added   the the set.\n",
        "\n",
        "2. Compare the size of set and list.\n",
        "\n",
        "            If size of list & set is equal then it means no duplicates in list.\n",
        "\n",
        "3. If size of list & set are different then it means yes, there are duplicates in list.\n",
        "\n",
        "**PROGRAM**\n"
      ]
    },
    {
      "cell_type": "code",
      "metadata": {
        "colab": {
          "base_uri": "https://localhost:8080/"
        },
        "id": "5KXhwd22Lc8F",
        "outputId": "be164e39-eea7-4817-cfa7-dbf4af69c84b"
      },
      "source": [
        "def dups(numlist):\n",
        "    temp=[]\n",
        "    for i in numlist:\n",
        "        cnt=numlist.count(i)\n",
        "        if(cnt>1 and (i not in temp)):\n",
        "            temp.append(i)\n",
        "    print(\"Duplicates in the list: \",temp)\n",
        "\n",
        "lst=[1,2,6,9,1,3,5,2,1]\n",
        "print(\"Given elements in the list: \",lst)\n",
        "dups(lst)\n"
      ],
      "execution_count": null,
      "outputs": [
        {
          "name": "stdout",
          "output_type": "stream",
          "text": [
            "Given elements in the list:  [1, 2, 6, 9, 1, 3, 5, 2, 1]\n",
            "Duplicates in the list:  [1, 2]\n"
          ]
        }
      ]
    },
    {
      "cell_type": "markdown",
      "metadata": {
        "id": "gd6amYK7LgoP"
      },
      "source": [
        "**AIM:**\n",
        "\n",
        "c) Write a function unique to find all the unique elements of a list.\n",
        "\n",
        "**DESCRIPTION:**\n",
        "\n",
        "To find the unique in the list .There is a Specific Method i.e.,\n",
        "\n",
        "Method  : Traversal of list\n",
        "\n",
        "Using traversal, we can traverse for every element in the list and check if the element is in the unique_list already if it is not over there, then we can append it in the unique_list. \n",
        "\n",
        "This is done using one for loop and other if statement which check if the value is in the unique list or not which is equivalent to another for loop.  \n",
        "\n",
        "**PROGRAM:**"
      ]
    },
    {
      "cell_type": "code",
      "metadata": {
        "colab": {
          "base_uri": "https://localhost:8080/"
        },
        "id": "V45LUu6wLrzq",
        "outputId": "6ac037a5-10da-4e0e-c3db-015a55371387"
      },
      "source": [
        "def dups(numlist):\n",
        "    temp=[]\n",
        "    for i in numlist:\n",
        "        cnt=numlist.count(i)\n",
        "        if cnt==1:\n",
        "            temp.append(i)\n",
        "    print(\"Unique in the list: \",temp)\n",
        "\n",
        "lst=[1,2,6,9,1,3,5,2,1]\n",
        "print(\"Given elements in the list: \",lst)\n",
        "dups(lst)\n"
      ],
      "execution_count": null,
      "outputs": [
        {
          "name": "stdout",
          "output_type": "stream",
          "text": [
            "Given elements in the list:  [1, 2, 6, 9, 1, 3, 5, 2, 1]\n",
            "Unique in the list:  [6, 9, 3, 5]\n"
          ]
        }
      ]
    },
    {
      "cell_type": "markdown",
      "metadata": {
        "id": "IOL5zpF7LwUs"
      },
      "source": [
        "## **Exercise - 10 - Functions - Problem Solving**\n",
        "\n",
        "**AIM**:\n",
        "\n",
        "a) Write a function cumulative product to compute cumulative product of a list of numbers.\n",
        "\n",
        "**DESCRIPTION:**\n",
        "\n",
        "A cumulative product is a sequence of partial products of a given sequence. For example, the cumulative products of the sequence. , are , , .. Cumulative products can be implemented in the Wolfram Language as Rest[FoldList[Times, 1, list]]\n",
        "\n",
        "cumprod(A,1) works on successive elements in the columns of A and returns the cumulative products of each column. cumprod(A,2) works on successive elements in the rows of A and returns the cumulative products of each row.\n",
        "\n",
        "umprod() function is used when we want to compute the cumulative product of array elements over a given axis. Syntax : numpy.cumprod(arr, axis=None, dtype=None, out=None) Parameters : arr : [array_like] Array containing numbers whose cumulative product is desired.\n",
        "\n",
        "**PROGRAM**"
      ]
    },
    {
      "cell_type": "code",
      "metadata": {
        "colab": {
          "base_uri": "https://localhost:8080/"
        },
        "id": "swjMiL6uL5SN",
        "outputId": "1b3bd4a0-7318-4e93-da08-87043c93894c"
      },
      "source": [
        "def cum_prod(numlist):\n",
        "    prod=1\n",
        "    temp=[]\n",
        "    for i in numlist:\n",
        "        prod*=i\n",
        "        temp.append(prod)\n",
        "    return temp\n",
        "\n",
        "lst=[1,2,4,5,3]\n",
        "print(\"Given elements in the list: \",lst)\n",
        "print(\"Cumulative Product list is: \",cum_prod(lst))\n"
      ],
      "execution_count": null,
      "outputs": [
        {
          "name": "stdout",
          "output_type": "stream",
          "text": [
            "Given elements in the list:  [1, 2, 4, 5, 3]\n",
            "Cumulative Product list is:  [1, 2, 8, 40, 120]\n"
          ]
        }
      ]
    },
    {
      "cell_type": "markdown",
      "metadata": {
        "id": "wYNx4HweL_Ez"
      },
      "source": [
        "**AIM:**\n",
        "\n",
        "b) Write a function reverse to reverse a list. Without using the reverse function.\n",
        "\n",
        "**DESCRIPTION:**\n",
        "\n",
        "In this Python code snippet post, we are going to implement a list reverse function from the scratch without using any builtin functions.\n",
        "\n",
        "Let us see how…\n",
        "\n",
        "Iterative solution\n",
        "\n",
        "We can use a for loop to swap the first and last items, the second and the one before the last item and so on until the list is reversed in place. The number of iterations needed is half the list size. If the list has an odd number of items then the middle item will stay in its place.\n",
        "\n",
        "**PROGRAM:**"
      ]
    },
    {
      "cell_type": "code",
      "metadata": {
        "colab": {
          "base_uri": "https://localhost:8080/"
        },
        "id": "_quyfiPKMKtk",
        "outputId": "9665415d-09ff-4403-92e3-f3ed518995b0"
      },
      "source": [
        "def reverse_list(numlist):\n",
        "    i=0\n",
        "    j=len(numlist)-1\n",
        "    while(i<=j):\n",
        "        temp=numlist[i]\n",
        "        numlist[i]=numlist[j]\n",
        "        numlist[j]=temp\n",
        "        j-=1\n",
        "        i+=1\n",
        "    return numlist\n",
        "lst=[1,2,3,4]\n",
        "print(\"Given list is: \",lst)\n",
        "reverse_list(lst)\n",
        "print(\"Reverse of the given list is: \",lst)\n"
      ],
      "execution_count": null,
      "outputs": [
        {
          "name": "stdout",
          "output_type": "stream",
          "text": [
            "Given list is:  [1, 2, 3, 4]\n",
            "Reverse of the given list is:  [4, 3, 2, 1]\n"
          ]
        }
      ]
    },
    {
      "cell_type": "markdown",
      "metadata": {
        "id": "fpRpdrp6MPH5"
      },
      "source": [
        "**AIM:**\n",
        "\n",
        "c) Write function to compute gcd, lcm of two numbers. Each function shouldn’t exceed one line.\n",
        "\n",
        "**DESCRIPTION:**\n",
        "\n",
        "Python provides you an anonymous function called lambda. It can take any number of\n",
        "arguments, but can only have one expression. It can be used to find LCM and GCD values without exceeding each from from one line.\n",
        "\n",
        "The general format is\n",
        "\n",
        "**lambda arguments: expression**\n",
        "\n",
        "The expression is executed during the function call and the result is returned. \n",
        "\n",
        "**Lambda as a Function**\n",
        "\n",
        "The power of using a lambda expression is implementing it using a function\n",
        "\n",
        "**PROGRAM:**\n",
        "\n"
      ]
    },
    {
      "cell_type": "code",
      "metadata": {
        "colab": {
          "base_uri": "https://localhost:8080/"
        },
        "id": "u3cAfdROMdom",
        "outputId": "2adf5097-d043-456e-cfc2-9cbf7e25dc00"
      },
      "source": [
        "gcd=lambda a,b: a if b==0 else gcd(a,a%b)\n",
        "lcm=lambda a,b: (a*b)/gcd(a,b)\n",
        "\n",
        "x=4\n",
        "y=24\n",
        "print(\"The Given Numbers: \",x,y)\n",
        "print(\"GCD is: \",gcd(x,y))\n",
        "print(\"LCM is: \",lcm(x,y))\n"
      ],
      "execution_count": null,
      "outputs": [
        {
          "name": "stdout",
          "output_type": "stream",
          "text": [
            "The Given Numbers:  4 24\n",
            "GCD is:  4\n",
            "LCM is:  24.0\n"
          ]
        }
      ]
    },
    {
      "cell_type": "markdown",
      "metadata": {
        "id": "mtthAIppMh2T"
      },
      "source": [
        ""
      ]
    },
    {
      "cell_type": "markdown",
      "metadata": {
        "id": "sT89pkGWMkQw"
      },
      "source": [
        "# **Exercise 11 - Multi-D Lists**\n",
        "**AIM**:\n",
        "\n",
        "a) Write a program that defines a matrix and prints\n",
        "\n",
        "**DESCRIPTION:**\n",
        "\n",
        "Lists are a very widely use data structure in python. They contain a list of elements separated by comma. But sometimes lists can also contain lists within them. These are called nested lists or multidimensional lists. In this article we will see how to create and access elements in a multidimensional list.\n",
        "\n",
        "**Methods on Multidimensional lists**\n",
        "\n",
        "1. append(): Adds an element at the end of the list.\n",
        "\n",
        "2. extend(): Add the elements of a list (or any iterable), to the end of the current list.\n",
        "\n",
        "3. reverse(): Reverses the order of the list.\n",
        "\n",
        "**PROGRAM:**"
      ]
    },
    {
      "cell_type": "code",
      "metadata": {
        "colab": {
          "base_uri": "https://localhost:8080/"
        },
        "id": "TmRNAWT1Mwod",
        "outputId": "ac047aa3-5fd4-4795-979a-7c08831597ff"
      },
      "source": [
        "matA=[[]]\n",
        "rows=int(input(\"Enter row size of Matrix:\"))\n",
        "cols=int(input(\"Enter column size of Matrix: \"))\n",
        "\n",
        "matA=[[int(input(\"Enter [%d,%d] value: \"%(i,j)))for j in range(cols)]for i in range(rows)]\n",
        "\n",
        "print(\"Matrix is: \")\n",
        "for i in range(rows):\n",
        "    for j in range(cols):\n",
        "        print(matA[i][j],end='\\t')\n",
        "    print()"
      ],
      "execution_count": null,
      "outputs": [
        {
          "name": "stdout",
          "output_type": "stream",
          "text": [
            "Enter row size of Matrix:3\n",
            "Enter column size of Matrix: 2\n",
            "Enter [0,0] value: 1 \n",
            "Enter [0,1] value: 2\n",
            "Enter [1,0] value: 3\n",
            "Enter [1,1] value: 4\n",
            "Enter [2,0] value: 5\n",
            "Enter [2,1] value: 6\n",
            "Matrix is: \n",
            "1\t2\t\n",
            "3\t4\t\n",
            "5\t6\t\n"
          ]
        }
      ]
    },
    {
      "cell_type": "markdown",
      "metadata": {
        "id": "IPiB0vGMM-Yb"
      },
      "source": [
        ""
      ]
    },
    {
      "cell_type": "markdown",
      "metadata": {
        "id": "guWjBmh9NAGW"
      },
      "source": [
        "**AIM:**\n",
        "\n",
        "b) Write a program to perform addition of two square matrices\n",
        "\n",
        "**DESCRIPTION:**\n",
        "\n",
        "We can perform matrix addition in following ways in Python.  \n",
        "\n",
        "1. Using for loop: \n",
        "\n",
        "**Explanation** :- \n",
        "In this program we have used nested for loops to iterate through each row and each column. At each point we add the corresponding elements in the two matrices and store it in the result.\n",
        "\n",
        "2. Using nested list comprehension :\n",
        "\n",
        " In Python, we can implement a matrix as nested list (list inside a list). We can treat each element as a row of the matrix. \n",
        "\n",
        "**Explanation :-**\n",
        "\n",
        "The output of this program is the same as above. We have used nested list comprehension to iterate through each element in the matrix. List comprehension allows us to write concise codes and we must try to use them frequently in Python. They are very helpful.\n",
        "\n",
        "3. uising zip function\n",
        "\n",
        "**Explanation :**\n",
        "\n",
        "The zip function accepts iterator i of each element(list) of matrix, mapping them, adding them using sum() and storing them in the map form.\n",
        "\n",
        "**PROGRAM:**"
      ]
    },
    {
      "cell_type": "code",
      "metadata": {
        "colab": {
          "base_uri": "https://localhost:8080/"
        },
        "id": "gD0Or3YTNMpq",
        "outputId": "5c4b0dc4-ef19-4ed4-ef17-62ebb35ff18a"
      },
      "source": [
        "def matRead(r,c):\n",
        "   return[[int(input(\"[%d,%d]value: \"%(i,j)))for j in range(c)] for i in range(r)]\n",
        "\n",
        "def matDisp(mat,r,c):\n",
        "    for i in range(r):\n",
        "        for j in range(c):\n",
        "            print(mat[i][j],end='\\t')\n",
        "        print()\n",
        "\n",
        "matA=[[]]\n",
        "matB=[[]]\n",
        "matSum=[[]]\n",
        "rows=int(input(\"Enter Row Size of the Matrix: \"))\n",
        "cols=int(input(\"Enter column size of the Matrix: \"))\n",
        "if rows==cols:\n",
        "    print(\"Enter Matrix-A elements: \")\n",
        "    matA=matRead(rows,cols)\n",
        "\n",
        "    print(\"Enter Matrix-B elements: \")\n",
        "    matB=matRead(rows,cols)\n",
        "\n",
        "    print(\"Matrix-A is: \")\n",
        "    matDisp(matA,rows,cols)\n",
        "\n",
        "    print(\"Matrix-B is: \")\n",
        "    matDisp(matB,rows,cols)\n",
        "\n",
        "    matSum=[[matA[i][j]+matB[i][j] for j in range(cols)] for i in range(rows)]\n",
        "    print(\"Sum of Matrices is: \")\n",
        "    matDisp(matSum,rows,cols)\n",
        "else:\n",
        "    print(\"Matrices Addition is not possible\")\n"
      ],
      "execution_count": null,
      "outputs": [
        {
          "name": "stdout",
          "output_type": "stream",
          "text": [
            "Enter Row Size of the Matrix: 2\n",
            "Enter column size of the Matrix: 2\n",
            "Enter Matrix-A elements: \n",
            "[0,0]value: 1\n",
            "[0,1]value: 2\n",
            "[1,0]value: 3\n",
            "[1,1]value: 4\n",
            "Enter Matrix-B elements: \n",
            "[0,0]value: 5\n",
            "[0,1]value: 6\n",
            "[1,0]value: 7\n",
            "[1,1]value: 8\n",
            "Matrix-A is: \n",
            "1\t2\t\n",
            "3\t4\t\n",
            "Matrix-B is: \n",
            "5\t6\t\n",
            "7\t8\t\n",
            "Sum of Matrices is: \n",
            "6\t8\t\n",
            "10\t12\t\n"
          ]
        }
      ]
    },
    {
      "cell_type": "markdown",
      "metadata": {
        "id": "oj84gxGNNmBq"
      },
      "source": [
        "**AIM:**\n",
        "\n",
        "c) Write a program to perform multiplication of two square \n",
        "\n",
        "**DESCRIPTION:**\n",
        "\n",
        "In Python, we can implement a matrix as nested list (list inside a list).\n",
        "\n",
        "We can treat each element as a row of the matrix.\n",
        "\n",
        "For example X = [[1, 2], [4, 5], [3, 6]] would represent a 3x2 matrix.\n",
        "\n",
        "The first row can be selected as X[0]. And, the element in first row, first column can be selected as X[0][0].\n",
        "\n",
        "Multiplication of two matrices X and Y is defined only if the number of columns in X is equal to the number of rows Y.\n",
        "\n",
        "If X is a n x m matrix and Y is a m x l matrix then, XY is defined and has the dimension n x l (but YX is not defined). Here are a couple of ways to implement matrix multiplication in Python.\n",
        "\n",
        "**PROGRAM:**"
      ]
    },
    {
      "cell_type": "code",
      "metadata": {
        "colab": {
          "base_uri": "https://localhost:8080/"
        },
        "id": "jEUfrvF9Nw7K",
        "outputId": "bf9fff26-86ac-4999-8c44-4a4956432856"
      },
      "source": [
        "def matRead(r,c):\n",
        "   return[[int(input(\"[%d,%d]value: \"%(i,j)))for j in range(c)] for i in range(r)]\n",
        "\n",
        "def matDisp(mat,r,c):\n",
        "    for i in range(r):\n",
        "        for j in range(c):\n",
        "            print(mat[i][j],end='\\t')\n",
        "        print()\n",
        "\n",
        "matA=[[]]\n",
        "matB=[[]]\n",
        "matMul=[[]]\n",
        "rows=int(input(\"Enter Row Size of the Matrix: \"))\n",
        "cols=int(input(\"Enter column size of the Matrix: \"))\n",
        "if rows==cols:\n",
        "    print(\"Enter Matrix-A: \")\n",
        "    matA=matRead(rows,cols)\n",
        "\n",
        "    print(\"Enter Matrix-B: \")\n",
        "    matB=matRead(rows,cols)\n",
        "\n",
        "    matMul=[[0 for j in range(cols)] for i in range(rows)]\n",
        "\n",
        "    for i in range(rows):\n",
        "        for j in range(cols):\n",
        "            for k in range(cols):\n",
        "                matMul[i][j]+=matA[i][k]*matB[k][j]\n",
        "                \n",
        "    print(\"Matrix-A is: \")\n",
        "    matDisp(matA,rows,cols)\n",
        "\n",
        "    print(\"Matrix-B is: \")\n",
        "    matDisp(matB,rows,cols)\n",
        "\n",
        "    print(\"Multiplication of Matrices is: \")\n",
        "    matDisp(matMul,rows,cols)\n",
        "else:\n",
        "    print(\"Matrices Multiplication is not possible\")\n"
      ],
      "execution_count": null,
      "outputs": [
        {
          "name": "stdout",
          "output_type": "stream",
          "text": [
            "Enter Row Size of the Matrix: 2\n",
            "Enter column size of the Matrix: 2\n",
            "Enter Matrix-A: \n",
            "[0,0]value: 4\n",
            "[0,1]value: 3\n",
            "[1,0]value: 1\n",
            "[1,1]value: 2\n",
            "Enter Matrix-B: \n",
            "[0,0]value: 8\n",
            "[0,1]value: 9\n",
            "[1,0]value: 7\n",
            "[1,1]value: 5\n",
            "Matrix-A is: \n",
            "4\t3\t\n",
            "1\t2\t\n",
            "Matrix-B is: \n",
            "8\t9\t\n",
            "7\t5\t\n",
            "Multiplication of Matrices is: \n",
            "53\t51\t\n",
            "22\t19\t\n"
          ]
        }
      ]
    },
    {
      "cell_type": "markdown",
      "metadata": {
        "id": "kI76_9rmOFXL"
      },
      "source": [
        "# **Exercise-12-Modules**\n",
        "\n",
        "**AIM:**\n",
        "\n",
        "a) Install packages requests,flask and explore them using(pip)\n",
        "\n",
        "**DESCRIPTION:**\n",
        "\n",
        "Installing the pip Python package manager on Windows\n",
        "If you are on Windows, and your installed Python the current version, you already have pip! If your Python installation is not the most recent, the easiest thing to do is to simply reinstall it. Download the Python Windows installer at https://www.python.org/downloads/.\n",
        "\n",
        "In Windows, the variable that controls which programs are accessible from the command line is path. To modify your path to include Python and pip, we have to add C:\\Python27 and C:\\Python27\\Tools. Edit the Windows path by opening the Windows menu, right-clicking on Computer and clicking on Properties. Under Advanced system settings, click Environment Variables.... Scroll down until you find Path, double-click it, and add ;C:\\Python27;C:\\Python27\\Tools to the end.\n",
        "\n",
        "**Installing packages:**\n",
        "\n",
        "Suppose you want to install a package called requests (which is used to make HTTP requests). You need to issue the following command.\n",
        "\n",
        "pip install requests\n",
        "\n",
        "**show installed packages**\n",
        "\n",
        "You can use the following command to get information about a installed package, i.e Package name, version, location, dependencies.\n",
        "\n",
        "pip show package_name\n",
        "\n",
        "**install flask**\n",
        "\n",
        "On Mac and Linux, because you are installing programs outside the user-owned folders, you might have to prepend sudo to the install commands. To install Flask, simply run this:\n",
        "\n",
        "$ pip install flask\n",
        "\n",
        "**show installed flask**\n",
        "\n",
        "You can use the following command to get information about a installed flask, i.e Package name, version, location, dependencies\n",
        "\n",
        "$ pip show flask\n",
        "\n",
        "**PROGRAM:**\n",
        "\n",
        "The requests and flask packages are downloaded from internet using the following commands.\n",
        "c:\\phython3.9\\scripts>pip install requests\n",
        "\n",
        "c:\\phython3.9\\scripts>pip show requests\n",
        "\n",
        "c:\\phython3.9\\scripts>pip install flask\n",
        "\n",
        "c:\\phython3.9\\scripts>pip show flask\n",
        "\n",
        "https://drive.google.com/file/d/1H1xDdPf3STLM8BivVum2IE9DHUaVUov5/view?usp=sharing\n",
        "\n",
        "https://drive.google.com/file/d/1s7OuAcNw0mleuB1PE6DnN93fDFzHaDCd/view?usp=sharing\n",
        "\n",
        "https://drive.google.com/file/d/1Y5tZqVGVbtNItIsEVKmmv_VCtHo_Gieq/view?usp=sharing\n",
        "\n",
        "https://drive.google.com/file/d/111lqK5HU4_SpTlOQ_52nEn5g41X-ESkI/view?usp=sharing\n",
        "\n"
      ]
    },
    {
      "cell_type": "markdown",
      "metadata": {
        "id": "uWvKp2oTu9ZJ"
      },
      "source": [
        "![py4.png](data:image/png;base64,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)"
      ]
    },
    {
      "cell_type": "markdown",
      "metadata": {
        "id": "ll3_9D9XOjVA"
      },
      "source": [
        "**AIM:**\n",
        "\n",
        "b) Write a scripts that imports requests and fetch content from the page.Eg. (Wiki)code:\n",
        "\n",
        "**DESCRIPTION:**\n",
        "\n",
        "The Hypertext Transfer Protocol (HTTP) is an application protocol for distributed, collaborative, hypermedia information systems. HTTP is the foundation of data communication for the World Wide Web.\n",
        "\n",
        "**Python requests**\n",
        "\n",
        "Requests is a simple and elegant Python HTTP library. It provides methods for accessing Web resources via HTTP.\n",
        "\n",
        "**Python requests reading a web page**\n",
        "\n",
        "The **get()** method issues a GET request; it fetches documents identified by the given URL.\n",
        "\n",
        "**PROGRAM:**\n",
        "\n"
      ]
    },
    {
      "cell_type": "code",
      "metadata": {
        "colab": {
          "base_uri": "https://localhost:8080/"
        },
        "id": "7Z9ikyBIOyBG",
        "outputId": "44931309-c76a-4d34-a25f-715633ff8b62"
      },
      "source": [
        "import requests\n",
        "r=requests.get('https://www.google.com')\n",
        "print(\"Statuscode: \",r.status_code)\n",
        "print(\"Header Content: \",r.headers['content-type'])\n",
        "print(r.text)"
      ],
      "execution_count": null,
      "outputs": [
        {
          "name": "stdout",
          "output_type": "stream",
          "text": [
            "Statuscode:  200\n",
            "Header Content:  text/html; charset=ISO-8859-1\n",
            "<!doctype html><html itemscope=\"\" itemtype=\"http://schema.org/WebPage\" lang=\"en\"><head><meta content=\"Search the world's information, including webpages, images, videos and more. Google has many special features to help you find exactly what you're looking for.\" name=\"description\"><meta content=\"noodp\" name=\"robots\"><meta content=\"text/html; charset=UTF-8\" http-equiv=\"Content-Type\"><meta content=\"/logos/doodles/2021/doodle-champion-island-games-september-05-6753651837109292-l.png\" itemprop=\"image\"><meta content=\"Doodle Champion Island Games!\" property=\"twitter:title\"><meta content=\"Feline up for a challenge? Help Lucky claim victory in the Doodle Champion Island Games! #GoogleDoodle \" property=\"twitter:description\"><meta content=\"Feline up for a challenge? Help Lucky claim victory in the Doodle Champion Island Games! #GoogleDoodle \" property=\"og:description\"><meta content=\"summary_large_image\" property=\"twitter:card\"><meta content=\"@GoogleDoodles\" property=\"twitter:site\"><meta content=\"https://www.google.com/logos/doodles/2021/doodle-champion-island-games-september-05-6753651837109292-2xa.gif\" property=\"twitter:image\"><meta content=\"https://www.google.com/logos/doodles/2021/doodle-champion-island-games-september-05-6753651837109292-2xa.gif\" property=\"og:image\"><meta content=\"668\" property=\"og:image:width\"><meta content=\"392\" property=\"og:image:height\"><meta content=\"https://www.google.com/logos/doodles/2021/doodle-champion-island-games-september-05-6753651837109292-2xa.gif\" property=\"og:url\"><meta content=\"video.other\" property=\"og:type\"><title>Google</title><script nonce=\"8xIPxCw0JnBaeopA7b8G5w==\">(function(){window.google={kEI:'Gw01YeD1C6COwbkP6aCN6A4',kEXPI:'0,18168,754047,1,530320,56873,954,5104,207,4804,2316,383,246,5,1354,4936,314,2945,1119571,1197730,553,118,328866,51224,16111,17447,11240,893,16679,4859,1361,9290,3021,2824,14764,4020,978,6244,6984,3847,4192,6430,1142,6290,11612,2778,919,5081,1593,1279,2212,531,148,1103,840,1983,214,4100,108,3406,606,2023,1733,43,521,14670,3227,2845,7,4773,38,7543,5096,14396,1372,552,908,2,941,15324,432,3,1590,1,5444,149,11323,2652,4,1528,2304,1236,5803,74,1983,2627,2014,3791,7710,2110,1714,3050,2658,4243,2293,821,30,1677,9735,4521,638,37,1457,5586,3772,5993,1435,5830,2527,4097,16,3119,6,908,3,3541,1,5349,9361,1,1814,282,38,874,5996,1157,13517,769,8,1,1272,1344,371,2,3057,6155,627,4,32,4,676,4711,4,751,374,342,255,75,4,166,2,246,58,257,2062,123,1557,129,615,2810,3042,2051,573,3,6076,702,1058,1160,1269,5139,291,2118,263,2719,3708,2,835,3,123,4607,743,4635,1214,2426,1,8,125,2,3272,4319,1932,190,2,2443,243,1354,981,3132,66,480,4017,1,2,2,864,485,1264,687,1,210,1660,49,52,206,281,719,3,535,257,672,931,1406,4,7,43,1168,271,62,1917,81,229,173,47,94,27,402,35,1186,783,673,418,458,89,265,973,97,52,201,1084,2,19,189,78,859,818,432,94,378,56,55,256,71,4,759,440,364,30,84,137,1807,1,1,46,508,16,2,3,1128,715,7,5582256,226,220,72,10,123,76,5996067,521,2800696,882,444,1,2,80,1,1796,1,9,2553,1,748,141,795,563,1,4265,1,1,2,1331,4142,2609,155,17,13,72,139,4,2,20,2,169,13,19,46,5,39,96,548,29,2,2,1,2,1,2,2,7,4,1,2,2,2,2,2,2,353,513,186,1,1,158,3,2,2,2,2,2,4,2,3,3,269,293,51,29,5,11,21,18,2,19,29,10,13,4,21,23654331,299866,4041351,338,3,2414,448,2,91,372,172,406,9,3356,1419,799,84,111',kBL:'94Ui'};google.sn='webhp';google.kHL='en';})();(function(){\n",
            "var f=this||self;var h,k=[];function l(a){for(var b;a&&(!a.getAttribute||!(b=a.getAttribute(\"eid\")));)a=a.parentNode;return b||h}function m(a){for(var b=null;a&&(!a.getAttribute||!(b=a.getAttribute(\"leid\")));)a=a.parentNode;return b}\n",
            "function n(a,b,c,d,g){var e=\"\";c||-1!==b.search(\"&ei=\")||(e=\"&ei=\"+l(d),-1===b.search(\"&lei=\")&&(d=m(d))&&(e+=\"&lei=\"+d));d=\"\";!c&&f._cshid&&-1===b.search(\"&cshid=\")&&\"slh\"!==a&&(d=\"&cshid=\"+f._cshid);c=c||\"/\"+(g||\"gen_204\")+\"?atyp=i&ct=\"+a+\"&cad=\"+b+e+\"&zx=\"+Date.now()+d;/^http:/i.test(c)&&\"https:\"===window.location.protocol&&(google.ml&&google.ml(Error(\"a\"),!1,{src:c,glmm:1}),c=\"\");return c};h=google.kEI;google.getEI=l;google.getLEI=m;google.ml=function(){return null};google.log=function(a,b,c,d,g){if(c=n(a,b,c,d,g)){a=new Image;var e=k.length;k[e]=a;a.onerror=a.onload=a.onabort=function(){delete k[e]};a.src=c}};google.logUrl=n;}).call(this);(function(){\n",
            "google.y={};google.sy=[];google.x=function(a,b){if(a)var c=a.id;else{do c=Math.random();while(google.y[c])}google.y[c]=[a,b];return!1};google.sx=function(a){google.sy.push(a)};google.lm=[];google.plm=function(a){google.lm.push.apply(google.lm,a)};google.lq=[];google.load=function(a,b,c){google.lq.push([[a],b,c])};google.loadAll=function(a,b){google.lq.push([a,b])};google.bx=!1;google.lx=function(){};}).call(this);google.f={};(function(){\n",
            "document.documentElement.addEventListener(\"submit\",function(b){var a;if(a=b.target){var c=a.getAttribute(\"data-submitfalse\");a=\"1\"==c||\"q\"==c&&!a.elements.q.value?!0:!1}else a=!1;a&&(b.preventDefault(),b.stopPropagation())},!0);document.documentElement.addEventListener(\"click\",function(b){var a;a:{for(a=b.target;a&&a!=document.documentElement;a=a.parentElement)if(\"A\"==a.tagName){a=\"1\"==a.getAttribute(\"data-nohref\");break a}a=!1}a&&b.preventDefault()},!0);}).call(this);</script><style>#gbar,#guser{font-size:13px;padding-top:1px !important;}#gbar{height:22px}#guser{padding-bottom:7px !important;text-align:right}.gbh,.gbd{border-top:1px solid #c9d7f1;font-size:1px}.gbh{height:0;position:absolute;top:24px;width:100%}@media all{.gb1{height:22px;margin-right:.5em;vertical-align:top}#gbar{float:left}}a.gb1,a.gb4{text-decoration:underline !important}a.gb1,a.gb4{color:#00c !important}.gbi .gb4{color:#dd8e27 !important}.gbf .gb4{color:#900 !important}\n",
            "</style><style>body,td,a,p,.h{font-family:arial,sans-serif}body{margin:0;overflow-y:scroll}#gog{padding:3px 8px 0}td{line-height:.8em}.gac_m td{line-height:17px}form{margin-bottom:20px}.h{color:#1558d6}em{font-weight:bold;font-style:normal}.lst{height:25px;width:496px}.gsfi,.lst{font:18px arial,sans-serif}.gsfs{font:17px arial,sans-serif}.ds{display:inline-box;display:inline-block;margin:3px 0 4px;margin-left:4px}input{font-family:inherit}body{background:#fff;color:#000}a{color:#4b11a8;text-decoration:none}a:hover,a:active{text-decoration:underline}.fl a{color:#1558d6}a:visited{color:#4b11a8}.sblc{padding-top:5px}.sblc a{display:block;margin:2px 0;margin-left:13px;font-size:11px}.lsbb{background:#f8f9fa;border:solid 1px;border-color:#dadce0 #70757a #70757a #dadce0;height:30px}.lsbb{display:block}#WqQANb a{display:inline-block;margin:0 12px}.lsb{background:url(/images/nav_logo229.png) 0 -261px repeat-x;border:none;color:#000;cursor:pointer;height:30px;margin:0;outline:0;font:15px arial,sans-serif;vertical-align:top}.lsb:active{background:#dadce0}.lst:focus{outline:none}</style><script nonce=\"8xIPxCw0JnBaeopA7b8G5w==\"></script></head><body bgcolor=\"#fff\"><script nonce=\"8xIPxCw0JnBaeopA7b8G5w==\">(function(){var src='/images/nav_logo229.png';var iesg=false;document.body.onload = function(){window.n && window.n();if (document.images){new Image().src=src;}\n",
            "if (!iesg){document.f&&document.f.q.focus();document.gbqf&&document.gbqf.q.focus();}\n",
            "}\n",
            "})();</script><div id=\"mngb\"><div id=gbar><nobr><b class=gb1>Search</b> <a class=gb1 href=\"https://www.google.com/imghp?hl=en&tab=wi\">Images</a> <a class=gb1 href=\"https://maps.google.com/maps?hl=en&tab=wl\">Maps</a> <a class=gb1 href=\"https://play.google.com/?hl=en&tab=w8\">Play</a> <a class=gb1 href=\"https://www.youtube.com/?gl=US&tab=w1\">YouTube</a> <a class=gb1 href=\"https://news.google.com/?tab=wn\">News</a> <a class=gb1 href=\"https://mail.google.com/mail/?tab=wm\">Gmail</a> <a class=gb1 href=\"https://drive.google.com/?tab=wo\">Drive</a> <a class=gb1 style=\"text-decoration:none\" href=\"https://www.google.com/intl/en/about/products?tab=wh\"><u>More</u> &raquo;</a></nobr></div><div id=guser width=100%><nobr><span id=gbn class=gbi></span><span id=gbf class=gbf></span><span id=gbe></span><a href=\"http://www.google.com/history/optout?hl=en\" class=gb4>Web History</a> | <a  href=\"/preferences?hl=en\" class=gb4>Settings</a> | <a target=_top id=gb_70 href=\"https://accounts.google.com/ServiceLogin?hl=en&passive=true&continue=https://www.google.com/&ec=GAZAAQ\" class=gb4>Sign in</a></nobr></div><div class=gbh style=left:0></div><div class=gbh style=right:0></div></div><center><br clear=\"all\" id=\"lgpd\"><div id=\"lga\"><a href=\"/search?ie=UTF-8&amp;q=Paralympics&amp;oi=ddle&amp;ct=192414335&amp;hl=en&amp;si=AHuW2sT-QI6yLdyEfUBJHlK3UbYl5IMFaEVy5cpr0uPqDA9_otVXb9ripiHnz-EX5hXZ_jIa8ESKopokBeQtHfj9KzxO6Dw9kGEpQWJxyyGVK2B-ksVRRB0%3D&amp;sa=X&amp;ved=0ahUKEwig7_D5u-jyAhUgRzABHWlQA-0QPQgD\"><img alt=\"Doodle Champion Island Games!\" border=\"0\" height=\"196\" src=\"/logos/doodles/2021/doodle-champion-island-games-september-05-6753651837109292-l.png\" title=\"Doodle Champion Island Games!\" width=\"334\" id=\"hplogo\"><br></a><br></div><form action=\"/search\" name=\"f\"><table cellpadding=\"0\" cellspacing=\"0\"><tr valign=\"top\"><td width=\"25%\">&nbsp;</td><td align=\"center\" nowrap=\"\"><input name=\"ie\" value=\"ISO-8859-1\" type=\"hidden\"><input value=\"en\" name=\"hl\" type=\"hidden\"><input name=\"source\" type=\"hidden\" value=\"hp\"><input name=\"biw\" type=\"hidden\"><input name=\"bih\" type=\"hidden\"><div class=\"ds\" style=\"height:32px;margin:4px 0\"><input class=\"lst\" style=\"margin:0;padding:5px 8px 0 6px;vertical-align:top;color:#000\" autocomplete=\"off\" value=\"\" title=\"Google Search\" maxlength=\"2048\" name=\"q\" size=\"57\"></div><br style=\"line-height:0\"><span class=\"ds\"><span class=\"lsbb\"><input class=\"lsb\" value=\"Google Search\" name=\"btnG\" type=\"submit\"></span></span><span class=\"ds\"><span class=\"lsbb\"><input class=\"lsb\" id=\"tsuid1\" value=\"I'm Feeling Lucky\" name=\"btnI\" type=\"submit\"><script nonce=\"8xIPxCw0JnBaeopA7b8G5w==\">(function(){var id='tsuid1';document.getElementById(id).onclick = function(){if (this.form.q.value){this.checked = 1;if (this.form.iflsig)this.form.iflsig.disabled = false;}\n",
            "else top.location='/doodles/';};})();</script><input value=\"ALs-wAMAAAAAYTUbK73DwGxF5Y-aFG1OaCH6C2uRASBj\" name=\"iflsig\" type=\"hidden\"></span></span></td><td class=\"fl sblc\" align=\"left\" nowrap=\"\" width=\"25%\"><a href=\"/advanced_search?hl=en&amp;authuser=0\">Advanced search</a></td></tr></table><input id=\"gbv\" name=\"gbv\" type=\"hidden\" value=\"1\"><script nonce=\"8xIPxCw0JnBaeopA7b8G5w==\">(function(){\n",
            "var a,b=\"1\";if(document&&document.getElementById)if(\"undefined\"!=typeof XMLHttpRequest)b=\"2\";else if(\"undefined\"!=typeof ActiveXObject){var c,d,e=[\"MSXML2.XMLHTTP.6.0\",\"MSXML2.XMLHTTP.3.0\",\"MSXML2.XMLHTTP\",\"Microsoft.XMLHTTP\"];for(c=0;d=e[c++];)try{new ActiveXObject(d),b=\"2\"}catch(h){}}a=b;if(\"2\"==a&&-1==location.search.indexOf(\"&gbv=2\")){var f=google.gbvu,g=document.getElementById(\"gbv\");g&&(g.value=a);f&&window.setTimeout(function(){location.href=f},0)};}).call(this);</script></form><div id=\"gac_scont\"></div><div style=\"font-size:83%;min-height:3.5em\"><br></div><span id=\"footer\"><div style=\"font-size:10pt\"><div style=\"margin:19px auto;text-align:center\" id=\"WqQANb\"><a href=\"/intl/en/ads/\">Advertising Programs</a><a href=\"/services/\">Business Solutions</a><a href=\"/intl/en/about.html\">About Google</a></div></div><p style=\"font-size:8pt;color:#70757a\">&copy; 2021 - <a href=\"/intl/en/policies/privacy/\">Privacy</a> - <a href=\"/intl/en/policies/terms/\">Terms</a></p></span></center><script nonce=\"8xIPxCw0JnBaeopA7b8G5w==\">(function(){window.google.cdo={height:757,width:1440};(function(){\n",
            "var a=window.innerWidth,b=window.innerHeight;if(!a||!b){var c=window.document,d=\"CSS1Compat\"==c.compatMode?c.documentElement:c.body;a=d.clientWidth;b=d.clientHeight}a&&b&&(a!=google.cdo.width||b!=google.cdo.height)&&google.log(\"\",\"\",\"/client_204?&atyp=i&biw=\"+a+\"&bih=\"+b+\"&ei=\"+google.kEI);}).call(this);})();</script> <script nonce=\"8xIPxCw0JnBaeopA7b8G5w==\">(function(){google.xjs={ck:'',cs:'',excm:[]};})();</script>  <script nonce=\"8xIPxCw0JnBaeopA7b8G5w==\">(function(){var u='/xjs/_/js/k\\x3dxjs.hp.en_US.uJVE4aH5PNY.O/am\\x3dAPgEWA/d\\x3d1/ed\\x3d1/rs\\x3dACT90oHMCNW-abUb8NKgcji0KPjTPcrpeg/m\\x3dsb_he,d';\n",
            "var e=this||self,f=function(a){return a};var g;var l=function(a,b){this.g=b===h?a:\"\"};l.prototype.toString=function(){return this.g+\"\"};var h={};function m(){var a=u;google.lx=function(){n(a);google.lx=function(){}};google.bx||google.lx()}\n",
            "function n(a){google.timers&&google.timers.load&&google.tick&&google.tick(\"load\",\"xjsls\");var b=document;var c=\"SCRIPT\";\"application/xhtml+xml\"===b.contentType&&(c=c.toLowerCase());c=b.createElement(c);if(void 0===g){b=null;var k=e.trustedTypes;if(k&&k.createPolicy){try{b=k.createPolicy(\"goog#html\",{createHTML:f,createScript:f,createScriptURL:f})}catch(p){e.console&&e.console.error(p.message)}g=b}else g=b}a=(b=g)?b.createScriptURL(a):a;a=new l(a,h);c.src=a instanceof l&&a.constructor===l?a.g:\"type_error:TrustedResourceUrl\";var d;a=(c.ownerDocument&&c.ownerDocument.defaultView||window).document;(d=(b=null===(d=a.querySelector)||void 0===d?void 0:d.call(a,\"script[nonce]\"))?b.nonce||b.getAttribute(\"nonce\")||\"\":\"\")&&c.setAttribute(\"nonce\",d);document.body.appendChild(c);google.psa=!0};setTimeout(function(){m()},0);})();(function(){window.google.xjsu='/xjs/_/js/k\\x3dxjs.hp.en_US.uJVE4aH5PNY.O/am\\x3dAPgEWA/d\\x3d1/ed\\x3d1/rs\\x3dACT90oHMCNW-abUb8NKgcji0KPjTPcrpeg/m\\x3dsb_he,d';})();function _DumpException(e){throw e;}\n",
            "function _F_installCss(c){}\n",
            "(function(){google.jl={attn:false,blt:'none',chnk:0,dw:false,emtn:0,end:0,ine:false,lls:'default',pdt:0,rep:0,sif:true,snet:true,strt:0,ubm:false,uwp:true};})();(function(){var pmc='{\\x22d\\x22:{},\\x22sb_he\\x22:{\\x22agen\\x22:true,\\x22cgen\\x22:true,\\x22client\\x22:\\x22heirloom-hp\\x22,\\x22dh\\x22:true,\\x22dhqt\\x22:true,\\x22ds\\x22:\\x22\\x22,\\x22ffql\\x22:\\x22en\\x22,\\x22fl\\x22:true,\\x22host\\x22:\\x22google.com\\x22,\\x22isbh\\x22:28,\\x22jsonp\\x22:true,\\x22msgs\\x22:{\\x22cibl\\x22:\\x22Clear Search\\x22,\\x22dym\\x22:\\x22Did you mean:\\x22,\\x22lcky\\x22:\\x22I\\\\u0026#39;m Feeling Lucky\\x22,\\x22lml\\x22:\\x22Learn more\\x22,\\x22oskt\\x22:\\x22Input tools\\x22,\\x22psrc\\x22:\\x22This search was removed from your \\\\u003Ca href\\x3d\\\\\\x22/history\\\\\\x22\\\\u003EWeb History\\\\u003C/a\\\\u003E\\x22,\\x22psrl\\x22:\\x22Remove\\x22,\\x22sbit\\x22:\\x22Search by image\\x22,\\x22srch\\x22:\\x22Google Search\\x22},\\x22ovr\\x22:{},\\x22pq\\x22:\\x22\\x22,\\x22refpd\\x22:true,\\x22rfs\\x22:[],\\x22sbas\\x22:\\x220 3px 8px 0 rgba(0,0,0,0.2),0 0 0 1px rgba(0,0,0,0.08)\\x22,\\x22sbpl\\x22:16,\\x22sbpr\\x22:16,\\x22scd\\x22:10,\\x22stok\\x22:\\x22AGkheACA8rUmANH9Fx8hZrh8vgg\\x22,\\x22uhde\\x22:false}}';google.pmc=JSON.parse(pmc);})();</script>        </body></html>\n"
          ]
        }
      ]
    },
    {
      "cell_type": "markdown",
      "metadata": {
        "id": "zWtCptpgbUJM"
      },
      "source": [
        "![temp.py.png](data:image/png;base64,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)"
      ]
    },
    {
      "cell_type": "markdown",
      "metadata": {
        "id": "nVYrpGO3b0TZ"
      },
      "source": [
        "![py2.png](data:image/png;base64,iVBORw0KGgoAAAANSUhEUgAABVQAAALiCAYAAAA2MF3CAAAAAXNSR0IArs4c6QAAAARnQU1BAACxjwv8YQUAAAAJcEhZcwAADsMAAA7DAcdvqGQAAP+lSURBVHhe7P0xj/RKvuf58Vy7XgTte9qbCwGC1ghDgKBxNd3XDchaGSuMXkGzX8Fe7Bq7ZniD22fssWlIkDPjdV9AHj1ZMh6UIUDO0f8XZFRG8SEZkUkyKzPr+6nDejKTZDAYZLAy/ieC/OV30wAAAAAAAAAAiv5h+hcAAAAAAAAAUEBAFQAAAAAAAAAqEVAFAAAAAAAAgEoEVAEAAAAAAACg0sdDqf7lf/5f4we3+o//w38/vQIAAAAAAADwrH755Zfp1bJHe8a98vtf/+t/bf7dv/t30yef/bf/9t+af/qnfzos3596qP7v/w//x+L0//p///9++hcAAAAAAADA61DwcWl6RAqm/m//d/9dDJzO6TPN0zJH+RRQ/f++/3+K0//5//Tf/fRvyR/+8vcYKdb097/8ofmTvbcX09zHY7lr/vAHy1+WR332i32W9iNNv/1pO2IPAAAAAAAAPIMU78pf59OjUs/U/+f/4//+U1A1BVM1b6336i0+BVT/N//0726atvzyp9+aP/72h+b33/8Wo9j/3Pxr82/dH6a5j+kPlufm7930bvSrTb//7c9N88e/Nr//9Y9xX7q//d786bdfY5D4nh49IA0AAAAAAIDnlPdGzadHNw+qnhVMlVMfSqW436+//aX5878qOKmQZNP87c+/Nv/4VzsI/6Y+n4/pb3/9o2X3c0B1ie1K0/zxz7Yr992Xf/v7v02vAAAAAAAAAEgeVD0rmCqLAdW1yPO10ejf/vPfmz/+qqjqf5g+GSleqZ6eMr8dgCgQ+5c//MHm/RY//8sffmn+9Nu4nF5rAH7NMr/Z719++VP87E82WY7iZ3+yz/7022W9cUC/fW4z9dkftOysh+oSpdVYOv/4668f6f7hL3+Z1rd/b9y3eR7z9WPn2d9sn/5g+bN/AQAAAAAA8HhSTKc04fn8FFBV0DQd0BRAvTaQWkvBxT/+9s+W/t/i8HnFCBVc7P75L0339783/9r8pfmrbbv7+x/jbQP+Zq9/a7q4XmmZ5u//ufmLLfi37t/iZ//2q9b7x+ZPf/iLzddtCP4U1/vN1ovLKqb6J92a4K8xL6lH7RLdxkDloyDtX//4W9P8+W8f6f6rTdreX5o/37xveR5V9ml9BVD/+I9/b361ffn9b/bBFJQGAAAAAADAY1FMp2bCcfJh/vnw/6NtDvlPUfI8Wn7kgVYP1v+g3qrNrx/D5//8b//c/PVvf27+aD+//vnPzT9q7q+/2ixFFNV/s7Fl/lJcRrcU0O0FFOzUA6b+/vfu03p//Otf43q2on7HvIyr/7H5D/ro15ixRekeqpr++NffY+g1z48csW/Ko2j9X7t/bf7+b/8We8MCAAAAAAAA95bHCB/N/J6p83uqHmkzoJqCp+nfawvtj//h1+a3v/8ae4DmYm/Q38aHKuX3H/311xjiPIyGx/+z5flv/2pvKu6JerQz9w0AAAAAAAC4p9TB8NGsPYDqrKDqTwFVBU1T4Sz1UE1qClA9K//+xz83f/lnBTPH4KLuD9r8858UbY0B17/8poX+Ms797T83v47dOg/x22+/TQ+YGnuNbvnHf7S8dDHSG9/r1Z/Gcfbx/bX27lt87NT08KmYg+4vh5YNAAAAAAAAMKc44NL0yP7pn/7pp2BqkoKqWuYwv0/+x//pf1F09KZJ626J4+KnZf9o0++//3WcYX4db1gap9//+sf4WVpeI+vT6+7Xxpa9vO40r7DM3yw9vf7VpubXX+O2/5itl7atZX//3V5n+dSU8iN/s6n5tfuY97fu13HGJM/DuPTt+/Y3K5+mGfOuSfm3Dcb1Ja2X5w8AAAAAAADA+X7Rr8b8y//8vzb/t//r/0Uvr/Y//k//S/Mf/4f/fnqHvdQj9bdf9NAs9UilVyoAAAAAAADwKD4FVPcgoHocAqoAAAAAAADAY/oIqOIx6H6rf/jDX+xF13S/Ns2f//Y3+8ReAAAAAAAAAPhyBFQBAAAAAAAAoNJPT/kHAAAAAAAAACwjoAoAAAAAAAAAlQioAgAAAAAAAEClX97e3riHKgAAAAAAAIBv4/39vfnx48f07jr0UAUAAAAAAACASgRUAQAAAAAAAKDSKQHVzjWND729ascPThZ82/R9HyfXabvnuvf+AY/su9e/3jLU+jC9AwAAAAAAr+4leqj6MDTOuWYIfvoE+B582zR9Hz4CmvcKauaofwAAAAAA4DthyD/w5BQ+da6LQU1vU9eGh+rBCQAAAAAA8EoOC6hq2OtaDzmFdfrgP+Z3NjWNi/M0XHipR10aRpvWVcCo7zX1TdD6bX1vuK3tJ3n+S/Pv3QMQqDXYFLrQuNZeteM5/J3rX23+S9u32R/zNa0N8U/bm29jK/15+aTJdnRcwOTrz4PlS+vn6wIAAAAAgOv9x//4H6dXPzskoKrGfmc/6iGnSe8TNfaDNfZ9P87T1Op9UIO/bYZhaNoYG7gECBLNS7yl6fw4tLix9Z2vC+iUti8xqJTNd333af7W/gGPplcsdeibVue6vaf+NU2n/FuSWl/5953yX7d9ba7tetvn8LHM0u0N0r52g6Wv7Qxj0LWUftD+2Tqal9bTbRRsR+P8+f77wV53l4BuZ+mn9dOU1gUAAAAAANdLwdS1oOrugKo13ZvBGvB9WO6x5Vpr27cKQFzmB91zsVUPLvs8xmzGwI0CD6lX3BTl+eDVK20KUGwFgeZK25c8eCGxh9ektH/AI6P+jWKv1mkb12xfFKDstMy0/0tUEimYOg/4bqU/FuP4UC/RkRjsdTuV/9L+h9BbnrTkZTu2iH7H1wAAAAAA4HbzIOpSUHV3QFXt/kFhgaw3Wy7OHxQcuMzXq1bL28zxH6Vgr1vXxKHKeh0XjL93KW1fvP2TP9gnH1Jc2j/gkVH/yja3H3+pnLa3r16iQ+sXA79b6cdULe3Yq9Roe+pZnLan/dexyYf0a8i/Pvsov2AlFOePtzTI0wcAAAAAAPXy4Om//Mu/TK9+Dqqe8lCq1LtKxriJggOXz/RqiJGSS5BCPdnC0DauUe8s99P8W5W2r9ca/qtbIqbhsqUhxfn+AY9GdUnBUfV0pP79LG5aW75i+6VtKqg52HrqpZrfO7U2fX2kYKjuvaperumWAio/S/nT7QY05bcUEG0/fa6HkhFUBQAAAADgdimYmgdVc7sDqrpfo9P9Gqd7KiowkD+wZT5fdD/DflBAoI89tNRbzXn1ytJH/fRaoQjN3ae0/RgmaS890OzTxnXZ8NzZ+vP9Ax6Jzl/dnzP0dmYPgfq3wNv+9SofBY/1wcb29anKxKubaZy7LsYwg/8UVC2lr/d9DJIu3yNWSbbxmFzKb0vK71zcTt8tPnALAAAAAABczIOoS0HV3QFVNeD1VHHFENTDavB908cHvow0v/OaP8T5sRdW29l7LaO+V00M6Og+gTZT/zW6P2BtQCeGRWzjSleBFsUi9Dr10CptX0v1XReDGJrnNb/TWuO29Xtr/4CvloJlOj8VMNPDl1JQrnT+a/53qH8pfU16wFMqn9L2ZT6kXtNaUDfeL1XLKsN2IErpa34bdDuAS9qa8h6mun+tep0uzc/L/2NytizXKAAAAAAArrbWI3X++S9vb2+/T68B4KUo4Kgeoy7Yq/7SM/RRqOOrC6Hxvm/SEH6FejvLqwLjj5hnAAAAAABewfv7e/Pjx4/p3XVOuYcqAKBsvDVr/PVBn6V7vAIAAAAAgMdDQBUAvkgcuT/dIuBjOH/QPVsvPVYBAAAAAMBjYcg/AAAAAAAAgG+FIf8AAAAAAAAAcAcEVAEAAAAAAACg0sMEVPVYFt1H0AfdVPDzQ1q+WvDt5f6G8aaHn5XmA4+O+neevnNN67kfKgAAAAAAr+Lb9FDdE9TwYWicc80Q/PTJZ6X5wFl8qwcb6bx24wdGr0LfNXbCjx88AOofAAAAAAB4NP/lv/yXm6aHCagONjkfmuAVDtI7APdC/QMAAAAAAKizO6Cahgo3rhs/MJ1Tr7Fx6HCa72x+32vqm2BT3ntua8huzfppmZSGppSflLbeb21HPejSvE7LZz3+gGdF/dtWs39Syp+ueWm+prXeuGl7821spb9UvppSGUu+/vy2DVvHBwAAAAAAXO9uPVS9NfidH4fmNgpg+EswoWbI7tb6nW+bblBQxJaZpqYfAwYpbb1PrzUpAJEo0OP6y7ouLqv1L0EJ4JlR/7Z12j/bZMyr7Z/vtH/j9kv50660XW9lEj6WWSpLLR3sc5WV13aGMehaSj/YBlL5pvVUlqmMVZad/aT1/WCvu0tAd+v4AAAAAACA690xoNp/BBCGYWjaGCsYAwY1SusrRpD36rpGHpyQ2IMLeCHUv22xx+yUh6DAb2vv23F/SvlTgLLTMlP5LFFJpWBqHkyWrfTHYp56+RpbshnsdTsegFjig22/D5dth9BbnrTkZTt7jg8AAAAAAPjsJR5KpYBEGzSkdRyyOx9OXOJbBTFCXPeW9YHv7NXr31b+UsBTQeYt6iU6tFZGWeAz2Uo/pmppx16lRttr7XXanuKqurFKPqRfQ/7jzVamoOve4wMAAAAAAD57iYCqKGigoIOGxHZtqA4aKOSg4b265WEaDjvvQQZg2yvVP8UhB+VMPXHtfU3+Uo/RNSqfwdZTL9X5/Wdr0tdHCobq3qvq5ZpuKaC4qqX86XYDmvJbCsitxwcAAAAAAPxsd0B13oNKva3y+/fdm/KjIbFz6tHlnMIXnwMf8V3Ww0x74brL8Fvgkem0dQr/5fdEtUrYDwqo3T9o9gr1z3vX9L1ypp6eZiN/aX9V5uPcdTGGGfynoGopfb3v7dqqh2alYGkecFWSrW0/v6ftlrXjE7fTdzyQDwAAAACACof0UNU9+zo3xB5Urb0O6m4Vm+5lMWwRh6OOT8ZOPbGu6eH20xOwXWj6+FCZC93j0DcaVjsOrU3p63ffdTFIoc+9TaGLYYc4v5S/vfkH9tBZ1jk9QX+sf3Gy8z/EAFu5DlL/Rmn7mvSApxS0LOVP5kPqNSkvS7SsgqrKs2WymL7mt0FldklbU75/ur+tep0uza89PgAAAAAAoN4vb29vv0+vAeBbUcBRPUZdsFf94/VMjz3+Q2i875s0hF+h3s7y6pTdB8wzAAAAAADP4P39vflP/+k/Te+u8zL3UAWAVzPemjX++qDP0j1eAQAAAADA/RFQBYAHFUfuT7cI+BjOH3TP1kuPVQAAAAAAcF8M+QcAAAAAAADwrTDkHwAAAAAAAADugIAqAAAAAAAAAFQ6NKCqJ1L3ffi411/ruccfgP30WCbdR9QH3VT080OavlqwC9/H/U3jTU8/K82/VufsWvtA5dBbhp79Wv/I59cRXn3/jsD3FwAAAADXOCygam18a6x1jeuGxjkXp8EacADOlYIlKRDQ2TTWyHpnB8UePei2J38+jNe8tetdaT6AbWdfPx79+8sr/E8LAAAA4NUcFlBt1btDoZ0YzAFwDwqmBmv4d4P/CAS09l7BgVfqiTbY5HxoglfoQ++A47z6+UX92cb3FwAAAOD7+vf//t/fNN3lHqoa8qreFfnQ13lvC/XASPOWhiWuzdfvvHdemhqngNJFKX3gGSk+0rd2/neX870LQ+Mbq1/Of9SPvD5YVfioA6lOav7S0PS0vrP5fa+pb4KWt23m829Nv8bWeqX8SVompaEp5bc2f/n145YewCXXXP+uKbua8pHS/umYpvma1nrLpe3Nt7GV/tLx0ZSOkWyVz9L6+bole8+vEqV/5N+/fJmUv3x/dazyNLb2T/bkL27L0kzln8pp6/jn66f8r5VvypP2b20/UhppXlr+KPP05+fvVvndUj55+jX7DwAAAOBr7A6opi/5aiQ5a3qkRtFSo6N3wRoU1tj2runUlpgaFGpMdPaTetj5QUPvLg26rfmp502aF5fVpi0fSSl94Fm1reqcXl0a2LH/2TDEeSVpOLrqS3qd6lGus/eKUcRlg2/8WIHHmRtq099SM2TeK39+2pYt5/xl2c6uPXkP3rjMdH2oyZ+uXa6/rOvislq/vP81Sten+fxryi7ZOn6l/dPmWruo5tfZpWOhpVNvaa/tDOM+lNIP2r/p+KT1dCx0TKRUPlvHt8be86vGkX//rj3+Nfu3J3/6nzou2LHUcbVlvZVTq2M/XX9K68ta+dbUzz3HP+73xveXdE777PxdGgGwVX6l8tmqHzX7DwAAAOBr7A6opi/5akT0jV6PDadOjYAsyGOL2TJqYAyK9cR/RUsNaiCESwMrqHHjNN8aD/Z7a34uvuusQZT11rtmfeDZ1ARNjxB7RE1BiqA639r79nHqj3qBpQDeEIPJenUpm3g5urG+6xqX9l0UcDlK6fq0NP8WW8evtH/xeq5lpvJdopJOwdR5sGcr/fEwjUEt0V4P9jqd16XySfYc3xql86tERXDU378z3Jq/+F4v+xDLxWbZCuOyOoY168ve8r31+Je+vzjLQm/1ZPiU/5+vf2vlJ1vlI2deXwAAAACc5y5D/iVvZKi54NVdyhoWalNo4GI+pE69ReJgRptZmp9TL6wxlnppkFyzPvBs1EjHNgUs1Kss9T67drist8tE/vTvI4fblq5Pmm+5TxfQU2ztn82K+SidZ+olOLS2DwuBv630xz8LY1BLtL3WXqftlcpH9h7fexh3Z9wn5e6av39nH3+5NX8le9evcebxj+U/KJ+X8terVgWW5X+t/GqceX0BAAAAcJ67BVTXqCEy2E8+nFRTGvpZmp+oU5SGFeY9PaR2feAZLfXmiqEpO7/PCrbGIIO2d1L6Z0g90VTvu9auBZVBC5Wqhsfb5ePj2nHkcNtbrk97eyXnx692/0rbVPkOtp56qeb3hqxNXx8pmKR7S6qXaxqeXls+tx7fr/YVx/8at+Qvt3f9Wmcdf+W/be1XPJNHejXESqTP96mtHwAAAAAez5cHVNXsadUrY7pn2lxpvqiHR9MFa4h8DqZKzfrAs7JT287/vmn95dxXT+0wWKNcw0z1gTX81VAX1ZX5/QtFwVen8a1Z4GCN1/DYXstpkKw5OP0zKb8aUj63lr/4rr300NReuoXrzK2K1z/brBt0fMf5irXMHxh0rfz4lfYvlZePF9nxGK+JMazgPwVVS+nrfR8DSZd7bOYBpWuv3ym/z2Lv8Y+lGs/dsczW6t+tri3/ub3rJ7XXj6OP/7z8RdfXXtdX+3yvUv1ISvuv9dRDd37vegAAAADn+fKAquj+aepVkoa8zYe9bc1X80I9PPIHSlyzPvDMdBZ3Tk+AHj7O7dDqvQIAYyNd9yzs3Di/tdchBmTGeYnukekb1ZGxnszrh4JcKX31BM+DXkekv0b1Ow0XViBJm711/Y/JWR7smpFby59+63/UpP33NoVO+zbuXyl/Nfnfuj5pK6HTE8TH9QZv82d5r7F2/Er7J/Mh1ZrWgrpaVpnVPttOFNPX/DZo3y9pa6otn9rju2bv+XWEvcd/q/4dsX97/34e8fd3rX7uPf4lKsXOym3r+rqH9qJU/+TW6ycAAACA8/zy9vb2+/QaAD5RwEI9DtNTqvFcHv34xR6VITTe900aAq5Qb2d51W0oOed+pqCoAqtHBfUAAAAA4Lt6f39vfvz4Mb27zkP0UAUAfD+6FeUY9r3QZ892j14AAAAAwPdCQBUA8CXiyGUN2c6Gbbuge7ZeeqwCAAAAAPBoGPIPAAAAAAAA4FthyD8AAAAAAAAA3AEBVQAAAAAAAACodEhANfj2cv+7eFO8n+mxI7pPng+a//khJADO9dX175Hrf+n6VXN9u4ae0v5I5dBbhlrP/UoBAAAAAKh1SEDVh6FxzjVD8NMnx6PRDyy7R4Du0evfnvyVrl/3uL4BAAAAAIDncbch/4NNzocmeDe9A3AvX13/qP8AAAAAAOBV3CWgWhoym4YDp2U02YJxXlpX748eegt8B19d/7bWS9t2ln7fa+qbYFPTXnqDHpE/9WBN8zot3yiwe5w8/aXewvn8a8qupnyktH82+2O+prXevGl7821spb90fDSlYyRb5bO0fr4uAAAAAACP5i4B1dKQ2c63TTcoaOA+JmuBx3lpXb1PrzWpgQ6g7KvrX2n74i0956dt2XLOX5bdmz8FWl1/WdfFZbX+Jai3h7bV2U9K3w/2ursELOfzb7l2dSofy7LWV/n4TuUz5r+0f9pc2/Wxh3BaZulYaOlgn6usvbYzjPtQSj9o/6bjk9bTsdAxkVL5bB1fAAAAAAAe0d2G/JeoDZ33egJwP19d/7x6bU4BvGEYmjbG6saAnezJXx7ck9gD8iDK0WCZ68MlQBhCb/mNNzlYnH+L2Kt12oegwHFr79uxPEr7pwBlp2Wm8l2SB1PnAd+t9MfDNPUSNtrrwV634wEslk+y5/gCAAAAAHBvDxFQVYO9tcZ8GtJ6zZBYAPs8ev3bmz/fKggY4rpH75/ihq395EPWNaRdn2mm5lvu7ZcCiOfY2j+bFfOhIPUW9RIdWtuHhcDvVvoxVUs79io12l5rr9P2SuUjXP8BAAAAAM/mYXqoqlGtRrmGjHZtoFEN3NGj179b86eQnYbH65ahWl/TLUPu1yhuONhPPpw+5XOtR2jqvXmrPEhbu3+lbap8B1tPvVTn96+tSV8fKRiqe6+ql2u6pUBt+XD9BwAAAAA8k4cJqCbq16Qho3Pq8eScmvfbgQEAt3v0+ndt/uK79tJDU6FA1x13f07lpLX85Pd8zfW2WTfoIVDjfAUe1x4IVct71/S99kw9Pc3G/qXy8upmWhhSH2OYwX8KqpbS1/s+BkmX7xFbKp+5lN+5uJ2+O+WBYgAAAAAAXOuXt7e336fXN1GDe96rSdQ4V8P6lvnBWtUhNsDHRrzMl0vrA9+dqsG8R1+qQ63Voa+sf7X13wV71Y+BOiU7+H41/9fmT/+k8tEavR6I5J2l0S2mL1vlI3n6S8vk8xXL9HEofRvzruHtgw8/7cOSUtqytX8pfT1YKg/kxh6pStcoLZ/1Kk3LxjQVxCykP09b8jxu7cPSvKXjq5Q63RLAXnV6OlcM1QIAAAAAcLv39/fmx48f07vr7A6oAgDOkQKOecD5kShY7EJovO+bNIQ/BT/HuOfj5RkAAAAAANkTUH24If8AgOcw3po1/vqgz85+EBcAAAAAAF+JgCoA4CbxTgDBf3qKvwu6Z+ulxyoAAAAAAK+GIf8AAAAAAAAAvhWG/AMAAAAAAADAHRBQBQAAAAAAAIBKpwdU9bgS3V9vfOQzgHt6lPqX8uGDbrqpd9fTE+X7Pnzcq7P1z3OPziP2/wwpX49+fX7U8pNgJ+bH/WPjTWU/K82/VuesLjxQOfSWoWeqiwAAAABwBHqoAk8uBZtS0EbTqwU4nE0+dI3rhsY5F6dBgcAHQVBp26OXz578+TCek2vnY2k+AAAAAOD5EFAFnpiCqUE99/oxyPiIwUYZbHI+NMErNKp312ltR3vtbb+/h99X2Lv/3x3lBwAAAAB4JIcEVJd6yM2HkObLBM1vLwGf+fqd5sc+aeNwyaVhkvQIA8a6o2jjMGwHmb6y/m0NeU7bdna96HtNP+evZCv/ou0rr3k+Ut5tNxpveUrrp3zM86D9XUo/panr3dp+bu2/bOX/iPKRtfwneR6uOT/SPO1/Est0GpJeUz4lW+vVlM88/5pSfmvzVyq/vfL0l4bz5/OvKbua8pHS/umYpvma1up+2l5t/ZGl46MpHSPZKp+l9fN1AQAAAOAMhwRUO2uIdoMabZcectYCmuaOgjWIXGjHeWrg+bGxpcbQvIddq/dB64+BIvVOyxtQSSmIBLw6hRYaBREU8dgIInxl/asZ8uyVPz8ul+cvBbkURLGc2esxKJSCMqX8JzEdF2y+t9fOrln24RTwUadHlY2uWcqHt3y0Q7D54/pa1+U9gLXclH7at7ju9FpTPB6Trf2vzf9a+dTYyn+Snx+Dve5iXuvLd01N+ZRslV+yVT5bf59q8ldTfntoW539pPT9oFtbXAKW8/nXlF3SqXwsy1pf5ePHChDnlfZPm2s7q39e9WdcZutcVll7bUd1SJ8V0te5l45PWk/HQsdESuVT8/0DAAAAAI522JB/tWHUAF8Te9VMjZw8SOPs375VA+3SQApq2La2vD6PMZsxcKOGmXrGjKuOjTHgu1PdUtAhTv1yD7ZHr3/qJZoCMHn+UpBLQdDe8qGednrfxQuO7Wsh/4niMyEG2YZP+ySa1/Qhbjd2fpvy0U77mAd3JPaAO0ht/tfKp0ZN/vPzQ7NbheptI7X5+2ql8in9fdpy6vG3abDM9Z/K185rp5PSLc6/RX5858evtH+xvmmZqXyXqKRTMHUe8N1KfzxM4/80Ee31YK9T3SuVT7Ln+AIAAADALQ4JqKrBpF5LqffYUkBnjdpNw6DGkxpII71qFfWwmeM/lr79DNYAdPbaPhmX1kwAjapcCjR2bnnY8JJnr3+l/CdjVsdlVDJe3fU2AkQ5b8n0fYjXtmuvbyW1+d9jT/7vkb+z7fn7JGcff9WtfMi66q4+08xY/np9Yl3b2j+bFfOhIPUW9RIdWtuHhcDvVvoxVUs79io12l5rr9P2SuUje48vAAAAANzisB6qatSoUaQhe10bqhs1Y7tcjaexcSR6NcSW5KURp55SwRr26qfWqsfUbD6AJgYLg+/GwGdFD8Jnr3+1+b+V0tLwaN0yUtc3TbcMuV7z6Pk/O3/3cuvfp73lV6IiHOwnH06f8rkW8E+9N28VD532zDZeu3+lbap8dasI9VLN751am74+UjBU915VL9d0S4Ha8rn1+AIAAADArQ4LqCZqYmvIXq3eVnBDb22wSyNM93vrBzWYNMjXGmXWqnJevVbGtMfXaqppLoCcc63VHwVMyvXw2etfKf97xTBSe+mhZ6k2rrsMX040X+U+rVHtUfKf0/ZDr+2HYv5iqnHflXITeyPm97dMbi2foym/S3+f1vIX311ZftdQTtpYpy7lm5uXvxW9vV4OtNbyun1Grz2zdPXBxv6l8vI6sHHuuhjDDP5TULWUvt73du6kW3loygOupfKZS/mdi9vpu8UHbgEAAADALXYHVGOzLA63G4fjxclZQ7yrbwB11kAMfvhYP7R64rLWV98U24Y1xnQfNZup/6zRZe8JqAI/DadN9S/Vn5Kz619+fVAgSLESvT6qB1kp/3spl33XxSCP0vZKv1O6n9PWPSZ9o+MwHou0f6X9f5T8p/ma9ACgFNSqyZ/uadnZOaF5rb0Otvw8/bXyKdl7/uTrf0wLf5/W8lcqv1L+avKv+7+qV6U+T1Oar62ETuU/rjd4m1/5tzW3dnxL+yfzIfWatC9LtKwyq322nSimr/lt0L5f0tZUWz61xxcAAAAAjvbL29vb79NrAADwIhRwVI9RF+xVf1zP2qPEHs0hNN73TRrCr1BvZ3nVbY4fMc8AAAAAXsf7+3vz48eP6d11Dh/yDwAAUNIq4hvDvhf67OwHcQEAAADAXgRUAQDA3cWR+9MtAj6G84f+U49VAAAAAHhEDPkHAAAAAAAA8K0w5B8AAAAAAAAA7oCAKgAAAAAAAABUOj2gqsdN6P5o4yN7z9F3rmk991sDzpLqsQ+66eHnh8gkemJ334ePeyEeWSdrtv9Vgu34x/0f400hPyvNv5Zd7h6qHJ75+pvOqzP/PmG9/taU/9H1p+TR6tfcV+Rv7fgBAAAA3xk9VIEnpmDWUpBh7fOzWBvfGtudbXNonLNt2zQoUPIk9gQFfRj3eW1/S/OBZ3dmUJ36AwAAAOAREVAFnljstaVoZgxpjsa3Ls47ymCT86EJXqnr3Wdta3lRz6UDt5krbR/A46L+PjeOHwAAAPCzwwKqGoaWhuVpmvdWSUPGNC8o6NJ+7m2iHi5p3aVhZaX0k7SdpW0Ar0anudUc+6WG7mgpuLlVvzSkVvUpH1qb1689Q25tVauLllZWF5c+27K1fe2F6rtznc3X9PP1JS2T0tBkCcV5KW2939pOXn6dls8C2EcoXf/y+dccg5rykdL+2eyP+Zquvf5upb90fDSlYyRb5bO0fr5ujTyNa8qn9vzeyn+NrfKf73+eP63n7XxJ89N5kPYxrXvr+VFTf7bqVZLvw9L2S/aWb77+Uh7X0r+l/Pauf0b+bPWP9TVde/1f276kPKT5miyhcSYAAADwxA4JqOrLeGtftNWDYW24b7CFXGjjPPuGbste5uvLeGc/aV0/aOjw5Qt9TfqiL+7BPu8G33htZ7ikAbyi2Ly1BmqsVxPn1ACOzdj4vlS/JDaaneqXt9e2vKrX1OjeGnKbGttqRDurganRnoIu/WDJDNZAn+UvKH+V9bNmyK/X9cWPy82vL53lUdeEtP9xGcunpLT1Pr3WpDJLtI+uv6zr4rJa/xI02KN0fObz87zV6lQ+lmWtr/Lx4wGO80r7p83tuf6W0tffhnR80no6FjomUiqfreNba+vv01b+187vfrB9s8+llP+SrfJPZe6z/LV6n5WvOhVq31Qmqife6kmrY6P/8zK59fyoqT/p8636m5f/YK+7uOwljS17y3e+fp53qUl/q/xq1t+6fh2Rv83ro320Vb9Lx6+0/SPqJwAAAPCIDgmo6gtypwbwRoAk9myYvkQPgzXoYlvDGlB6b+v34bJuUHDGaVjZ2HCoSV/Jpcb8vMEBvDIFMNVGVX1RPVBwJ/YCip+U65eoeoXYyB6sfuqT+KsoNbYVhO1tHfWEivU1Zkif2G/btoJMqqXz/B1FvfDS9SG/viQxO9n+XkP7mAcAjsx76fgszb9Ffv0NOmatvW/H8ijt397r71b642Eag/KivR7sdTsF+0rlk+w5vrL290m28p/yOz+/lUfNrc3/lq3y12Z7O47Dp/Q/H1+tahmI+zVma1w2lbHsOT+OkG9fydsZoQzG91v2lu/S+rna9NfKr3b9tevXUfnbuj7W1O81tdu3RfQ7vgYAAABexe6A6vi9vI1f0m+hL/ZqhuZDwtTbLTZNbWZt+uoFMbSWxkrDA3hVCkBYkza2WlOAJX5oSvUrGavXWMe0pld3qxsa2Eti/lKAwTYZ1LDWkOg7UUBIvfZS79kY/LiCXVpsvRDXvWX9LcXrn/1juU8H6BRb+2ezYj72XH+30h9PuyEGdUTbU0Ayba9UPrL3+JaUjr8CaK3Ob8vTrfVvTVxio/yVxKDesFPdFb1qtXxF+jXOPP/32l2+tshW/Toi/YfOX/xVrt9rarZ/dv0EAAAAvsph91DNe7tcQ9/jB/vJh5tpmg/ZL6WvL+0aKqheUvP7gwGvLDZP1VCNdccat9lw/9r6dSblpLX8KVA25k+f3taAv5WuD2m/u9bKorJRr5LU8F0rvo+yO7IH/C3H59ZrbaLVU5Cmdv9uvf7Wpq+PFGzR/R3VyzUNL64tn1uPb0lN/rUlp5Pa5qmYzqh/a+Wv9NtWdekyX6+GeJD1+fVuOT++ylHlm8vL+pb08/J7xPwtufWaUrv9s+onAAAA8JV2B1Tt+3Qc8ujVjeWGIV36Wq1gS35Pr9w16cfv6NYQJ6iK7yb2DLLq0bqxF1BSql/3omGgnWVhsPzlw5PvLV1P5tRDKw3bzsV37aUHl65ArrsMf96rdHx0j06ne3RO8xXLWnsgVC2v2zNMQb/S/u29/pbS1/s+BmEu92DMA3bXnr8pv0epPf6x553lPd7OIju/r83/XKn85+eH6H6e/WDLTvdwvdY150ei+Uv15xbKf+iV//J5vrd8S/XrlvTz8nvE/OVK51fJtdtP25vTltWDdf7AOgAAAOCR/fL29vb79HoXPbgi/6IfeyxZw1pf09XATg/FEDUKBt9/3LMxLWMJxPmixnnesF5LX7Scz3o1pWVjL4hpm8ArU03pNKTSXnUarh+buqNS/VJ9CW34VN+SpXVlXj/VHm9DsG2rjl62naR0rr3HcWn7af7a9aW168t8fbt0fFx7kvl28v3TP6lHldbo9cAVr/vGdovpyzx/W+W3tEw+X2XrY5DOjpNlQMNnB7u+zfdhSSlt2dq/lP6e628p/Xnakudxax+W5i0d3zVp/a2/T6X8S0onNHqo2+dtb+W/1lb5KxXV/fGVLZvtf74vWlz1PPUk1oOs9GEpb9fsf0pn6/jI1vx8+6X1ZW/5lurXVvo1265Zf+v8OyJ/W+nL2vm1lLbk+1iz/Xxefn4mSmnt7xcAAABwpvf39+bHjx/Tu+scFlAFgDVLDXuc79HLXcEiF0Ljfd80U4/EFFwZ4yqcK2eiXu5D+QEAAADPbU9A9bB7qALAGj20SL33mv7SCwpoFZGKYakLfZbuQQkAAAAAwCMioArgNBpKqvtLjkNU1YOLIBkuNDTYToxPTwl3Qfd0vPRYBQAAAADg0TDkHwAAAAAAAMC3wpB/AAAAAAAAALgDAqoAAAAAAAAAUOmpAqp6InTfh4977bX+co89PdZE9+HzQTfl+/yQEwDPK92HNd5fM950876+evtznbNr4YHXuT37l6674yP5b/No5bvmlf/+PHv+AQAAAODeniag6mzyobMG99A45+I0qCEPfGOqF33ffQruKEAV+r6xD6dPnpsPY53/qvr+1ds/G+Vb9ux/f/rOfbpGAAAAAAD2eZqAaqveQeo5o0DRAj073MUniavpy5PE8T2oXgxD2zid9lY/Yt8yvRmoA8BRXv3vD38/AQAAAOA6hwVUNQw1DYVcGw6Z5nU2jX1+LvOc62yepv7q3nWlIaPz7adpzzBV4FHE2jSozrjG2cke+njGx3mJeqil8/6W+re2vtTUr3z9o4cVz7c/z59sXZ9ka/+OcGT53zosP62fptrrX0355stce/4cYev4buW/tvy37Pn7k+blx0L7ktcRpa/9ybdTe/6mdZT+Wj6vzf/R5QcAAAAAz+iQgKoagK01xNTDZT4cUg2uYK99P36uqdX7oAbk2GAUb4k4Pw6ntBaevR7XT409NTBtzY9GW96oKw0ZDZZ2N6jR5xqv9IcQ17FW6LQE8NwGqw+t6pZr7fUw1ix1qzOqQy6rf87O+9r6J6X1S/VLwZ7OftL6ftDQ6WOGHysHpeuLbX71+iQ15bPH3vKfl5/eX2PP9a+mfEXbcEE9pa1stb1YvmM+zy5fFcer//2J+XDaP2+vLT1tagpabpVvypu2lV5rys+hrfzvLT8AAAAAeFWHBFTViOrUQLSG4px6zPWtGmuXeUENuFa9WLJGnXrGTOsPwzDFgi4NQjUi+0avx8BCp4bbrBfekjGZsVEslssx+DQFm4BnluqJTm/vhmZQkEW9VTPz4E2qC7m1+idb65fql2rpYHW1/1T/e6vDWvJS/29Vc33Zuj5JTfnssaf8l8rvGqXjU1J7/Y49G6d91KZsi3G7cnb5foe/P9q9EIOUVseVSExpdGb57i0/AAAAAHhVuwOqqcGoRtQSNax0j8e8AahXrZa/slF5i7hV25YawaItqiffWn6BZ6NTOQZ7hr7pZ3VNvH2UP5382iHjW+uX6pequO7smg8ZVm+/eLfXA+p/6foSt2D/btX3veVTsif9uH/ai438b4lrbRyfklL51jizfGMONo7vEfnfI251R/kn4+LjOio9r1sETAHMU8v3i8sPAAAAAB7VYfdQXetxM7a7YhNs/MDE5tnYUhs/uAONcFRjU/d30/DLteGZwLNSIEXndaxVU91SXfOdhuiOPfk0XTNkvHb9tfqlbAz2kw/H1pSGPu9Ve31Zuz7V7t+tzkj/2t6NsnZ8SmrLd80Z+7/ku/79Obt8H6X8AAAAAODR7A6oqkmlIYxe3WQWhvD2toB6zrXZPdU6a/D1gy07G5p8BuWojw3N2+9BCDyqreCa5sW59m/qEacz33WX4cElpfVL9Us1vLXrw1n3VCxdX0rXp73lU7I3/fn+qWjnDyTaou3tuf7dcv3W/NBrfji9fJXqM//9iaViZaPPRbtxzf2Fa8tX853G749rVDuq/GI59N2ne88CAAAAwDM7pIeq7uGmB1WkB3ZoSo1+NfM6ex388DEvtHrisBpoYyNwDzUP03BibVNtVb1Owx71uw0aDnnJWz4feGU6y/vOzn0FQey89zaFTvWuru6V1q+pX7q/YtdehiTP528p1W/lonR92bo+lfavtP2SUvolWip02r9xu4O3/HeX4FaJtr91fI4oX0n7p0kP0NL7+Hmcd175yrP//dE9hTs35q+11yHmvS5vpfJNdI9Z3ygfYz08+vgDAAAAwHfzy9vb2+/T65cUe/xYg9Z7ayBOQ4zV1O+sgavb0FlLNH4G4HrUr8fG8flalD8AAAAAPK739/fmx48f07vrHHYP1UfVqgtO7Idzoc/2POgFwIj69dg4Pl+L8gcAAACA1/TyPVQl+PZjCKioGev1fuoxBOB21K/HxvH5WpQ/AAAAADymPT1Uv0VAFQAAAAAAAAAShvwDAAAAAAAAwB0QUAUAAAAAAACASq//UCqb+uCb8ZHKAO7pO9U/PdG974NNfZzy+2Y+s75zL7MvAAAAAAAcgR6qwJNLQcsUyHulYN7SvnU2NY2L80tq1lfAMJ+vyXVapp5S86Gz9YbGORenQYFkAAAAAADwcgioAk9MAcMQfOP7MYj3qsE8BTg/9q/vms6m2qCqbK2f5jX2mQ9jQFRB1mu06p2qoxGDtQAAAAAA4JUdElBd6gXWzIb45r3AfFDQQWtd5PPnPciCb2OPO/2blpn3wFP8I81bmp/nMdhkC4wzgCcWa1HbNsMwxPdrXqn+Bcu/7XHcbw2zD71tK0tv6bNcvv495Puu6ZbyXZPSdna97XtNy+W7dXyldPyStL35NrbSn+9/mvK/EVvn59L6878vAAAAAADc0yEB1c63TTeoUT/1AJt6eyVqLHf2k+b5QUNjLw12BRJc3sMu9hTT+pdGdQw2uGDzrTHvLT215acGvYIBrXqZec0f05j30Au2kAu2HZtnCdiyn+cDz0ihp0ZBJlWClSDTK9e/XnHRoW9apTtxrm1Cb3kf6oKSe6QgqIKAzsorBTVTUFElOO9B3Or9FeVbo1P5WpKpfP2YQJxXOr41x0/Svuha77WdqXxL6evYp78PaT31BE5/I0rnZ+nvCwAAAAAA93bYkH+1cRVAmNMng83sQxbAUfDBqUfduHzeuJbYA2lGi4QYhBmasTNe/BWpgd1pgY0ASrwn4rQN9eYbO6eNDX7gmencjj38NFndief65BXrn/e2P4OtO/QxF9o3BVGVXvyt/V3YhyRff690iwAFQZUb9RSN5WGT5axRtvpWAcq8/G251rZtnydb5VsjL995+qXjW3P8VK4pmBqD95mt9LWeDnb6THs12Ot26h2slErnp8TizN4DAAAAAPCVDgmoqkGtXlepd1Ye0FG7WWGOfMimenPF0MfUqPb2T/507Hz9JA8yaK5Xd6whfDTYS0OegVemKpMCeZ27DJt+lfqXgsWa1JtRAcyP/GjfpwCiAphBgTcN+c9srX8mFfGg4G22Lb1qVV5T+cta+R5h6/jGHFQcP/USHVo7h7LAZ7KV/rhbY9BZtD0FvNP2VATF83Pj7wsAAAAAAF/hsB6qqaeWhnR2bfho9KrdPNhPPpw0LZcCMhqeqlv2pXnzHlA1Uo8n4DtTrQu+a1xrFU89I1+k/ul6spY/7XPbj8P+1VPVXpoxYJdsrX8mlX+rYxFLeqRXg8prCioeLSatrVj62lbN8S0dP13fB1tPvVTzWxHUpq+PFAzVvVfVyzXdUqB0fiZrf18AAAAAAPgKhwVUE4UINKQzScGOtXsmxma8NeZTjyU1xV13GT5akrbn1U2KIaFAE4OK05D271L/NExctw0dXNfkw+u/mu7x6nSP16z8db/TflDA8JygYLylge4ha0e/dHyvOX4xhhn8p6BqKX2972OQ9HKP1DzgWjo/51J+5+J2+m7xgVsAAAAAABxtd0A1NtvjcMxxuGacXLBG86WB7K0lrl5F+TKph5F+99YAVyNbn3ubQhebzXF+jfmQUE21T8kGntl8uHWcrP6l+3HGZb5B/UsPp4qB5LhX9dK+W6FYuamH66V89lIpdlYWwQ8fZRNabedyfI6Q9kGTbmmQgpY1x/ea46dlFVTVNV/lVUpf89ugc++Stqa8fLfOz5q/LwAAAAAA3Nsvb29vv0+vAeApKfCmnpMuKMJc38P22T36fivg70JovO+bNIRfod7O8qrbxH6nYwUAAAAAeCzv7+/Njx8/pnfXOXzIPwDcmx6aFBqv7ozTJ3gE461Z468P+izd4xUAAAAAgGdED1UAT0tD9DU8XQPEu7HLY/z8u1Co8tF75qZjlCiM6vU+e+gUAAAAAAD3tqeHKgFVAAAAAAAAAN8KQ/4BAAAAAAAA4A4IqAIAAAAAAABApYcPqOoegX3wzfhIaAA4V+eaxgfdi1VXH9RI1+lby23v+rdK2z3z74vuIdv3fZxc91j3+L3H/gMAAADAK6KHKvDk+s59BGweNXBTon3IH1yE7yU+738Ypgf/v9bT/30YGudcMyhwCQAAAAB4CQRUgSen4KkCNnrKewreKEAJ3ItCoM6HJnidd68VEAUAAAAAYO6wgKriN3kPuXlvs7wXXWeTNb/HGZPS+mloouYFrd9+7u2Tp89wXWCU6o1zndUNTT/Xn7xupSkNAa5ZX0r1b61+p+HQ2t6eodFr15db8n/NtrVf3pZP5Ze2M9/GkfmbXz+Xjp+mdAyldHzW1ORv67jV7p9oXeVzbmn/8n3borwtHU9tJ/8bk2+jVP5L5Xdr+dZSsaT0NfH3FQAAAAC+1iEBVTXWWmu0qoeSesfNhzfGRm0/fh4na1j7oAbx2CgrrS/BFnLB0rF5lqAte5mvxl5nP2ldP9jr7nODEfjOvOqPH3uvzutPZ/WzGxT0GutPXMbqaK7T+vZRWt93Wn+sv6X6Z7NX63fqUavtpdealGat0vVFtvZ/nv9rti3qlKlrU9wHW9fbdtrB9r8dt783f6X1dW1Mx89rfdu2ylL5kSOuj1vHv2ZI+9b6JTXn55phsGMRN/PztjQv2fP35Yjy3WLJ8/cVAAAAAB7MIQFVNbI6NeAVRFiQN+5FvVxypfUl9jKa0sgbydb8awZbvw+XdUOwxqNTY1lzAagXZapfS0Emq0L6HV8vyetfUACttfetq6p/NfV7j9L1Rdb2fyn/19LmLYGYbuy8N22nnQKqe/InW+uPi029fI2yMtjrtO2a41Nj7fjX2r1+XLR++cSKUr/jawUe1TMzlVnu1r8vpflH4O8rAAAAADye3QHV1DhVI2yNtWOtkRdiQ09TbLxNatbfooafNZOtwXcZEqohifpsahUC2KCATBvrzzgkO6+fJaX6F2vgjvpdY+v6UqL8294rijR9crw9+ZOt9WOuLe8Kmokt2rT2OpV36fg8gz3np4qhbXWE7RzU/wCw1yqRVG4lpfI7u3xjCpYOf18BAAAA4LEcdg/V1CNqTp9qeKcPY08ZTUtDatfWL1E7cbCffDijpjT0FUCZglap3nSt1aWNoJWqagpC1ta/W+t3Se315RpH5nVv/mrX10cKdun+lxoen4Z0n3F9zI//LW5Z/5rzc4mzzYVBPS57275rhpiJ8vZL5XdG+S7h7ysAAAAAPJbdAVU1STXE1KubzMIQwNiMs8Zc6iGjJVx3GZ5YWr9EzerW1s/v+QbgNqk+bvHeNX2v+toX619t/db1wSnqNV4xqsWlN64vJb2t5oa+aaf8KxY1f2DPHnvzV1pf7/sY5Lrc4zIPqJ1xfcyP/y32rJ/Op1pavtW5ZdtUEWrd8bW2P5bpllL5nVG+ubS/j/73NZ6Hfbf4QCwAAAAAeEWH9FCdD8nUlIISal711sBTIz8OF7QpdLGZF+fL1vo1dP9B9VpK62q6tgcT8KxS3bKTPt4n8przP4a1suG8cXJWl7rPAZS0DU16QE0etCvVv5r6rXs8+kZpjOnU5l9Lla4vW7RU6IKewxPXH7zlb7bve+zNX2l9zW+DyuxStpo+lX/h+NRYO/75+aNjqo+X0l9bv6T2/FyjUlJAVfcBtZX1X6P7f9YGVKV4fm/Mry2fLfx9BQAAAIDH88vb29vv02sA+EQBoRD8x1Ps8VjU8dCF0HjfN2kItkKVnR0rPVV/7zHbe/w5fwAAAAAAj+r9/b358ePH9O46h91DFQBwX60iljFseaHPBn02DQMHAAAAAADHIqAKAE8qjrzWcO44pHsajh36Tz1WAQAAAADAsRjyDwAAAAAAAOBbYcg/AAAAAAAAANwBAVUAAAAAAAAAqHR6QFWPS9H9/cZHTp8j+PZy/8B4U0EA10j11AfVn88PObq2fnWuWUznFq90/dAT+fs+fGyr9dzj9Fls1Q8AAAAAwPfzEj1UfRga51wzKPACfCMp0JOCdJqODvq8ev26x/45m3zoGteN2+J6hXvqO0cAHwAAAAAOxJB/4AWoZ6WCdF5TE+z9dcGTwSbnQxO8Qn96hyO16p2qIHd/Xg9YnIf6AQAAAADI7Q6oarjs0jDZeY+YvCddUFCh/dw7S8tv9bArzQcwhnoG1a9JqndWSccPzHxI/hFD3vP6eU0az3D9yLedprw891IZaF/z47C275o6bT/2eZ2OpZVfmu8sX33fLZbREtukLWvbypadf7a1/TSvdH5t7V9JzfrXHP98mdr8p/WWztU9+Yvbqjh+a+un/Kf1ND9fN+VJ+7e2HymNNC8tDwAAAABYtzugOgxD7H2VGng5zUuCNQhdaGMvOmvZNc5/bix29pOGwvpBQ2MvDdLSfAAj1cLW6kgMilTaO+R9Xj/1vtYzXD863zbdoKDVuL4mS3Sauy0FsRQEc7aPKeiVByUlLueCpe3tteVXu9f6WCrB9tf3l223eh+0/bHM1GlSZaM8edtX761MB9u/sWA39VbE7dDHcyZxrm1Cb+taGjXbr7G2f7W21r/2+F9zfkpN/diTv9Lxqzl/tZ6z9TTfMvBRP1LeY9rTa015Gew5vwEAAADguzogoBp/x9dqVKpnTmwGzhrzsUfM1EjLgyhq1g1q4IVLAzEo+OCUpjXu7PfWfABj0EWBOvVOU3DkXgGRpfp5jWe5flgS+h1fXyMFsRRk620/1ZNQ77uY4CXobYvZMgqCDZ/KxNl+9q2CeXn+LZ3W1rXP43st2odYLrZrtuq4bDsrwyXjqgoEatmxx2YekK/Zfo21/au1Wj56pfxecfzPcGv+4nu9XDl+NeuLermm9fL6Ucs2od/xNQAAAACg7JCAattaA85+BmtgO3uthpx+Ty3LTWr4ad18yKF6c8Wmvc0szQfQxIBj6l3mh/s9jVxVULW/pq4veYbrh4Ki6pWZepcuDfvea9zVcX+VuteQa/UQtSwOg/J5KQu9aseCGz/YyXbpI0CqAGpQYE1D/s1R21/bv1pb5VM6/nvOz1q35q9k7/o17nF+AwAAAMCrOeyhVLEhbg1vZ83JVj2aYku23IjVIoP96IEfKSAUg0I2qUFamg/gs74frA6q7h0TcLlWTc/IuUe/fqSeplqvay2tOwWdlP/5sdSr2vKpoT1peyv3WDatnT/6dEz7Htvf45bje8v5eatb8pfbu36trzq/AQAAAOBZ7e+hapN6KznvxsaferjE17HZHZfZkhrz+T0Rc6X5AD5TUCzVv1gDVT8VgDHePr7m/qElugen0z04p/qpWzPOH8iz5dmuH8pR/tCvs83LVzrd3mFQQO24fGgYue77ObiuyYf3l7Yfj9CJ51dJ8fjP8j8/P8/O/97z76jzV7cBSLd12KLyWDq/VTrqwTq/9y8AAAAAfFeHBVR1nzd1bVJ7S/d3qw2IiO7/pl4xaUjjfNjh1nxtJQ2HVENZDeb5+sCrS/dQjZPTE8cVgBnrXwyWWZ2MdcRehxhQGueV6k9pvlIJnbY3fj542358Ik+dR79+5PM/Jivfa/ZxD5VAZ/kKfjx+mkKrJ7Zfju8RFHjUw6n6WO6XsqvZ/tb5dQ9bx1e5KJ2fe+pHjdL5WbJ3fenC0PhGaYzpPMr5DQAAAADP6pe3t7ffp9cAgG9IgTU9zT89bf6VKSiqwOrRQWkAAAAAwHN5f39vfvz4Mb27zmH3UAUAPKfOt01o1I3zuOHuAAAAAAC8KgKqAPBNBa+HUGkovIbFq2cqPTYBAAAAAChhyD8AAAAAAACAb4Uh/wAAAAAAAABwBwRUAQAAAAAAAKDS7oCqng7dB9807pwnQ5+dPoDnxfXnwusB/X2I90TV1PrHeMBU37mHycu91Z4/aTkf+ukdAAAAAOCR0UMVeAGdUzBtDKQ9UjAt+c5BtXuww9/40DWuGxrnXJwGBfIAAAAAAMDhCKgCT05Pam+7vnE+fATTfNM1TUtA7bto1TtVPRt79XDEsxlsUv0NXqFxvQMAAAAAPLLDAqppyKJ6xwU16mfBHPVQS73nutjoV8NxlK+bpvkQyVL6wHekWtR63/jO6sRw6QHaheHj/bx+5fVPPVu1bprvrN71ffdRx9K66fN5/Uvz8/oa05yGLivYq3U0P72O21F+M/n14ZZhz6Xrw9nXn63816S/Zb7+PP97pLTXjm+yVX6iY57ma1rrjZy2N9/GtcdHU16Ge8+fre3H/2ERg52X83e+f6X9z/dhvu9b9cJm2fKWVrb80mdnnn8AAAAAgJ8dFlAN1qBzoY2946yF2Dj/ucHo+rHnXJys4a7hqanR19n8blCj/rKMtRDjvGQrfeC7KvVMVA0LVl98Vv9avc/qnzrFqW6pznmrZ94PTatgrBKfdKp/tkqqf75T/bvMX+PDOAQ9pj291qQAUKLXnf2keX7Q0PXPAamSr7z+lPJfk/4a5XDr+KVgnIJoNsdej0HRa4OuW8e3WH62yryH9NLtBtK+qCy8tjMF/Evpq+xT+aX1dC6lMtx7/pS2L7GcnfbP22vbXiyecR9r9n/r/En1YqnMetvNdrAarvUmzlleBsubfS5nnn8AAAAAgGWHBVRjz5qpkTYMwxSLGRukeeNXYg+ZGbXxtgIAW+kD31WpHjib1bcK1lwCLEEBnNbqk30e32uEcR9ivYqd21LP1iygmte/+fp7KIXBKn//KX+9XQ+Uqfr0v+r6U5v/UvprSscvBeMU5OsbvR4Da13c4M/7uWbr+JbKL25Py0znzRIVVwqm5sF02Up/LOYxaCwq1cFep3NTKe09f2rODy0SYhB0sOOvT+KvqGb/b/37pa1ofxVE1fLxt21P+6i5tftvi+h3fA0AAAAA2O8u91D11grMnz4dG5cZNWjV6yr1rprPB3AbBW4G9WbLAkB61SoqNAWlvpKyoDBRPiRZvS1j6Oig/J15/anJ/970v/r4bZVfzIHlQ0HCLeolObRWBlngL9lKP6ZqacdelUbbU0Axba+m/EtK54eMmxu3qble3XmHEPNTs/97KMDdKsBtW0sBdstonFez//x9BQAAAIDjnR5QVZNOw0d1Szk1ijXNeyiJGn2apyGdXRto9AEVFFdR38SpC9pPFOdpWwV7xuCK6NWgYMuNQaC4qlI5IIikJAb7yYdLp+vAVo+/WtrXM68/tfnfk/7Rx68kP77aVk355b2Zl2j/B1tPvVTze3/Wpq+PFAzU/UfVyzUNj997/tRuv6S0/3voTHGxort4bPpe2xrPn7PPPwAAAADAsrsEVNUKTD141FR13WV45ZyW0hBHAGWxpijQpCBQFqhSj0C91z0Yne7BmN2zUffL7AcFXG6rZ17Dy6egTqzVVrcVrBFtdun+lar/adhyTjloLf9n3RM5bu3E68+1+b86/ROOX0l+fEvll/bH68AXhpTHGF7wn4KqpfT1vrdzK93KQFMe8Ly2/OeuPT/mrtn/PWLPUtt39c7Ne/kedf7Fcu67q++9CwAAAADf1ekBVTXPemugqhEchyPaFLrYrIvz1QydP4FYD//ou9sayMB3E3ubqQ5l9Sg0nVWxEGtZ5/WE8uEyr9UT91W/xjpYI9VfTXoATh7U0j0bOzem39rroO5+s7R1j0lvuUpDq/Mect5eq9dcSn8+f497XH+28r83/aOOX8na8S2Vn6j3Yz6kXNPaU/61rGU+lokVUjF9zW+DyvaStqajzp+a/Su5Zv/n8vND66jYl/Jv1WrcRzv280D6mecfAAAAAGDZL29vb79PrwHgEwVk1KNQTyhv+vqee3gOj358Y4/nEBrv+yYNYVeot7O86jamnJMAAAAAgFu9v783P378mN5d5y4PpQIA4FqtIr4x7Huhz466hy8AAAAAALcgoAoAeEhx5LqGrGfD1l3oP/VYBQAAAADg3hjyDwAAAAAAAOBbYcg/AAAAAAAAANwBAVUAAAAAAAAAqPQSAdXg28v99eJN946nx6LoPn4+KP3PD0kBnlU6r8dHpt/mHvUPF51rHvo6dGv+9ET/vg8f51LruUfqLR79/Jjj7zcAAACAZ/QSAVUfhsY51wwKDN2ot1YoDXg8qxSM+oqAwRH1D9+bs8mHrnHdeC5xPn0f/P0GAAAA8IwY8l9psMlZgy14Nf31DngczrVNFxSYsl+tzlHgebT6HwL6HwH9OT0U8b3x9xsAAADA0Q4LqGqYYRq2Nx+uqf5yGm6X5nU2jX2SpuGJnX0+zXeus3+7JmiZ1n+smz7XMmneNdSDJW0/78WXhhtqyPPa0MPSkMSt/Tsq/8AanWOts/N7GOxks7pnr6+Vn8NL5+da/SmpPf+30lf90/Ukr4fX9kY76/pUmp/k+3fL9SFf/5ph0Sl9Xd+SmOesjOf7rylfXkrH/9b81ZjnLy8/4fz4vP4t5X/W/tfmv2Tt/EvHXOdrfvz5+w0AAADgbIcEVNWoaq2hoh4g8+GaapAEe+378XNNrd4HNdjHRpE6jbhgr63B4i0x74emHaxBp25Lk84+tzZNXN9aSLac0r/M36LGWGc/aft+0NDSscGYhhvGbU+vNWmdZGtIYs3+ifbL2X5pvvLvPA0yHMOp6qhXqjX0h0HnmM67urqRBJ2fVgeXzs+t+lNrq/7WpB+DIk7XF2+vbfm4el0dsuRPvT6V5ivvLkvfxWtN/fVhXj75tekIneWvGxQ0uuRR+5KUjs+e/KVgl4JkVvIfQasU1FIJ1VxfOT9uPz+0OH+/1/dPtsofAAAAwPd0SEBVjYzOGi3WYpk+uUjBniFc5gU1cFr18hgbPVq16UMMBsXOJ1M6bdYgiz1LrNEk8/W3aInB8td/2r41Hl0cBDh+sEPN/ol68aT90n6Ou3bZP+BWCqD2vc4l9bDSOVlXN3J5/crPz6Pqz1r9rU1f14gQgxiD5U+fxF9Vzr4+leYroJP2XRQwnFu7PiyVzxlsE/odX+eWtp8fn735S8EuBUF7O6bqCRiPV8yQbafi+IiKmPPjNvz95u83AAAAgOvtDqiO7Yo2NjKWqOExDFrqMl+vWi2fNbjOok209pMP6VNvKH12xPa/ev/wvekMi8P9pyCMfrf2+pZh/0vuUX9q0h8vL2Md0z56dXdbCADNxRQsna+8PnlLJn96/dKw4zUxf9qLlfwfQQE99cpLvUPz/Gn7W8fn7PzF9CuOz7j5cRnOj3pxD754/7doEzXXh1t99f4BAAAAeF6H3UM1742SG9slsYkyfmBi82VsyYwfXCmuqlQq1tcig/3kwxk1eQWcKhrcJWfsH1BLPazUk0pDXFPAoYm9/OKMuMweZ9SfvP6eXT+Te16fckpLw5tt9z727doh2XNr+7JH6imqcu9aOxZTUO+W43Nk/s4+Psl3Pz/uuf9xVaVSsb4W4e83AAAAgEe0O6CqJsegXiPqZrMwBK+3BdzQN212zzHdT60f1CCq74mT8xoeOg1xLtES6rFXuueZeujcEoQ6Y/+AWmr3h6G1c/dyD0wNn3YKElQMqS2prT/XyOvvGennvuL6lItXEztIqQegcuC6y/Duknn+FGu75oFLcavx2jbuu4ph6/63qbyS0vHZm7+Ss49P2t/vfH7w93v//qnk1MM7f6AVAAAAgNd2SA/V+ZBRTalRpwZbZ6+DHz7mhVZP5FUDRnPr5D3w9ICK1IsnNsum4YDapj7W63zYpO5/pl5Xaf35fNE95HyjZcbl0vxS+kftH3ALBcp6RQWyc01vWwUJpiDaXlv1p6b+yVr9lZr6ucc9rk9rtBd9N+6v0vZKv/t8vLZoqdApf2O5Dt7yGB/oU0/3nOzcuH+tvQ5x38ft58fvY3J2LLJtbB2fI/K3RemffX397ucHf7/PPb8AAAAAvKZf3t7efp9ePyQ1iPQU3vQUYQDPg/oLfF/UfwAAAACP7P39vfnx48f07jqH3UMVAAAAAAAAAF4dAVUAAAAAAAAAqPTwQ/4BAAAAAAAA4EgM+QcAAAAAAACAOyCgCgAAAAAAAACVTgmodq5pfOjtlZ7xu01L9ME3jeMJwMDRHqV+pXzUXheWeFut74NNfZxaH6Y5j++I/X90tx6fYCumdVyn8rnNo5wfz/j3L+Xjlc9PAAAAADgSPVSBJ5eCISmQ9JXBpLM4m3zoGtcNjXMuToMCUQ+i79zLlfk19hwfH8Z19hzPRz8/AAAAAACvhYAq8MQUTA3BN74fg0iPGkwabHI+NMEr9KV312ltR3vtbX97D8avtHf/H91XH59nPz++2qufnwAAAABwtMMCquqhlXrHLQ3bzOcvDSvUu9TLLtjUtGNAKH2eD4mcD6nM182nfB3gFcUa0LbNMGwHQdbql8zrT6f5sc/fOBx7rT4fMaQ7bdtZXe17TT/nr2Qr/6LtK695PlLe47XE8pTWT/mY5yG/fs3LR5/pWrO2n1v7L1v531s+aX3lL6m5fubLS+n6vaZm+2eb798150etR/77V5q/dX6mdbfOv1L6AAAAAPCKDgmoqrHY2U/qHaf3ufl8P2ho5ucGa7BlXGjj/EHLqxGZNXq3aN1uUKPP0rapGYI1OAdteFoCeE0x/KEAhurcRgAjr1+NAiT+ErCZ93Bt9T4orTFQq95/45KflYK4Sc2Qbq/8+XG5PH8p2KMAkuXMXo9BnRQUK+U/iem4YPO9vbbrhZKfgkLqlKey0fVC+fCWj9auIdOOx3Vd3gNYy03pp32L606vNeXXwK39r83/WvkcobP9S9fPNOXXzq3rd+n4nO0e50fJvHzyYy9b5Zec+fevNH/r/Ey2zj/+/gIAAAD4jnYHVNXkG6wR1YflHj1L84Mav07BGM0dxZ4xUwNMbWFr3tqvS4N3TVzCllMjWpTqYK/binWBV6C6o6BNnOzcX+ohl9evPEjq7N++VTAlr5+Dfa76Z5+rQk1DgBV0Us+9VOeOpF6iCsRInr8U7FGQq7d8qKec3ncK3Ngnpfwniu+EGAQaPu2TaJ5doOJ2Y8e/KR/pGjIPDqVrzRFq879WPkeJxbkQwNMnW9fv0vE52z3Ojy1L5ZMrlV9y1t+/0vxaa+ffUekDAAAAwLPZHVBVu8maV2plTZ98pvlqduVDAtWbKDbFDmh0xa3attWIFqXY2ms1+oDvQvGOFEjq3PKw4iWx/g5a7lJf9KpV/bGZ4z+q4fa6dY2z10o3Lv0AdayU/2TM6riMSsarN+8UICrxlkz+9PilgPWtavN/JgUl1Wsz9e7M909ZOPP6fbba8r31/IjpqyzGBH5ydvmN2V7/+1eav9fZ6QMAAADAozrloVR57xS1qwb70QMv1OhKUxoaeJTOklNjVfd30/BDnvCM70jBoOC7MfCZ9cBbo/qpgOkYChnp1RAjRZegiHr6haFt1A+wVY+/2fyvUpv/Wykt32mI+Biw1jQf0r3H2fmvlXp66rrctXatnoKqysI9rt9n+YryfcS/f2f/feTvLwAAAIDvZndAtbcGoxv6pp3uqaaGVf5ADzXLW2tkXXPPv84SCf3Y4IxNXmuVqhEq6i2W339On/axkToO9dR0ZMADeDbOtVYvFTC69DRcM6+/ovrXD6p/GkRt9Vf1z6vXmT5SXdbrGJaKy3+lUv73iqGx9vLQL11ZXHcZ/p9ovsp9WqPa2fmPud64fs5peR3j5Jbrd+7a7R/t7PJ99L9/pfl71aYfl+u7u91bFwAAAADOtjugqgZfsAaeOqSoh8rgdT/Hz41H3X9NvZ40P03zYbNqhKV5eoBH3ijTPec6N8R5rb0OscEam5pjgzUo7XG4apqOHJYLPKr5cPQ4OdVH1cGxjmzREp3Vp+DH+qUptHpi/bi+5iugqvtA2kz91+j+j7UBVS2Vhjsr0KRqrddH1c9S/vdSLvtuvB4pba/0O6X7Oe0uDI1vdBzGY5H2r7T/Z+dftq6fef4+Jjt/8mt4zfV7S+32n/H8UAqP/PevNH9v+ZfSBwAAAIBX9cvb29vv0+unFHvsWIPOW0NWPXpETdHOGni6DZ61TONnAAC8ktLfPz/Yvyf+feTvLwAAAIBn9v7+3vz48WN6d51T7qF6T+Pt6uKvD/H2ePps2N8DCQCAR1T6+3f238ez0wcAAACAR/X0PVQl+PbTfevUjPN6P/WYAQDgFZX+/p3995G/vwAAAACe1Z4eqi8RUAUAAAAAAACAWt96yD8AAAAAAAAA3AsBVQAAAAAAAACotDugqsdR9ME34yN9b6N7sPV9HyfX9dOnAPY6on7u8UzXB9uMbSN8bCu/LyTqdc7KMug46egDAAAAAPB6HqKHqg9D45xrBgVeAFwlBS1TIPDVgoH3uD44m3zoGteN2+J6BAAAAAAA1jDkH3hiCqaG4Bvfj0FAgoG3adU7VaXZ00MeAAAAAABsOyygmveSCwpKtJ8DOn3nPnrPXTMcNKXrXGfralpOH/iOYi1q22YYhvh+zVb9zOdp6jQ/9tkch9svDbNXfb6mF+zW9uWRrw9b5SMqI5VFfmuCa3sIa5h8Wne+/tb24/B6Oz5pfiqHVAal+Ule/nn6teWbrz8/X+b517TnFhAAAAAAAHy1wwKqwRrULrTW8LaGuBrg/nNjvbOf1HvODxpae2XAQelbGzyl7zulr6Y68H3F0JWCVFY/toJUa/VTNWjew7XV+6C0xkCtem8u1bVSEDf3qNeHFARVENf23F6PQcMUVCyVTxLTccHme3tt+xM3f9nHLTp0bWfb91p/3EbqYVyzfdtcLFsrSNtvKz9vx2yw8hsPXHF+DJrnPZy13Gz/tJ6z9TRf5bt1/OK5mOks/W5QUPayDeUFAAAAAIBndVhANfZKmhrJeRBGTetBjexwCZAEBS+cgjGfG95b8vSD7qnY2vu2fn3gValuKIgVp/7nHoKyWj8VZ7N6NHyqn5f6NcZMx8Bp6ok5rnoJttV41OtDuj+rgqC97ad6Yup9p6CffVIqn8Q+sjQUZBw+lVmNuD0loCDnTM32taoVYCzX2Ll3SqdNAdPCfJVBKjuJPUhn1Ms1rVc6fkticV5xPAEAAAAAeGSn30NVDe/WfvIhn+oNps+mVjmAnRTvSoHAztUPm1cVHAYtdwkA6lWrqKDNHP8ZYn0dWtc4e61049KaudOjXx9K5ZOMRTEuo5L36i67ECCdiynEcr6kn6vd/h7ekun78FH+SwH5NTF/2ouNc0EBW/WqTb1/r0kfAAAAAIBHdHpAVe3swX7y4ayavE01AYclNY144DtSqCr4bgx8Zj0o14xxOdUjq08TvRrGSN74gVFPyTCoR2Jvy7uf5t/q0a8PteWzV+otOnf29pWWbo+gW7amsp8P2b/W0r6knsA6rl1rx5qgKgAAAADgiZ0eUFWzuVWvpOyee3t5Dc/t1WinUQ7MOdc2vXo1DuX60Q+2vC3XZvVT9yPtBwU0NQje6u+ggOc4/H+IdVmvVf/2B/Qe/fpQKp+9VIIqU69uogtD4s/evraqCHTqIascuO4y/L9knj/FYrceyJX2d07bVQ/W+QO/AAAAAAB4RKcHVEX331OvpDSkNB/2GcMe03BfNcTVIF8aFpruD6lJD0DZ24sKeAXz4dpxcnrivAJcY5Bsi5borN4FP3ysH9rucj9Q+62Aqu6TaTP1X6P7mx4VUJVHvj6UyucI8yHxmlJQ8uztqxT7biwvpe2Vfqd069LWUqFT/sbjMnjLY3wi1yg/fh+TnZ/5MgAAAAAAPJtf3t7efp9ePyQ1yPWU6/SUagBIuD4AAAAAAIBbvL+/Nz9+/JjeXecuPVQBAAAAAAAA4BUQUAUAAAAAAACASg8/5B8AAAAAAAAAjsSQfwAAAAAAAAC4AwKqAAAAAAAAAFCJgCoAAAAAAAAAVCKgCgAAAAAAAACVCKgCAAAAAAAAQCUCqgAAAAAAAABQiYAqAAAAAAAAAFQioAoAAAAAAAAAlQioAgAAAAAAAEAlAqoAAAAAAAAAUImAKgAAAAAAAABUIqAKAAAAAAAAAJUIqAIAAAAAAABAJQKqAAAAAAAAAFCJgCoAAAAAAAAAVCKgCgAAAAAAAACVCKgCAAAAAAAAQCUCqgAAAAAAAABQ6SUCqsG3Td/3cXJdP336WFqb+uAbH5Q/vQMAAAAAAADwbD4Cqp1rPoKSmlofpjmPz4ehcc41Q/DTJ9dJwc60751NTWMFcoXeCvCZygwAAAAAAADA9WJAVT08265vnA8xMKnJtwoOXhdUfEYKpobgm27wH/vexp6k3TT3GINNKt/gVaZ6BwAAAAAAAODZ/INXzNB3jVfvyuHSw7KLQ+cvw+fVAzP14MyHrafenc51Nk9T3wT18Gw/9xZdW19iQDcGGy9D9+e9PfP1b+lBukbxzd7y2ncKoI66MDS+se07X9y/lOfG5q/demDt8yRtIy2T719N+c7X16T85NIy3HIAAAAAAAAAuN0/ONc2/dA2zfBzoC9RMLOzn4/eq4O97j4HPL0t4/w49L5RANBfAn4168ego1MPWW+vbXmtngUtXT+uG6e+a47qQdq2Cnbq1WX/Y//RYYjzkk77Z5tM++fHDFo+pn2OeRpfa9I+J1u3JNAW1EPWZ/u31EN2q3w7K5+8h21cxvIDAAAAAAAA4FifHkqlEOC8F6Q+G5xr+nAJgIbQN87FQezjB8ar5+XUw3WIwUi9aqvXD/Y2xCDhoFhm/DdRQDIPEMYemAfJg6ZbYs/SKQ9BAdJW5XPJ/62cbb63dIZP5fNz+mvlmyiGmpfnXCxtbjkAAAAAAAAA7PIpoKowpYaWdzE6p3cKOCps134aUq5h4/psiuptql0/D6Jqy17dQacAorfF+j58rH/kk/wVnPxKKoJBPYSzIKdetcpXRfmKAs7q1ZqC4UeWDwAAAAAAAICLf+h79YZU8G65d6PieoP95A+s0uQVdM3uubpm7/oKKWp4vW6pmtbNh9PvtdjbM/5yq8HWGATV8ivzr6EkWpV/tn29GsZI6/hBhXRbAZVr11pZE1QFAAAAAAAADvcPGk3f9qHpgobb/xyoVFiuVa/H7J6d19i7fgwztu1HcFM5dNkDpPayrDW+1UOwLmnqfqlhsC1ZuSzxXg/IUs4uQUvlT/ejnXJcrbfdcoO2n90T1bbfa/sb97Vdo1IatFMzMbd2jHkoFQAAAAAAAHC7X97e3n7Xi9jrM3syvMJuXXyv4fm6r6dv8ifLj7cUdR/zXLBX0z1GldTg+497om6tL3roVGjDas/TMWtjkFABw14PtPLO1uss7eGntCVPv0RLdTHvU35sI7V5T+bLzctnK381218r36X9z9dPUjqh0UO/Ps8DAAAAAAAAvpP39/fmx48f07vrfARUsWwpoAkAAAAAAADgee0JqH56KBUAAAAAAAAAYB0BVQAAAAAAAACoxJB/AAAAAAAAAN8KQ/4BAAAAAAAA4A4IqAIAAAAAAABApdMDqnpKfh9807jHfEL+EfkLvm36vo+T6/rpU+DrfXX9o34BAAAAAIBXQw/VA/gwNM65ZlDgCLizFLRMQUdNrQ/jzBdA/QIAAAAAAI+EgCrwxBRMDcE3vncx6Jgmgo8AAAAAAADnuFtANe9FF2xq2scK+JTy13fuo/efDxp2rDXKUrrOdbaupsfcfzyneBa2bTMMQ3y/Zuv8zudp6jS/cXGehtsvDbNXfbimF+zW9oX6BQAAAAAAnsXdAqqhc40Lbew91ygA4h8r4LGVPwV7OvtJvf/8YK+764ZUd0q/az7S953SrwsaAWtiqFOBSDu/tu5TunZ+6wyc93Bt9T4orTFQ28bT9OdztRTEzVG/AAAAAADAq7hbQDX2cuvHgM9WkOarrOXP6b1zTR8uAZ4Q+sY5BZM0t06eftA9IVv1oqtfH1ijcyv28NTULz+4afX8tn97Ow+HT+f35fwcY6Zj4FS9VdUrdVz1urpL/QIAAAAAAK/ikICqV1CmDzGYoykfMnwPpe3vyZ8CP6395EOiNSRZn10bVALOoniiemd2caofNq9TeBi03KW3qV61iqTazPGfIZ7vQ+saZ6+Vblx6jLbuQv0CAAAAAADP5pCAahgUzNF9DMchuwrqNONg5LsobX9P/hQzGuzH+fCxviavNIbrhiUnMYilgNEBASkgp7M6+G4MfFb00EwBU4U1E70axkjr+IFRT9YwqEdpb8u7n+bfivoFAAAAAACezd2G/JfEEGff3b13a4ly01qejrznq/camt3aq7qgLnAN59qmV6/ToXx+9YMtb8u12fmt+5H2gwKafaOQpHqrOjtnY/Az1gW91vm7P2B5r/r1qNcXAAAAAADwfB4moBpDH72G+poHG+rru77p2sstAzSl+1TGsM00XFn3l+ycduMyP0n3t9SkB/DEhwgBO81vZxEnF5oQA5TlgKeW6Oy8DX74WD+03cf6KaCq+5zaTP3X6P6mRwVUhfoFAAAAAACeyS9vb2+/T6+/nB56M8SgiR4u8zlg8qwUENJT1PWE8/TQHADHoH4BAAAAAIBbvL+/Nz9+/JjeXecheqimXnavFkwFAAAAAAAA8FoeIqCaHhp174dZAQAAAAAAAMA1HmrIPwAAAAAAAACc7emH/AMAAAAAAADAMyCgCgAAAAAAAACVHiagqqd198E3Pugeqnp3nODbpu/7OLnu6+/R2rnmlP0EHtWZ9VvOTv9sZ+af699nX7H9M4/vER49f3u9+v49ulvLP61nF67xgwWPdn3bi++HAAAAz+Nb9FD1YWicc82gL+Y36u1bbuvD9A54DKnBmRqUmmiMIcf1D3ht37l+HnF9AwAAAG7xMAHVwSZnDYLg9aR/vQNQKzUqvaYmNK57rMb12fX72a8fz55/bHv04/vq59+r79+jo/wBAADwih4ioFoasrXUCy8fAjaf32l+oy/u9dTDY2n9lDdtbyuf+fpLPQTz+a8wLA2PSU3Vwc6xNp5+7UfdyOuLnYof52ia72x+32vqm2BT09b19qlZf6ve7N2+nJ2+rF0fzs6/pG2kZTTlx3M+/5Wuf/FcteXT/qVyzsu4Zv9L2y/lf49bjq8mlXmat3V+lfZf21fvxTwfeW/Grfzdsv00Kf+11sq/tH3Lur23fcnyM/+sVP6l8pnv3zX1v+b8lVv3P+VZZV3azyW2SrH8JM/fkedXspW+pHLQ/HnZ1diq33naabrm3JW1/Ke0t+qP5OvXHjsAAAB8vYcIqJaGbHX2hbwb9KXUfUz2DTTO0xfWYOv5/jKv1fug+ZcvzVv0hd9l6ztLO62f8qbtpdea9AU40evOftI8P9jrrIfgfH6+LnAknVmtV+MwhlbjZzW8nZPOT+e6GoCWxjU6rW9VJq3vO60/1r+aIZlb65fUpL9n/7auD8me9Ln+bVOnNhdsX5QHW9dbObeDAj7j/xAo7X9p+6X871U6vkHbn46vepjbgnEd7W+ydn7VHv8Y1HLB5nt7bdvT6lNQp5Q/2Tq/a/K/pab817avy1w79E2rzyfO2b4Otu/2udTs31r51JbvVvlsnb+yZ//TvsW0p9ea5uf4mpryq7n+7Tm/qtLX/lsZxnRUXjGtyn0slO/W9bVGTf63zo95/mqPHQAAAL7e09xDVd9Dl75A23f/pm/1Zf3yBTnoC3yrXgB1X0znjT/1EqilLQz6Evxp++qJYmna3KX5wNFig9bOW/WOUWByK3iwRL2oFAiRYbAGf2wLXhqEJbFXzVSHrq1/snf9kj37V3N92Ft+Jd/5+qfsWQKxXGPnsqmcWyvk0v6Xtl/K/9nG02Ssu6Ktjj3MP587a+dX7fFXGYYYxBlsfX0Sf1Vb235t/tfUlv/a9tP2FARM+VFwUGnYHJvqrJVPbflu1X+lvXr+6u2O/d9LWymVX831Yc/5VZN+/vdBs+2MUwHG91tqy9cW0e/4+lp7/j4s5Q8AAADP45CAqrcvh701GPRFUtN8yFZpfom+sKpXSBoylQ+J0hfTQb0psi/wetXqW33FF26Z5++aIVfahJoh+ZAxDSmLTRObGfOn12MrAziF6kjs/WJ1JP6Lw+y5PhyB69+60v6Xtq/5W/k/W8yV5S3VWW1RAS0FXWqU9j8ZkxuX0dH14/91ie/3GJPdl/+95a8AZ6sAp62TAqCW0Diz0lr51JbvrY7Y/71K5Vdzfdhzfp15fa0p363ra429188zr48AAAA41yEBVfs+ag2qy5CpLjauLl8qS/NrpICRhhR2rR66M64/tmv0ZXT8cix6NcRvquUvqVpWw4t1y6+Uv2uGXGkTg/3ogQtp/ZTPtQZFbe8d4FrqfdOp940atF9kbyPxkRqZqql7rg9H4fq37Jb9z7d/S/7PoCJXMEb3V9Tw49oe5rfs/xn25H9v+asmONuurWhloXyoBK77frHm7PI9Yv/32io/vTrz+nd2+rXlu3Z9LTkj/3w/BAAAeB5PM+Q/URNGQ9QS3QPM6R5g2T2pdD/GftAX5vKX4vjV1b7Aph41+irsup+DUZqfhsXltIXW8pPfEys3z5++a+cPbACOpP950fSh8bpxn52r8ayO5+7YyFNvmiPvD7lE294T1Ni7/pFiba+4PtyLcsH176K0/6Xtl/KfqFzUg+3a0RUlMd0YiLntHop7j/9eu/NvU035l8SegbZt9Y49cvj02eV71P6v1c9aa+VXe3241S3pq/xDr/IvH+dry1e5yK+vJXvL5+zrIwAAAM715QFVfSFNw7H0RVJfKOOX+6mHQD7/Y3LBGm3jF1B9je1sveCHj/mh1RNvNT/2c9tMX797+wKsRqA+91q/i1+r4/ykC0PjGw3rGod25T0YdH8s9WrQ52n66EFmU+iUv3G7g7f5U96BM6iXqlevKjeeZ6nXqs6/1l6H2GD7fH7vleqPJj1gIwVVSvUvWVu/pDb9W9VeH27F9W+f0v7XbH8r/0l8Z5+rPBVAqVVT/m3Qtu0YTNte2v6a0v6XlPJXsjf/UlP+JXZZG9Owfc8DnXv3b2/51jhi/7fqZ4218tOrPde/mvO/Jv00X9O1f1+2yjdf/2PKrq8le8tHS/H9EAAA4Hn98vb29vv0GgCuogapnoKdnmJ9rb3rA/eiB78NMWij8/QSsNkj9hgP6lFu6U097hQq6qwujJt57Drx7PkHAAAA8L29v783P378mN5d5+mG/AMAcC/poTNHB1Nl7Owaf33QZ8/yoJpnzz8AAAAA3IoeqgBuplAKPVSB26nnq4YrJwpDer2/00OJ9nr2/AMAAAD4vvb0UCWgCgAAAAAAAOBbYcg/AAAAAAAAANwBAVUAAAAAAAAAqERAFcBLSA8P6vs+Tvl9HXWv1j74xgc9UEjvnsuz5x8AAAAAgFdCQBXA03M2+dA1rhsa51ychuDHmU+g79ynADAAAAAAAHhcBFQBPL1WvVPVc7NXD86f6cnjzocmeIVe9e65PHv+AQAAAAB4JQRUgSeWhoI3rhs/MJ1Tb83L0PC0TBoKrylfXtRDMs2bDysPvo29J/VvWuba3pTKU1p3vv48f51NY5/Tyzxn+e17TX0TNL+t732a59t1SvuzpfLRpDJK87bKt6Z88vLN9y+to/TX8nlt/o8uPwAAAAAA8BkBVeDFdb5tukFBtXEovKamvwQIFezr7CfN84OGzn8OCMagngs239trW17xuMqgnAKQbdfHHpZpG2k4vgJ+wV77/pK3Vu+D8jcGLMVbIs6Pw/ktA/Z6XD8FGxXgtDU/goZ5UNGHcb21WwAE7f9UPl7pDyGuk5dRyVb5aJ7L9s9Zumn/Ut60rfRak45JspX/veUHAAAAAACuR0AV+AYUR0sBxpw+GWxmHy4B1KDgpIuDzMcPjOKLIQbhhmaII87rh50riNcpgeHnXq2ubZq+VbAw3/5gn6sX5WX7Xj0zp/UHy4CG+OcBSQUxe8uTemLG7cUdVlB125jMGJQV7dVgr9txA9W2ymcenE3bOsLe8gMAAAAAANcjoAq8OAX01Gsx9d7Mh40rsNbaTz5kXL099dkUdYvyIKHW9hoCvxAgnRvjdm0M4i3RJoZBS13m61Wr5bPtnyVu1bYVe24abbG112v5XbNVPt4S7fvwUb5Lw/Zv9dXlBwAAAADAd0RAFfgGUk9ODWnv2vAR1FPcbbCffDh+Wq4mYFprrcfnGPeLIcDxAxPDg2OkcPzgDjTCXsFO3V9Uw//Xbg9wLe2L7zQEf+ypqykfzr/Xo5QfAAAAAADfCQFV4InFkNlw6WGp3pDz+5/mtLyGtCd61arX5En31Ezb88rYwi0HelvADXqI02X7XefscwV0j+vJuUY56mOg83IP2TzgeW35zmmv1VM09XhVKq67DP9PNN9p/H4WGK1xVPnFcui7T/eeBQAAAAAAywioAk9O9zzt3BB7WLb2OsQnzI8BPIXnfnqCvQtNH5+aNNL9NdVrNV/myGHp81sOaEpPwVcuO3sd/Jh/TaHVE++Vv3Ef9sj3X9tMPVHT/ul3G7Tvl7zl82WrfEuUSt9Z2gpy2vreptBp3c/r6x6zvlE+xuOQtl/K/9nlBwAAAAAAfvbL29vb79NrAPhWYo/TEBrv+ybd4kD9M7u+a3Qb1Mb+BQAAAAAAr+f9/b358ePH9O469FAF8G2Nt3aNvz7E24/qM+5BCgAAAAAAFtBDFcC3Fnz7cQsCURjV6/2BD+UCAAAAAACPZU8PVQKqAAAAAAAAAL4VhvwDAAAAAAAAwB0QUAUAAAAAAACASgRUT6bH3fTBN+Mjw4Gvkc5DH/rpHXA/X33+PdL537lmMx9L8/fmf+/6z6RUvo8kHZdX+n7wTOUPAAAA7EFAFXgBasT2ff8x5Q9Zwvl6OwBnlvmZ6aegTjp3Opuaxk6oK5y9/9hG+QPrzqwfSpu/vQAAAN8TAVXgycWn1Hd946wh55yLk2/VqLsExfTkes0PXp/pHTAGU0PwTTf4j3OnjT0Z1WPuuB5mX33+Pfv5vzf/z77/wKNy+ts7XTs7m4K3+sWIJAAAgG/h9ICqtzZ56IO1zf30yfJnX6U2f3kvhPlwthjQio3VdrWXgpZOvcCCTXna+TxN8x5i8/ma5l/Yt/KH16VztfFd43W+DZdzrrNGnp0V8XV+Xqrxl1s615c+u/X8stUse7bedP46O2/7vvtUB5TS1vlfU7/2nP9b20/z8voW92naRsqT5i+Vc1o/7bfmLe37renvpfhab3npu2z7YWh8Y+XrfDH/Nfkr5bum/Ne2X+Pa7WvS/lwjP/+Wevjm85fysDV/K/97y99m/VTXlz7bU79qrJVf7fEvlW+Jrf6xvqat68vR56ekdNbWv7X8U7o6PxLta55Gvu005ctLafu3ln8pf2n+reVbUz/m+79Uf2vFVG39tv1cPgAAAHhNpwdU+8G+sA72BdNdvqA6Z19sB/vCaZ9/tZr8qbHQ2U/qheAHe919bnDFL+tOPQS9vbbl9X0/+9IfLA0X2rj+oPTUiLAv7frarR5ivh/T1jTvIdZZ2nkPMk2WqThPavKH11RTl3wY4nkxxHPus6PO/y0K2unc1znrLS3vB9umAjZjg7l0/stW/dqTv9rtr0llG/dteq1Jecp19l4xg7is0h93YJy5oTb9W6nhH+MHU/BdYv/FwY5RFhRYy39N/tLnS+dfbfnrvHF23mi+tu/8z2mt2dq+lK6vJTo3XZZ/F8vikv/5+Tk/dqX5W/nfW/73qP8lpfKTreNfKr8SLT7v4Z+X1d781Vj7fiBnl//e7xd7y7/GWddPpbDn+j9nRWl/p7ydP8cdHwAAADyu0wOqapwP1mJXI01fUONv+9IaYg+E2HT/UqX86Wv3oC/g2RdkzXNOa14aDvZd3b7n60v+oFhE/DcXe0RMjRQFMKzJar+sAaUv4K0acHn6tt1W8y/pWxb0O77O1eYPr09H+9pePDpLjjj/t6huWAJWLwbLl72eetIqYFd7/q/Vr735q93+Xnn9PyP9W9X2pDor/7Xlr17O6bzReTRmuy7vNdaurzUUqEllI6p/iVKcn5+50vyzqZacXf9LtsovWTv+R5SfgmjqlZ3Sn9uTv1qr3w/s/dnlL7YJ/Y6vc6XtL80/w1dff0oUoNV5oZ61Y1K2PgAAAF7eIQHV+H/l+xC/UGqaD5nSF9RWX1DVAJq+wMZWw0FK29+TPzWM1MzMh4TpS3Nseo6tpigP8mhNr+4UKw20nJIY1BtoWlf0qlWCU/pq0KnXRAqWxcbFpDZ/eH3xrLbzTvdxG9/VOeL8v5WSKJ3/sla/9uavdvuvSsGfr/QI5b91fa0x//syvz5b6trJ6ZPPSvPv4Svrv2yVX8ne8ot7YIls1YM9+dvrLuW/4/uF5n/1+btHzP8B1x+VWerhGtpw13MEAAAAX+eQgKp9H7cvkpchY/OAjl45+yJuM+N31L7XF9XjvnCWtr8nf/pePdhPPhxQk1caFQHTkvF7u/1So2SiV8P4TX/8wKjRk7bbZV/Yz84fHlvfqzeNTiKd07d5hvN/zd787d3+LWLS2spJ6V9jqTddPJOs/NaCTEfmX0ncu/yXrF1fS5RXDT+20+/j3CsNeS71Cq7tNXyUr6z/t5RfyS3lt7bOGfm7xtnlnxz5/eLs81fJP/L1R0HnsQguaQIAAOA1nT7kP4k9H+xLuIYTLg0PUxNFPST2PBBgj7X8KTet5l15T7Qtuh9Y6McGie5h53QPuyx9ze8HzR8bNTl9xdcQzeSM/OF56H8WtH34dM+9W9zz/M9de/7P7c1fafuqb2pYq2xEvdWW7l+o4GMaNl3ivaU/Ba2OSl9r33L91OK+1f5fhjTH65P2386rJXn+k2v2P7f3+B9NxyO/vpbEvW0vPRxV8i57wNd8/2zX7HVWvwrza91a/sne+q/9vuX8K5Vfyd7y01Z1vL0q3kK+9+bvFrH+pe8H9n7P9S3mOp4b476tXV+SVB5JaftHlP81+ZOl60/JWv04+vqj1FVW4+kSfwEAAOCF/fL29vb79PpU+qKpm/8HPT86fnn9+cumen4MrrMvzPaF+sDeFzW28pfm2bfu8QOjDhypp4oeWqFhXks9V0rril511hgdX9nytumUh6X18/lSsw28tnisNQx+oqZgZ+9bezU/N2R+fuw5/7dokcFbHixNJaF6ooeuKD09CEQPf1Eqa+d/fL9Rv2Tv+V/avhr5PgaZVJraH1u20/5onXGZeR7S9mvytif9JO1Db6903G1u/LzG1v7X5F+u2X/J06jZfnqomWi1dE6l8llT2v7S/PnxL1F+Pnr02dQrIOTtHJ+OX358lbaGVw/2Ny5tY2t+a/NL5Sfz/bim/CUtt6f+6/0tf7+VzFr5pf3fOv6l8q2ha0weCFSPzfRgqr3521JTtrXlv2br+rJ0fs3P/9L295b/tfm7Zt+T+T7kaej31vV/y1LZ5OcOAAAAHt/7+3vz48eP6d117hZQraFGjb6IXxsQAIBHlBrcecDlmTx7/nE//P3G0bj+AAAA4Gx7Aqp3G/K/RT0U9NAHGmMAADwP/n4DAAAA+I4eIqCqIVZ6aNS1TycHAABfh7/fAAAAAL6jhxryDwAAAAAAAABne/oh/wAAAAAAAADwDAioAgAAAAAAAEAlAqrAN6CnJffBNz7oHod6BwAAAAAAgFsQUAVeQN+5pvVhegcAAAAAAICzEFAFvoHBJudDE7yexK13AAAAAAAAuAVP+QeeWPDtYs/Urh97rUq+TP656OXg+sa3Nr/1TWcLdJ1Crq7xWmcY14vrOJthwqA0vb0aA7O6gUAI9t7WT9y4oekdAAAAAADAY9nzlH8CqsALUMDTD74ZFNhcocBqaMNPAVUFPzX1rm8G1zWderJ29nloY1BUy9unH+vN3y+lCwAAAAAA8Mj2BFQZ8g98c+px2vShGYahic+smnqltm3bKEQ6OGezx88k2ELOxZsIjB8YW0S/42sAAAAAAIBXRkAVwKq21ZD+tumDb/q+j5MPffwszjQ+DE0b53dxfhzuDwAAAAAA8KIIqAJYNQy6U+oQH2jlnPuYvLqkTj1ZRUHV9HnX2rIEVQEAAAAAwIsioAq8AA3Xd049Rsdeo0dRWLRVr9P4EKoy3QhgsOXndDMA9WDt4jxuDQAAAAAAAJ4XAVXgBXRhaHwTmr7XdBl2r/BqGq6vJ/3ruVHXDsv3tqx6nWq9NC2l/zE5PaCqLgALAAAAAADwbHjKPwAAAAAAAIBvhaf8AwAAAAAAAMAdEFAFAAAAAAAAgEoEVAEAAAAAAACgEgFVAAAAAAAAAKhEQBUAAAAAAAAAKhFQfRCtTX3wjQ/99A7YL51XjevGD76pV6pfnWvuvh+vVH4AAAAAAOx1ekC1t9a/69QI/2ztcwDXScGuvu8/ptaHcSZwB7qec84BAAAAAL6L8wOqfd84p1fxVzS+dXEeRoNNzocmeJWO3gFlCqYG9RzsnVWpyzSoVyo+UL/2ofwAAAAAALi4Q0BVAVT9ugRU29Y+VyjoAQKq3rIR+mCZugSglj5TD6zU+28+7DXYCuqdpX/TMnlvLS0570GYD8HO11vqtTtfv9P6U4A6zXOWXt9r6i3vNj/LO15XPAutQg3DdpArP4fm58fW+aVzc62HeU2PxKW6tPTZq9evfP9uST9f/5ae/Wvlq2PR27HIy1PLzs+BtW2neSrvUjkDAAAAAPAqzg+oxl/WwM4Cqs6p4R1DCeMHX6gfmqYd+qad52+w/NnnEgMM9pN6//nBXnefg0kxmOCCzff22pZXPGQKinQ2rxsUNLn0ILRE4zzxYYifLfUqVCnNeyC2eh+0/hgUEW95dH5MxzJgr68L+OA5pfqlc1RBrTVB50dofzo/SueXArX6HyD5uZaUgrhC/Rrz7vIexJa3a9Kfl0881lfYKl8rGtuc/yhPy2ozWBl3McA6Hp+t8kvzVN7ptaZr8wgAAAAAwDO5y0OpYo+l2L52MYSg4Ers1fQAFBIaYv5izj7yF2IvriH20RqU33AJ8Giec1rzEjRIgQmtM8aZ4q8Paf+vpWz1rYIZ+fYtX63lzz5PvHqEDeMyW0EwvB71BlQAK046lxd6B8bPpiBjfn6Uzq/8XFZgUD0Zx1Xrzi2t+d3rlwKNqexl6dq3lv5S+Vxjaf15+Sp7TeiarvOWD/tXi055AQAAAAAAPzskoKpeTRo2qkCBpny4qOitNentl/sIYMQPD1Lafmm+AiitAigKYMzyp8CGwkD5kGANmY2hoSyolAd5tKZXb8EpKKGAinq9pSG91wyH1SYG9ebLAkh61WqD2fbxvemUUs/ALk4/D5tfUzq/xn/s/LWfweqFs9dKNy49nvRF371+za8/V+dPZVFZ1nO15dtZGbom2I+Cy5fgLwAAAAAA+NkhAVVrizcaipuGeyqoM4Y9RvGVAglxvjXuDx7uX9p+Tf6c5c9mxhhDnj/FMQb70QNZ0vqavNK4ohdXGg6r9brW0qoMqoxxHfulAMhEr4YYadHnwIXOquC7MfCZ9bBcU3t+KRAaBvWY7G15d9X5953rl9Ly6vlpu5L2be9w+FZ5q1Rbvum2CUu3WwAAAAAAAJ/dZci/xJ5R1oZv48NXfg52KMSgHmbz3qP3EnuOOReHI+fDY5WbVvOuuGfiFoVoNAS6lu5B6XQPymz7nYZ2DwqI1KeD72N+j9ItpfNL56t6azqrvDE4F+uCXsewY1y+xnetXzH02V4eGqYrm+vqe4DO86dYbM3DwJKa8lWag6XZa7h/19t7W2vjfrxLtH/ptg5LtN9feX0HAAAAAOBIdwyoqqndN/3YRW369CJ+Yp+nAMS9aYS0erb1rYYSf86f7m8Y51n+0lTbA057kg+3jZNT8GIMcOTzFShRcCNPX2EYPSAm+OFj/WB5TPeTxPc2H04eJzu/as+P0vml+Qqo6j6cNlP/Nbr/5rUB1e9av7QVBSrT/W290u+Ubl3aWip0yt+Y78FbHqd9q7VVvioPvVYgVbnN82sziuWX6JYBvtE2xu3UHj8AAAAAAJ7RL29vb79Pr7+cHnqjnlJd7B1FgxwAAAAAAADA8d7f35sfP35M765ztx6qW1IvO4KpAAAAAAAAAB7ZQ/VQBQAAAAAAAICzPX0PVQAAAAAAAAB4BgRUAQAAAAAAAKASAVUAAAAAAAAAqERA9SCtTX3wjQ96oJbeAY/jK8/P4Num7/s4uY4Hzn1HX319/Ort5zrXbOZjaf7e/O9d/5mUyveRpONiF8bxgxfwTOUPAAAA7EFA9UH01gppfZjeAddRIzYFLTU90rnkw9A455pBgYMXdXb9PTP9FNRJ505nU9PYCXUFrl9fi/IH1p1ZP5T2o/7tBQAAwLkIqB5ksMnZF+ngFYjQO+A+1AO07fp4/ilwqcm3atRdgmKcn1iiYGoIvukG/3HutLEno3rMHdfD7KvPv2c///fm/9n3H3hUGnWRrp2dTcFb/XqhHscAAABY98vb29vv0+tT6f/i518yg33nDF491h6jcbeWv9byp4CDC60WivO06OD7j/zHgJY1VuO8fkprJk8/3/d83dxaOkDOTh87N0Pj7XxshuWeMVvn59L6S5+tnb/XUD5CG66qH6Kwnuqg7UR8L/HWAVN9LM0vma9va1od17r9x7y1+j+utl5/0/qdrd/F1V3cK691rGz3pr9XTMISS/sreZ5ay9NW/muuX6XrY9reVvmvbb/GtduXa84fiWlO52+e/ySfL/NzfGv+Vv73lr/Nulv935Knb1u9+vjn68u1eRxX15ZH6lWf96jfm781aX1v68dAnJ2Dpf27Zt9S+lvfX9IyW+d/afu3ln8pf+n7163lW1M/5vufH99bKF0/2HFUmgAAAHh47+/vzY8fP6Z317lLD1V9wezsJ/1f/PRF9lHszV9pSPM8fT/Y6278kp/WtYU+Xmt6tDLCY3KubfrBmoTDeuNv6/zsrXXa2rqtzsHJPM2t8/cIpfQ7axTnPSg1qb4kpflbUmPa95d1r+mhWVt/O3uvNnpcVul3OhbHpX+rttX9bfXqcv7EEMgwxHnJWv5r8pc+Xzr/asvfa/t+2pbNdzFYU2dr+7Ln/BEFbVyWfxfL4pL/+fk9P3al+Vv531v+j1D/S+UnW8e/VH4lWnzewz8vq735qxG0frDtaNvan7j9cT/OLv/S+V/a/t7yr3HW9VMp7Ln+z1lRNr1TMPW44wMAAIDHdXpAVV9bB32BfdAvmGfnbyn9EDRETGGL8Us9cASdTb01HHUft6AoWdbjaI3OwsGWVRBFDcj4285XnaOae/b5W5u+LaLf8fWS0vw12u2+VQAl377td6vyuz69NXmPrzPSv1UeNN1yVv5ry99r+1OPtCEGe/WqLu81bj1/RIGaVDai+pcoxa2/L6X5Z/vq+i9b5ZesHf8jyk9BtE55WOnxuCd/tfL6peRb/Q8OS+Qe5S+2Cf2Or3Ol7S/NP8NXX39KFKDVeaGHcY1J2foAAAB4eYcEVOP/le9D/EKpKX+oiRoWcVCZNTLOsrV9+cr8KX01U/OHvuhLd2y6jq0u4BDxrHZdo/u4XdOgUwOyVQPSzsnUwLQTNc47+/ytSV8BDfUaSsHi2LjOlOZv0SYG9caLoaWRXrW6Hhywf49OwZ+v9Ajlv+f8kfnfl3z9uH86l1fKuTT/Hr6y/stW+ZXsLb+4B5bIVj3Yk7+97lL+G+d/afua/9Xn7x4x/wdcf1RmqYerbmtzz3MEAAAAX+eQgKp9H7cvkpchY6WATm2vqFql7X9l/vS9fLCffDihJq88VNwDDNjS9+pNo8afzunbqCY4ayjbiRnbkH2v83+sH2efv7Xpq9GfPu8WGqyl+WvGdrP9UlBgolfD2NIePzhYTPpBghBLvenimWTluBZkOjL/SuLe5b/k1vNHedXwY92mMZ27pSHPpb8vR/99LNGeflX9v6X8Sm4pv7V1zsjfNc4u/2Tt/L9l+2efv0r+ka8/CjqPRXBJEwAAAK/p9CH/ukeb0z3apnuKqS2y9JAANVHUQ2Leu/RspfzFr9T2xVqNCFFvlWvuX6a9aW2fSvdUU/AiDbsEaul/FrR9+HTPvVvEnkl2jmu4bz58s/b8vdW16as+aojymtL8uXn9F92vrx+sLO3z2vp/Tf313tKfglZHpa+1b7l+anHfav8vQ5q1/0H7b+fVkjz/ya3Xr1L539u150/c2/bSw1El78an50Slvy+1fx9L9v792Fv/td+3nH+l8ivZW37aqo63V8VbyPfe/N0i1r/etjSE3dffmOt4boz7Vvr+ksojKW3/iPK/Jn+ydP0pWasfR19/lLrKajxd4i8AAAC8sLs85V9fkn1spLVjACjYF0770r30pNjBddVPcD1KKX/5fH3FHhR86PQE7s4+GZ9Ca9/Ibc6FOnikniz6kj1fJp8v82Xm84Et8VzRUzsmOk/1pGKdsaXzU9L5Fxqd11r2Ui9rzt81S+tKbf1Ymqc6mvJYml9Dueh6ld2Yn/n6W/U/LTPPx1b+52W3J/0k7UNvr659QvXW/tfkX67Zf8nTqNn+1lPKt5S2vzT/2vNH+fno0WdTr4CQdx/H75q/L/P5NX9fZL4f15S/pOX21H+9v+Xvt5JZK7+0/1vHv1S+NeZPg1ePzfRgqr3521JTtrXlv2br+rJ0fs3P/9L295b/tfm7Zt+T+T7kaej31vV/y1LZ5OcOAAAAHt+ep/zfJaA6p++xSw0ONWr0RfzagMDR1vIHANdIDe484PJMnj3/uJ9H+fuN18H1BwAAAGfbE1A9fch/DfVQ0EMfaIwBAPA8+PsNAAAA4Dt6iICqhljpoVHXPp0cAAB8Hf5+AwAAAPiOvmTIPwAAAAAAAAB8lacf8g8AAAAAAAAAz4CAKgAAAAAAAABUIqAKfAN6WnIffOOD7nGod49JD7jxIdirx83jo+ucyvDzcX6W4w98taX6g9sFu6j3fR8n133NPXa5/gEAAOAMBFSBF9B3rmm9ApHPS4+08aFrgp5y02jCqzjr/FxLV0GcPHiTnkS/FmhOAR9N+TJpvTwtnaeh72wRH98rD/n6mtLyNeuLgnj5+keWVR7Qmqdf2v/SfJkv09k07mXd+q9g7fjV7H/N+TOfH2yqOf+S0vm1Vj9E6+45Zt6u5865ZrByAAAAAF4JAVXgG1B40lkjOngFOh4zWNlZy90Htey76RMc5RmO/y2GYWjathzoca5tuqAwn/1qVQafpaCP12TLOC08UWn51n5nAdCcgldaV+dtSkdBrqS0vgKerdKw46N1Yz5abf/nfN5K8bWUtqZ5cGtr/2Vtvko+WFrd4D/Sbu29/sdIHoArpf/MFo9f8zlgvrX/W+ePvbX3Y9nm85WOHcS4TOn8q8lfqX48O9XBV7z+AQAA4GsRUAWeWOp9Zq3qj9ea8h5Ka59L7H1kn6VeVM7S6a1hnveAkrwXVKmHmibl5xqWxaZ3vhnicP+fKZ95+nkPq/n28x5yEgMKsTF9KYd8/dJ8uXX/07xUrpo3L9ut/NesL3n+5sd46/jfkr801RzjtG0tu5aPrf3fQ8FWUfqtgkx6b2nr9RqtMWgZrRTXnD6z83JrvS1b61uRqAI2XufbFCCTLpbPpYzuZWn/c/P5ik/1dq703eVc6MIQg4aN1ee5Uvq3ys//o+vPFm2l9T5eQz8dP0VCs/fJWfu/piZ/ykVt/ThDOkZLx0/m89OUrj+l+V95/QMAAMBrI6AKPLHUI6mxxmB6Pe+hlD5fG3KpoIibeoZ6W8/7oWnV2B5b/TGtzn5S2n6w11kPq84arHkPNU1K6xrqIdX3sek6fpDRrsx7WKV90RrqIef7y7aXesjFRrXT+t5e2/5o9azRvDX/iP1X71u1v+M85W/cQHX+dVycHZe0vvOXvM/zlx97KR1/2Uo/KP1p/1LPOKVZc4xL52ft/q9JQVPRMUyB8LzXqp1aTa9ed30fl9e5tpa2cqUAVN/H0Ff8TBQ/Ub0Yl7je2vrxvB8sL8PP5/1XWNv/ZD5f5ax9sz3UryiuZeW81HO4lP4tdNxddv64eK4dV3+2aBd7bWcshKIz9n9LTf6uqR9H01ZK9b90/SnNT9edr7j+AQAA4LURUAW+ObUNmz7ExnTsfKlgqlFAxJqPzWCNyD7rORpsIee0kuaO1M7M318jNt8tgTw4llNDdq3HVwoG5D1bdQ9W19qOZENXtXqIjeRBsZ74b25t/lH7H3tGpQBAlr/a/Oc9zFROY6xq+fjcYi398R8FzWy+0V6PPezinN1q93+LshJzqvKMq4x5S+dTHqzXbiylnXqxqXecAt/z4Iv2vrU8Khh2i5r1laOtXpR7KEaYetbFYznrXVfa/7X5tedBKf095sGtuH8zZ9WflE7Jmfu/pSZ/NfXjLKX6P2Z/LDuZX39K82t91fUPAAAAz42AKoBVajeqWZkPedSQ9zGANTYqFdBQr6IUDLpmyGwuBcByqUG7NE+UhUE9/KYAqOhVq+WzRu+4+riMcufHqEZ8L2vzz97/2vyviesrLyvls1dM1dKOPbeMcrQV/L7W3v1PFJgJjWucjmkWDEr51XER/W7t9XxYc+rFpsBc2te5GOiJgfT6fOVK6ytvGnrcxe3Xn0M1dEpqv9I0711X2v+1+bXnQU353spbceYPbrq6/p1Yf5Iz938PnYk19eMspfofP7XXqcxSftN5V5q/19npAwAA4LkRUAWwSu3GwX7y4faa8oeiSAoY6POutWVvCKpu9fpZm6f8tXrgT2zqjvRqGFvq4wc7nLH/MWvKpSV+Rv7P6D2Vejiq56SGvx7Vw27v/qf1tc8aRq3eYzoOaX0FWpvWNRrGnQJudnBsmTgjppFT7+NOQU8F1Gd0RL2G5i/cG7TG0vrKs4sPrBoDNl9ta/9lPl+BpfF0u5Rl3BMdg4XjV0r/Wtqqbp+hOz2kunnNkP0l19SfeDrpyNp2axy9/yWl/F1bP46W6m++Lb2a1//S9ees61NydvoAAAB4TgRUgReg4MUZjWBrXsceS/k95baoCayg1jXSOkuBjDTPqxvaGKr5RLcidIOtm+VP9yvtB1v2gPtSnrH/3it4of3pd+d/vr4a/vMHau2hEu9joGrsWXdrwGrt/Dzi+MUUtb6Vu4o+v1epTqkwtLbt8R6ImnSP3LUgZtCqfYjHaJ5XUUBs3I/bzNfX9lrbXhcDNOvlqjnqAa0h41vL7VXc/9n8WN6tjt8lQKjjF3T8bLm5tfT17pb9iynYQU7BW63psgdkleytP/EMtTzrPpu2YvxMdF/l/H1SKt+jlfJ3bf04Wqn+Kwdb15/S/L3OTh8AAADPjYAq8ALSk7XT0NfUQ1JN9jRcXYECtQXz+TV0fzn1utR6aVpK/2Nytmx86FK92FNPPbcWginq/ZkPqdeUgh5ao7PXwQ8f80KrJ8pr+5q73xH7n/cA0wNwUqN8b/61ROi0/nhcB29pZNvee/y1lO79mZf9Nesna+fn7v23RTQwOPb4jf/a+/ih3tvZpACIojZZWnrbKohj85Yo6OkVUFroiRoDQLq/Y3aepmNrO2X5Hu+3uFY+S+trWT1IKZWxgopWG8adm8TU7PO4Vwv/46EkHfc0bQUNt/Zf8vnKVxf3u/74LaV/6/5pvb4b65O27bX9Tttd3vacltqqPzXisVYdy64DVtMs8eUynu//NefPktL6W/mrrR+Kv+a3VdBtT2ypceYGLbF1/dFWt+p/3MrG9ac0v7T9klL6AAAA+N5+eXt7+316DQBfRoEB/2LDKdWg11OsXVBE4j7DfI+kQIoL6lHXfwSIFGbpbF+cducJ9+lZKVg2xKBQLPjxwxfy6vuH65WuP36wf0+8PnH9AwAAeH3v7+/Njx8/pnfXoYcqgIfQdX3sqTS2VPEIxs6C8dcHfZbuAYvzKaij3oGvGmx89f3D7UrXn7OvT2enDwAAgOdGD1UAD0PBlSYOwVVg5fkbrNqdZ+6hKuo5mA8R11Hxej/12AKAs5SuP2dfn7j+AQAAvLY9PVQJqAIAAAAAAAD4VhjyDwAAAAAAAAB3QEAVAAAAAAAAACoRUAWenO7x1vd9nFx3/we67N1+us9o077O0/0BAAAAAMDrIqAKPDkfhsY51wwKSn6BvdvXQz6GEJouru/iZwAAAAAAAI+KgCqAL6eOra2eht8955PwAQAAAADA90FAFfgG+s59DMv3QcPyNdC+abz9E/rwabj90mdr69fQkn3wH+tratzPgdMQhsY7RVa/pqctAAAAAABADQKqwItTMLSzHw3L1+QHe92Fcd7QNO3QN619njjX2udt09jnsrV+jc63TTf4j/U1WaLT3IsYpu0/5wUAAAAAAODREFAFXphCk4NzTR8uAdAQ+sY53bnUjfcv7fVe/Ujb2JtUAU0to7ubltavNcZIy8sPg+7HOuYFAAAAAADgERFQBV5Y245h0nzIvYbsx9CpZhoNtW/b2D+0USyzb539Gnun1qxfoodW6f6ofd/F9Z1umLpCAVUAAAAAAIBHRkAVeGGKTw7qaepDkw+59+oyOkzD/m1yCqDaZ4qR9r0CpWPQs2b9GgqqpvW61tJaCaq2loExpkpgFQAAAAAAPCYCqsALU9hS9yV1fvtBT7HnqHNxuH8+vL92/VoKk+oWA2vGgOrPwVTdLEA9XLu4bvnWAQAAAAAAAGf55e3t7ffpNYAno76kIXh78TngqQ6gepiULC2Tz5e0TGhsisHTS1Bza/3S9pfmB0t6vg1RbnzfNd7b57Per5rX6ZYB9qpzeqCVAqsAAAAAAAC3eX9/b378+DG9uw4BVQAPIfi2CW34FOgFAAAAAAA4w56AKkP+AXw5xVAHr2Cqep8CAAAAAAA8LgKqAL6UbgvQet90XsP8GcoPAAAAAAAeG0P+AQAAAAAAAHwrDPkHAAAAAAAAgDsgoAoAAAAAAAAAlR4ioKqne/d9HyfXfa97KOr+kX3wje34+AHwQDg/96H8jqcHmPmgvxMq3VEq5/nn9/Cd/34BAAAAwHf1EAFVH4bGOdcMCjy8qL5zTRsfugMcJwWSUkBHU2dT07g4v9bZ5yfnP17Vd/j7BQAAAAD4jCH/MwpDhb5rmvZxGsdLPbKAnHrGKagTJzt/O53DVwZVgWc12OR8aILXOa93AAAAAACc5ykCqvNeePMeeEu99DRdO8zWW0JdH5ou2Ith7E2X0naWVt9r6pugtGcBV/XAS9vN85eGgyovW0ND832Yp69F/aAgmfJEkAzbQujtfBrsHNJZNTrz/NxSk36etqZbe9jesr5lyfbH6lW2P0uf5enP/+eG9ku9b/P9m/fG3Sq/0v7P52tSeea28ldjrfzStteuf6X5yVr+bll/fm7WnLdb6adlUhppmpfxrebp1xxfTUdtHwAAAABwvIcPqKqxGayx6fup951Nrd4HNTY11+ZbY7sb1Gh2jbdJwVANw7RWeJxfw5KIDX3XDYtDNztbQO1bbcNa8I3vtMy0fWvQuyx/6iGY8peGgyov6bUmBQhy2gcXLB0ta+k7/zkPChRovx+t9ywe3z3OzzWl9Gvqd8nW/pX0ijsPVrdsvcS51j63de1zUV47+0np639uuO5zwDQG9Vyw+VZHvS0fLw+XMsrLb1B6to8KqtXsf2dpp+tbmlSeSU3+ttSU39b1T7bm1+TPa30/nSu2fn5+zddP506SzqutIfdb6R/x92NNzfE9c/sAAAAAgHM8fEDVWZuzb9VYvjTAgxrQrXoZjQEJ9cSLPXqMNUObwV63We+8EgUU2q63RrZtY6URG3s+TfPy7cu88Zvyco08/WEYps6Fn/dB21EwRr2ZYvQCWOC9nSNZQPBe5+ctSvW7xp79S9cLBVG1P/G3c5YHpWH50G9733/Kn5bXmpf8KQshBumsjmpWTPkiLz9lz65Y9qut3n/F2fLtJbX521JTflvXP1mbX5s/r/WnUQH5+bW0/i3W0h//2ff3Y8s9/n4BAAAAAO7vkICqV6OxD7FRqGk+pLE0f4valYOCQ1mAQq9aRS1sZvzUXseeR/pck71Wo7lGWn6P+f7F4MJJxt0aYtBszD2gWJa71C/7ye8lec/z81ql+l1j7/4pwNUqwGX1KQXALKE4T1lQ2C0fkq2e7DEUl+Uv1UvRml7/w2MK4G2p2X8FPNWrMQ1Zz/evNn9bzjw/9uZPi9jeq5CmT44VU7W0b/37URLzf+LfLwAAAADA1zgkoGrtfWsQXoakdrFxeGmUl+ZvGdudalyqqTmKzdOxpTp+YLoYAxnvj6fhk7VPXFYK6pl6Tc/PvJGvvGh4qzq3pv2bD0k9Shyaq95d3vaTh68goyDY0vl3z/PzFrX1e80R+6crkbPrhq0c63bfK9Xx+qQsDPaja0RKX1Mamr1X7f4rqJq227WWlynouTd/2ta15Zdf/5bk8/fmb8kZvTe1y7f8/SjR/p/59wsAAAAA8DUefsi/7nHodI/D7J53ul9fP6hB3sd+rn1spK/fY6+G4hMKUvZda9vabujHIdVT0CU2k61xnHoUacuu+zkoq/lpWPEttE+D5au25xsg9zo/S9bSL9Xvktr9K1EwS9cO9Q7Mh5crB63mZfnbS/sXeu1fuHr/tZcaEp7szd8t5Zdf/5bk8/fmb14+urSXrs/X0P4e8fdjzVF/v+JyfXfV6A4AAAAAwHl+eXt7+316/SXU7NZDO6zFOX4wUYAzNSz1u4v35xvfq8drul9hfO9/DoLm619Da3jblveW9hAW8zdPWy8/eozZ1OuBK95ZvpTnMY/zdFIa6XM9sMY+GOdZekPshTru4/w9kCydP3Nnn5811tIX/d6q3yU1+1eS8hcaPVTq87bneZc8/7r+hDZ8vM+V1hW9Wtv/pfXn5VOzjS1b5adB6Vtp12x7a5k0b+v80i0JfAxyWzlbBnX7A/3PJc1fyp9ck/6evx8p/bXti37v/fuV0lAItoujKGwBAAAAAMAu7+/vzY8fP6Z31/nygOpeamw7a2x7ayCnnpup8Tm2O8dG9K2WGuQA8B2Urn/Pfn08++9HyVdvHwAAAAC+sz0B1Ycf8l+iW9GNzfoLfbZ1jz8AAL767wd/vwAAAADgOT19QFVDI5vgPz1FWg9uynv8AAAw99V/P/j7BQAAAADP6emH/AMAAAAAAADANb71kH8AAAAAAAAAuBcCqgAAAAAAAABQ6dsEVPXYD92nzgfdtO7zQ0CAV3fW+Z/SHR9Jviz49nJ/yHjTSMw9wvVJT5zv+/BxrFp/v3t4PsL+AwAAAABQix6qd9J37q4BCnwP8yDYIwYtfRga51wzKPD6TT16/Xc2+dDZuTMeq+92vLg+AwAAAACu8W0CqoNNzhrMwSt0oHfAa1D41LkuBsG8TV0bfurpx/n/2L76+LQKzOt86b8mGM/5CQAAAAB4Jl8eUFXIR0M9FRDqe019E9Soby+9o9IyqQdeFxv9anjX2RpyXNp+7fx8yHNnWUsBrbRtzWfoM86mUFToQuNae9WOdaR03s3rl6b8fBb14Evzlupfnsa8/tbI079m2Hepfor2X70P83LIeyPO9z/fv1iXrczS/LSdtI3S9mvq/9bxqdm/ef7TND+Gt9oqHymVb8me/a+dn5cF12cAAAAAwF4P00PVWyvX+XG4qbVs7fWlQRzsve/HYaiaWr0PaiBrblnNkOO17Sed5tsm03zfaX55+2nbjTX202tNCiABZ+gVSx36ptV5Z0rnf+fbphsUlLrUMZ2viQJNLqt/Lp7Ln+tfUP0ItpzNH+x1F7dVd46rLnT2k9L3g4aeXzf8ulQ/Y7DMBZvv7bVtL84eA6Kl64s6TWrfYh227Xi7TrSD5U/dOidr26+p/6XjI1vXJ5V9On7qoWwJxTTzY7gmBREVYLQ9t9djUDIFTWvKR9bKt8be/ReuzwAAAACAe3qggKo14BWkMMMwTLGKtnH2b9+qsX0JsAQ1fFtbfuqBd4S17Sexx9IUoDhj+8BXUkxJAbQl8+Bc7NE3k9cPzW51I4Is4LhGWxwUwPpUv3vLj/ra1tevUv3ULoQYhBusfuuT+Kvq+qJ1LYPxuhA7Nk7XiTbbv7OvD2vXp/GfMSgqyupgr/O8bUlBRAVBe1tbPT31vosnhB2HivIRldFS+R6F6zMAAAAA4JEcElD1anRnD8aZDwktzd+ihvMwqOF8aaDrVatW+xQ02JM+8N0pqKZeh6l3YgxOZeb1az5/D1VhhQXzIeXqLRlDhZVBwRp5kE+59+rOOISq68sjG3drDIqKcqyeyQo6HqG2fNbKFwAAAACAV3RIQFW9kzTUMw2XTL2bktL8LWO7XQ31S+M9Nu/Hln58vyf9W8RNKxcHBS2AI6lX4aBehX19HUg9FdNDrVLQVHVNw6d1S8xUv44cDq0qNNiPHkiU0k/5uDUgd039rLm+XOsrrg86JApG6/6hGv5/1BP6zyifs3F9BgAAAACc7WGG/K/R/SCd7geZ3TNP98vrBwVczguabvEaHtsrrKBBssYa7goCiXrzLd3/UT3GnCJdWWACOJrOQt3fMuj8vCEgqfM5D8TGs7Vt4/krSt9149DqNaqfoVf9LG9fW2pte/N7Yu6R18+SM64vS9s/q/7rePQxCH25B+2RAe9HvP6WnHF9juXcd4x+AAAAAABEDx9QVYO4i0+QHqxBOw4JDq2eyKwG/hjk2RKb1dNwYj15WrEGvb522LKCFGn7eoBOHrTQPR87N+avtdchPuH6c966MDS+0bDpcej0kcOm8b2lYE88N+O5NZ6vUjr/8/kfk7NzND7Ux+Zp6sbzXfO8TaHTuf35/F6rHzX1T/fHVK/YtP58fo217Zfsvb4kpe2v1f+91yct1QalOR7/NF1bfmuOKp81XJ8BAAAAAM/ol7e3t9+n11igBr+ecp2e8g3gcXx1/fzq7ccelyE03vdN6hGsUGJneVFg/dWvWV9d/gAAAACA5/X+/t78+PFjenedh++hCgBYpvuFjmHFC+4hCgAAAADAuQioAsCTiiPTNWRe0zTk3YX+U49VAAAAAABwLIb8AwAAAAAAAPhWGPIPAAAAAAAAAHdAQBUAAAAAAAAAKhFQBbCbHouk+3j6oJt6fn5IUqIn0vd9+LjXZ+u5x+dRasr/DGm7jTv/CfuPfP4Ey1zK172PwXfTOTsXZmWcnxvBJjs5pjmXc/QRzxsAAAAAz4uAKvDk5gGDRwwaOJt86BrXDY1zLk6DAnF4Cn3nvvSceobzRw8IU76CV26H8UOcTsFUF0LjfB/Lv7fy74KOgabxSDg7dzXPTuT4GZD76usbAAAAnhMB1YOpCRfUaMt6yDy6pR4/eA46YiH4xvdjkClN9w42paDFWjCptYz2ym2v8wxHK5X/s+P8wRJd/3xn17/OzvlhDIgFe9mGzv4E8z9sAAAAAJznywOqahCpd51znbWVNf08ZE/DKdV7IB9WmfcmSGmkeZ3Wn3qnpKGA+fLqjZCW0fxg8/PtLX1WQ+t1tl4X7MXUuLNXD79/6lnlhy7mPaWL56BzQ9GmYVgOoqVzZ+v8E50z6fxaCq4r6J7ma8rPt/y8dTqZrlBzftbI85/Xj5Ka8nn0689W+dfs35aUtob012xnLf3S+bVHvm1N8+O/dfx0Xnvbl7R+KqdrymhLypvKL4nbzMpgnn9N+fKyVX5b+5ekbczXTZ9fc32Yl28p/1vzleela4a2N68zad18ef3/g26wvFrec7oetorCF9Tsf6l85/t37/o/376mo86f2vzdmn6S9uGW8zMtk9K+pv6nz1Re+fxr/44BAADge3qYHqqdfSFXGyAOy9MX605fmD9/Ke+dhu15e20NkjjbxyXmPfTa+MVcDYo29lYJ3n8sb8k0g6XRxS/U9uVZvVkG+4Kt7U6cs/V6Lfj5S/8Wy35sDGhI6lLvwEffPzUglO6z9a797mKzT41AnYCzRnRu6/yLDXz7SeeXguuuu5wbSrq18yMNm9WUn+PeTsL5Z0lqpMa6YdtLjeLU6D2i/mkbLu+ha9tI9aPWM19/tso/8do/Py6n/XOVvfdS2naSfLzWFM+3TFD6wY7DQvql82tL6fwplX+ydvxEQTnlPe6j5dVbObUq+4qA3BE6y5uCgin/mpSXpKb8tvavxtb5X6pfpfxvzR8Dn3r1c1mn/0k03//83FPQNAbA7HV+bgyDnQet1q87hs9c/888f9by1w/K3xh0/Mrzs1T+ydr2a69vAAAAwJKHCajGHgFTIyDoi21r79vLl9rUMLFv8dZY0ifxly1nq9lyQ7h8gZ+vr3WtxW9fyvVF3P7VolNjRbN63X9NCU1f0NV4UMOslr6sp4BT2oe5Z9g/NSgGa0iot0dsveAp6NxSAzBOCi7oXJtZO/90Bg06Hz6dX5aG05kznl9qYHY6ySob+LnUSFUjtrezUT2NYno2WYYOqX/aRl7vrlk3eebrTw31wvzY5kYQ61Z5+eXp15xfW0rnT035y9rxk3h8+hDzbVmzWWNaNT0cjxJ3Z6E89ElN+W3tn8Sl7e+TynE+T7bO/5r6tZb/ZG1+ntf4d9TyOJ46Y9lrjfn+J3EJJWyJKODmQ7u6fyXPXv/XyjeWxqz8rjl/9HuwvMzzpzQ0d2/6SVz6hvPziPoPAAAA3OqQgKq1g6wBcHn68nzIVWl+jfxLsNb2CvhZo0TtrkG9JbIvyHrVaoWsQayAkDUD7Edfvi+NQ1F28i/oWsZaCNPcbdqCGhh7Pcr+pXz42LC5pI/HpvZmCjR17udhl2t0CqmZnA+Z1Lqx6WwzYwr2b+otdoY99U/m15fY+D7Yo9TPZ1M6v/aqLf+14/cIFLBUr7rUwzI/f2vL78z9K9WvrfzL1vzxMNl8+xni+a99sNfTzHh8ta/jDv4kLm3zBltQgb+4/Ox8OMJa+S5tL+UpPz5n1v+zzx8FKFvlz9ZR/hTAjJnWJwekv4c28ez1HwAAAM/rkICqfd9uNJRKAZ2891BSmj8XvyTrC/n4LXjT+L1Zy12+PMev1+M37fEDk4bFLQ1HU05aawgoMKqeGGNbobxt0VLqWXFNz85H3T/1EHLWGNLTkm/t6YOvpUMbvJ0DOmfU8F2Qn386hex3PIdT/dTkbcobnGf21ttT/5QrDf+07H/kfe9wzUetn8+o9vy6VW35PzoFxVK5dK2V1RQUO7v8luTnv8qypn6t5T8pzVegLgzq0Wz1wK5bW8fvci2yf+213uXL6x+dE7cGVvP9L0nbinmZxK3O8n92/T/z/FFKTpmydbRbvW5HED89Jv1r5centvwBAACAMzzMkP+cekfmX9q36B5fTvf4isO5Rhr+1w/6Qj+ur/bfYF/4ew23s4aGevBZiyPOSzRMzdqNzWCf58PHaqn9EoeldtbAU+tzwyPunxrJSoOeG88vNsoVTJjOj7n8/NMSasyv3VNTTVL1/PJey9uJdpJb659ypRZ26kGrHDqrB3s84/XnbCpfnVd54KJG6fzaq6b8v1I8K2PZjXVH1WgeUMul+pYcVX7xbA4KjMYU42dr8vM/LnlF/Zrnf24+X+/Vm9DZNrUJzRtfa8vDT8dXdeny91UrKIULlbPymu6teotHrP8qd/VALY3uUWmccf6oLFW2Cvrmw/uPSj+W9g3n51H1v3R9qy1/AAAAfC8PE1BN93/UZF9b4/saakDoAQ/BW+NrWj+0emKrvmAPsTGj3hpqyMQv4PptDZuYftao0RdzPXwhBqLiUtdTT9zO6YETSuxzA+OR90+LKk3lfT4Pj00Bmnw4bpyczpfx/Ei2zj/dX1O9mvI08h5k8yGlmlJQI55N03BPfaZk5+vXuLX+acl0vmu73qbQab8v+15jq3y2aCtfef05qvxLNGTZNzpHxvPkmvRL59cepfJ/BDFY5sb8tfY6xLoz5i0/fh+T1d9e0bXJmeWXrJ3/2spW/SrlvzRfqcQh+wo4x/lWLaysUkBV80On46vZfTN4WyYrm5h+q4dmaV077oMeOmRlbduwDY8LVVjb/xLl71Hq/8d0wvmjOGdMw/ZtHqj8yvOzVP619lzfAAAA8H398vb29vv0+kuoQaCntKanLH+Vs/Lx6vuHx/Ysx/2r8vko5fMo+cBtdLuUoKBSZSDuUTz7eadyV4BtsH2ooePjB/+x/KPs/7Mfh7NQLgAAADjb+/t78+PHj+nddR5yyP9X0D3OQmONrCt6tTyTV98/PLfvfn5SP4Hr9f1gdcdeTCNCFIA76/YSZ6L+AwAAAM/n2wdU1cNFQ7x0jzM9zOeaYWLP4NX3D8/tu5+f1M/Xoc6pOpY194HEMXSbnaHzTRr2Hmwah81f6F2anw+zfwTUfwAAAOB5ffmQfwAAAAAAAAC4J4b8AwAAAAAAAMAdEFAFAAAAAAAAgEoEVCfpPmvc/24Z5fO9fdfjn/b70e69uMRbZvs+xHsyamr98zzg5lXPr2c6f77Sox7/exy/dB9VTa7T/m/TvXr5OwwAAAB8vZcJqPbWynimAMK9UT6vydrW1hDvPh1bNdD1cJb05Gu8Pp0HPnSN64bGORenQYGgO+H6gi2cH+t8GOvsPevrXOn4fPXx4/wBAADAI6KH6kTP1nX2hT14hSa+7km72nrou4cLhp1ZPtZWosfNjVorsmForUEe340lqDfDscfoUeoHluk86HX0FUh/Qpxf3xvHHwAAAMCzeYiAqnrUqfdBPvRt3htBPRTSvDz4ltbRkLy1oXOl9NfWy61tX/RKwwLTfE3Kz7UsG03Xh6YL9mL4nL9XLh8l6Ycu7rvNGD9ENZW2G+x36xpnhR36WOJxXpIfn07lP5WzHVr7LHw63lo2X2br+NuijbfP0vF1dlzVYzb1kE3H/tPx1jrTOVJavySln9ZTGvm6R20/pTNPP9k6/0v1qyTftqb82ByhJn/PfH2psZW+5POXyt9mf8zXNC+/PI+153ZuK/35/uf5S/NK9WNtflIqn7X81Z4fS58ne/avxjx9TfPzJ19mnn5N/vL0VFZLZbglL/+1OrJl7fwtHZ+a4ydr50fcV1s2lc/8+prKZ+341W4fAAAA+AoP00M1fll2wb5Ye3vtmk7fp6cv1fqy3tlPGsqq4JvrxgZbGi5nC3281qR1clvpl4bcbW1fOku7G9QoGOdrUn6uERse1hDRkN2lfLx6+aiB1Fr6j9g79xkM1shsrVxb19rrYWzOqtui0bF1/aXsXTwXVP5tY4fW5vuP422LNoOdA10MiIyN1tLxV6cyp/8JoHTtXPDetq//ITBtv2Tv+qL1nK0Xzy3Lp7N9qlWz/aD0bZlYDva6i2VhK5rS+S9b9WuLchBsWz47fqonH8dP6dqxj9cOe5+CEktBvy2vfn3ZUkp/q/6IdrW165d6WKZl5vuSnz+W4FXn51b6pfMjKdWPrfnF8t/IX835sXX8j9q/LTXnz9rxq83fHvPyz8uuxtb5Wzo+Ncdvnr/5+VFzfe3sc2dZittS+Y0XiKrtAwAAAF/lcQKqU2BHw/3G0crjsD99bR70BTpkDVwFD5zm13+pXku/pHb7+s5/TX5yavCkBqkaDku+Q/mowaRg1bxHD9aNbVIF0tRwtfJTkEq9VTMq1/y8ij1+MprdWAO7s0as7+xfHcqsh3RJXL8Pdt4MjR36j3XbyoDo3vVFvaDSekonlUuNmu3HHlFTGar4rMS1QPX5r23cVL8sC32rYFOe/mCfa/vuI8igIGVvaaqnl953scJpZ+qs5a92/0pu3n+bzrz+1qRfqj+xvLXMRp3Jz59rz8+t9EvnR1KqH2vza8qnZv9vddT+ldgu6Hd8vWTt+NXm71ZKYV7+1yqdv3ss5W9+fmjztkAsN5v1cZzWrq9Hlh8AAABwpkMCql6NCvvCrC/qS72jSvPFvmvrd3ytuV4BNfvire/crf3kQ+rUG0ufTa2aKmvpl9RsXw0W9UpJvcNi46CSUlDPwpLvUj4pH17dWpQGilRmMZg2WPkPKrPxOCbz+rdU/gqIuCbYj4IDY8MWZbX1b0/90j1y82OqV60SzNLfay1/tftXsmf/S9vfdf2tSd/+Was/cQlbTsGiM5TSVxbPPD+UxFb5xC1s5G+vs/dP9p4/Z5e/5U4bmT65Xs31/1bKX6n+AAAAAK/qkICqtUcaDeVUT5Wl3lGl+VvUjhjsJx9OqMkrjYoG+V6121ejLH3etbZsZaNFzSSlfWvPzFcqnzg00Rpjzvexx51SRj2VqYbNxlKbGuBq0mr4pB2ej2OzNFwyDXudD9fEtrPrn9JvWx3LS3BCr4YxkjN+cKKz96+kdvs3X38L6dfWn2t6U99iLf2zz4/a8j9r/8/ev2TP+XPv+nlNWWvJmvP3VrXnxzVi0SnnJ5UfAAAAcJSHGfK/Rs2aVr0q4nDRdeoh4zT+LmvYHKF2+4maALqf5bXUfovDdru2mT/QZMurlI8aeYPtd23PNYy2GteaF+fav6kHmZrSrvsctFf7WmXfa7i/nYids+NzZWB/TdxqPPfGRrx6S90zYHvG9nW/v9CPAYNrz/9r9bYD6nncZulr+/2g7f9cj45Wu3/Pev0tpV+qP2l7XifWbNTFEUrpn31+lMqndv9vPT/uff6n/alVyp/S23P9madvSdvr+vVjaReu/1I6PmvzS+fHLTQ6pZ89WPHW8wcAAAA408MHVEX3R1OvkTSkbGnYmoYs+0bLjMvV9jCJX9un4WpqqKjBMl9/a/v5+h+Ts2XjQxWuY7tg29cDgexFxQNrkmcvH6UZ2i7uuy09fohDqDQVKFXAWmXvbQqdGtdjA1tlr2OlQKqWzpe3GVXHv0T31OvcMKZhr0MMCIzbv4cjtp/KT5MewJL38qqpf7dSLvWAsGDXhJS26kq6H+k9vPr1dyt9/d6qPzIfMq7pmqBXyVb69zg/Sse/Zv/Xzo/S8T97//aePzX527r+1Ox/6JT++PngbRtXnNs156+U6u/W/COuf1vXV7n1+gIAAACc6Ze3t7ffp9cAAADA6RRQDsE3Ltir/phREQAAAMA13t/fmx8/fkzvrvMUPVQBAAAAAAAA4BEQUAUAAAAAAACASgz5BwAAAAAAAPCtMOQfAAAAAAAAAO6AgCoAAAAAAAAAVCKgCrwQ39oUgr3S85OXdU7L9PZqfZklSrvvg019nFqv7ewXLOGUpuuUr+ejkuyDv6lc99LW9KRsOyDjBwAAAAAA4FQEVIEX4WzyoWtCGOyVpuOktF03NM65OA0K4h3AW35L6fWduzmAmwds03RtWnu2f7Z4tENoulh+OlIAAAAAAOBMBFSBF9F1rvFB3Ui76ZPjtEpWfSH75+xBmoK2RweDEwU1nQ9N8ApoHhvMrqGOva3tk+uOP/YAAAAAAOAzAqrAC4jD8Z2PPRWXqIdl6p25NKw+n3/LsPV8/c6m1FNSqWgovG00vhdbtHobqXep1v+KWwPUbH8rX3Ff7TOVQZxv6fS9pWWv8yH6W+WfyjDN16T8zKlnsnef0wUAAAAAAMcjoAq8AOcU1Iuht/GDjIJ1nf2k3pl6n5vP94OG9o+B2RQsVJDPNXqtgODnoKmWcf2l96ezZXR7gJqAaUnqWWqZ/Hitab4PZ6nZfvp8rderOq26qeewt/W8H5p2sPJVt1+zVf7SWfl2g/+Yr0lpzcUwrB2XVvMBAAAAAMBpCKgCT05hOQXRhuHnoeYKrQ02r1/pubo0Pyh46uIg9o9goYay941ej4G/zqYxhDcGFPMAX+xB+WDyXqT3fnCUiscKOB6fuGkFU03btsXyT2JxZ+/XaBsKrt9z/wAAAAAA+G4IqAIvYimgqk6Qg4JrC/NE81v7yYeUK+Coz1IPyhJvi+VP/3+0J/XnPUs1qQeojwHMuv07U035K/+6P2rqHbxVvkvnAAAAAAAAOBYBVeBFqMdjjXw5xd8G9Tz14XPQ0abUk3KLUvKdb/QA/LTuvYbj30pBybEI6srrTLXln4LC+rxrbdmVoKqO7RhTJbAKAAAAAMBZCKgCT06hsyEGCX8OEPY20w02z4/391Sss1X0cxIHv6vX4zT/WmNcUkG8MYCnUGr+pPkxtjcGA0W9WfP7g9Y6aii71ta+2i6b+p60Zw2lv7b807FeMwZUx2ORU+mrh2t+71sAAAAAAHAbAqrAC+h7BfwUSPscLNMnoQuNnpeknpmD75u++xy801Po1esxDTkvDSvPaam+62KvVK3nbQpdDPvF+aJ7gnaWN81v7XWIAd1xvsKTabi7Ar0K+C5tvwtD4xvlccxnbf7y9DXp6fq+v74X7dr2a/O/Zav85/mPk7NlZ8dQtEe6H+tWwBUAAAAAAOz3y9vb2+/TawBPTEFCP/jVp83jtenBW0GB2SuDxQAAAAAAfEfv7+/Njx8/pnfXoYcq8CK6Tr0/h6ZxlyH3+B4UQx28gqkcewAAAAAAzkZAFXgRGugdfNd43aj04Ht94nHFo+1908VbKTDcHwAAAACAszHkHwAAAAAAAMC3wpB/AAAAAAAAALgDAqoAAAAAAAAAUOlpAqq6T2AffOOD7hHI/SGBZ5Dq7TM/KEtPzW/j/Ukf13e5Pur2wD7oWKzvox7QdUs5KO2+Dzb1cTrqmAdLOKXpOu5xe7Zrj7+WCrpGtTYBAAAAQKWHCag+Q9Biy7PnH89LAQEF01LQ5pZg0N7zl/N/23cv3yPy72zyoWtCGOyVpuOktF03NM65OA0Ksh3AW35L6e0tn3QN6Kzuj3tzkQd0b70+vLJ4NoXQdPH4fC47AAAAAFjzND1U1ehx1ggMXg2eYxvTj0R7F/rurr1lrC1vjf7X7tn2qlLvKt+PQaCjg0F4Dt/h+tjZhcoHO+N1fTxYq2RVm2JA8rno+q1A6lbWU1CX68MydRxurUxc97w96QEAAADc15cHVFPvGQ0JXhsauTVkMgYD7bPUQ89ZOr01uIO9zoOS6gGU0pgHD/Uq7+GX9/JJ85S/JA9A1uS/lq1u21ZPGXsxXHoQzfOXtpfb2j9RnvP18x5KyqofurjttN94DvEot20zDNtBtLXzY+/5W7t+fg7P66aUzt8tedppyuvHfP5SL76t+pFLadVeX+5Rvlvpar9e4fpoqza987En4ZI8/0tp7zm/JF//mv0v2Vs+cQveN17bz/5mHCntY8pbym+uVL4qk3z9vH7N018q33Tean7p+jEvu5r8i3o+e/dz2gAAAACw5MsDqqnnjLWIPl5rUgMpKQ2ZVKcsN/Vc8rae90PTqnGpbkdGaXX2k9JW8NB1Y4NOS8x7+KmnioZ/jnO31eS/hhZXQ1RDTuf72VlDuxvUqLzkUdtLtvZPlHZrjUz1YEvLzLehRqj2+969Y7FPDB0oSKCDvBAkkK3zY+/5W7t+sPeqo3FZO8+cv5xjpfO3ZKt+1NRvZbVUPySlpW15bWMKYH11+abPX/n66JyCjdre52CZzPM/T3tr/1IQM157bX9S0C4P6mkZl/cAj/tSt/8le8tH/xuli8HJn8vlKGf+/ak9v3TeOjtvNb90/ZiXXSn/iUqwtePeaj4AAAAAFDzNkP8t1g611lCIvfRi55gp0NG21hDWWzWysp5NQY1nFwfJNtZOb/pWDbx8vjXcWkvIPr8HNdhTg3OpoSdjG+/n/JT2T9SA7FRIhR5MatAP1hid97jCY1MwXEGEOPV27O19UnN+3EPM03Ruq56Osbxy/ay1Wj8q6ndN/UiBHwVm8oCNXj1C+W7RrlkGn/b6qLJXkGupF/ZS/nOl/UtBTN0qoW/0egzMdTbZnsfltUx+XY49HJ9M3vv1lh66sThiaX5WKl/Zql+155d6Waf1S9ePJWv5n1PaCt5fWz4AAAAAvp9DAqrWVrOG2uXpyPMhtaX5Z1LDq7WffMifGpT6TDM1fxjsV3bfQb1q1XgfW22n0hZKPWLUoFevndR7Kg+YFfdvWmgpGLFkXGxofLwX4/n7j2PolEiBoM5dgial8+OrHZG/Uv3Yqt9xC/ZvqX6ol9vQ2jZmgZsj8v+VSvnX/K+8PuaWjlHMn/K6cvxK+1dj/vcrP7+eQQoap0k9SH08jyv3/8S/P1p/z/kV19dWVtKXrfzP1f6dBAAAAIBDAqrWXrGG2mVIXd67R0rzz6T20WA/+XBDTWnI7thuUyPq0niLzbuxpTd+cCJtQXkr9QxNjWLlu2ttX6ZGYWn/EvVGK4lDW60x7Hwfe2yNucMz0VkRfNc4ndPq+VV5fnyVo/K3VT9q6nepfih91VH1Us1vifHo5VtSyn9t+d1DzTVM8uX2Hh+l5DsNQR//h4Wm+ZDyZ6Og4lhEdeUpZ/39OeP8WtrWWv7ntO642du2DQAAAPz/27vb81Z1rW3DrP8pglJUikp4S6CEpwSVQim0kCMF7HfcwooVJiDx5djOda5NtmNAXwjHGlMA/o6nueRfM0OuuNROwybdFy2/51qut3GTG2yAma3X06T7QQNCXQRqYtnGQbRmK83d3/Fo+TW+i5eddq2VZXmgr/IMVp+kVL+0vVfBV2YFK0gwWL5XPtwEjxHvN6lZX9Z/S/0jOdp/9+5fW75a/5wfFed3zfkhMQYT/I+g6rO3b0mp/M/w+ZiO0VygbFo+xTrzz8+j/SvmGINssaaxh+RPgq+tf8lVx3dKqastrElM/LFJOhZJqX3T9kvnV6l/lZSO/9S0/FNjQFVb/aSSa4brI6+uAQAAAPDc/vv4+Pjf7fWv0nArD1QoeKEg3/T9JK3XAGqIMyq9Yh1NaMfZntpHD7rQwy/m0kj7i352NlhKA6Vg4ymlNw6/xkFyukRSw6nB27ad8tM+4zZL5d9Ke3grix4co8DmXNmn5SvVT+J9WrOBZpxxp31M3oYpTbyGvG8me/rHdJut/Xdp//R+eihSXDfpbzXlWzK377T+SmXt/Ja180Pl8IOeMD/+nraNs9ws3ZryT7c5u33zvCWtVxbv8PmoPFrLo3PKR7nc5fmrbLq8W/84tKV/raWvzb5nZNrSK2Dqdd/VsX5r9W9t/drxSaZl3NI+cbvJlQ0qR2fvqUTT/PO+XTLXdtPjX9O+a+eXtlrqXynttc+PteM/1/7T8ifKPf/bm0tl7O2V2nVsYQAAAACv7uvrq/n8/Lz9ts3TBFQBAFiiAF0e2AbOpKCv/sGhNpANAAAA4PUdCai+xVP+AQDvres0K3H4ZzYmcNQ461XBVPoWAAAAgDoEVAEAT08XWesy+vF+nFqA42Jv8r7p4i0JuJQfAAAAQB0u+QcAAAAAAADwp3DJPwAAAAAAAAA8AAFVAAAAAAAAAKj0NgFV3QetD77xQfdA+3v316P+f7v+Z9CtKfs+2NLHpY33FDxOT89OabruNe9R+Kz9K5WLBzXNe0T7PFv/1gOWnrWfvvrnsz4jfdDnYn0dtGVQH2xt2emq9kvpPurzY6n91uqn3462HwAAAHAFZqje9DYKPSuAdIVnL9/V/nr9l0yDoHuDOs4WHzrbd2icc3EZNIg9gQ9jmmvp/fbxpX+9tt88fjX9G8c8w/mZPiODHe+m0VInbh1C08X+oVTO9wqfX8/cfgAAAMAebxNQ1ZduZwOK4PWFu/7L+rt4lvor99B3D59NcmX9baxqA8HnnVmlkjnXxaCOt6Vrw+bytgrMavt+ezD2L3iW8wt4Re9w/nT2h8AHfUZun82pf+Nqg29ct28m6Lu3X6l+R9sPAAAAuMLTBFQ1wyLNsMuDQWkGXj77Qtt2MfCjL9/lSy6Vki4nS9tosQ3jurSvfl9KZ23/Wnn98rIntvpH+qm+NeXbWv88/7ROAbneBjpaH7R+R0DUimFpayaJvRh+zpZ55forST90sW7Tcj8bDUVDFxrX2qv2Xtal86vW0vFL7afjk+hY1uZRc3xrvOv5pbzn8lR988/EvAxz6S8d/6PlS0rtv6Q2/6X0a46flNqnZG/9ROXSscrLlx87WTo+SSn/fH1ed8vS6mt5ZfWde69kqXxK6xX+Pqdt9nz2Sayn83Gm5FRN/qKZmd7ZuqzdVafS+b3WfjXtI5bc9zot0/6X12HP+VGy1n5r5c7NtZ/Mtb8WtUlat/b5Mt1/en6pfEfPXwAAALynpwioxgGY/ZcuNVbwynW3wcSgL7S+6fT9174E64v5YF/Mu/iFVl9c7cu6bbR2yWVnO3WDvlSP6WuxTOO6tK9+T6+1qEzJ2v419EXc9fd9XcxL+49fupVVawMJzdBI26S61JRvrf7KQfcf81n+mumR5y/e0nP+lpetd9bmW6g4GkjokvFpOd6h/hroab/fmH27Va9Y6mDlVV30u9Vt8fyyY5MGgdYy9nocdE4DImvH74ia41vyzufXMAxx9vBcW2tdEpR+sHaYSX/t+CdHzv8z+odmrykGlfL34wd+XLeWfm3/WWufkjPqpzR6p/5nnyHejkes3liG0vEp5T/dP6/79LNAnGvtc8z2nfyj15K18lmTW/le++9zDbVZrza71SlXm38Ms9nnan4sas7vtfarah97ufT5lxw5P2qstd9a/XJz7Scqe2p/XaGhfq0082Ow9PmmEtV8fh85fwEAAPC+fj2gqq/Gg30J7bOZC0HBHafBxPjFWd+N7VuzDbo10Lb/16aVg8HEstDP+HqPI/tPv9wrYJXTl/BO22ysUw0bxzR9q8FK3r42sGitDNkMRm8DrpT/2iBvjgYbacCW1zN5l/qrHoMNnjSbJUZ/XoBquHZ+pcGsBol9o9fjwLCzxVoubl86fr/tnc+vMaYSf4znmZ1j464/940zu25tkKdfOv7JkfP/jP6Rl3/afmen/xv1UxIKPFruP45pzfFZy39u/5xS0ToFtFTf+FPbV9ahpnwq3rP/fY6ltXNnzyXzqc3Ub5bUll9ppGMx/h5/xtdr5/cRNZ9/R86PEqVSar9a0/Ybi6lg7diflcNgr9tJ+y19vtV+fh85fwEAAPC+Tgmo2jjAvtDeH4wzvWRqbb2+2GqYl19ypdlyceiXfSnWgMA1NiCyn0OcPVBPA1LNOkiz7+LgYYPS/lvrn+8fa2j1PGOwMUdNOAzK5Z6+XrXKL2vfvZTCdMbI1DvVPw2mfByYb9//0VTFmvNrzdrxewbvfH6Nydjnj/032AA/3spBr9PKgjOOf8nV/eO3+98Z+afPDdHeXv8gM4Sq47Pav22desdaX7BdvgNECiDpb6hleFu7rrb/PPPf57MsfYZsyX+ahn49cn6XxCNkx+mqz78tzijDP+0XfyjIevs+qWVD8DaePxWf32Ny4zY6ulvOXwAAALyvUwKqNp6wL7T3S97y2W2ytl5fVAf7L78cTUu6dCtJl9XtvZxKg56Urh7as2fQtrT/Wv30lVqXr2ryZlqfX46XTGdUnGUcF9iPWJKRXg3jSGJ84wCloGO3NHPzneofL721wZLz/a6ZTo+ioIkG55qpU3t+LVFb1Ry/31Jbvlc9v5IYCLOBv9XO8rNjW5n+0eNforqe3T9i1ZSyFf6K9Le4Ov/S8dmT/7Sv6y9RulR6vPRa79b1zdr+88x/n8+y9hlSm7/SGE/bn+2/9/yuddXn3xZnlGGp/XRKKJip+6OqH5ZuH5AorSOf39rkys9XAAAAPLdfv+Q/DfbW7tmlL8uDfWHtdTmhDVQ6PZhg5yXX+oqsQNOUZjTkl5ItWdp/SUwtDgLGL+caCudPqk3peU1Dimvn1ZZvSvfQc7qHXta+ul9hP6hR6+tRovFjvGy8a+Nli8m71F9BDPXBNDPlWakFdf+3dI9E1bB0fq2pOX62Mg4iRYdxT0Bl7/GtKd8rn18qv2ZLOTu3VEXVZXytco51XnP0+JeU2n8Pzf5O91usTX/v8Su5on650vEp5T/tf/pbOX1gjugy5M42Gezza+7BQEtq+o/yfPa/z9pL/+Cn2YOlNKZSmjUBwaX8kzEgqK1GenXk/E6W2ieVp/T5V6I9NQN3evVNjVSG8wKq93aJ5YpBzPs9TLf8g8fRz+/Ym+IxWz4/5Ej7AQAA4Hk9xUOpdH8rzepIl0xpSTM89N1YrzVQ09fX+NMGbvFLs32J1lf0dLmVBpJ6O98/X/+9OA3+fn4B1iWLvlEZxnJs3X9JXl7t620JXRxixPWi2S35JYNapoPimvLN1V+56AEhwQ/xfS2h1ROBVf57Gc5gRbT89UASe5Ee2KDlxeuvNLWP6jbW6LlY8axeY9tpwKZYRj6oXDu/SmqOXwzWuLF9W3sd4rEb15eOT7J0fEtqyvfK55dSUMBF9+mzxPW/Rvfn2xJwOXL8S2rav0baX4udafH3+H5cV05/b/8pKeVf27/XrB2fUv76GTr1vzHfwdv+M3+bFDjSw6n62G+2tc07/32u1VsDzt0Xc0v+2lPncR5wVYpr53ep/ZK1/l/z+VcSU9N++v8dgdGa9iudP3Ptp1dtUJ3vdVvaf45KdPTzu+bzNf5m7+9tPwAAADyn/z4+Pv53ew0AwMMotKCnbOsJ401/3sxP/EQ7H6cgsd9wOfmUbhkTFHhT1PAFqfyaidzF2cd1AcvcFe2nibcuhMZ7K8/tyhGt7ayPj8V8nr5+tP0AAABwja+vr+bz8/P22zZPMUMVAABcQ/c4DY1vmn7bzETcaRauZjKOkbptFANMt0V4NQpaaubr0WDgFe03TvaMP77pvTi3N7s1wG86q/0AAADwfJihCgD4FQqFMHPyOpoVp0upFcIhmHOcgmNNvMWC2rIuYDfu4ptxl78d0L6i/VIfT5Sq1+9/vK0BAABQ58gMVQKqAAAAAAAAAP4ULvkHAAAAAAAAgAcgoAoAAAAAAAAAlQioAm9E96jzQfeO053n6mhL3ceyaZefvqxtet3HLugejPVpP9q0/qncaw9C0Tal+h+hp1Ln9/h7Zmf3n5r2BwAAAADg1RBQBd6Es8WHrglBj+Wof8Jx3DqE+OCPMZXX9Nfrf9Qrt98rBa0BAAAAAK+PgCrwJrrONX7n09K7vmna4BvXze+roJnzejqzAmb1wbZHurL+fwHtBwAAAABAHQKqwBvQpdq983GmYC7YCqdo18TcjD7NTPROkbGfl24rjb7v4zJNK13S7Vxn67X0TbBlmobyS2lccduApfonqZxL5ZOl+kte/k77T2Zi2urv9VqWZkumcqQypN+tYeN6UVqpjdL6UvseVWq/Uv1lrf3W2j9fN5e++p/aM++HqX3Te2q/tX4KAAAAAMCZCKgCb8A5BZNiaGp842YYhqbV2zFs9ZPW5bRnq2CV+xks82Gw9F0zKPC3QLMbFRPUdo1t5zttO+apYFxn/2mdFj/Y624+cLfXUv2ToPKFdqyHyhPr8rOeS/VXoM71Y9nj0nfWJgqAjvWz5Jq26+MM3rTNXFtpa91rtBusfZTHUN8Ga+17hrX2K9U/WWo/WWr/1CY+S18zXafpx2CpU/t6e237x+pru7FvWif7fq1FfQ4AAAAAgKsQUAVenMJOCmJNA6QyvjW+r6CUZvbFMNUYZf2H0lBwLQ9m1YgzAnsFwRQgszRa+711MWQ5KMCVzXwMobc8VKZzgl5r9U/y8vUqmsJ/M20wV38F6tK+EmdEZhTA67TNSoBUqaVg6p5g31L7nqHUfqX655b6z1L7a9Pe6pHPjJ2rn4oQvKKog+Whd+bLCgAAAADAIxBQBd7EXEBMb7Xt0Oji8UEBTnutcNYYk5rb/t/3jlDMUnnnl3TrcvZ4MftCUHevM8o+l4ZX0K8P3+XPLyePNbB6lPLuLJGhtTZYuKT+GSzVYa3+U1uPgbrAMKgV7/vpVat0sv4xJjtuo9y9putumOELAAAAAMCZCKgCb6JdCVBqJmAY2sY1vW3nmmGMZN3W3imNPHi1R0xaoUZLSGnZzx+Xw2vZesl7jbX615rWXynq8nrdsjOVfW6GaSlvzfLUpe6apZrfP3SPvH3PNFeH2vonW/uPtlXAf8xppFdL/RMAAAAAgGdAQBV4cQo7Db0Cpf8GxGKoalBAU5d0j9uNr2PYKm6TGwNixwJZ3tJP9+PUbELdV9PFy7WXKUSnhy4tPfBozVr95+h+pKGfD+hO6x9TzN5TyfIn2ae8vaZxFsodJ3YG/yOoGlPV8VGA2SiZ0v1l8/ZNtPcV7Veq/1RN/8nbv7dN3WB5Z/1D6/tB6+/1K1Gea7eqONI+AAAAAABMEVAF3kDfK6CkQNbPYJHeUUBV9zG1jfS/uN1cQFV7ajsF1xJtlS7X1/1XNTlx7rJvzVpMl4TrAVT5LEZv23bt/ZLx2f3jD8tD/z8T2CtZqn+yVr5krv561Xfj9trX2xI65XNvO80+1YOU0lP4tSw95T/ej1TbKqiqy9aN7inbWdnjfvY6xH1/HptS+a9qv5r6J3PtlyyVX6l0Vt/gx/prCa2e2K8A6795LNE9bH2jPjb2s7XbEgAAAAAAcNR/Hx8f/7u9BvDCFKTyg2/Wnsa/Rg+tCgp8ToJ1axS604xLPcHddhzf3En5DzFoq3S2B8R+o/5X29K+tB8AAAAAAPW+vr6az8/P22/bMEMVeBNdp9mNw/fMxy0UA1MwTrMRH80rVtiHQ8FAedX6H0X7AQAAAADwWARUgTehMFrw3e1+nlrqxK29j5de7w3GHaGr4J2z/ON9RPfn/6r1P4r2AwAAAADgsbjkHwAAAAAAAMCfwiX/AAAAAAAAAPAABFQBAAAAAAAAoBIB1QvoAS0+6F6C5fsQaoteT9Xe8SCYZ/Dq5UeZntrexvtjnq+2/6Ttas+rWn+9/3L+Poer+je22/L3+9399ufDWfk/8vyi/wAAAPwdTxNQvTJoU+O387/aq9fv3Y/PXvExRH33o22Cb5vQ24CutYHok/jrx4/6P3f9+Xw55rfbj+N3DJ9P9B8AAABsxwxVbKIAXui7pwrW/TYbi/3ajJTWshyGtokPeLf8Ywn0yzDo1dtQbZwNeINXRd+rbgD9G7gO5xcAAACu8OtP+ddsurmZAV0/zhoQbdPd/kvb+jA0Q/AxgBTs/12wVwr0Ge02+N72U9Bv+N4mDwK6MYOq/CW+vl12Zll/p53k62VumzmpbN7KH7xta2XUHl5lGsZyTcuv0F0X89Krf9fL1vrVsKSsnMEWFW3M67fLn/btLP8uNr/7J3/Jj0+ev94eXG91s20t/84SVjqDpZOnUXP8e1uf1+sRdEys8o0brA5WVN8Eq0/XeDc0XkWZKX9ef1k7v0T7+sGOq/2e2nuwtpq28Zza47fWf/I05vrtWv8pqcl/mv60/dbyP+P8K+VfOn5rnqX+KQ37dLF9lI5KcX9/7fwulW+tfY4en5rySUwrlmm+fKkMc/keOb7JWv5rx6+kpv3Wyp/yftW/37WW8rfiW92t11t9U3+Ze29p/9Q2pf63pNR+Kf29nw9p3dbjKzrGrY5xIf+SvI7TflHbf0ry4yNzx2iufZKl4ytz7VN7fgIAAKDspZ/yr4GV04w6+3KYXmuZfpnVF9/eBVunQbBrOn23nHwBX9LZvt1gX+pvaaf8pCZ/vdZgMK3zg73u7l/Cp+unZa8RbB8NOrS/VbBx8Qv1/cu078e0tbRxgKHya+3x+tXQ5pqF6br5gfxvl98rfxtwxW2z/EV9x2X5u5jWPX9NWkkDPqXjLZ1WgzVN/zSl4y9x8Gf5/tbs3aG3/K1srWvt9TiIS+Uv1V9qzi9trWOpY+UtnZoBbe3xW+o/kvZbCiCt9Z9az3r+1eQvRz4f5ek/f1Q+SzKmpfzHCh5un6vLJ8XPn1u+awHSI8e3lP+R86e2/Y6U/2j/0uur/36vWcvfPqrtb8342Z04+wzvBzs29r6Uyi9rf//WVB8/pb/z86FEaafjm/6uqCwqU7L296Ek1Wvu/Kqt/5rp8cn3rWmf0vE94+8bAAAArvEyl/zr+3X6V/vxaubxX+9r6Tuo/Yyvt9Aeg+3ch/sX3KDAolP+9uXWfk7X75HPOBisgmMszAYQ9v99q8FAnr998W9te3s/2Vu/GhoMt1Y+XTK39EX+t8vvlf8twJfnL9PBWa/7i2a02g5g3C9euX9Lp7VEVKK1459TPoMNjh75EI9UT1VJs1I1czQNxJNS/UWbrJ1fykYDQw3stgw2ay31n1pH+8+znn+1+ZeOX8lv11+lXbskNy9fnv+j2qdkqXxSc/6VHCl/Tf5X9d/kaPvvLZ/2eMTf7yWl/PVT/ximIKrOt/jTttc2aqPS/sna378zHP18WDImo79fY59M7aG/vbml/H9bqf+U2qf2+Nom+hlfAwAA4HmcElD1+tLYh/ilWEsXvxzfv/yV1tfIB2Ha2ytgVTFDTjSg1KwAPbxH+ccv55X0xV3DHAXJUvk1UzMOfWyl1lvqqYCzjtQ/pq/ZKre6i161ym8cVRyqX4lyyGfPbPXb5Zdp+595/KdSP/UxMPTv+isoz97y1GX/cWZT1tZSU/9UbtHa6fmlWTIK1l4VeDji0v5vbfer519F/lI6fnv9dv1Lfrt9ahz5/EmOlL+U/yOO36HyHyifusDRv99HlPIXBdhaBdjsvRSAsw3jupr9f1Nsv4rzb0ncy7aNsy6N9tD3DQVNX0Gsv0q9UN5S+2h96fj+5ucrAAAA1p0SULXve/aF+H5JUhe/HN+/9JXWP4K+lCpvXVLWtaH6S6m+9w72n2ZPpfKndJYGhNPZFUfqP37vth/6gn2jV8P4TX18w+ytX4lyUN33zrz87fIrL11+q8m1qf23zLDccvzjpbU2GHLx/nDK416/R1Cb6bLGmOutbY/WP9HxUR/QLNUtl5I/ymX935rxV8+/yvyv8tv1nxOzViks/99unzl5+VSWM86/vWrzf+Tx22Nv+dQFjv79PqImf9XE9fbT3lPWfa/8x/rtKf8jqXxnnH/qkgoWBlt0FcTa7S+eXd5/Su1Te3yf/fwEAAD4q57mkn/NSEiXvW0Rv7LHfe0LqNFsnOn9xXLaXpeUTS3lry1bzQqIlyv+S/dA08zA9rZeA4O5hxzsNU1fdL++ftAX7pl6aNlQv1r6/q4gYd+1m+r32+WPW9vgJc14US9x49M7qqgka8c/UZBisHZ55Mw3WRv8a93R+ufiGM4GunuCqkf7X62l/rPXb/ffrfmf7VH117v6BxvNziq1kWZ/p6DTWe1zZv/MyxdTO+n822Nr/kvHr2Rv+8VSxX1Vsuf9+63SaYbg1qtrSvknceahtYFmZ+ZXAdTuf9Te41c6/0rHN7arrXP2d1PbaHnkPzgkZ9V/2n9K7bP1+Ko9z/z7BgAAgGOeJqDahSE+oTxdmrjlX+B1z6nODXG/1l6H+IU2fpWPX4/zy6ni4iyP+FSMu7X8dX8yzQrI00jrlUuwAYJiTHpfT6+dpn2E0u+sPnrCbco7tHq6sfIYZ0AdrV8tS8La2Vt57EVlQO23y6+t+q6zRUGOvvG2hE6l0lJn7fiLBlGqk9pmzPF5nFH/nGbKqLNvna289/jl/UMDVbV1vn9t/9lLrfSb/beU/9V+u/5J6r9a9ACXFHQ5q32uKp9SWTv/Sv37qC35fy87zp8j7fcKf7/j1rZe5VGAeovS3w/RvyPEbazvKtCWq9n/qCs/n9aOr3Jpg/K0PnrbX8tZ9as9v47Uf63/1LTP2vE96/wEAADANf77+Pj43+01AABPQwEFzYjWE76b/nEzO2s9e/lwHt3SRVchdPEfks4J+P11ccZqCI331p63Kzv0TxGdnUtjM3NOAQAA4FpfX1/N5+fn7bdtXuYp/wAAAI+koJ9mLhJMPd842Tf++Kb34tz3YZzBCQAAADwrAqoAAAAzwtA0eqjkbzxM893FK9t1SXt2Wbse7JjPWAUAAACeFZf8AwAAAAAAAPhTuOQfAAAAAAAAAB6AgCoAAAAAAAAAVCKgCmA3PU5E978bH8n8nvR07+/7+8Wb/v0rtYMPWv/zIStTnWuqtgMAAAAAAM+JgCqApu9c03oeAjLHh6FxzjWDAsc4lZ6g3vXqd3rgz0ivQt811iG/n7CeAtppCbbUrFfIOn/gjZZO67L85rbhXAAAAAAArCGgCgAHDbY4H5rgFajTbzhDesK6AtpN330Ht71+H6y9C+sTzSzW+3Gx7ToFbBsXg6lBM4v727rbQvAcAAAAALCGgCrwwtLsOue6pu+13GfnJdMZePkMvXQ5uy7Zr7m0fUmexzR/0QzYlHaev2YYBs1QzLafey/ff8vl8nvSn85gLKlptzz9I22rZVo+5a8ZlXk5ts6wXKp/ynupf9W27zMJ1n9aBb1baze9Yf8/DATBAQAAAAD1CKgCb8B3rnF+nJ3XKADmx2CWAkbTGXitfg+aodd+z+hrstl9WhRg2yIo/9COaWX5iwJ9Lp8BGPMa8+8V1xr6ptV+N87pfSu5vS8qS2f/pf39YK+7uoBhTfpr5atRuiXAtPxb2rZ0/JIYTHXB1nt7bfmpKJUBzZr6L/WvpfYNvdp3W1D3N8QeoECyjskb3wcYAAAAAHAuAqrAG/Ca9XgLYGm2XRtjYW3j7P/7VsG+e3ArKADYapZhfWCvJM667MeAVJ6/KOCY1olmOSaaFzjY7wrCafv407k4i1BrVcLBfu9/lF/ba89y+Uvpy1r5jpor/xa1x09VCDHIOVj7652xbjVq6r/Uv5SL6jZt3y1tqFqk2a9ats4Q3sp7K18WUFffVUA1Lpb31hnEAAAAAIC/h4Aq8MYU+BoUPMoCbHrVKuo2RsUup0vA8wcHTQNWChC2ChA29wCwbRjXqYgK0+WXvOuS/xi6qyz/WvpSKt8Rsf1V1jHKuVnt8cuDqCq912zLyhmiR+uvpkwBXrVvUDBUl/xXUm66pUCaIdvZMr57nhQs1aLZwtN73arKKe/ObbutBAAAAADg7yGgCryxMe6mwNE9OKRXwxipG9+4kPLynS5RHwNWWqaXvMeAWozKuRgj7HW5+C2gpiIO9p8e+JT21zJ96NCatfRryne2NguEllx9/M6ov1qytfbVzNR4O4XYtNf3rS0UJK6pn4oefNc4tXk2AxgAAAAAgBwBVeCN6R6XTve4zO5p2mm23qCA5BhUFF3GnS7bPlNMrb0/9EchKtfdLy9P4sxI58bLxbPL21OwLr8n6x5L6deWb69p+yuWt+WBUbXHb6+z6q9bKOi+rYPrftye4BXFoHB2SwBRu+i2BFffjgAAAAAA8BoIqAJvTGGyzusJ8EMMKmoJrS55VoBuDKJJF4bGN7rse7z0+6zL3pVK33VxVqDS9cq/U773vEVXWHet5W1lmwYKdf/OuO5W/j3lW0pfr9bKp4Bjut2AAqEKiOb5l9YrldCp/cf3B2/lj0+MqqP9a47fXqX610oPp4qByJjqa5je7iAuTu19TvsCAAAAAN7Tfx8fH/+7vQYAYDOFUYOe/h8UoTxvhi8AAAAAAFf5+vpqPj8/b79twwxVAMAhnW+b0Gga7mtf7g8AAAAAQA0CqgCAXYLXQ6h0KwNdJq+ZqVwmDwAAAAB4f1zyDwAAAAAAAOBP4ZJ/AAAAAAAAAHgAAqoAAAAAAAAAUImA6pPT07P74JvG8eRsPB797/V0rml86O2Vjt52R/d/R+k8WGsXb2/3fYj3lNXS+vsDumr2f0ap3I88/6f9L92nV4vr9P5zWjv+z25L/+TzBQAAABj9mYBqb9/in3mA8+zlw3NKA+E0iNfS2dI0Nmrd4Or+d1X6NfXPAzJpSWXRVn3f/Sibtg9Ko/W3d1CiIMlc+yYp2PSsgZSj/VP9yIeucd3QOOfiMigQ+SDv/PfDh7FNH9meObVt3re1TAO7v338AQAAADweM1Q30sAp9N1TBVsUzGDGx9+mAX4ayDvrn536aBZUfHel+iv+8b3elhTsaO2UGYbW3ou/jWeQfhl4Wn0tBaBbtb8P3+3rm5+fkc61TRd0ROxH+3r9Ur1B9QteZf+3b6gf9eo9/c9AW1LaH88rfbY09pmSgrsKsuZKx//Z0T8BAACA7Z4moKrxST4DZDrbJp8lMg0exgF9HAzcZ6Kl/dN7Nir6sX7PpYO2e9P1oemCvRjG9FUKzZBzlr5muintudltefnzGXS15Uv5aN00fW3qBwWRVKafAz38PcHOj1aDYo3yb67sf2tq0s/T1rJnhm1urv5rYm6D6uQaZ7uEPpYorqu19PmU6lb6fFj7/EtppHVz7ZPnP/fZtvb5KaX9l6gUrfeN1z63z0TpgrV/9hnZKgilILWlr9dbrbWPrNVP/e7I34el92vV7L+lfnvO39LxL8n7YN5/0/vKP1FdUh5p/Za/j3va+Gj9fktN++i4LvVfyY+Nlrx/2C6Wnm2bpTd9r6Z/lo5Pqf2PHl8AAADgGT1FQNW+a/8zwym/XE5fxjv7L61T8NBpulMmDgqc9vf22rbX7jZgSDNKLJHv11qU5hbaXAMFXdI3dylfZxtoTBnzsvV+LEBcp7K5fsw3LrEsGoC21eULSj9oJt2YvvM/y6BBSmvvP9vsWfy+R/S/JaX0dYYEnS9Z+dSPU/keZbCBvgJ9rWvt9TDmXBuQtbqUPp+82s/f2mLSfmqKpc+/mvaZ5j89dqXylfZfUzMzT0HqXrNSbZthUBuo3GPZa6g4v/n3Ib0/97mfglHxb4PVKQXFfgS1VvaXUv2Onr817VOSn/+D0ovlu+dRstb/p+XLy17jjPrtVXP8a6x9f5Cl/qst1j4f7KOsaYfxsy3R+dcPtqf+EcmU+mfp+JTav7Q/AAAA8KqeIqCqL9n5jKacvnoP+hIe7us0A8052z4bsGj3EAdpw+1q3fjjFBrMpAGvjQZu7/4UZ13c1gUNUFr7/XZpqwYs+X4acG2Vp6+gxBjr+RmUUD4a7E5nDOFv8Tbgng6YH9H/9kjBtuHH+f3z/NlqWn/RGF71Tks6P1I99Ja3z5RB/xiR7VdS+/mUz+Cctt/q51+hfebyz5XKV9q/pKYfxADObdZvbPqNx/aZ/z6kYJSCXL2lqZmGsby2qL411uonR87f2vYpyc9/ZW9HNB38Kkv9f658W5xVv73OOP6y9v1B1AXm+m/p80Fb6R+L0j9ixJ8qr7VRSmNN6fiU2r+0PwAAAPDKTgmoen2p7+9Pt53Ozlhbry/4Gl1pkDVHAy8NA/JL2jQbJA4NsgFdPshQ6l4Bk4UB6hbKYc8lqrlp/ePg6SKpHRRUGkuPv0CzflL/0mwgDfDT+fDI/reVTmHdwzSVVfSqVUfOzu+StfqLqqxAR1ryAJWyisGQwfaflEVWP79sXc3n05K4hW239vm31j5xvVJZ2X+tfKX9j7KU4+en8hX9bO117Weq9lchn/Xvw1Gl+smR87e2fX6LinCk/z17/c6y1H9j+xU+PxVgbRVgtTZJAVhrqLiupHR8Su1f2h8AAAB4ZacEVDV7QpeipWDFdHZGab20ty//U/oePth/+eWQWrzSeMCAWMMA5b1l5mc+iFCtdPmeJremsl91yVu8NNQGM873/wSU8N4UZJnrX4/sf3uM43710/v5r1dDPInq++9S/bdQGrrsNeaa5b32+XXW59Pa59/W9snT2lO+pbLMUVzGWlwNdHvnp3Fi3HhMUsBFn6FbL/t/1r8PZ1mqn949cv6+Yvts6X/vcvxzqn5tEFKblD4f9Enl4nnnYtpptvhej/x8AQAAAJ7Zr1/yr6/8uiTNaxpONqs10dd+zWiqvWfjEs0A2jqIz2lSULysr2ub6QNDpuIlx7dBS8zNBhBpBpJq6Lp/g7JHy6dB9mDlepaZV3gOj+p/JUvp6x5/mhmqBxslup9gP2hAvn/QX2ttcF8z8D/6+VT8/Cu0z3S9Ym3551OpfKX9S+IRsvR1j03bMb4nneqjezza/4VB9968B6T1OeoUBMouaV5SbB9bnuHvw16l+sXSHDh/z2qfnPpf6K0k9ncmlirmPZZd1dhy/9Iz+l9N/VQ63d90671Nf0P+/aGk9vNT/5ChYxRni2+4/P5Rny+vdHwAAACA5Cnuoar7kOlBCumBDlryL926/1rX3i95jIMDRTg30D3qfKM0xnS27i+aqdY533TeXmTBA8lnYOmS4zSLSLn0NgBO670tobP9x6HotyPlU1ahtVytbGOOwOgR/a/GUvoqRWfnerBzSu9rUV9O9ws8i86RlL6WLUGbkqOfT2uff6X20frQaf1Yv8HbNvGJNXdr5avZvySmpfLHOtzKaJ+BCrgpiNMrqpIdS/06fVDOmt/8+xDDWrd6Kc/Uj2rTr9l/rX7a6uj5e0b7LP19E90zs3Nj/2ztdYhl/1m+Jdpqrf9Vtd8J9VuT6m6JWjnb09OXtfZdo/ar+fy0wzK2ka3LA62l9i0dHznj8yVubetVnvivMAAAAMAL+O/j4+N/t9fYQV/99ZRdPQHZRgrjmwAAACv4/nCnYLWusunibZXuQV8AAADgSl9fX83n5+ftt22eYoYqAAAA/hbdJkIzqwmmAgAA4NUQUAUAAMDDhaFpdI/luYeVAgAAAM+MS/4BAAAAAAAA/Clc8g8AAAAAAAAAD0BAFQAAAAAAAAAqEVAFcDk9zboPvvFB98jTb8s611Rt9wip3E18WMpj7K1/erhL3/dxaX24rTlGT99Oabrub97jMPWDZ+mXz6amfdb6J+277tXb9+r8j6Z/dflKfjt/AAAA7ENAFcCf13futADkb9DjXHzoGtcNjXMuLoMN0M/gw5jmWnpXtl8KNqRA0TRY9AhD/DHof+m3b6Xyldaf8Q8ISmMp/TMcPb5X9s8aV/VPpTv3jwxL71/lXdu31tr5CQAAAFyFgCqAy2mI62zAHbyG/gx4z9a2TdMrINc/LojzCAoxhuAb349Bot8IFq0ple8R5dcM4rbr4/mV0vdNZ5k/ro1K53epf77q54OC19bcJv6Ixl9dXHeWV2/f386/hPYBAADAHgRUgRenoE0+A66Lg2oNzJp4GWjow4/gytx7mmGU9p/OlosBmzjYu1/6nc9Gqlmf3l+atZXnvzTjK62flm9afy2WyLiyIJVN26+VM88jaPtJsGqtfDWO1L9Gvn/eP1K98vayTavzqG2/vWIJ2rYZxqlni0rtc7T9RHVSOrlS+WrLv5dK03rfeLX3cD/numD5Zb+v1V/Hben8rTm+R497zf5q9rSNlvzzRZb6d035ZW//iEk3+nHvF3PBzb3tLzXts6Zm/yvbt5S/WmLp71da5yz9vtcy//krSlvl3GqtfFvyn1Oz/5X5AwAA4FoEVIEXpgHXdAZcq9+DAmQ2UBvs52AD5GzA75zetz3tfdEgtLP/vme3Dbp09OeAOg76nGbAeXtt22s8Nx0ULqwvXTI+zX86KC6Vr7O8u0GDznsb2E63tetS2bR9eq1lWoZgv7vQjttqgOvvdalpvzVH6p8G4wrS2JH/HnRPgx4unyEZ6zr2j6Nq22+v2EOtLjE9N39M19pHSuuPKJWvpvxHlGYmSk39l87fmuOb3p87v2v659r+oqymM3Dzbdf6d035a9pnSTq+MY+b+Pna69waj8mR9pdXb9+1/NVKa3+/Em/pOX/Ly9bnn79HldpHjubfaX+rUtrfjwc4rqvJf21/AAAA/B4CqsALs7F707cajN0H6EEDtNYG1Hrffh/igF+DrzYOwRRcDXGWlG2nn/Z7/2N/ba89tXZkSdo4ToO4+fvUldYvmcs/V1s+jTPz388WZw71GuRbeayCCmSpPWvLt2Ru/1wp/TQYVxCm1/G0Ubd+72xJAR1tk8ouCri8kjTzLC7qy9ksrlL7lNafYa18Ulp/ROqHS2rrv/f8LanpnyVxexUwm3GbO9K/z+gf8ZjGTRXSHD9fUxlq09/b/s/eviWlv19JPgM7//x9lKP5x3P+1oZz9Ss5uj8AAACuQUAVeGEa2A2abZoNwPWq1ah8HPXFAVirAZgCgPaWBrA2Ko7rtInCrPkll5rtFEOvt/0lH+RrT6/pMtkAvLR+SSy/8hoT+EdN+TTg16ymNDvrzIBVSW37LTmj/iXeNsuf/v3I9jmLipwCRZ0b2yC2TKF9zmi/GkvlS0rrr1Jb/73n79ViCa2ca7dMONK/z+gftkujcKYd4Ms+X68SS3Bh+5aoCUp/vwAAAIBnRUAVeGHjuDMOQcc3TByejiPV+LuGv04DfBvw6+38clRtMth/+eWeWrwtvxVQabOBdG350kwtvd+1tu2Jg/41V7TfnvovUUq6PNR2/95XMyVflY5q8F3j1OdbV2yfR/fvafmmSuu3iqe1UlV9Zjy6/lfJz4nc0f59RvvomOpAjPu2T//5Oueq9i1R+5T+fr2bWDXVcmf9ju4PAACA8xBQBV6Y7pHqdI/U7J5uut9aP2jAPg7qJc4sssFwvBw1u7xSW7Ral+3/SNPya6yePxBla/k0xNQtDrbSDK10W4Qtjrbf2fWfirWxEXiagaZQiOvGS0clvhvrPgZJNBttz/1FS+2n1DWDOL+3414xaHW7B3CpfY623x55+eaU1m8RU7D66R6/1nHie6L7Cuv3s+q/9/w4Kp3PXvWZ6TexNCv9O1kq/1ntE2ee6hC4cZZ8clb6V7m6fUtq/369E6/bM2RB962O7g8AAIDz/Pfx8fG/22sAL0iD3C7eX20cEAcbpKb78SUafunhH6HRQ0/m1/0IyNhYLc1E0kNJQhsWZyatrZ9LW/L0NZb3Mchr6VixdPn+4PXU67Gca+WbWzdX/5JpOtP09UAqe2NcZ8UefF9VvhpH6p8ojdbS6JzSsZUZbZZm7KpFegVMbVCumZJ6J89fWw16v1M/6eyd4Z+8ZZr/tIzT9XqlPtrbq06XM1cGA/KyJdPjO81b8vxL648ola+m/PnxSbb2YZ2DeSBeM7bTQ25K9S+d3zJNI+0/l7ZM21ftMNc/a/dfq582W+vfslR+mSvDNP8SbbnUv0vpH/38lGdt35r89XPp71faf+3z94hS+Y7mP5d+Xvfa/Jf2BwAAwHFfX1/N5+fn7bdtCKgCAAAAJ5oLyG5xdH8AAACUHQmocsk/AAAAAAAAAFQioAoAAAAAAAAAlbjkHwAAAAAAAMCfwiX/AAAAAAAAAPAABFQBAAAAAAAAoBIBVeDNdK5pfOjtlZ4RjBpqqT74X203rwc598GWPi6tD7c1OOP4vHL7nlF/AAAAAMB5CKgCeHp95w4FwI7ufzVniw9d47qhcc7FZQh+XInDnr19n71/AgAAAAB+IqAK4M8bbHE+NMEr9KbfHqvV7EnNPOw1AxFTR4/Pq7fvb/dPAAAAAMBPPOUfeAOa4da47vZb04TBFq8ZeEO8QDhoNl47zshTSKmL296DS+Pu99+9JaAZfGlfFxSMGtPXtoPvY/qds+1c3/g2xPQ7S6OzzYbGNV4z7oZx1l1evrmydZa+9rONYrgo7Rt8OztzT0WNad7k6ef1q9k/32aarqy1X6n8tXQ5ehuCpat9lMPdWv6i8ne3/1I90vErUVVLx++M/JeOf42141Pb/le1b037yav3TwAAAAB4RzzlH/jDFGBRsCddyjwXcPL9uE5Lq9+Doitaq+CLver6OAMubbPlcmhNmksBV2+JeT80rYI1mhZopuXzgy69/hnM0X7O9tP6xvJ2MeA2Bq7ie0r79lpLXkcFnFxWPxe3HetXs396f67ONe0nS+UvUdl1P0/dG9NSttdd/L2LMyn1Tl3+MR2n4+fttbW3sr8F2ErWjt8Z+dcc/zVrxydZav9HtG+p/2vfV+2fAAAAAIB5BFSBF6awy6AATJgPUDnFeVoFY+7rgwI0bd809r4oyNLZe7ZR/H0r7WoFaIZhaOIzc27ptG07W76g4JbTTlnQSFPvbvspnTEWdQ8IrVHASQGpRAGzs9S0n+wtfwqWKUjXa16jGwOPnS2Wc3X+aoI069Oyj/9fS/suHr+D+WuLmuN/1FL7P6J9tW6p/eSV+ycAAAAAYB4BVeCFKTAyKDAyRnn+EdcPCpzc1+tVq+1tZQyp2P8ryHIF5a9c9IRyBZLSbMGYs1aewFsy+dPb81sXHFVqv6vV5j8evnEb1d7rku9bAO2Io/lrk6uP/xFH61fjnfsnAAAAAPxVBFSBN5NmxskYV4khlvENE8MvYyRmfMPk+5xJWQz2X347AS1eMwTPCPjZ4jtd4tx8p51fLn1Ubftd5dXz1yZXHv+jrm5fpfXO/RMAAAAA/ioCqsAL64emcUPftLd7IipWkz/kZrpeOtuoHxTQ0kXQ+r++8ZpGN3MJdgzJDLpUelynzbbc/1Jz8VrNysvy30MzaJ2ub84CRxJ/a+8zbFVKNz5954el/UtK7Xe1V8//rON/lavb91X6p8ql+8ume8sCAAAAANYRUAVemMI0odPT8BUQ6ePT9/v4xJyR1nde64fvS45D233fD1J0j0c9yCY9sEdLHpTVPS/1NP/4vr0Ocd24bw3dv7Fr75c8a9l62bPu8eobpTGmk/bXz76zciuIZO97W0Knsv0s39L+Cl+ly9FVZ0vmx/qa9rvSO+R/5PiXjs9RV7fvu/dPAAAAAPir/vv4+Pjf7TUAAAAAAAAAvL2vr6/m8/Pz9ts2zFAFAAAAAAAAgEoEVAEAAAAAAACgEgFVAAAAAAAAAKhEQBUAAAAAAAAAKhFQBQAAAAAAAIBKLxFQDb5t+r6Pi+v627s/tbb0wTc+aL1+wytIx80O7PgGngrH5zg+v46raR9rZmvj8N3WrQ+3NbTvUVe2X835cYa9/eNR5XtmR4//0f2vksrF3zcAAADs8RIBVR+GxjnXDPri+0v6zv0YgD0byvc3pQFhGvBr6WyxEWJcX+vq43Nl+nNtkOdVWm9Fu3Sgz+dX2dHyqbf70DWuG9v60e3N59t+jzg/jvSPZzh/j/rr/ZPzEwAAAFd4m0v+B1ucfWEOXkMn/YY91Hqh7xobfYxvPAEbC9mg9rlmtjwbzZxKgQJnx6/TMdwYVH1F6hEh+Mb3t7rflhT8KK1/Fnx+rSu1T2sHutfR7vU58S/a95hXbz/6xzFH24f2BQAAwDt6moCqgmZLM8hKai7J0wyFtE0enNNPzV5zrrN1Wvom2JICiiltXRJ25NK/Uv2WyifKV9vn+af9zyqf2O5N14emC/ZiGNMvtU+Slz+fIVlbvpSP1k3T16Z+UJBQZRrTxbJg/afVoFVRhJsrj8+amvTztLVsmWEba2j1HIb5QXpp/VlK5/eatXZP/vLn15FyS83+W+q35/xZa58zLJWvRupDaX8tqk+yVq9S/5O59LXkeZRc2X5H+5ccLZ/t/r2/lrz/TdsvP76l9t/TP6f95+jx/83+U1v/PI9p/nL1+QsAAIDX9BQBVQ0mWvuCqxkMe2aQlS7J05fhzv5LaSs457qfA2Zv2zg/pmPfvO31mFZK2xL5fq1FadYq1a+mfHEw4LS/t9e2vXa3L/1nlE+0uQYKuiRyrh0720Djl5iXrfdjAeI6lc3lMwBjWTTYaavLF5R+sHS0bdb+iQZArb3/bLNnX8Ejjs+SUvrqQdMZpDrOqXwlcVisga7Smxlgl9afQUnz+XXd59da+6QgSfzssv6SgjJ5UGhtfynV7+j5U9M+R6yVr0Zn+3eDglr3NFSfpNR+stT/RJ8dKX2v9UOIaeZ5rDnSfmf0j5Kjx9d2X+x/tZ+PR87/Uv85evyP7n+k/9TUX9b+vl19/gIAAOB1PUVAVV9SO31Bvs2KPJO+Ng/6Ah3uaWsGn3OasXb/Uu1tQJPy12y2cXJf3YC0ZK1+teXT7iF+yR+sfHon/jiFBlRpQLc0SIkzOm7rggYmrf3ejuWbDm40YN0qT3+p/ZXPYIMbzSSxHW7vYsp7a6PB2m4Yj8Ojjs8ezpLorR8NP/r/z/5VorJp0BsXq1ssa6a0/ig+v8rl0+5XfH6lIImCtL2lqZlusby2WM8aNyooHb8j509t+xxxyvkdi7K/PEv9b/y/MagpqvVgr9txg6Kj7XdG/1hztHyy1v9qPx+PnP9n9J+jnz9X9Z9aS3/fzji+AAAAeF+nBFS9ffnMn547vWRsbX36wqwvsVfQF2N9Lc8vGdNslfhV/aQv5UfqV1u+cfcxDaXuFVCcGYBtpRzaOLjcb1r/swNWudQOChqOpYekYKEWzabJ71X3yOOzlbr4oODvrayiV60O9IbzU1VKgZLO/XtZZmn9XjGFlfP7qNrPh6uU6ldbvqs+v44q1U+OnD+17XPE0fNbATXNekyzN8/8fBgP+xjUFNVYf29qz5dHtN8RR8sXt7Dt1s6vMz4f1zzz34dY6wP956ijxxcAAADv7ZSAqiY46FJOfelNQYtx2DwqrZezZxwk+t492H/55XRa0qVjZzhSv0eUb41lH/PeMvNTVbEheCy8aqXL/zW5NZVdwb0rxEsTbTDjfP8jYAgdNmuXmfZ/5PHZQ/2/bXUc7+eHXg2xk20/vjrrgu8apzRnZriW1u/1yp9fNZ718+ssS/XTu0fOn6vb52j5kjSTU+XqWivryUE1FUnBKN2fUpdv115e/+z966zyrZ1fZ34+Tp3Vf662t/8c9ez9DwAAAL/r1y/515BAl3B5TZO44BIqDQtbSz+/J9YemhHhdP1dNrCpUarfb5cv0fg5XhbZtc30gSxT8ZLyXvlopoaxwV2aMaIauu7foOzR8mmQN1i5nmVm26t41PEpWUq/t2K5wfpR1v91v95+0IB1X1BH+eS3PJgqrd+Cz6/fLd9RpfrF0hw4f2rbR+lqhuj06o6S2vLVSu1xllivGIQaL7XfGrA7q39d5Wj5iueXbXDG5+NS/zy7/5ztaP9Jlupf8uz9DwAAAL/rv4+Pj//dXv+qeB/PLJCnGTOahaCvv3oogx5gklMAUF+sS+tlbpvp/noggb0xrtNYJc6C1PbjQGOaRp5+jaX6yVr5RPuGNqzmd7R8ifbw1g7eW72HUCyb6GWa0aTW6vXABq/71qk919svvb/W/tPfcTfXflNXH58aS+mLfnYx7fF3zfiuTVtxCB/vb6ccRvn+pfWSt0+ypQzC59c9bcnTP/L5NZe2TMuv49zace6cymgrb2r3X6ufNtt7/shcGab5i34fnD57Lf0N/2hUU74lc2XL+36p/dL6tf43bVuZ7r+UvsxtM9d+a/b2j0eVb63/KZWlz8eU95HzX/+31H9aHb+V+pfyP7q/SrTWf2ot1b8m/+m+sjV/AAAAPK+vr6/m8/Pz9ts2TxNQxXOaG3AAAM6lwJFm4Xfxtiv9+OaLUyDThdB4b/W5BYkVhlKAcKwmf1OwjP4DAACAqx0JqD7FU/4BAPiLFDTSQ4HeLZgqrf5FLv6z3J3eS/fgBtbQfwAAAPDMmKGKVRrKMEMVALDH9JJthcG23tYAfxf9BwAAAFfikn8AAAAAAAAAqMQl/wAAAAAAAADwAARUAQAAAAAAAKASAVUA8V65ffCND3ogjn57HX3nftxj79VZdU47Dum4jo/Efl81/Tc9/Knv+7jkfaZm/2f26uWvsXb8AAAAAODRCKgCuNy7BT2fzbu379H6OVt86BrXDY1zLi6DAs0P8qrHJwVqUxBTS2fL2KIjPTQoX68l1VVb9X33o+7aPiiNtr79f/v4lfD5BgAAAPw9BFQBxCcnOx+a4BW60G/A6yj131azGxUeVCBvxqv3/6vL77r+O5Dp+q7pbLF3x5XGVt/XZ8FOtfswtPZe/G2cO6tfhm1lLB0/AAAAAHg0AqrAC1OAQjPInOviTDDNDpvO/tKMMM2eymeSTWeMpfcVOMnZKkvPts3Sm3tPM7RSGvkMtpS2Ljlfyyff/8hly6k9pm2wlH5t/UqW6p/Ks3Z8JN9/2jZrats3lUPrSvnvaX/b/Xt/LdPZemvpq9xL/bOmfmv1rlGz/5b6Pbr/r6Vb2/+2CFa+VkFbRTkrqERuUJ6ucbZL6GOp4rozpDqmNpibQbvUv3RcvbVZ2j+109rnx57jCwAAAOD9EFAF3kBnA34b0zeaHWYj+8Z3CgbcAx5xsO+Crff22jXj6jFg4MN4Ge3cJbS94iZD37TjFLPIOUtrsLQVJDFK2/X32WmawabLc5V/SruJ790v11WAItHrzv5L6/ygS3t/BqxqqLbB6tANVn/lOYxprKW/VL8Y9LntX7JW/8Tr+PhbW1gZnf8ZrMnLl7dNSU37SlD+QTMFy/lvbX9l1XZ9nCGZ0sj7Uk36S/2zpn7p/bn+m4JcClI6Ox4pqJgHxdb2l1L9frv/l8ova/3vEQZrb51jrZ1bg5108cyoCMiWjl86533W/q1+n5x/S/1LNKlX50Y8RtZO3tqp1bl/K9/R4wsAAADgPRFQBd5AnBFlg3oJGti39nt7H9TbW02IQZThdrVt/FGkrRQMUZBRAYT407k4Sy2loUBCylsU8KilEg4KQIR7AElpO6e064MSKlcKpubBjFL6+ql10/ptqUNN/TULrrkFaAc7AGOspp0t3xXy/lHKf2v7K4DUqQ1mAtC16e/tnyUpyKUgWm9pagZiLK8t1iDjRgVr9ZNn6P8lS/1vD6+2zP5BRXTKqd5psQ4X30/56C1vdRoUxMz2KykdP522vX3ODT/ab9vnn9bZAYjtYk1vq8a02ltA9cjxBQAAAPC+CKgCf0AeRFA4wCvgsRAgmlKAolWAQgG4WwAjRkhuvN7r70/f3nK5q2IWCmPml+xqNloMbd4CGjU6K4SCNdPAZE369tZ3AEb1Cwpk6ZL/Skfrb62bDtDDHW3/uIVtp2DUnNr0j/TPK5XqJ8/Q/6+mf6RI5dNsWgU40/ESVVmBzrTkAUg1XQyGDra/ArHZfkepiXSP1jxNvWqV6Un968jxBQAAAPC+CKgCbyYGGRSQWQkCbaHwgetjxCSm3Wf3QNQr3V5AtyRMwZQtl7uqiIP9l19OrSW/ZL+GZpENlq9mqeb3PqxJXzVprX6amRpvZxCrVtd2R+s/J82Me4Sz2n+pzGel/9uW6vcs/f9qCiLuqV9Oaei2BPHMUsVPoGTaVmndj49eDfFD8HgeR48vAAAAgPdFQBV4M/GS3JMf/BJnZjndA9HSzmaBxjBGe5/Bp1CD6+6z0xKtT5fV51Iw84x7OsaJY8H/CKrWpq/LrHVfxcF1TX75cElt/ZfoHq6audfeyqdYzfSBRzWW2rfkaPur1rolhNc0vplL1M86vnvrd1SpfrE0T9L/n9HaPw6c8Q8H0/NHdD/pfrAjseHWAkuOHt9E++n+r9MHZgEAAAB4XQRUgTegWVP5Jbm1s6g0/E+XGyuQp93mLmsN9mvXhqZvdansfZ1e9d2Yn/bztoQuhqHi+kT3oPSNLpsdL53N09f9HWPa9n5a9l5WG+93qPooqKrLevVeRfrp4VTjJcn1edfWf4m2Cp2eQG7p2L6DtzIosrvRWvuWHG1/tbkeBJQeGKQlDwqfcXyX6lfbf5fU7L9WP231m/3/aP3PkvJNS378r6RW7iyv4IfvvIN9RqX7pR51xvEFAAAA8J7++/j4+N/tNYAXo4CKZmSmp1RjH9oRAAAAAIC/5evrq/n8/Lz9tg0zVAH8eXqoVWg0TfQxM+sAAAAAAMDrIqAK4M8KXg+h0qX2umxYM1OPXyYMAAAAAADeG5f8AwAAAAAAAPhTuOQfAAAAAAAAAB6AgCoAAAAAAAAAVHr7gKqe3t0H3zTucU/u7lzT+NDbK+U+SuWYvv8bnr18QJL65SPP3zP9Rvnnzu/f9kyfL3z+AQAAAACOYoYq8OJSMEgPV0pL638+rb7v3D/vPZNnL9+7o/0BAAAAAKhHQPVB9OxwF58k7m6/XUOph75rmtaPb1Q6Ur5nnBH3V6jFg2bW9a5x7r4MmhUJPAk+/wAAAAAA7+RpAqoalJZm2KV1nS3j0PmutH8+iy9o/8mAO09/z+A439912v8u+HZxnWi9yptvt2e2mO1ubROaLtiLYbn9zi6fdvFDF/OeHhdcK/bStm2GYT4IlI6ZLjlfOs75uaFlen6Vjr/sPX9qyid5Ga84f2337/21rNXv1T5/ZKn8te1fqv+amuPqLP++1zLfPjUsm/gZxOcfAAAAAOBqTxFQtbFu09qoVDOE5mbYaSDr8hl4NvD2QfckHIMOpf0l2EbOBtpaZwnatvf1GmzbcPh7Xw2OXfdzQL5mur9+z/kwxPfXZg3GwbpT+b29tvS06YaggrJUIMZ1wz/5PKJ8CkS0tv+e2WHYL4Z/FOTRMZ25T2c6trbB9+u8D+gMms5w1XHMzy9ZO/7T/rXl/CmVL7ny/FVW7/z5s1b+mvYv1b8kpbv2+eLVPv5Wlkn71FBx+fwDAAAAADzKUwRUNZjtbFBrI9rbOz9pwKsBf6IZQrnS/hJnHt3S0Gy+NsYC2jifaNAgO9z3DRqYO834+znwnjO3/x4qfohBhMHKp3fijyoa7KeATt5O8sjy6TgNnfKy7WaCe7iG+raCRHFZmGW3xNl50LcKJuX9f7D3LQ17P1k6/kfPn1pXnb/y7p8/pfKXHN2/hlf73Novb58afP4BAAAAAB7tlICqjWdtkB3iQFvL9JLQtfXjuHn5kmWZ7p8HjGr2X6OBuw3H4yA4pa+ZTnrvNqpfL7+ts+G/ogDx973yQbpS9xqQrwRoEpWwdfe2nnp0+dJ2Pt6LUKXDI+iUiIG9uNRfNh77x6Dt7v1Dr1odyFv/l6Xjr01K58+VjuYft7DtnvnzZ402KZ3fa+WvcXT/K6mF+PwDAAAAADzaKQFVzd7RpZAK6KSgzjjsHJXWS7sQPNC7vtMlyGPASMv0kk1Z2r9EA+DB/ssv19XibUkD5pry5/aWZQ+N31X2LTOjripfvDQ4aKZYb6/VRiodHkm9Mviuca21fTbDdIn6f6tts+CPXg0xElU+fjXnz5XOyv+ZP3+2ystSW/4lR/e/mnoon38AAAAAgEf79Uv+NeQcNCtL06CyWa1JHPraADjNANMWrrsPmkv7lygA1WrW1cZ79iW9FcANfdPe9lesYfpAmkfQpDEN4vuu/ZH/o8qnIMtg6dbOrMV1nGvtuNv5YMc90fmj929n1Ldp/5BOwanBOkq2/5Kj50+yVL6So/mXPj9iaV7486dU/mSp/Wv3/23P/vmndtNDt7Y+0AsAAAAA8Jye4h6quvecHuiRnvKsJQ16NfzsbQCvAave97aELoYx4npZ27+G7t/XtfdLWrXUXtaqUoROT4DWgLm3QbXtH59YMlJAIl3OqzJpQL8l/S00k7Zzvum8vbg9GOUR5dM+oe1i3rb3+CYeQnG8/HLsuDgdbx2L+zmie3z6RtuN26bjqy06O+7B+kzaX8dyuv+aI+dPslS+Gkfzf+fPn5ryy1L71+6/hM8/AAAAAMA7+u/j4+N/t9cAAAAAAAAA8Pa+vr6az8/P22/bPMUMVQAAAAAAAAB4BQRUAQAAAAAAAKASAVUAAAAAAAAAqERAFQAAAAAAAAAqEVAFAAAAAAAAgEoEVA9qbemDbxrXjW88QOeaxuw+xbgAABG/SURBVIfeXin3USrH9H1AruofKd21/h982/R9HxfXKf/HqSnfM3v18gMAAAAA8I4IqAIvzLdN0/fhO2D5G0HLEh+GxjnXDAoMXqTvXNP6cPsNAAAAAADgOgRU38Rgi/OhCd7dfsNfofCpc10MWnpbujb8MxOV/gEAAAAAAHCOXw+opktaFRDqey19E2xp2vtstrRNmoHXaX2jwFA9XSaf9tcync2mGW5r6Zf2z8s4Lb/k6e+57DrffzoDsXRJtdarvPl2zOZ7TwqVhi40rrVX7diHS/1jen5pmV5iXjo/Sv2/ZO/5keqm8q7V8+rz03b/3l/Lq32+AAAAAACAek8zQ9V3rnF+vDS4Cd5ejwEDhQWC/e57W2/rtLT6PSjgUxc0ULCi7fo4Qy+lkV9+rECMy9J3ffcj/dL+ElT+YOnYurz8omBHZ/+lff1gr7v6gOZ0f/2eq7mkOgabnMrv7bWlp003Br3wGnrFUoe+aa1PSKl/dNY3ukH/qDH2Ly3WyW5ry+eH5P1/UH+Nef3sp0uOnB+pbipveq1leo5ceX4qq1f+fAEAAAAAANs8UUC1b5phDAIMw9C0MdbQNs7+v28VYLgHCIICJ61maf0MmixRkKGzfVL6UwrEKCCTaJZXrrS/xBlxtzR+lF+/2/79j/L3lqalVxFwmtt/DxU/xCDMYOXTO/EHEFkX08/4eqp0fkje/+MESt2IYDwJVh09P2pddX7KK3++AAAAAACA7U4JqHoFPbMH40wvaS2tX6PAwTAoeqAAwUivWkUFbwGbtfTjFradghBLpvvnlwvX7L9GRWztv/ySal2Sq/eqym/rBm27M/9k3H1MQ6l7XdK9EsDB36GAn2Z9p1tu5P1f1s6Po2rOjysdzT9uYds98+cLAAAAAAA41ykBVU2u0qXkmmkVZ1vZMobtRqX1axRnaHU/yDH0EOnVoGDBLQhRk367EFzQu77TLQSUxrj/9HJhWdq/REUc7L/8cl4tenhQCmhubZ+9ZcHfoFndg2Z193XnmKTL5dNDrVLQr/b82Kvm/LjSWfk/8+cLAAAAAAA419Nc8r9E94N0uh9kds/ArnP2vgIG5YCR7R4DS17TxGZmxcYwRnufIaYtXHe/PLe0f4lK2Nr++T0Pt5jWX7EYHiiFJeqhuj9n6K2/7giopf6elM6POTo/Q29bVuR/9PxIVD6nSPJY4mpH8y99PpTar7R/SW35lbJmIG+5OgAAAAAAAMx7+oCqAg6d1xPqh+9LWkOrJ3orgDAGKUqmlzRrSUFJhRf6zt5XkNbe90q/i2GOuF7W9q+h+8Nq1l/aV0vtZdMqhZ7abtnH/QZv+8cnSo0UhkmX+6pMCrhuSR+vLwXLdNwVMNPdHNIsyFL/yNd/L8766q2P1ZwfktZr0QOSavOXI+dHonuQ+kZpjOls2f9o/q/8+QIAAAAAALb77+Pj43+31wAAAAAAAADw9r6+vprPz8/bb9s8/QxVAAAAAAAAAHgWBFQBAAAAAAAAoBIBVQAAAAAAAACoREAVAAAAAAAAACoRUAUAAAAAAACASk8ZUO1c0/jQ26t2fMPoVR/8P+8fldJtXDe+MSP4tun7Pi6uU/6Pd1X9n8Wz1q+mfxzVW4dvfbj9BgAAAAAAgGfGDNUKPgyNc64ZFFgDAAAAAAAA8Ge9TEB1sMX50ATvbr/9Le9e/79+fAEAAAAAAPAaniagqsuely6rL11yny7LTttomV6inaffaX2jwN1dnkbQ+nbbbNQ8/S2Xrad8nZW377X8m/9a/Wv2X2NJ2/bhx/Zz763VT+XTJet5OfNL2FMZ0zot+fHZenzz45fW7a1/YtX7Tl/L9BL8vAxz6ZeOfyn9JOWzpw4AAAAAAAC43lMEVBWM6uw/XVavRb/nSpfcd75tukFBtXF/LZbIbe0YsHP9fZ2zdT5o/T3oFSxPF2w7Wz+oPDGvn+VYMi2/H+x1Nx8wW9IpfyuS9rcCN75T/mP5am45sLb/mn6wrYa+abXfjXOtvW/72vtSU78YFHXB1nt7bdvH7Mfylo7PWv1Ug6D6ZMev1e+T4+dVfz+mo/o7v9xWU7Zr03Z9nCGb8piWJe8f0/RL7VOTvqS6qq288hm29SEAAAAAAABc79cDqs6WwbmmD8eCR4o/jan9SwG7PICnGYJTcWbkbZs4ObDRj3JAcq78IfRWnngR+/hGhTz/oABjq/yv31+lHKzCCqKq1vGn1Ud10Nra+qmJQwwyDs2gVZPL9teOzxoVq7d6DD/y/7d+XvW/BSAHK8B46MrHTxTg7FSBlQBm3r55+jXtU5O+kkvB1Ok/KAAAAAAAAOB5nBJQ9Qp69eH7cubpJfVr6xWYGhROGqNwuyhgqlmL6ZLv6WXj0/yn649Q+RWGzC9J1yXfMTR5C8iW2udqpfwVoGwVoLQypwCmbRjX1dRP8iCq9vSaLnsLIJaOz5rYPzRbNgvQ6lWrDLP816z2v/ijjUHSPUrtU5u+ZvEOraVx8B8WAAAAAAAAcK1TAqqafKdLvdPlzJ0tY1htVFo/1VYGynLpsnFdKt214Ttop5R0+btuWZnyP3MGoOJkg/2XX86dypECitvrrzT1Yz0It2S6fyl/vXIKMtr72rfv7cdtfU39aiwdnxLl37aqh8o00qshVnKsX0lN++/pc1LbPqX01T661YRmqXLvVAAAAAAAgOf165f86x6eTvfwvN2TMt5vUtHPnRRi0yXsSQxjtfcZggqluW68dHuJ7kca+rqAoXJqLb8t9+ws8d79CGputWf/OHPUuXi5fz5L8uz6TY9PybR/iI5PP+j47GufXCqP1zTWHbOGS+2zJf0YYw6eoCoAAAAAAMAT++/j4+N/t9e/RrEmH4N4bZxNqMvDB6+nxnt7Z5gNMCn4pJmmClNN1yuNdD9PUZA2zYjUO70eGOSdbdPNpp/Slrn0pbRNvn5Nad9S/kfyzqV0QqOHSimtse2klIceSBXaMJvn3L758SnVT/Szi/cvveU3s78eGGU7xPXabfD9P/VYozrkgfw4Y9TSrUl/rg7TY7CUvmg7P1ifv/2eto199pYnAAAAAAAAzvP19dV8fn7eftvmKQKqf9lcwG6Lo/sDAAAAAAAAf82RgOqvX/IPAAAAAAAAAK+CgCoAAAAAAAAAVOKSfwAAAAAAAAB/Cpf8AwAAAAAAAMADEFAFAAAAAAAAgEoEVAEUtbb0wTc+9LffXsuZ5e9c8086V7ZP8G3T931cXKf0fyqtv1Kqt2U8vnGB3hq89eH2G46a67/P7srz64ir+/8jzi9c71n7LwAAAI4hoAq8MG9js74P3wG1q4JqQ/wx6H/ptx8Iel3Hh6FxzjWDAiszSuv/shTIyM+PzpamcXF9Sc3+6vv5ei1bz8FnP384v69F+wIAAACvh4Aq8OJieMd1MajmbenawEyYCYWAnQ9N8AqE/RsQPurq9HGMApw6P+LSd01nSx4ULVnbP61r7L0U3FaADOfh/MIro/8CAAC8JwKqwBvRUC10oXGtvWrHoM50ll0+wy6tU0C277X0TdD69t/ZjgocTQNF6XJzW/n9WkvtDL3a/JVvSnsaLFa+mt2V55/P9iqVa619kjz/aRo19VazpW20TGej5elvmUFZYkWz9rS8svace6+kVP68DbcePymln6R8lvpojWD5tzpT2nZX++T7H5X6ztr5k+qc1u3pH2v9V5aOT035ZO34ar+l81PH3VtaqX7pcyA/vmv5prY58vmxRnkvtVfeR/NjtCX/VLdS++5NX5TuUvvXytPf0v9Sufcen9r2X2K7W34/z+W59460X6pjWqdFxzPJ95ury3T/vX+fAQAA8HgEVIE30yvWM9igz9mg034PNiDz/W12nd7T70EDvvug0duA0vlxdp2NAO113YAtzcizEen3ay0aoG7RKX8rUsrfd8p/LJ/S6uy/lLYf7HX3czAdB60u2Hpvr237uPtYh7VL4mvaZ5r/tG6lS+61eWsDac1QSmnk28agQZa/ZkBOj89eeV9InGttUG5pD+WAhJTKL8E2csHqoXxsXd5/SsevJn1Jx6ob7Pgon8ryrzmjfY4onT+pzqXzd02p/64dn1L5ZG3/ZPX8tKTUd2Ielpa3z6FWbX8LWJfOL1n7/Kop35JhsLLEYvzb1lqX7O3/Ne0rR84vWWv/kjM+n/Yen9r2X7J0fveDpWfvy9H262ydPpPS/lp0PJO1/qtaXfn3GQAAANcioAq8MRs7Nn2rwdx9gBg0wGs1y+U+yNQssRRAWhvEXiXO3LkNQvPyqYSDDSL7H+XvbWCpwfS9/LaLjTM1yFy+z+ucUvvM5b+VBsGdCrgQoNOAOx+AaxbSWdQKKruCCDqe8afqsyGPUvklP355/6k5fjXpK7kUTJ0Gm7by3spzC6jsaZ98/6vVnr9LSv235visqd1fh3fp/NQ6SyD2mzg58NYP2ltAtcbS59fR+uVlVVBNMxPHpH+W7Uj/r3E0/bX2Lznj82nv8alt/yXac7DyTs9v5aG1Z7WfJaGf8fUWtef3b/99BgAAwDwCqsAb08BrUPAnGwDqVatRYeWg9DepiBoG55dE6pLMODTOyp8PcjVU9pruuhKgS0rtE9crrzGDzWIJLRENgpd42yh/sNjcZaFHWJL3ALHlFTTw1yWvFWrKv0btt3b8atPXLLChtTSywMMWCsKm/DUbLb+XYU37rO1/JbXfkfM37q9WXmhfrV87PiW1+4/Zj2VQ7649P486Wr+xmdWC6n/qH6qDvU4rC47mX1Kb/pH2v/LzqVT+o+0vClC2Or9tvxTAtIziujPaTwFnzSpNl+RvaR9l8cp/nwEAAP46AqrAm9GgUYNPzcxJA1L7Oa40cfg2juTGN55MLJpKaeVTEe1nk18OruWsS773tM+WmXPJ0j56V7c3sOp91+3oDMypGEqwvqCZWfFy1zje33bs99RZao9fKX0FLQZrF81Srb1UOacgx1L71rTP2v5X2tM/S/K2rj0+S47uf7WzyhcD7YNmVFo/0WdrZftf3T5Xp6+ecuXnU23597a/6HR2OqktTe3W63Ye8d36/EvSZf3aTw+FrA2qKv9X+/sMAACAOwKqwBvRUFf3X0v3gNQ95JzuIZfdc033K+0HDRjrBn01NMMwXVZ5VLyk+jboVQkV7LrqnnGl9pmuVyyh5mEoiYbECmx7TfOKR+en2Fo2eE4zNLWF6+6X155Fl7Hqvn+D66xbnFf+ktLx25J+jFEEvzuoumZv+5xl6fw5ev6W+m/t+bVYPluuPD+POlo+9U/NFnT2maRTNF4+Hl+rHbR23dH2Lbm6/WNpLvx8KpX/aPsnceaoc/EfTfJZ7me3n0qkMtZ61N9nAAAAXIOAKvDiNMhNlxvqCcG6GjHNItIAr/N6QvEQ12sJrS5Z1gCufkBaontg+kaXhY6Xhm69LFTlTeXTJdX5LCjdP06zftL6Lelr2J0u51QgScnm+5faR+tDp/XjfoO3beITSUal9GV6SWjaVrRV34311fveltAp1/HYlNKvyV80cNfDWeK9P2Ou9dbKX6N0/Lakr211MFRnS+T27nFH2icdO5UnPrxmUr8aS+ePesGR81dbrPVfqTm/1s7vI+dnSW3/XnOkfGo/BfR0n03bUf9rdH/NLQG9o+1bcmX7K5W1z6czrJX/jPaXYPvFPOzcmQYqj7Rf3j+/F2dp3c6xUv9VDR7x9xkAAADX+O/j4+N/t9cA8FAacGrGYXrKN65BO6+jfQAAAADg7/n6+mo+Pz9vv23DDFUAeHN6qFNoNE2xfmbpX0L7AAAAAAC2IKAKAG8qXYI+xMtKNfOSy0hztA8AAAAAYA8u+QcAAAAAAADwp8xd8v///t//a/7v//7v9tvd9H1mqAIAAAAAAACAUfA0N/1dCKgCAAAAAAAAwE0Kos4FU4VL/gEAAAAAAAD8KUtP+Z8Lok5vA8AMVQAAAAAAAAAw0+Dp3D1VCagCAAAAAAAAwE0Kos4FU4VL/gEAAAAAAAD8KUuX/NdghioAAAAAAAAAVCKgCgAAAAAAAACVCKgCAAAAAAAAQCUCqgAAAAAAAABQpWn+Py3FOPK/UkyiAAAAAElFTkSuQmCC)"
      ]
    },
    {
      "cell_type": "markdown",
      "metadata": {
        "id": "mv2-EQzqumPC"
      },
      "source": [
        "![py3.png](data:image/png;base64,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)"
      ]
    },
    {
      "cell_type": "markdown",
      "metadata": {
        "id": "z2dfw0wFO4YB"
      },
      "source": [
        "**AIM:**\n",
        "\n",
        "c) Write a simple script that serves a simple HTTPResponse and Simple HTML page.\n",
        "\n",
        "**DESCRIPTION:**\n",
        "\n",
        "  **HTTP Protocol**\n",
        "\n",
        "The most important part of a web server is HTTP protocol.So now we will see what exactly this is –\n",
        "\n",
        "It stands for Hyper Text Transfer Protocol.\n",
        "\n",
        "It is an application layer protocol that allows web based applications to \n",
        "communicate and exchange data.\n",
        "\n",
        "The HTTP is the messenger of web.\n",
        "\n",
        "The computer that communicate via the HTTP must speak the HTTP protocol.\n",
        "\n",
        "It is a TCP/IP based protocol.\n",
        "\n",
        "It is used to deliver contents, for eg. images, audios, videos, documents etc.\n",
        "\n",
        "Using HTTP is the most convenient way to quickly and reliably move data on the web.\n",
        "\n",
        "HTML stands for hypertext markup language. It is the standard markup language for web pages that define the structure of the content. These elements are the building blocks of any website\n",
        "\n",
        "**PROGRAM:**\n",
        "\n"
      ]
    },
    {
      "cell_type": "code",
      "metadata": {
        "colab": {
          "background_save": true,
          "base_uri": "https://localhost:8080/"
        },
        "id": "cTT4TH6rPFMp",
        "outputId": "e8397a94-f5f0-4063-efa8-e5a93e0badb9"
      },
      "source": [
        "\n",
        "from flask import Flask,render_template\n",
        "app=Flask(__name__)\n",
        "print(app)\n",
        "@app.route(\"/\")\n",
        "\n",
        "def main():\n",
        "    return render_template('abc.html')\n",
        "\n",
        "if __name__==\"__main__\":\n",
        "    app.run(host=\"127.0.0.1\",port=2500)\n"
      ],
      "execution_count": null,
      "outputs": [
        {
          "name": "stdout",
          "output_type": "stream",
          "text": [
            "<Flask '__main__'>\n",
            " * Serving Flask app \"__main__\" (lazy loading)\n",
            " * Environment: production\n",
            "\u001b[31m   WARNING: This is a development server. Do not use it in a production deployment.\u001b[0m\n",
            "\u001b[2m   Use a production WSGI server instead.\u001b[0m\n",
            " * Debug mode: off\n"
          ]
        },
        {
          "name": "stderr",
          "output_type": "stream",
          "text": [
            " * Running on http://127.0.0.1:2500/ (Press CTRL+C to quit)\n"
          ]
        }
      ]
    },
    {
      "cell_type": "markdown",
      "metadata": {
        "id": "NpOWLvcgPKn1"
      },
      "source": [
        "# **Exercise-13 OOP**\n",
        "\n",
        "**AIM:**\n",
        "\n",
        "a)class variables and instance variable and illustration of the self -variable\n",
        "\n",
        "**DESCRIPTION:**\n",
        "\n",
        "Variables are named storage location. In python variables are not defined by its type instead it\n",
        "will be automatically determined by the value assigned to it.\n",
        "To determine the type of a variable a function called type () is used.\n",
        "\n",
        "**class variable**is shared by all object instances of a class. ... They are not defined inside any methods of a class. Because a class variable is shared by instances of a class, the Python class owns the variable. As a result, all instances of the class will be able to access that variable\n",
        "\n",
        "**Instance variables** are owned by instances of the class. This means that for each object or instance of a class, the instance variables are different. ... Instance variables, owned by objects of the class, allow for each object or instance to have different values assigned to those variables\n",
        "\n",
        "**self variable** is used to bind the instance of the class to the instance method. We have to explicitly declare it as the first method argument to access the instance variables and methods. This variable is used only with the instance methods.\n",
        "\n",
        "**PROGRAM:**\n",
        "\n",
        "**i)Robot**"
      ]
    },
    {
      "cell_type": "code",
      "metadata": {
        "colab": {
          "base_uri": "https://localhost:8080/"
        },
        "id": "fquYd1F1PTpt",
        "outputId": "c468395c-8cc9-42cc-a22b-82d8b8b781c7"
      },
      "source": [
        "\n",
        "class Robot:\n",
        "    what=\"Machine\"\n",
        "    name=\"Chitti\"\n",
        "    version=1.0\n",
        "    speed=\"1THz\"\n",
        "    memory=\"1ZB\"\n",
        "\n",
        "    def update(upd):\n",
        "        upd.version=2.0\n",
        "        upd.speed=\"2THz\"\n",
        "        upd.memory=\"2ZB\"\n",
        "\n",
        "    def disp(self):\n",
        "        print(\"Myself is a\",robj.what)\n",
        "        print(\"MyName is a\",robj.name)\n",
        "        print(\"Version:\",robj.version)\n",
        "        print(\"Speed:\",robj.speed)\n",
        "        print(\"Memory:\",robj.memory)\n",
        " \n",
        "robj=Robot ()\n",
        "robj.disp()\n",
        "\n",
        "print(\"------------Update---------\")\n",
        "robj.update()\n",
        "robj.disp()\n"
      ],
      "execution_count": null,
      "outputs": [
        {
          "name": "stdout",
          "output_type": "stream",
          "text": [
            "Myself is a Machine\n",
            "MyName is a Chitti\n",
            "Version: 1.0\n",
            "Speed: 1THz\n",
            "Memory: 1ZB\n",
            "------------Update---------\n",
            "Myself is a Machine\n",
            "MyName is a Chitti\n",
            "Version: 2.0\n",
            "Speed: 2THz\n",
            "Memory: 2ZB\n"
          ]
        }
      ]
    },
    {
      "cell_type": "markdown",
      "metadata": {
        "id": "JoD6jmngPwhS"
      },
      "source": [
        "**ii)ATM machine**\n",
        "\n"
      ]
    },
    {
      "cell_type": "code",
      "metadata": {
        "id": "jr53v1tDQLFU"
      },
      "source": [
        " \n",
        "class ATM:\n",
        "    def __init__(self):\n",
        "        self.balance=0\n",
        " \n",
        "    def enquire(self):\n",
        "        print(\"Balance: \",self.balance)\n",
        " \n",
        "    def deposit(self):\n",
        "        amount=int(input(\"Enter the deposit amount:\"))\n",
        "        self.balance+=amount\n",
        "        self.enquire()\n",
        " \n",
        "    def withdraw(self):\n",
        "        amount=int(input(\"Enter the Withdraw amount:\"))\n",
        "        if self.balance<amount:\n",
        "            print(\"Insufficient Balance....!\")\n",
        "        else:\n",
        "            self.balance-=amount\n",
        "            self.enquire()\n",
        " \n",
        "aobj=ATM()\n",
        "while(True):\n",
        "    print(\"****Menu****\")\n",
        "    print(\"1.Deposit\")\n",
        "    print(\"2.Withdraw\")\n",
        "    print(\"3.Balance\")\n",
        "    print(\"0.Exit\")\n",
        "    ch=int(input(\"Enter Your Choice: \"))\n",
        "    if ch==0:\n",
        "        break\n",
        "    elif ch==1:\n",
        "        aobj.deposit()\n",
        "    elif ch==2:\n",
        "        aobj.withdraw()\n",
        "    elif ch==3:\n",
        "        aobj.enquire()\n",
        "    else:\n",
        "        print(\"Invalid choice:\")\n",
        "        pass"
      ],
      "execution_count": null,
      "outputs": []
    },
    {
      "cell_type": "markdown",
      "metadata": {
        "id": "Ne4zD-zTQQLM"
      },
      "source": [
        "# **Exercise - 14 GUI, Graphics**\n",
        "\n",
        "**AIM:**\n",
        "\n",
        "a. Write a GUI for an Expression Calculator using tk\n",
        "\n",
        "**DESCRIPTION:**\n",
        "\n",
        "Tkinter is a Python package which comes with many functions and methods that can be used to create an application. In order to create a tkinter application, we generally create an instance of tkinter frame, i.e., Tk(). It helps to display the root window and manages all the other components of the tkinter application. We can initialize the tkinter instance by assigning the variable to it.\n",
        "\n",
        "**PROGRAM:**"
      ]
    },
    {
      "cell_type": "code",
      "metadata": {
        "id": "eC4roGQfQcfa"
      },
      "source": [
        " \n",
        "from tkinter import *\n",
        "from math import *\n",
        "win=Tk()\n",
        "win.geometry(\"312x324\")\n",
        "win.resizable(0,0)\n",
        "win.title(\"My Calculator\")\n",
        " \n",
        "def btn_click(item):\n",
        "    global expression\n",
        "    expression=expression+str(item)\n",
        "    input_text.set(expression)\n",
        " \n",
        "def bt_clear():\n",
        "    global expression\n",
        "    expression=\"\"\n",
        "    input_text.set(\"\")\n",
        " \n",
        "def bt_equal():\n",
        "    global expression\n",
        "    result=str(eval(expression))\n",
        "    input_text.set(result)\n",
        "    expression=\"\"\n",
        "expression=\"\"\n",
        " \n",
        "input_text=StringVar()\n",
        " \n",
        "input_frame = Frame(win,width=312,height=50,bd=0,highlightbackground=\"black\",\n",
        "highlightcolor=\"black\",highlightthickness=2)\n",
        "input_frame.pack(side=TOP)\n",
        " \n",
        "input_field = Entry(input_frame,font=('arial',18,'bold'),textvariable=input_text,width=50,bg=\"#eee\",bd=0,justify=RIGHT)\n",
        "input_field.grid(row=0,column=0)\n",
        "input_field.pack(ipady=10)\n",
        " \n",
        "btns_frame=Frame(win,width=312,height=272.5,bg=\"grey\")\n",
        "btns_frame.pack()\n",
        " \n",
        "clear=Button(btns_frame,text=\"C\",fg=\"black\",width=32,height=3,bd=0,bg=\"#eee\",cursor=\"hand2\",command=lambda:bt_clear()).grid(row=0,column=0,columnspan=3,padx=1,pady=1)\n",
        "divide=Button(btns_frame,text=\"/\",fg=\"black\",width=10,height=3,bd=0,bg=\"#eee\",cursor=\"hand2\",command=lambda:btn_click(\"/\")).grid(row=0,column=3,padx=1,pady=1)\n",
        " \n",
        "seven=Button(btns_frame,text=\"7\",fg=\"black\",width=10,height=3,bd=0,bg=\"#fff\",cursor=\"hand2\",command=lambda:btn_click(7)).grid(row=1,column=0,padx=1,pady=1)\n",
        "eight=Button(btns_frame,text=\"8\",fg=\"black\",width=10,height=3,bd=0,bg=\"#fff\",cursor=\"hand2\",command=lambda:btn_click(8)).grid(row=1,column=1,padx=1,pady=1)\n",
        "nine=Button(btns_frame,text=\"9\",fg=\"black\",width=10,height=3,bd=0,bg=\"#fff\",cursor=\"hand2\",command=lambda:btn_click(9)).grid(row=1,column=2,padx=1,pady=1)\n",
        "multiply=Button(btns_frame,text=\"*\",fg=\"black\",width=10,height=3,bd=0,bg='#eee',cursor=\"hand2\",command=lambda:btn_click(\"*\")).grid(row=1,column=3, padx=1,pady=1)\n",
        " \n",
        "four=Button(btns_frame,text=\"4\",fg=\"black\",width=10,height=3,bd=0,bg=\"#fff\",cursor=\"hand2\",command=lambda:btn_click(4)).grid(row=2,column=0,padx=1,pady=1)\n",
        "five=Button(btns_frame,text=\"5\",fg=\"black\",width=10,height=3,bd=0,bg=\"#fff\",cursor=\"hand2\",command=lambda:btn_click(5)).grid(row=2,column=1,padx=1,pady=1)\n",
        "six=Button(btns_frame,text=\"6\",fg=\"black\",width=10,height=3,bd=0,bg=\"#fff\",cursor=\"hand2\",command=lambda:btn_click(6)).grid(row=2,column=2,padx=1,pady=1)\n",
        "minus=Button(btns_frame,text=\"-\",fg=\"black\",width=10,height=3,bd=0,bg='#eee',cursor=\"hand2\",command=lambda:btn_click(\"-\")).grid(row=2,column=3, padx=1,pady=1)\n",
        " \n",
        "one=Button(btns_frame,text=\"1\",fg=\"black\",width=10,height=3,bd=0,bg=\"#fff\",cursor=\"hand2\",command=lambda:btn_click(1)).grid(row=3,column=0,padx=1,pady=1)\n",
        "two=Button(btns_frame,text=\"2\",fg=\"black\",width=10,height=3,bd=0,bg=\"#fff\",cursor=\"hand2\",command=lambda:btn_click(2)).grid(row=3,column=1,padx=1,pady=1)\n",
        "three=Button(btns_frame,text=\"3\",fg=\"black\",width=10,height=3,bd=0,bg=\"#fff\",cursor=\"hand2\",command=lambda:btn_click(3)).grid(row=3,column=2,padx=1,pady=1)\n",
        "plus=Button(btns_frame,text=\"+\",fg=\"black\",width=10,height=3,bd=0,bg='#eee',cursor=\"hand2\",command=lambda:btn_click(\"+\")).grid(row=3,column=3, padx=1,pady=1)\n",
        " \n",
        "zero=Button(btns_frame,text=\"0\",fg=\"black\",width=21,height=3,bd=0,bg=\"#fff\",cursor=\"hand2\",command=lambda:btn_click(0)).grid(row=4,column=0,columnspan=2,padx=1,pady=1)\n",
        "point=Button(btns_frame,text=\".\",fg=\"black\",width=10,height=3,bd=0,bg=\"#eee\",cursor=\"hand2\",command=lambda:btn_click(\".\")).grid(row=4,column=2,padx=1,pady=1)\n",
        "equals=Button(btns_frame,text=\"=\",fg=\"black\",width=10,height=3,bd=0,bg=\"#eee\",cursor=\"hand2\",command=lambda:bt_equal()).grid(row=4,column=3,padx=1,pady=1)\n",
        " \n",
        "win.mainloop()"
      ],
      "execution_count": null,
      "outputs": []
    },
    {
      "cell_type": "markdown",
      "metadata": {
        "id": "HK3Gi7vlQghK"
      },
      "source": [
        "**Output**\n",
        "\n",
        "https://drive.google.com/file/d/1wmP7468qu0_sDM-kdMop1_HmJK19Bb2y/view?usp=sharing\n",
        "\n",
        "https://drive.google.com/file/d/1EKtrQzzyJPsaex-kjd-ZLUD8TlU72bvm/view?usp=sharing\n",
        "\n",
        "https://drive.google.com/file/d/1T7O2fRBDrRLdzEK7kbj-ui5SNC4igDme/view?usp=sharing"
      ]
    },
    {
      "cell_type": "markdown",
      "metadata": {
        "id": "aj7d5ep2Qo2U"
      },
      "source": [
        "**AIM:**\n",
        "\n",
        "b. Write a program to implement the following figures using turtle\n",
        "\n",
        "**DESCRIPTION:**\n",
        "\n",
        "The turtle module is an extended reimplementation of the same-named module from the Python standard distribution up to version Python 2.5.\n",
        "\n",
        "It tries to keep the merits of the old turtle module and to be (nearly) 100% compatible with it. This means in the first place to enable the learning programmer to use all the commands, classes and methods interactively when using the module from within IDLE run with the -n switch.\n",
        "\n",
        "The turtle module provides turtle graphics primitives, in both object-oriented and procedure-oriented ways. Because it uses tkinter for the underlying graphics, it needs a version of Python installed with Tk support.\n",
        "\n",
        "**PROGRAM:**\n"
      ]
    },
    {
      "cell_type": "markdown",
      "metadata": {
        "id": "ZwTPev9zvOuc"
      },
      "source": [
        ""
      ]
    },
    {
      "cell_type": "markdown",
      "metadata": {
        "id": "nqqxzz68Qz1E"
      },
      "source": [
        ""
      ]
    },
    {
      "cell_type": "code",
      "metadata": {
        "id": "Ae2o5V2GQ1U6"
      },
      "source": [
        "import turtle\n",
        "c=[\"red\",\"green\",\"blue\"]\n",
        "i=0\n",
        "turtle.pensize(5)\n",
        " \n",
        "for angle in range(0,360,30):\n",
        "    if i>2:\n",
        "        i=0\n",
        "    turtle.color(c[i])\n",
        "    turtle.seth(angle)\n",
        "    turtle.circle(50)\n",
        "    i+=1"
      ],
      "execution_count": null,
      "outputs": []
    },
    {
      "cell_type": "markdown",
      "metadata": {
        "id": "QJzd0XJMQ5mO"
      },
      "source": [
        "**Output**\n",
        "\n",
        "https://drive.google.com/file/d/1eO7D9QdEhvpJ361AQ27u-3vayjNk-W1M/view?usp=sharing\n",
        "\n"
      ]
    },
    {
      "cell_type": "markdown",
      "metadata": {
        "id": "cwu2c9M-Q_lR"
      },
      "source": [
        "**PROGRAM:**"
      ]
    },
    {
      "cell_type": "code",
      "metadata": {
        "id": "qaDJwHgTRDSb"
      },
      "source": [
        "import turtle\n",
        "turtle.pensize(5)\n",
        "\n",
        "for i in range(36):\n",
        "    for j in range(4):\n",
        "        turtle.forward(70)\n",
        "        turtle.left(90)\n",
        "    turtle.left(10)"
      ],
      "execution_count": null,
      "outputs": []
    },
    {
      "cell_type": "markdown",
      "metadata": {
        "id": "R6KoVpguRHkz"
      },
      "source": [
        "**Output**\n",
        "\n",
        "https://drive.google.com/file/d/1oiosPXpdD-ioDpquXQ0RRgthFwmt1MIj/view?usp=sharing"
      ]
    },
    {
      "cell_type": "markdown",
      "metadata": {
        "id": "UTuqKWWNvcJy"
      },
      "source": [
        "![14c-op.jpg](data:image/jpeg;base64,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)"
      ]
    },
    {
      "cell_type": "markdown",
      "metadata": {
        "id": "1kJLwb9CRNij"
      },
      "source": [
        "# **Exercise - 15 - Testing**\n",
        "\n",
        "**AIM:**\n",
        "\n",
        "**a) Write a test-case to check the function even numbers which return True on passing a list of all even numbers**\n",
        "\n",
        "**DESCRIPTION:**\n",
        "\n",
        "TestCase is used to create test cases by subclassing it. The last block of the code at the bottom allows us to run all the tests just by running the file. Basic terms used in the code : assertEqual() – This statement is used to check if the result obtained is equal to the expected result\n",
        "\n",
        "**test case:**\n",
        "\n",
        "A test case is a set of conditions which is used to determine whether a system under test works correctly.\n",
        "\n",
        "**PROGRAM:**"
      ]
    },
    {
      "cell_type": "code",
      "metadata": {
        "colab": {
          "base_uri": "https://localhost:8080/"
        },
        "id": "TqH_tdbTRb39",
        "outputId": "cf7ee97a-13ac-4873-92d6-c8b6445d1492"
      },
      "source": [
        "def evnNo(num):\n",
        "    state=True\n",
        "\n",
        "    for i in num:\n",
        "        if i%2==1:\n",
        "            state=False\n",
        "            break\n",
        "    return state\n",
        "\n",
        "\n",
        "numbers=[]\n",
        "print(\"Enter the FIVE numbers\")\n",
        "for i in range(0,5):\n",
        "    numbers.append(int(input(\"Enter a value: \")))\n",
        "print(evnNo(numbers))\n"
      ],
      "execution_count": null,
      "outputs": [
        {
          "name": "stdout",
          "output_type": "stream",
          "text": [
            "Enter the FIVE numbers\n",
            "Enter a value: 5\n",
            "Enter a value: 4\n",
            "Enter a value: 3\n",
            "Enter a value: 2\n",
            "Enter a value: 1\n",
            "False\n"
          ]
        }
      ]
    },
    {
      "cell_type": "markdown",
      "metadata": {
        "id": "nVdzZ-YWRyq0"
      },
      "source": [
        "**AIM:**\n",
        "\n",
        "**b) Write a test-case to check the function reverse string which returns the reversed string**\n",
        "\n",
        "**DESCRIPTION:**\n",
        "\n",
        "Python string library does’nt support the in-built “reverse()” as done by other python containers like list, hence knowing other methods to reverse string can prove to be useful. This article discusses several ways to achieve it.\n",
        "\n",
        "The reversed() returns the reversed iterator of the given string and then its elements are joined empty string separated using join(). And reversed order string is formed.\n",
        "\n",
        "**PROGRAM:**"
      ]
    },
    {
      "cell_type": "code",
      "metadata": {
        "colab": {
          "base_uri": "https://localhost:8080/"
        },
        "id": "uvDausS6R-hR",
        "outputId": "f1a3c5ad-ac52-4bc0-d828-44ba397e88ba"
      },
      "source": [
        "def rev_str(st):\n",
        "    return st[::-1]\n",
        "\n",
        "st=\"ravi\"\n",
        "print(\"Given String is: \",st)\n",
        "\n",
        "print(\"Reverse is: \",rev_str(st))"
      ],
      "execution_count": null,
      "outputs": [
        {
          "name": "stdout",
          "output_type": "stream",
          "text": [
            "Given String is:  ravi\n",
            "Reverse is:  ivar\n"
          ]
        }
      ]
    },
    {
      "cell_type": "markdown",
      "metadata": {
        "id": "3ibhRD-YSEWI"
      },
      "source": [
        "# **Exercise - 16 - Advanced**\n",
        "\n",
        "**AIM:**\n",
        "\n",
        "a) Build any one classical data structure.\n",
        "\n",
        "**DESCRIPTION:**\n",
        "\n",
        "**What is a Data Structure?** \n",
        "\n",
        "Organizing, managing and storing data is important as it enables easier access and efficient modifications. Data Structures allows you to organize your data in such a way that enables you to store collections of data, relate them and perform operations on them accordingly. \n",
        "\n",
        "**Stack**\n",
        "Stacks are linear Data Structures which are based on the principle of Last-In-First-Out (LIFO) where data which is entered last will be the first to get accessed. It is built using the array structure and has operations namely, pushing (adding) elements, popping (deleting) elements and accessing elements only from one point in the stack called as the TOP. This TOP is the pointer to the current position of the stack. Stacks are prominently used in applications such as Recursive Programming, reversing words, undo mechanisms in word editors and so forth."
      ]
    },
    {
      "cell_type": "code",
      "metadata": {
        "id": "DvHQKwWnSQMw"
      },
      "source": [
        "import sys\n",
        "a=[]\n",
        "\n",
        "while True:\n",
        "    print(\"\\n1.PUSH 2.POP 3.DISPLAY 4.EXIT\")\n",
        "    ch=int(input(\"Enter Your Choice:\"))\n",
        "    if ch==1:\n",
        "        ele=int(input(\"Enter Element: \"))\n",
        "        a.append(ele)\n",
        "        print(\"Inserted\")\n",
        "    elif ch==2:\n",
        "        if len(a)==0:\n",
        "            print(\"\\t STACK IS EMPTY\")\n",
        "        else:\n",
        "            print(\"Deleted element is:\",a[len(a)-1])\n",
        "            a.remove(a[len(a)-1])\n",
        "    elif ch==3:\n",
        "        if len(a)==0:\n",
        "            print(\"\\tSTACK IS EMPTY\")\n",
        "        else:\n",
        "            print(\"\\t The Elements in Stack is: \")\n",
        "            for i in reversed(a):\n",
        "                print(i)\n",
        "    elif ch==4:\n",
        "        sys.exit()\n",
        "    else:\n",
        "        print(\"\\tINVALID CHOICE\")\n"
      ],
      "execution_count": null,
      "outputs": []
    },
    {
      "cell_type": "markdown",
      "metadata": {
        "id": "XglPVmrqSY_O"
      },
      "source": [
        "**AIM:**\n",
        "\n",
        "b) Write a program to solve knapsack problem\n",
        "\n",
        "**DESCRIPTION:**\n",
        "\n",
        "Python Program for 0-1 Knapsack Problem\n",
        "\n",
        "Problem statement − We are given weights and values of n items, we need to put these items in a bag of capacity W up to the maximum capacity w. We need to carry a maximum number of items and return its value.\n",
        "\n",
        " Brute-force approach.\n",
        "\n",
        "dynamic approach.\n",
        "\n",
        "**PROGRAM:**"
      ]
    },
    {
      "cell_type": "code",
      "metadata": {
        "colab": {
          "base_uri": "https://localhost:8080/"
        },
        "id": "2pVc2SUtSolR",
        "outputId": "7259fae1-10fe-4589-ec14-2299367094e9"
      },
      "source": [
        "def knapSack(W,wt,val,n):\n",
        "    K=[[0 for x in range(W+1)] for x in range(n+1)]\n",
        "    for i in range(n+1):\n",
        "        for w in range(W+1):\n",
        "            if i==0 or w==0:\n",
        "                K[i][w]=0\n",
        "            elif wt[i-1]<=w:\n",
        "                K[i][w]=max(val[i-1]+K[i-1][w-wt[i-1]],K[i-1][w])\n",
        "            else:\n",
        "                K[i][w]=K[i-1][w]\n",
        "    return K[n][W]\n",
        "val=[5,3,4]\n",
        "wt=[3,2,1]\n",
        "W=5\n",
        "n=len(val)\n",
        "print(\"Maximum value knapsack of capacity W: \",knapSack(W,wt,val,n))"
      ],
      "execution_count": null,
      "outputs": [
        {
          "name": "stdout",
          "output_type": "stream",
          "text": [
            "Maximum value knapsack of capacity W:  9\n"
          ]
        }
      ]
    },
    {
      "cell_type": "markdown",
      "metadata": {
        "id": "Xl8p39k0SsM9"
      },
      "source": [
        "# **Exercise - 17&18–Data Analysis**\n",
        "\n",
        "**AIM:**\n",
        "\n",
        "1. Data analysis or manipulation using the following packages                                                                        \n",
        "a) Numpy b) Pandas\n",
        " a) Scipy b) matplotlib\n",
        "\n",
        " **DESCRIPTION:**\n",
        "\n",
        "Learn how to analyze data using Python. ... It includes following parts: Data Analysis libraries: will learn to use Pandas, Numpy and Scipy libraries to work with a sample dataset. We will introduce you to pandas, an open-source library, and we will use it to load, manipulate, analyze, and visualize cool datasets.\n",
        "\n",
        "**SciPy** is a free and open-source Python library used for scientific computing and technical computing. It is a collection of mathematical algorithms and convenience functions built on the NumPy extension of Python\n",
        "\n",
        "**NumPy** is the fundamental package for scientific computing in Python. ... NumPy arrays facilitate advanced mathematical and other types of operations on large numbers of data.\n",
        "\n",
        "**Matplotlib** is a plotting library for the Python programming language and its numerical mathematics extension NumPy. It provides an object-oriented API for embedding plots into applications using general-purpose GUI toolkits like Tkinter, wxPython, Qt, or GTK\n",
        "\n",
        "**Pandas** is an open source Python package that is most widely used for data science/data analysis and machine learning tasks. It is built on top of another package named Numpy, which provides support for multi-dimensional arrays.\n",
        "\n",
        "**Scikit-learn** is probably the most useful library for machine learning in Python. The sklearn library contains a lot of efficient tools for machine learning and statistical modeling including classification, regression, clustering and dimensionality reduction.\n",
        "\n",
        "**Seaborn** is a library in Python predominantly used for making statistical graphics. Seaborn is a data visualization library built on top of matplotlib and closely integrated with pandas data structures in Python\n",
        "\n",
        "**PROGRAM:**"
      ]
    },
    {
      "cell_type": "code",
      "metadata": {
        "colab": {
          "base_uri": "https://localhost:8080/"
        },
        "id": "Dcukz2ENS7hZ",
        "outputId": "f81f443e-ab43-4b74-d0ae-a383f85c22ec"
      },
      "source": [
        "#Phython version\n",
        "import sys\n",
        "print('Python: {}'.format(sys.version))\n",
        "\n",
        "#scipy\n",
        "import scipy\n",
        "print('scipy: {}'.format(scipy.__version__))\n",
        "\n",
        "#numpy\n",
        "import numpy\n",
        "print('numpy: {}'.format(numpy.__version__))\n",
        "\n",
        "#matplotib\n",
        "import matplotlib\n",
        "print('matplotib: {}'.format(matplotlib.__version__))\n",
        "\n",
        "#pandas\n",
        "import pandas\n",
        "print('pandas: {}'.format(pandas.__version__))\n",
        "\n",
        "#scikit-learn\n",
        "import sklearn\n",
        "print('sklearn: {}'.format(sklearn.__version__))\n",
        "\n",
        "#seaborn\n",
        "import seaborn\n",
        "print('seaborn: {}'.format(seaborn.__version__))\n",
        "import urllib\n",
        "print('urlib: {}'.format(urllib.__name__))\n",
        "import csv\n",
        "print('csv: {}'.format(csv.__version__))\n"
      ],
      "execution_count": null,
      "outputs": [
        {
          "name": "stdout",
          "output_type": "stream",
          "text": [
            "Python: 3.7.11 (default, Jul  3 2021, 18:01:19) \n",
            "[GCC 7.5.0]\n",
            "scipy: 1.4.1\n",
            "numpy: 1.19.5\n",
            "matplotib: 3.2.2\n",
            "pandas: 1.1.5\n",
            "sklearn: 0.22.2.post1\n",
            "seaborn: 0.11.1\n",
            "urlib: urllib\n",
            "csv: 1.0\n"
          ]
        }
      ]
    },
    {
      "cell_type": "code",
      "metadata": {
        "colab": {
          "base_uri": "https://localhost:8080/"
        },
        "id": "Qj3QsVszS_jL",
        "outputId": "04e3348c-7ac0-4094-f855-689451d75b80"
      },
      "source": [
        "import numpy as np\n",
        "a=np.array([0,1,2])\n",
        "print(type(a))\n",
        "print(a.shape)\n",
        "print(a[0])\n",
        "print(a[1])\n",
        "print(a[2])\n",
        "a[0]=5\n",
        "print(a)\n"
      ],
      "execution_count": null,
      "outputs": [
        {
          "name": "stdout",
          "output_type": "stream",
          "text": [
            "<class 'numpy.ndarray'>\n",
            "(3,)\n",
            "0\n",
            "1\n",
            "2\n",
            "[5 1 2]\n"
          ]
        }
      ]
    },
    {
      "cell_type": "code",
      "metadata": {
        "colab": {
          "base_uri": "https://localhost:8080/"
        },
        "id": "wMJGg0sjTCT2",
        "outputId": "a9113a91-21a2-4194-a49f-6a52d33a9a97"
      },
      "source": [
        "import numpy as np\n",
        "b=np.array([[0,1,2],[3,4,5]])\n",
        "print(b.shape)\n",
        "print(b)\n",
        "print(b[0,0],b[0,1],b[1,0])\n"
      ],
      "execution_count": null,
      "outputs": [
        {
          "name": "stdout",
          "output_type": "stream",
          "text": [
            "(2, 3)\n",
            "[[0 1 2]\n",
            " [3 4 5]]\n",
            "0 1 3\n"
          ]
        }
      ]
    },
    {
      "cell_type": "code",
      "metadata": {
        "colab": {
          "base_uri": "https://localhost:8080/"
        },
        "id": "vYrvRbvaTG7d",
        "outputId": "276e01e3-8116-469f-b338-59f854a34c0f"
      },
      "source": [
        "import numpy as np\n",
        "a=np.zeros((3,3))\n",
        "print(a)"
      ],
      "execution_count": null,
      "outputs": [
        {
          "name": "stdout",
          "output_type": "stream",
          "text": [
            "[[0. 0. 0.]\n",
            " [0. 0. 0.]\n",
            " [0. 0. 0.]]\n"
          ]
        }
      ]
    },
    {
      "cell_type": "code",
      "metadata": {
        "colab": {
          "base_uri": "https://localhost:8080/"
        },
        "id": "wK0cH6cVTJJt",
        "outputId": "1773288f-b6e9-404a-ca72-fd523eeb9885"
      },
      "source": [
        "import numpy as np\n",
        "b=np.ones((2,2))\n",
        "print(b)"
      ],
      "execution_count": null,
      "outputs": [
        {
          "name": "stdout",
          "output_type": "stream",
          "text": [
            "[[1. 1.]\n",
            " [1. 1.]]\n"
          ]
        }
      ]
    },
    {
      "cell_type": "code",
      "metadata": {
        "colab": {
          "base_uri": "https://localhost:8080/"
        },
        "id": "r8sRV__DTLrX",
        "outputId": "e45814db-5763-40e9-f8bb-060f7db0f2b1"
      },
      "source": [
        "import numpy as np\n",
        "c=np.full((3,3),7)\n",
        "print(c)"
      ],
      "execution_count": null,
      "outputs": [
        {
          "name": "stdout",
          "output_type": "stream",
          "text": [
            "[[7 7 7]\n",
            " [7 7 7]\n",
            " [7 7 7]]\n"
          ]
        }
      ]
    },
    {
      "cell_type": "code",
      "metadata": {
        "colab": {
          "base_uri": "https://localhost:8080/"
        },
        "id": "tJQmEmtnTRXq",
        "outputId": "3e2471b7-eabb-40cd-8152-a6b0ce1e3e83"
      },
      "source": [
        "import numpy as np\n",
        "d=np.random.random((3,3))\n",
        "print(d)"
      ],
      "execution_count": null,
      "outputs": [
        {
          "name": "stdout",
          "output_type": "stream",
          "text": [
            "[[0.95112124 0.94965489 0.8797905 ]\n",
            " [0.40335108 0.97933902 0.23107296]\n",
            " [0.38616277 0.99822871 0.81225666]]\n"
          ]
        }
      ]
    },
    {
      "cell_type": "code",
      "metadata": {
        "colab": {
          "base_uri": "https://localhost:8080/"
        },
        "id": "Y6-dpNPVTUkF",
        "outputId": "f539aae2-a577-4891-9c72-840ae808231a"
      },
      "source": [
        "import numpy as np\n",
        "e=np.eye(3)\n",
        "print(e)"
      ],
      "execution_count": null,
      "outputs": [
        {
          "name": "stdout",
          "output_type": "stream",
          "text": [
            "[[1. 0. 0.]\n",
            " [0. 1. 0.]\n",
            " [0. 0. 1.]]\n"
          ]
        }
      ]
    },
    {
      "cell_type": "code",
      "metadata": {
        "colab": {
          "base_uri": "https://localhost:8080/"
        },
        "id": "iyhI1UKqTXra",
        "outputId": "335a069d-7670-4938-fd1c-b6e2b1dad453"
      },
      "source": [
        "import numpy as np\n",
        "f=np.array([2,3,1,0])\n",
        "print(f)"
      ],
      "execution_count": null,
      "outputs": [
        {
          "name": "stdout",
          "output_type": "stream",
          "text": [
            "[2 3 1 0]\n"
          ]
        }
      ]
    },
    {
      "cell_type": "code",
      "metadata": {
        "colab": {
          "base_uri": "https://localhost:8080/"
        },
        "id": "COSGIWpXTbDJ",
        "outputId": "1b37c09f-cba4-4c87-fece-bf21208c3b66"
      },
      "source": [
        "import numpy as np\n",
        "g=np.arange(2,10)\n",
        "print(g)"
      ],
      "execution_count": null,
      "outputs": [
        {
          "name": "stdout",
          "output_type": "stream",
          "text": [
            "[2 3 4 5 6 7 8 9]\n"
          ]
        }
      ]
    },
    {
      "cell_type": "code",
      "metadata": {
        "colab": {
          "base_uri": "https://localhost:8080/"
        },
        "id": "4gz1VFLdTfVd",
        "outputId": "09821a0b-7c75-4819-a36d-82a4d56d9171"
      },
      "source": [
        "import numpy as np\n",
        "h=np.array([[0,1,2.0],[0,0,0],(1+1j,3.,2.)])\n",
        "print(h)"
      ],
      "execution_count": null,
      "outputs": [
        {
          "name": "stdout",
          "output_type": "stream",
          "text": [
            "[[0.+0.j 1.+0.j 2.+0.j]\n",
            " [0.+0.j 0.+0.j 0.+0.j]\n",
            " [1.+1.j 3.+0.j 2.+0.j]]\n"
          ]
        }
      ]
    },
    {
      "cell_type": "code",
      "metadata": {
        "colab": {
          "base_uri": "https://localhost:8080/"
        },
        "id": "X7eM66tgTiYu",
        "outputId": "9a85b175-7727-4927-c677-710db394f07b"
      },
      "source": [
        "import numpy as np\n",
        "i=np.arange(1,8,dtype=np.float)\n",
        "print(i)"
      ],
      "execution_count": null,
      "outputs": [
        {
          "name": "stdout",
          "output_type": "stream",
          "text": [
            "[1. 2. 3. 4. 5. 6. 7.]\n"
          ]
        }
      ]
    },
    {
      "cell_type": "code",
      "metadata": {
        "colab": {
          "base_uri": "https://localhost:8080/"
        },
        "id": "4i-kjcfeTkdv",
        "outputId": "d4664db4-63ea-4fd8-8e63-051184943660"
      },
      "source": [
        "import numpy as np\n",
        "j=np.linspace(2.,4., 5)\n",
        "print(j)"
      ],
      "execution_count": null,
      "outputs": [
        {
          "name": "stdout",
          "output_type": "stream",
          "text": [
            "[2.  2.5 3.  3.5 4. ]\n"
          ]
        }
      ]
    },
    {
      "cell_type": "code",
      "metadata": {
        "colab": {
          "base_uri": "https://localhost:8080/"
        },
        "id": "sC87tXDITnIo",
        "outputId": "1d057d11-955b-4644-d588-d6f902027c46"
      },
      "source": [
        "import numpy as np\n",
        "k=np.indices((3,3))\n",
        "print(k)"
      ],
      "execution_count": null,
      "outputs": [
        {
          "name": "stdout",
          "output_type": "stream",
          "text": [
            "[[[0 0 0]\n",
            "  [1 1 1]\n",
            "  [2 2 2]]\n",
            "\n",
            " [[0 1 2]\n",
            "  [0 1 2]\n",
            "  [0 1 2]]]\n"
          ]
        }
      ]
    },
    {
      "cell_type": "code",
      "metadata": {
        "colab": {
          "base_uri": "https://localhost:8080/"
        },
        "id": "4EypsJ4kTpLd",
        "outputId": "dcceaf1f-c053-4c89-f50c-f9d7211db45f"
      },
      "source": [
        "import numpy as np\n",
        "x=np.array([0,1])\n",
        "y=np.array([2.0,3.0])\n",
        "z=np.array([5,6], dtype=np.int64)\n",
        "print(x.dtype,y.dtype,z.dtype)"
      ],
      "execution_count": null,
      "outputs": [
        {
          "name": "stdout",
          "output_type": "stream",
          "text": [
            "int64 float64 int64\n"
          ]
        }
      ]
    },
    {
      "cell_type": "code",
      "metadata": {
        "colab": {
          "base_uri": "https://localhost:8080/"
        },
        "id": "LqiXEHjoTrKy",
        "outputId": "ecbd38c2-cfb5-4c44-ed4f-ac624f8050b6"
      },
      "source": [
        "import numpy as np\n",
        "x=np.array([5,6,7,8,9])\n",
        "print(x[1:7:2])\n",
        "print(x[-2:5])\n",
        "print(x[-1:1:-1])"
      ],
      "execution_count": null,
      "outputs": [
        {
          "name": "stdout",
          "output_type": "stream",
          "text": [
            "[6 8]\n",
            "[8 9]\n",
            "[9 8 7]\n"
          ]
        }
      ]
    },
    {
      "cell_type": "code",
      "metadata": {
        "colab": {
          "base_uri": "https://localhost:8080/"
        },
        "id": "IiMaW63fTt_H",
        "outputId": "9303f48a-71bc-4d7d-c489-2b74c2c94272"
      },
      "source": [
        "import numpy as np\n",
        "a=np.array([[1,2],[3,4],[5,6]])\n",
        "print(a>2)\n",
        "print(a[a>2])"
      ],
      "execution_count": null,
      "outputs": [
        {
          "name": "stdout",
          "output_type": "stream",
          "text": [
            "[[False False]\n",
            " [ True  True]\n",
            " [ True  True]]\n",
            "[3 4 5 6]\n"
          ]
        }
      ]
    },
    {
      "cell_type": "code",
      "metadata": {
        "colab": {
          "base_uri": "https://localhost:8080/"
        },
        "id": "Lf_holc0TwPp",
        "outputId": "e7c56b9e-c518-488a-977e-26de34a055b9"
      },
      "source": [
        "import numpy as np\n",
        "x=np.array([[1,2],[3,4],[5,6]])\n",
        "y=np.array([[7,8],[9,10],[11,12]])\n",
        "print(x+y)\n",
        "print(np.add(x,y))\n",
        "print(x-y)\n",
        "print(np.subtract(x,y))"
      ],
      "execution_count": null,
      "outputs": [
        {
          "name": "stdout",
          "output_type": "stream",
          "text": [
            "[[ 8 10]\n",
            " [12 14]\n",
            " [16 18]]\n",
            "[[ 8 10]\n",
            " [12 14]\n",
            " [16 18]]\n",
            "[[-6 -6]\n",
            " [-6 -6]\n",
            " [-6 -6]]\n",
            "[[-6 -6]\n",
            " [-6 -6]\n",
            " [-6 -6]]\n"
          ]
        }
      ]
    },
    {
      "cell_type": "code",
      "metadata": {
        "colab": {
          "base_uri": "https://localhost:8080/"
        },
        "id": "dvNKr-ahTyVP",
        "outputId": "0194dd48-063b-404b-e311-3d8b448d908e"
      },
      "source": [
        "import numpy as np\n",
        "x=np.array([[1,2],[3,4],[5,6]])\n",
        "y=np.array([[7,8],[9,10],[11,12]])\n",
        "print(np.multiply(x,y))\n",
        "print(x*y)"
      ],
      "execution_count": null,
      "outputs": [
        {
          "name": "stdout",
          "output_type": "stream",
          "text": [
            "[[ 7 16]\n",
            " [27 40]\n",
            " [55 72]]\n",
            "[[ 7 16]\n",
            " [27 40]\n",
            " [55 72]]\n"
          ]
        }
      ]
    },
    {
      "cell_type": "code",
      "metadata": {
        "colab": {
          "base_uri": "https://localhost:8080/"
        },
        "id": "5FoscyUAT1AS",
        "outputId": "0eb45bcb-5a47-48f0-b35b-b60e4d806be6"
      },
      "source": [
        "import numpy as np\n",
        "x=np.array([[1,2],[3,4],[5,6]])\n",
        "y=np.array([[7,8],[9,10],[11,12]])\n",
        "print(np.divide(x,y))\n",
        "print(x/y)"
      ],
      "execution_count": null,
      "outputs": [
        {
          "name": "stdout",
          "output_type": "stream",
          "text": [
            "[[0.14285714 0.25      ]\n",
            " [0.33333333 0.4       ]\n",
            " [0.45454545 0.5       ]]\n",
            "[[0.14285714 0.25      ]\n",
            " [0.33333333 0.4       ]\n",
            " [0.45454545 0.5       ]]\n"
          ]
        }
      ]
    },
    {
      "cell_type": "code",
      "metadata": {
        "colab": {
          "base_uri": "https://localhost:8080/"
        },
        "id": "-136qa5TT3bK",
        "outputId": "471ac661-35be-4e23-e5d9-b413666a524a"
      },
      "source": [
        "import numpy as np\n",
        "x=np.array([[1,2],[3,4],[5,6]])\n",
        "print(np.sqrt(x))"
      ],
      "execution_count": null,
      "outputs": [
        {
          "name": "stdout",
          "output_type": "stream",
          "text": [
            "[[1.         1.41421356]\n",
            " [1.73205081 2.        ]\n",
            " [2.23606798 2.44948974]]\n"
          ]
        }
      ]
    },
    {
      "cell_type": "code",
      "metadata": {
        "colab": {
          "base_uri": "https://localhost:8080/"
        },
        "id": "T3yUF5Y2T5pY",
        "outputId": "532dc5c2-939e-4090-9389-ea156305a94e"
      },
      "source": [
        "import numpy as np\n",
        "a=np.array([9,10])\n",
        "b=np.array([11,12])\n",
        "print(a.dot(b))\n",
        "print(np.dot(a,b))"
      ],
      "execution_count": null,
      "outputs": [
        {
          "name": "stdout",
          "output_type": "stream",
          "text": [
            "219\n",
            "219\n"
          ]
        }
      ]
    },
    {
      "cell_type": "code",
      "metadata": {
        "colab": {
          "base_uri": "https://localhost:8080/"
        },
        "id": "QJ_4vnpfT8Rp",
        "outputId": "491ebed2-c851-4dc1-eb34-d05ecef26b40"
      },
      "source": [
        "import numpy as np\n",
        "a=np.array([9,10])\n",
        "x=np.array([[1,2],[3,4]])\n",
        "print(x.dot(a))\n",
        "print(np.dot(x,a))"
      ],
      "execution_count": null,
      "outputs": [
        {
          "name": "stdout",
          "output_type": "stream",
          "text": [
            "[29 67]\n",
            "[29 67]\n"
          ]
        }
      ]
    },
    {
      "cell_type": "code",
      "metadata": {
        "colab": {
          "base_uri": "https://localhost:8080/"
        },
        "id": "0GU6YG5FT_kF",
        "outputId": "76c58e0f-31e8-444f-8afe-5ee43a6e269f"
      },
      "source": [
        "import numpy as np\n",
        "x=np.array([[1,2],[3,4]])\n",
        "y=np.array([[5,6],[7,8]])\n",
        "print(x.dot(y))\n",
        "print(np.dot(x,y))"
      ],
      "execution_count": null,
      "outputs": [
        {
          "name": "stdout",
          "output_type": "stream",
          "text": [
            "[[19 22]\n",
            " [43 50]]\n",
            "[[19 22]\n",
            " [43 50]]\n"
          ]
        }
      ]
    },
    {
      "cell_type": "code",
      "metadata": {
        "colab": {
          "base_uri": "https://localhost:8080/"
        },
        "id": "99eHHxpYUCtw",
        "outputId": "74165196-e806-4619-e641-eb780c75cf6b"
      },
      "source": [
        "import numpy as np\n",
        "x=np.array([[1,2],[3,4]])\n",
        "print(np.sum(x))\n",
        "print(np.sum(x,axis=0))\n",
        "print(np.sum(x,axis=1))"
      ],
      "execution_count": null,
      "outputs": [
        {
          "name": "stdout",
          "output_type": "stream",
          "text": [
            "10\n",
            "[4 6]\n",
            "[3 7]\n"
          ]
        }
      ]
    },
    {
      "cell_type": "code",
      "metadata": {
        "colab": {
          "base_uri": "https://localhost:8080/"
        },
        "id": "Rb_8orxrUFlK",
        "outputId": "f432fbd5-829e-48ba-84e8-cbe8666cbfbb"
      },
      "source": [
        "import numpy as np\n",
        "x=np.array([[1,2],[3,4]])\n",
        "print(x)\n",
        "print(x.T)\n"
      ],
      "execution_count": null,
      "outputs": [
        {
          "name": "stdout",
          "output_type": "stream",
          "text": [
            "[[1 2]\n",
            " [3 4]]\n",
            "[[1 3]\n",
            " [2 4]]\n"
          ]
        }
      ]
    },
    {
      "cell_type": "code",
      "metadata": {
        "colab": {
          "background_save": true
        },
        "id": "OOl7kmX9UIYk",
        "outputId": "bd8871b3-ead4-4400-b41f-343afd8fde4b"
      },
      "source": [
        "import numpy as np\n",
        "v=np.array([1,2,3])\n",
        "print(v)\n",
        "print(v.T)"
      ],
      "execution_count": null,
      "outputs": [
        {
          "name": "stdout",
          "output_type": "stream",
          "text": [
            "[1 2 3]\n",
            "[1 2 3]\n"
          ]
        }
      ]
    },
    {
      "cell_type": "code",
      "metadata": {
        "id": "lUtVn0DhULVw"
      },
      "source": [
        "import numpy as np\n",
        "a=np.array([[1,2,3],[4,5,6],[7,8,9]])\n",
        "v=np.array([1,0,1])\n",
        "b=a+v\n",
        "print(b)"
      ],
      "execution_count": null,
      "outputs": []
    },
    {
      "cell_type": "code",
      "metadata": {
        "id": "jzU1C0A_UNbI"
      },
      "source": [
        "import numpy as np\n",
        "x=np.array([[1,2,1],[3,4,1]])\n",
        "print(\"X.T:\\n\",x.T)\n",
        "w=np.array([1,1])\n",
        "print(\"W:\\n\",w)\n",
        "\n",
        "print(\"Final :\\n\",(x.T+w).T)"
      ],
      "execution_count": null,
      "outputs": []
    },
    {
      "cell_type": "code",
      "metadata": {
        "id": "TnNb2Wr-UQBa"
      },
      "source": [
        "import numpy as np\n",
        "x=np.array([[1,2,1],[3,4,1]])\n",
        "print(x*2)"
      ],
      "execution_count": null,
      "outputs": []
    },
    {
      "cell_type": "code",
      "metadata": {
        "id": "1UQ5a7iVUQb7"
      },
      "source": [
        "import numpy as np\n",
        "np.random.rand(3,2)"
      ],
      "execution_count": null,
      "outputs": []
    },
    {
      "cell_type": "code",
      "metadata": {
        "id": "DzUR_8-CUX-O"
      },
      "source": [
        "import numpy as np\n",
        "np.random.rand(10)"
      ],
      "execution_count": null,
      "outputs": []
    },
    {
      "cell_type": "code",
      "metadata": {
        "id": "sL0qqnX1UfJ0"
      },
      "source": [
        "import random\n",
        "print (random.randint(0,9))\n"
      ],
      "execution_count": null,
      "outputs": []
    },
    {
      "cell_type": "markdown",
      "metadata": {
        "id": "zzg80YB0UnYz"
      },
      "source": [
        "# **1.Creating Series**"
      ]
    },
    {
      "cell_type": "code",
      "metadata": {
        "colab": {
          "base_uri": "https://localhost:8080/"
        },
        "id": "tbRSeckYUqF7",
        "outputId": "c76c2253-be8a-4756-ab81-9fa5850b0cdb"
      },
      "source": [
        "import pandas as pd\n",
        "s=pd.Series([1,2,3,4,5],index=['A','B','C','D','E'])\n",
        "s"
      ],
      "execution_count": null,
      "outputs": [
        {
          "data": {
            "text/plain": [
              "A    1\n",
              "B    2\n",
              "C    3\n",
              "D    4\n",
              "E    5\n",
              "dtype: int64"
            ]
          },
          "execution_count": 7,
          "metadata": {},
          "output_type": "execute_result"
        }
      ]
    },
    {
      "cell_type": "markdown",
      "metadata": {
        "id": "MNeyWjlQUvvC"
      },
      "source": [
        "# **2.Data Frames**"
      ]
    },
    {
      "cell_type": "code",
      "metadata": {
        "colab": {
          "base_uri": "https://localhost:8080/"
        },
        "id": "-kjoAP2aUyvm",
        "outputId": "3bb61493-4850-4654-cc58-7f54453a1e3f"
      },
      "source": [
        "import pandas as pd\n",
        "data={'Gen':['F','M','M'],'EiD':['E01','E02','E03'],'Age':[25,45,38]}\n",
        "\n",
        "df=pd.DataFrame(data,columns=['EiD','Age','Gen'])\n",
        "print(df)"
      ],
      "execution_count": null,
      "outputs": [
        {
          "name": "stdout",
          "output_type": "stream",
          "text": [
            "   EiD  Age Gen\n",
            "0  E01   25   F\n",
            "1  E02   45   M\n",
            "2  E03   38   M\n"
          ]
        }
      ]
    },
    {
      "cell_type": "code",
      "metadata": {
        "colab": {
          "base_uri": "https://localhost:8080/"
        },
        "id": "xfBkf6yWU3Sy",
        "outputId": "24677978-3422-49b3-cb17-8c5f6b67a389"
      },
      "source": [
        "import pandas as pd\n",
        "from numpy import loadtxt\n",
        "from urllib.request import urlopen\n",
        "\n",
        "url='https://raw.githubusercontent.com/jbrownlee/datasets/master/pima-indians-diabetes.data.csv'\n",
        "\n",
        "raw_data=pd.read_csv(urlopen(url))\n",
        "raw_data.shape\n"
      ],
      "execution_count": null,
      "outputs": [
        {
          "data": {
            "text/plain": [
              "(767, 9)"
            ]
          },
          "execution_count": 9,
          "metadata": {},
          "output_type": "execute_result"
        }
      ]
    },
    {
      "cell_type": "code",
      "metadata": {
        "colab": {
          "base_uri": "https://localhost:8080/",
          "height": 203
        },
        "id": "qGShNjtSU5rh",
        "outputId": "95276804-0b26-4ff0-8715-192ac510963e"
      },
      "source": [
        "raw_data.head()"
      ],
      "execution_count": null,
      "outputs": [
        {
          "data": {
            "text/html": [
              "<div>\n",
              "<style scoped>\n",
              "    .dataframe tbody tr th:only-of-type {\n",
              "        vertical-align: middle;\n",
              "    }\n",
              "\n",
              "    .dataframe tbody tr th {\n",
              "        vertical-align: top;\n",
              "    }\n",
              "\n",
              "    .dataframe thead th {\n",
              "        text-align: right;\n",
              "    }\n",
              "</style>\n",
              "<table border=\"1\" class=\"dataframe\">\n",
              "  <thead>\n",
              "    <tr style=\"text-align: right;\">\n",
              "      <th></th>\n",
              "      <th>6</th>\n",
              "      <th>148</th>\n",
              "      <th>72</th>\n",
              "      <th>35</th>\n",
              "      <th>0</th>\n",
              "      <th>33.6</th>\n",
              "      <th>0.627</th>\n",
              "      <th>50</th>\n",
              "      <th>1</th>\n",
              "    </tr>\n",
              "  </thead>\n",
              "  <tbody>\n",
              "    <tr>\n",
              "      <th>0</th>\n",
              "      <td>1</td>\n",
              "      <td>85</td>\n",
              "      <td>66</td>\n",
              "      <td>29</td>\n",
              "      <td>0</td>\n",
              "      <td>26.6</td>\n",
              "      <td>0.351</td>\n",
              "      <td>31</td>\n",
              "      <td>0</td>\n",
              "    </tr>\n",
              "    <tr>\n",
              "      <th>1</th>\n",
              "      <td>8</td>\n",
              "      <td>183</td>\n",
              "      <td>64</td>\n",
              "      <td>0</td>\n",
              "      <td>0</td>\n",
              "      <td>23.3</td>\n",
              "      <td>0.672</td>\n",
              "      <td>32</td>\n",
              "      <td>1</td>\n",
              "    </tr>\n",
              "    <tr>\n",
              "      <th>2</th>\n",
              "      <td>1</td>\n",
              "      <td>89</td>\n",
              "      <td>66</td>\n",
              "      <td>23</td>\n",
              "      <td>94</td>\n",
              "      <td>28.1</td>\n",
              "      <td>0.167</td>\n",
              "      <td>21</td>\n",
              "      <td>0</td>\n",
              "    </tr>\n",
              "    <tr>\n",
              "      <th>3</th>\n",
              "      <td>0</td>\n",
              "      <td>137</td>\n",
              "      <td>40</td>\n",
              "      <td>35</td>\n",
              "      <td>168</td>\n",
              "      <td>43.1</td>\n",
              "      <td>2.288</td>\n",
              "      <td>33</td>\n",
              "      <td>1</td>\n",
              "    </tr>\n",
              "    <tr>\n",
              "      <th>4</th>\n",
              "      <td>5</td>\n",
              "      <td>116</td>\n",
              "      <td>74</td>\n",
              "      <td>0</td>\n",
              "      <td>0</td>\n",
              "      <td>25.6</td>\n",
              "      <td>0.201</td>\n",
              "      <td>30</td>\n",
              "      <td>0</td>\n",
              "    </tr>\n",
              "  </tbody>\n",
              "</table>\n",
              "</div>"
            ],
            "text/plain": [
              "   6  148  72  35    0  33.6  0.627  50  1\n",
              "0  1   85  66  29    0  26.6  0.351  31  0\n",
              "1  8  183  64   0    0  23.3  0.672  32  1\n",
              "2  1   89  66  23   94  28.1  0.167  21  0\n",
              "3  0  137  40  35  168  43.1  2.288  33  1\n",
              "4  5  116  74   0    0  25.6  0.201  30  0"
            ]
          },
          "execution_count": 10,
          "metadata": {},
          "output_type": "execute_result"
        }
      ]
    },
    {
      "cell_type": "code",
      "metadata": {
        "colab": {
          "base_uri": "https://localhost:8080/",
          "height": 203
        },
        "id": "9i0qhSXwU82Y",
        "outputId": "a27b0942-45e7-44ab-cb47-7cb1389111c3"
      },
      "source": [
        "raw_data.tail()"
      ],
      "execution_count": null,
      "outputs": [
        {
          "data": {
            "text/html": [
              "<div>\n",
              "<style scoped>\n",
              "    .dataframe tbody tr th:only-of-type {\n",
              "        vertical-align: middle;\n",
              "    }\n",
              "\n",
              "    .dataframe tbody tr th {\n",
              "        vertical-align: top;\n",
              "    }\n",
              "\n",
              "    .dataframe thead th {\n",
              "        text-align: right;\n",
              "    }\n",
              "</style>\n",
              "<table border=\"1\" class=\"dataframe\">\n",
              "  <thead>\n",
              "    <tr style=\"text-align: right;\">\n",
              "      <th></th>\n",
              "      <th>6</th>\n",
              "      <th>148</th>\n",
              "      <th>72</th>\n",
              "      <th>35</th>\n",
              "      <th>0</th>\n",
              "      <th>33.6</th>\n",
              "      <th>0.627</th>\n",
              "      <th>50</th>\n",
              "      <th>1</th>\n",
              "    </tr>\n",
              "  </thead>\n",
              "  <tbody>\n",
              "    <tr>\n",
              "      <th>762</th>\n",
              "      <td>10</td>\n",
              "      <td>101</td>\n",
              "      <td>76</td>\n",
              "      <td>48</td>\n",
              "      <td>180</td>\n",
              "      <td>32.9</td>\n",
              "      <td>0.171</td>\n",
              "      <td>63</td>\n",
              "      <td>0</td>\n",
              "    </tr>\n",
              "    <tr>\n",
              "      <th>763</th>\n",
              "      <td>2</td>\n",
              "      <td>122</td>\n",
              "      <td>70</td>\n",
              "      <td>27</td>\n",
              "      <td>0</td>\n",
              "      <td>36.8</td>\n",
              "      <td>0.340</td>\n",
              "      <td>27</td>\n",
              "      <td>0</td>\n",
              "    </tr>\n",
              "    <tr>\n",
              "      <th>764</th>\n",
              "      <td>5</td>\n",
              "      <td>121</td>\n",
              "      <td>72</td>\n",
              "      <td>23</td>\n",
              "      <td>112</td>\n",
              "      <td>26.2</td>\n",
              "      <td>0.245</td>\n",
              "      <td>30</td>\n",
              "      <td>0</td>\n",
              "    </tr>\n",
              "    <tr>\n",
              "      <th>765</th>\n",
              "      <td>1</td>\n",
              "      <td>126</td>\n",
              "      <td>60</td>\n",
              "      <td>0</td>\n",
              "      <td>0</td>\n",
              "      <td>30.1</td>\n",
              "      <td>0.349</td>\n",
              "      <td>47</td>\n",
              "      <td>1</td>\n",
              "    </tr>\n",
              "    <tr>\n",
              "      <th>766</th>\n",
              "      <td>1</td>\n",
              "      <td>93</td>\n",
              "      <td>70</td>\n",
              "      <td>31</td>\n",
              "      <td>0</td>\n",
              "      <td>30.4</td>\n",
              "      <td>0.315</td>\n",
              "      <td>23</td>\n",
              "      <td>0</td>\n",
              "    </tr>\n",
              "  </tbody>\n",
              "</table>\n",
              "</div>"
            ],
            "text/plain": [
              "      6  148  72  35    0  33.6  0.627  50  1\n",
              "762  10  101  76  48  180  32.9  0.171  63  0\n",
              "763   2  122  70  27    0  36.8  0.340  27  0\n",
              "764   5  121  72  23  112  26.2  0.245  30  0\n",
              "765   1  126  60   0    0  30.1  0.349  47  1\n",
              "766   1   93  70  31    0  30.4  0.315  23  0"
            ]
          },
          "execution_count": 11,
          "metadata": {},
          "output_type": "execute_result"
        }
      ]
    },
    {
      "cell_type": "code",
      "metadata": {
        "colab": {
          "base_uri": "https://localhost:8080/",
          "height": 819
        },
        "id": "ll0hPMW3VAOk",
        "outputId": "739a2815-d42f-4b3c-a78a-4235a3a31610"
      },
      "source": [
        "raw_data.head(25)"
      ],
      "execution_count": null,
      "outputs": [
        {
          "data": {
            "text/html": [
              "<div>\n",
              "<style scoped>\n",
              "    .dataframe tbody tr th:only-of-type {\n",
              "        vertical-align: middle;\n",
              "    }\n",
              "\n",
              "    .dataframe tbody tr th {\n",
              "        vertical-align: top;\n",
              "    }\n",
              "\n",
              "    .dataframe thead th {\n",
              "        text-align: right;\n",
              "    }\n",
              "</style>\n",
              "<table border=\"1\" class=\"dataframe\">\n",
              "  <thead>\n",
              "    <tr style=\"text-align: right;\">\n",
              "      <th></th>\n",
              "      <th>6</th>\n",
              "      <th>148</th>\n",
              "      <th>72</th>\n",
              "      <th>35</th>\n",
              "      <th>0</th>\n",
              "      <th>33.6</th>\n",
              "      <th>0.627</th>\n",
              "      <th>50</th>\n",
              "      <th>1</th>\n",
              "    </tr>\n",
              "  </thead>\n",
              "  <tbody>\n",
              "    <tr>\n",
              "      <th>0</th>\n",
              "      <td>1</td>\n",
              "      <td>85</td>\n",
              "      <td>66</td>\n",
              "      <td>29</td>\n",
              "      <td>0</td>\n",
              "      <td>26.6</td>\n",
              "      <td>0.351</td>\n",
              "      <td>31</td>\n",
              "      <td>0</td>\n",
              "    </tr>\n",
              "    <tr>\n",
              "      <th>1</th>\n",
              "      <td>8</td>\n",
              "      <td>183</td>\n",
              "      <td>64</td>\n",
              "      <td>0</td>\n",
              "      <td>0</td>\n",
              "      <td>23.3</td>\n",
              "      <td>0.672</td>\n",
              "      <td>32</td>\n",
              "      <td>1</td>\n",
              "    </tr>\n",
              "    <tr>\n",
              "      <th>2</th>\n",
              "      <td>1</td>\n",
              "      <td>89</td>\n",
              "      <td>66</td>\n",
              "      <td>23</td>\n",
              "      <td>94</td>\n",
              "      <td>28.1</td>\n",
              "      <td>0.167</td>\n",
              "      <td>21</td>\n",
              "      <td>0</td>\n",
              "    </tr>\n",
              "    <tr>\n",
              "      <th>3</th>\n",
              "      <td>0</td>\n",
              "      <td>137</td>\n",
              "      <td>40</td>\n",
              "      <td>35</td>\n",
              "      <td>168</td>\n",
              "      <td>43.1</td>\n",
              "      <td>2.288</td>\n",
              "      <td>33</td>\n",
              "      <td>1</td>\n",
              "    </tr>\n",
              "    <tr>\n",
              "      <th>4</th>\n",
              "      <td>5</td>\n",
              "      <td>116</td>\n",
              "      <td>74</td>\n",
              "      <td>0</td>\n",
              "      <td>0</td>\n",
              "      <td>25.6</td>\n",
              "      <td>0.201</td>\n",
              "      <td>30</td>\n",
              "      <td>0</td>\n",
              "    </tr>\n",
              "    <tr>\n",
              "      <th>5</th>\n",
              "      <td>3</td>\n",
              "      <td>78</td>\n",
              "      <td>50</td>\n",
              "      <td>32</td>\n",
              "      <td>88</td>\n",
              "      <td>31.0</td>\n",
              "      <td>0.248</td>\n",
              "      <td>26</td>\n",
              "      <td>1</td>\n",
              "    </tr>\n",
              "    <tr>\n",
              "      <th>6</th>\n",
              "      <td>10</td>\n",
              "      <td>115</td>\n",
              "      <td>0</td>\n",
              "      <td>0</td>\n",
              "      <td>0</td>\n",
              "      <td>35.3</td>\n",
              "      <td>0.134</td>\n",
              "      <td>29</td>\n",
              "      <td>0</td>\n",
              "    </tr>\n",
              "    <tr>\n",
              "      <th>7</th>\n",
              "      <td>2</td>\n",
              "      <td>197</td>\n",
              "      <td>70</td>\n",
              "      <td>45</td>\n",
              "      <td>543</td>\n",
              "      <td>30.5</td>\n",
              "      <td>0.158</td>\n",
              "      <td>53</td>\n",
              "      <td>1</td>\n",
              "    </tr>\n",
              "    <tr>\n",
              "      <th>8</th>\n",
              "      <td>8</td>\n",
              "      <td>125</td>\n",
              "      <td>96</td>\n",
              "      <td>0</td>\n",
              "      <td>0</td>\n",
              "      <td>0.0</td>\n",
              "      <td>0.232</td>\n",
              "      <td>54</td>\n",
              "      <td>1</td>\n",
              "    </tr>\n",
              "    <tr>\n",
              "      <th>9</th>\n",
              "      <td>4</td>\n",
              "      <td>110</td>\n",
              "      <td>92</td>\n",
              "      <td>0</td>\n",
              "      <td>0</td>\n",
              "      <td>37.6</td>\n",
              "      <td>0.191</td>\n",
              "      <td>30</td>\n",
              "      <td>0</td>\n",
              "    </tr>\n",
              "    <tr>\n",
              "      <th>10</th>\n",
              "      <td>10</td>\n",
              "      <td>168</td>\n",
              "      <td>74</td>\n",
              "      <td>0</td>\n",
              "      <td>0</td>\n",
              "      <td>38.0</td>\n",
              "      <td>0.537</td>\n",
              "      <td>34</td>\n",
              "      <td>1</td>\n",
              "    </tr>\n",
              "    <tr>\n",
              "      <th>11</th>\n",
              "      <td>10</td>\n",
              "      <td>139</td>\n",
              "      <td>80</td>\n",
              "      <td>0</td>\n",
              "      <td>0</td>\n",
              "      <td>27.1</td>\n",
              "      <td>1.441</td>\n",
              "      <td>57</td>\n",
              "      <td>0</td>\n",
              "    </tr>\n",
              "    <tr>\n",
              "      <th>12</th>\n",
              "      <td>1</td>\n",
              "      <td>189</td>\n",
              "      <td>60</td>\n",
              "      <td>23</td>\n",
              "      <td>846</td>\n",
              "      <td>30.1</td>\n",
              "      <td>0.398</td>\n",
              "      <td>59</td>\n",
              "      <td>1</td>\n",
              "    </tr>\n",
              "    <tr>\n",
              "      <th>13</th>\n",
              "      <td>5</td>\n",
              "      <td>166</td>\n",
              "      <td>72</td>\n",
              "      <td>19</td>\n",
              "      <td>175</td>\n",
              "      <td>25.8</td>\n",
              "      <td>0.587</td>\n",
              "      <td>51</td>\n",
              "      <td>1</td>\n",
              "    </tr>\n",
              "    <tr>\n",
              "      <th>14</th>\n",
              "      <td>7</td>\n",
              "      <td>100</td>\n",
              "      <td>0</td>\n",
              "      <td>0</td>\n",
              "      <td>0</td>\n",
              "      <td>30.0</td>\n",
              "      <td>0.484</td>\n",
              "      <td>32</td>\n",
              "      <td>1</td>\n",
              "    </tr>\n",
              "    <tr>\n",
              "      <th>15</th>\n",
              "      <td>0</td>\n",
              "      <td>118</td>\n",
              "      <td>84</td>\n",
              "      <td>47</td>\n",
              "      <td>230</td>\n",
              "      <td>45.8</td>\n",
              "      <td>0.551</td>\n",
              "      <td>31</td>\n",
              "      <td>1</td>\n",
              "    </tr>\n",
              "    <tr>\n",
              "      <th>16</th>\n",
              "      <td>7</td>\n",
              "      <td>107</td>\n",
              "      <td>74</td>\n",
              "      <td>0</td>\n",
              "      <td>0</td>\n",
              "      <td>29.6</td>\n",
              "      <td>0.254</td>\n",
              "      <td>31</td>\n",
              "      <td>1</td>\n",
              "    </tr>\n",
              "    <tr>\n",
              "      <th>17</th>\n",
              "      <td>1</td>\n",
              "      <td>103</td>\n",
              "      <td>30</td>\n",
              "      <td>38</td>\n",
              "      <td>83</td>\n",
              "      <td>43.3</td>\n",
              "      <td>0.183</td>\n",
              "      <td>33</td>\n",
              "      <td>0</td>\n",
              "    </tr>\n",
              "    <tr>\n",
              "      <th>18</th>\n",
              "      <td>1</td>\n",
              "      <td>115</td>\n",
              "      <td>70</td>\n",
              "      <td>30</td>\n",
              "      <td>96</td>\n",
              "      <td>34.6</td>\n",
              "      <td>0.529</td>\n",
              "      <td>32</td>\n",
              "      <td>1</td>\n",
              "    </tr>\n",
              "    <tr>\n",
              "      <th>19</th>\n",
              "      <td>3</td>\n",
              "      <td>126</td>\n",
              "      <td>88</td>\n",
              "      <td>41</td>\n",
              "      <td>235</td>\n",
              "      <td>39.3</td>\n",
              "      <td>0.704</td>\n",
              "      <td>27</td>\n",
              "      <td>0</td>\n",
              "    </tr>\n",
              "    <tr>\n",
              "      <th>20</th>\n",
              "      <td>8</td>\n",
              "      <td>99</td>\n",
              "      <td>84</td>\n",
              "      <td>0</td>\n",
              "      <td>0</td>\n",
              "      <td>35.4</td>\n",
              "      <td>0.388</td>\n",
              "      <td>50</td>\n",
              "      <td>0</td>\n",
              "    </tr>\n",
              "    <tr>\n",
              "      <th>21</th>\n",
              "      <td>7</td>\n",
              "      <td>196</td>\n",
              "      <td>90</td>\n",
              "      <td>0</td>\n",
              "      <td>0</td>\n",
              "      <td>39.8</td>\n",
              "      <td>0.451</td>\n",
              "      <td>41</td>\n",
              "      <td>1</td>\n",
              "    </tr>\n",
              "    <tr>\n",
              "      <th>22</th>\n",
              "      <td>9</td>\n",
              "      <td>119</td>\n",
              "      <td>80</td>\n",
              "      <td>35</td>\n",
              "      <td>0</td>\n",
              "      <td>29.0</td>\n",
              "      <td>0.263</td>\n",
              "      <td>29</td>\n",
              "      <td>1</td>\n",
              "    </tr>\n",
              "    <tr>\n",
              "      <th>23</th>\n",
              "      <td>11</td>\n",
              "      <td>143</td>\n",
              "      <td>94</td>\n",
              "      <td>33</td>\n",
              "      <td>146</td>\n",
              "      <td>36.6</td>\n",
              "      <td>0.254</td>\n",
              "      <td>51</td>\n",
              "      <td>1</td>\n",
              "    </tr>\n",
              "    <tr>\n",
              "      <th>24</th>\n",
              "      <td>10</td>\n",
              "      <td>125</td>\n",
              "      <td>70</td>\n",
              "      <td>26</td>\n",
              "      <td>115</td>\n",
              "      <td>31.1</td>\n",
              "      <td>0.205</td>\n",
              "      <td>41</td>\n",
              "      <td>1</td>\n",
              "    </tr>\n",
              "  </tbody>\n",
              "</table>\n",
              "</div>"
            ],
            "text/plain": [
              "     6  148  72  35    0  33.6  0.627  50  1\n",
              "0    1   85  66  29    0  26.6  0.351  31  0\n",
              "1    8  183  64   0    0  23.3  0.672  32  1\n",
              "2    1   89  66  23   94  28.1  0.167  21  0\n",
              "3    0  137  40  35  168  43.1  2.288  33  1\n",
              "4    5  116  74   0    0  25.6  0.201  30  0\n",
              "5    3   78  50  32   88  31.0  0.248  26  1\n",
              "6   10  115   0   0    0  35.3  0.134  29  0\n",
              "7    2  197  70  45  543  30.5  0.158  53  1\n",
              "8    8  125  96   0    0   0.0  0.232  54  1\n",
              "9    4  110  92   0    0  37.6  0.191  30  0\n",
              "10  10  168  74   0    0  38.0  0.537  34  1\n",
              "11  10  139  80   0    0  27.1  1.441  57  0\n",
              "12   1  189  60  23  846  30.1  0.398  59  1\n",
              "13   5  166  72  19  175  25.8  0.587  51  1\n",
              "14   7  100   0   0    0  30.0  0.484  32  1\n",
              "15   0  118  84  47  230  45.8  0.551  31  1\n",
              "16   7  107  74   0    0  29.6  0.254  31  1\n",
              "17   1  103  30  38   83  43.3  0.183  33  0\n",
              "18   1  115  70  30   96  34.6  0.529  32  1\n",
              "19   3  126  88  41  235  39.3  0.704  27  0\n",
              "20   8   99  84   0    0  35.4  0.388  50  0\n",
              "21   7  196  90   0    0  39.8  0.451  41  1\n",
              "22   9  119  80  35    0  29.0  0.263  29  1\n",
              "23  11  143  94  33  146  36.6  0.254  51  1\n",
              "24  10  125  70  26  115  31.1  0.205  41  1"
            ]
          },
          "execution_count": 12,
          "metadata": {},
          "output_type": "execute_result"
        }
      ]
    },
    {
      "cell_type": "code",
      "metadata": {
        "colab": {
          "base_uri": "https://localhost:8080/",
          "height": 295
        },
        "id": "VkjgnK6xVD7q",
        "outputId": "e6e36026-96c8-406e-f43d-c89a11bba7cd"
      },
      "source": [
        "raw_data.describe()"
      ],
      "execution_count": null,
      "outputs": [
        {
          "data": {
            "text/html": [
              "<div>\n",
              "<style scoped>\n",
              "    .dataframe tbody tr th:only-of-type {\n",
              "        vertical-align: middle;\n",
              "    }\n",
              "\n",
              "    .dataframe tbody tr th {\n",
              "        vertical-align: top;\n",
              "    }\n",
              "\n",
              "    .dataframe thead th {\n",
              "        text-align: right;\n",
              "    }\n",
              "</style>\n",
              "<table border=\"1\" class=\"dataframe\">\n",
              "  <thead>\n",
              "    <tr style=\"text-align: right;\">\n",
              "      <th></th>\n",
              "      <th>6</th>\n",
              "      <th>148</th>\n",
              "      <th>72</th>\n",
              "      <th>35</th>\n",
              "      <th>0</th>\n",
              "      <th>33.6</th>\n",
              "      <th>0.627</th>\n",
              "      <th>50</th>\n",
              "      <th>1</th>\n",
              "    </tr>\n",
              "  </thead>\n",
              "  <tbody>\n",
              "    <tr>\n",
              "      <th>count</th>\n",
              "      <td>767.000000</td>\n",
              "      <td>767.000000</td>\n",
              "      <td>767.000000</td>\n",
              "      <td>767.000000</td>\n",
              "      <td>767.000000</td>\n",
              "      <td>767.000000</td>\n",
              "      <td>767.000000</td>\n",
              "      <td>767.000000</td>\n",
              "      <td>767.000000</td>\n",
              "    </tr>\n",
              "    <tr>\n",
              "      <th>mean</th>\n",
              "      <td>3.842243</td>\n",
              "      <td>120.859192</td>\n",
              "      <td>69.101695</td>\n",
              "      <td>20.517601</td>\n",
              "      <td>79.903520</td>\n",
              "      <td>31.990482</td>\n",
              "      <td>0.471674</td>\n",
              "      <td>33.219035</td>\n",
              "      <td>0.348110</td>\n",
              "    </tr>\n",
              "    <tr>\n",
              "      <th>std</th>\n",
              "      <td>3.370877</td>\n",
              "      <td>31.978468</td>\n",
              "      <td>19.368155</td>\n",
              "      <td>15.954059</td>\n",
              "      <td>115.283105</td>\n",
              "      <td>7.889091</td>\n",
              "      <td>0.331497</td>\n",
              "      <td>11.752296</td>\n",
              "      <td>0.476682</td>\n",
              "    </tr>\n",
              "    <tr>\n",
              "      <th>min</th>\n",
              "      <td>0.000000</td>\n",
              "      <td>0.000000</td>\n",
              "      <td>0.000000</td>\n",
              "      <td>0.000000</td>\n",
              "      <td>0.000000</td>\n",
              "      <td>0.000000</td>\n",
              "      <td>0.078000</td>\n",
              "      <td>21.000000</td>\n",
              "      <td>0.000000</td>\n",
              "    </tr>\n",
              "    <tr>\n",
              "      <th>25%</th>\n",
              "      <td>1.000000</td>\n",
              "      <td>99.000000</td>\n",
              "      <td>62.000000</td>\n",
              "      <td>0.000000</td>\n",
              "      <td>0.000000</td>\n",
              "      <td>27.300000</td>\n",
              "      <td>0.243500</td>\n",
              "      <td>24.000000</td>\n",
              "      <td>0.000000</td>\n",
              "    </tr>\n",
              "    <tr>\n",
              "      <th>50%</th>\n",
              "      <td>3.000000</td>\n",
              "      <td>117.000000</td>\n",
              "      <td>72.000000</td>\n",
              "      <td>23.000000</td>\n",
              "      <td>32.000000</td>\n",
              "      <td>32.000000</td>\n",
              "      <td>0.371000</td>\n",
              "      <td>29.000000</td>\n",
              "      <td>0.000000</td>\n",
              "    </tr>\n",
              "    <tr>\n",
              "      <th>75%</th>\n",
              "      <td>6.000000</td>\n",
              "      <td>140.000000</td>\n",
              "      <td>80.000000</td>\n",
              "      <td>32.000000</td>\n",
              "      <td>127.500000</td>\n",
              "      <td>36.600000</td>\n",
              "      <td>0.625000</td>\n",
              "      <td>41.000000</td>\n",
              "      <td>1.000000</td>\n",
              "    </tr>\n",
              "    <tr>\n",
              "      <th>max</th>\n",
              "      <td>17.000000</td>\n",
              "      <td>199.000000</td>\n",
              "      <td>122.000000</td>\n",
              "      <td>99.000000</td>\n",
              "      <td>846.000000</td>\n",
              "      <td>67.100000</td>\n",
              "      <td>2.420000</td>\n",
              "      <td>81.000000</td>\n",
              "      <td>1.000000</td>\n",
              "    </tr>\n",
              "  </tbody>\n",
              "</table>\n",
              "</div>"
            ],
            "text/plain": [
              "                6         148          72  ...       0.627          50           1\n",
              "count  767.000000  767.000000  767.000000  ...  767.000000  767.000000  767.000000\n",
              "mean     3.842243  120.859192   69.101695  ...    0.471674   33.219035    0.348110\n",
              "std      3.370877   31.978468   19.368155  ...    0.331497   11.752296    0.476682\n",
              "min      0.000000    0.000000    0.000000  ...    0.078000   21.000000    0.000000\n",
              "25%      1.000000   99.000000   62.000000  ...    0.243500   24.000000    0.000000\n",
              "50%      3.000000  117.000000   72.000000  ...    0.371000   29.000000    0.000000\n",
              "75%      6.000000  140.000000   80.000000  ...    0.625000   41.000000    1.000000\n",
              "max     17.000000  199.000000  122.000000  ...    2.420000   81.000000    1.000000\n",
              "\n",
              "[8 rows x 9 columns]"
            ]
          },
          "execution_count": 13,
          "metadata": {},
          "output_type": "execute_result"
        }
      ]
    },
    {
      "cell_type": "code",
      "metadata": {
        "colab": {
          "base_uri": "https://localhost:8080/",
          "height": 326
        },
        "id": "WrRoTWEaVIHL",
        "outputId": "15df9a3e-39f6-4a97-da0c-f17cef0da2d4"
      },
      "source": [
        "raw_data.cov()"
      ],
      "execution_count": null,
      "outputs": [
        {
          "data": {
            "text/html": [
              "<div>\n",
              "<style scoped>\n",
              "    .dataframe tbody tr th:only-of-type {\n",
              "        vertical-align: middle;\n",
              "    }\n",
              "\n",
              "    .dataframe tbody tr th {\n",
              "        vertical-align: top;\n",
              "    }\n",
              "\n",
              "    .dataframe thead th {\n",
              "        text-align: right;\n",
              "    }\n",
              "</style>\n",
              "<table border=\"1\" class=\"dataframe\">\n",
              "  <thead>\n",
              "    <tr style=\"text-align: right;\">\n",
              "      <th></th>\n",
              "      <th>6</th>\n",
              "      <th>148</th>\n",
              "      <th>72</th>\n",
              "      <th>35</th>\n",
              "      <th>0</th>\n",
              "      <th>33.6</th>\n",
              "      <th>0.627</th>\n",
              "      <th>50</th>\n",
              "      <th>1</th>\n",
              "    </tr>\n",
              "  </thead>\n",
              "  <tbody>\n",
              "    <tr>\n",
              "      <th>6</th>\n",
              "      <td>11.362809</td>\n",
              "      <td>13.888985</td>\n",
              "      <td>9.218414</td>\n",
              "      <td>-4.436515</td>\n",
              "      <td>-28.367721</td>\n",
              "      <td>0.465859</td>\n",
              "      <td>-0.037912</td>\n",
              "      <td>21.551571</td>\n",
              "      <td>0.355250</td>\n",
              "    </tr>\n",
              "    <tr>\n",
              "      <th>148</th>\n",
              "      <td>13.888985</td>\n",
              "      <td>1022.622445</td>\n",
              "      <td>94.451675</td>\n",
              "      <td>28.764884</td>\n",
              "      <td>1225.357154</td>\n",
              "      <td>55.742783</td>\n",
              "      <td>1.451278</td>\n",
              "      <td>98.618350</td>\n",
              "      <td>7.101300</td>\n",
              "    </tr>\n",
              "    <tr>\n",
              "      <th>72</th>\n",
              "      <td>9.218414</td>\n",
              "      <td>94.451675</td>\n",
              "      <td>375.125415</td>\n",
              "      <td>64.058260</td>\n",
              "      <td>198.939328</td>\n",
              "      <td>43.054755</td>\n",
              "      <td>0.264396</td>\n",
              "      <td>54.531221</td>\n",
              "      <td>0.599018</td>\n",
              "    </tr>\n",
              "    <tr>\n",
              "      <th>35</th>\n",
              "      <td>-4.436515</td>\n",
              "      <td>28.764884</td>\n",
              "      <td>64.058260</td>\n",
              "      <td>254.532001</td>\n",
              "      <td>805.536948</td>\n",
              "      <td>49.407935</td>\n",
              "      <td>0.970472</td>\n",
              "      <td>-21.725792</td>\n",
              "      <td>0.557181</td>\n",
              "    </tr>\n",
              "    <tr>\n",
              "      <th>0</th>\n",
              "      <td>-28.367721</td>\n",
              "      <td>1225.357154</td>\n",
              "      <td>198.939328</td>\n",
              "      <td>805.536948</td>\n",
              "      <td>13290.194335</td>\n",
              "      <td>180.177540</td>\n",
              "      <td>7.092087</td>\n",
              "      <td>-55.469702</td>\n",
              "      <td>7.252951</td>\n",
              "    </tr>\n",
              "    <tr>\n",
              "      <th>33.6</th>\n",
              "      <td>0.465859</td>\n",
              "      <td>55.742783</td>\n",
              "      <td>43.054755</td>\n",
              "      <td>49.407935</td>\n",
              "      <td>180.177540</td>\n",
              "      <td>62.237755</td>\n",
              "      <td>0.367558</td>\n",
              "      <td>3.329503</td>\n",
              "      <td>1.100707</td>\n",
              "    </tr>\n",
              "    <tr>\n",
              "      <th>0.627</th>\n",
              "      <td>-0.037912</td>\n",
              "      <td>1.451278</td>\n",
              "      <td>0.264396</td>\n",
              "      <td>0.970472</td>\n",
              "      <td>7.092087</td>\n",
              "      <td>0.367558</td>\n",
              "      <td>0.109890</td>\n",
              "      <td>0.127544</td>\n",
              "      <td>0.027376</td>\n",
              "    </tr>\n",
              "    <tr>\n",
              "      <th>50</th>\n",
              "      <td>21.551571</td>\n",
              "      <td>98.618350</td>\n",
              "      <td>54.531221</td>\n",
              "      <td>-21.725792</td>\n",
              "      <td>-55.469702</td>\n",
              "      <td>3.329503</td>\n",
              "      <td>0.127544</td>\n",
              "      <td>138.116452</td>\n",
              "      <td>1.324436</td>\n",
              "    </tr>\n",
              "    <tr>\n",
              "      <th>1</th>\n",
              "      <td>0.355250</td>\n",
              "      <td>7.101300</td>\n",
              "      <td>0.599018</td>\n",
              "      <td>0.557181</td>\n",
              "      <td>7.252951</td>\n",
              "      <td>1.100707</td>\n",
              "      <td>0.027376</td>\n",
              "      <td>1.324436</td>\n",
              "      <td>0.227226</td>\n",
              "    </tr>\n",
              "  </tbody>\n",
              "</table>\n",
              "</div>"
            ],
            "text/plain": [
              "               6          148          72  ...     0.627          50         1\n",
              "6      11.362809    13.888985    9.218414  ... -0.037912   21.551571  0.355250\n",
              "148    13.888985  1022.622445   94.451675  ...  1.451278   98.618350  7.101300\n",
              "72      9.218414    94.451675  375.125415  ...  0.264396   54.531221  0.599018\n",
              "35     -4.436515    28.764884   64.058260  ...  0.970472  -21.725792  0.557181\n",
              "0     -28.367721  1225.357154  198.939328  ...  7.092087  -55.469702  7.252951\n",
              "33.6    0.465859    55.742783   43.054755  ...  0.367558    3.329503  1.100707\n",
              "0.627  -0.037912     1.451278    0.264396  ...  0.109890    0.127544  0.027376\n",
              "50     21.551571    98.618350   54.531221  ...  0.127544  138.116452  1.324436\n",
              "1       0.355250     7.101300    0.599018  ...  0.027376    1.324436  0.227226\n",
              "\n",
              "[9 rows x 9 columns]"
            ]
          },
          "execution_count": 14,
          "metadata": {},
          "output_type": "execute_result"
        }
      ]
    },
    {
      "cell_type": "code",
      "metadata": {
        "colab": {
          "base_uri": "https://localhost:8080/",
          "height": 326
        },
        "id": "Hh9hkS0tVKm7",
        "outputId": "e5bd53d6-9780-449c-dafb-9f108f27340e"
      },
      "source": [
        "raw_data.corr()"
      ],
      "execution_count": null,
      "outputs": [
        {
          "data": {
            "text/html": [
              "<div>\n",
              "<style scoped>\n",
              "    .dataframe tbody tr th:only-of-type {\n",
              "        vertical-align: middle;\n",
              "    }\n",
              "\n",
              "    .dataframe tbody tr th {\n",
              "        vertical-align: top;\n",
              "    }\n",
              "\n",
              "    .dataframe thead th {\n",
              "        text-align: right;\n",
              "    }\n",
              "</style>\n",
              "<table border=\"1\" class=\"dataframe\">\n",
              "  <thead>\n",
              "    <tr style=\"text-align: right;\">\n",
              "      <th></th>\n",
              "      <th>6</th>\n",
              "      <th>148</th>\n",
              "      <th>72</th>\n",
              "      <th>35</th>\n",
              "      <th>0</th>\n",
              "      <th>33.6</th>\n",
              "      <th>0.627</th>\n",
              "      <th>50</th>\n",
              "      <th>1</th>\n",
              "    </tr>\n",
              "  </thead>\n",
              "  <tbody>\n",
              "    <tr>\n",
              "      <th>6</th>\n",
              "      <td>1.000000</td>\n",
              "      <td>0.128846</td>\n",
              "      <td>0.141197</td>\n",
              "      <td>-0.082495</td>\n",
              "      <td>-0.072999</td>\n",
              "      <td>0.017518</td>\n",
              "      <td>-0.033927</td>\n",
              "      <td>0.544018</td>\n",
              "      <td>0.221087</td>\n",
              "    </tr>\n",
              "    <tr>\n",
              "      <th>148</th>\n",
              "      <td>0.128846</td>\n",
              "      <td>1.000000</td>\n",
              "      <td>0.152498</td>\n",
              "      <td>0.056381</td>\n",
              "      <td>0.332383</td>\n",
              "      <td>0.220955</td>\n",
              "      <td>0.136903</td>\n",
              "      <td>0.262408</td>\n",
              "      <td>0.465856</td>\n",
              "    </tr>\n",
              "    <tr>\n",
              "      <th>72</th>\n",
              "      <td>0.141197</td>\n",
              "      <td>0.152498</td>\n",
              "      <td>1.000000</td>\n",
              "      <td>0.207308</td>\n",
              "      <td>0.089098</td>\n",
              "      <td>0.281777</td>\n",
              "      <td>0.041180</td>\n",
              "      <td>0.239571</td>\n",
              "      <td>0.064882</td>\n",
              "    </tr>\n",
              "    <tr>\n",
              "      <th>35</th>\n",
              "      <td>-0.082495</td>\n",
              "      <td>0.056381</td>\n",
              "      <td>0.207308</td>\n",
              "      <td>1.000000</td>\n",
              "      <td>0.437974</td>\n",
              "      <td>0.392553</td>\n",
              "      <td>0.183498</td>\n",
              "      <td>-0.115873</td>\n",
              "      <td>0.073265</td>\n",
              "    </tr>\n",
              "    <tr>\n",
              "      <th>0</th>\n",
              "      <td>-0.072999</td>\n",
              "      <td>0.332383</td>\n",
              "      <td>0.089098</td>\n",
              "      <td>0.437974</td>\n",
              "      <td>1.000000</td>\n",
              "      <td>0.198111</td>\n",
              "      <td>0.185579</td>\n",
              "      <td>-0.040942</td>\n",
              "      <td>0.131984</td>\n",
              "    </tr>\n",
              "    <tr>\n",
              "      <th>33.6</th>\n",
              "      <td>0.017518</td>\n",
              "      <td>0.220955</td>\n",
              "      <td>0.281777</td>\n",
              "      <td>0.392553</td>\n",
              "      <td>0.198111</td>\n",
              "      <td>1.000000</td>\n",
              "      <td>0.140546</td>\n",
              "      <td>0.035911</td>\n",
              "      <td>0.292695</td>\n",
              "    </tr>\n",
              "    <tr>\n",
              "      <th>0.627</th>\n",
              "      <td>-0.033927</td>\n",
              "      <td>0.136903</td>\n",
              "      <td>0.041180</td>\n",
              "      <td>0.183498</td>\n",
              "      <td>0.185579</td>\n",
              "      <td>0.140546</td>\n",
              "      <td>1.000000</td>\n",
              "      <td>0.032738</td>\n",
              "      <td>0.173245</td>\n",
              "    </tr>\n",
              "    <tr>\n",
              "      <th>50</th>\n",
              "      <td>0.544018</td>\n",
              "      <td>0.262408</td>\n",
              "      <td>0.239571</td>\n",
              "      <td>-0.115873</td>\n",
              "      <td>-0.040942</td>\n",
              "      <td>0.035911</td>\n",
              "      <td>0.032738</td>\n",
              "      <td>1.000000</td>\n",
              "      <td>0.236417</td>\n",
              "    </tr>\n",
              "    <tr>\n",
              "      <th>1</th>\n",
              "      <td>0.221087</td>\n",
              "      <td>0.465856</td>\n",
              "      <td>0.064882</td>\n",
              "      <td>0.073265</td>\n",
              "      <td>0.131984</td>\n",
              "      <td>0.292695</td>\n",
              "      <td>0.173245</td>\n",
              "      <td>0.236417</td>\n",
              "      <td>1.000000</td>\n",
              "    </tr>\n",
              "  </tbody>\n",
              "</table>\n",
              "</div>"
            ],
            "text/plain": [
              "              6       148        72  ...     0.627        50         1\n",
              "6      1.000000  0.128846  0.141197  ... -0.033927  0.544018  0.221087\n",
              "148    0.128846  1.000000  0.152498  ...  0.136903  0.262408  0.465856\n",
              "72     0.141197  0.152498  1.000000  ...  0.041180  0.239571  0.064882\n",
              "35    -0.082495  0.056381  0.207308  ...  0.183498 -0.115873  0.073265\n",
              "0     -0.072999  0.332383  0.089098  ...  0.185579 -0.040942  0.131984\n",
              "33.6   0.017518  0.220955  0.281777  ...  0.140546  0.035911  0.292695\n",
              "0.627 -0.033927  0.136903  0.041180  ...  1.000000  0.032738  0.173245\n",
              "50     0.544018  0.262408  0.239571  ...  0.032738  1.000000  0.236417\n",
              "1      0.221087  0.465856  0.064882  ...  0.173245  0.236417  1.000000\n",
              "\n",
              "[9 rows x 9 columns]"
            ]
          },
          "execution_count": 15,
          "metadata": {},
          "output_type": "execute_result"
        }
      ]
    },
    {
      "cell_type": "code",
      "metadata": {
        "colab": {
          "base_uri": "https://localhost:8080/"
        },
        "id": "BurzhDvvVNp5",
        "outputId": "556a4e08-c2f0-4ccc-b2fd-34c11880d54d"
      },
      "source": [
        "from sklearn.datasets import load_iris\n",
        "import numpy as np\n",
        "iris=load_iris()\n",
        "iris"
      ],
      "execution_count": null,
      "outputs": [
        {
          "data": {
            "text/plain": [
              "{'DESCR': '.. _iris_dataset:\\n\\nIris plants dataset\\n--------------------\\n\\n**Data Set Characteristics:**\\n\\n    :Number of Instances: 150 (50 in each of three classes)\\n    :Number of Attributes: 4 numeric, predictive attributes and the class\\n    :Attribute Information:\\n        - sepal length in cm\\n        - sepal width in cm\\n        - petal length in cm\\n        - petal width in cm\\n        - class:\\n                - Iris-Setosa\\n                - Iris-Versicolour\\n                - Iris-Virginica\\n                \\n    :Summary Statistics:\\n\\n    ============== ==== ==== ======= ===== ====================\\n                    Min  Max   Mean    SD   Class Correlation\\n    ============== ==== ==== ======= ===== ====================\\n    sepal length:   4.3  7.9   5.84   0.83    0.7826\\n    sepal width:    2.0  4.4   3.05   0.43   -0.4194\\n    petal length:   1.0  6.9   3.76   1.76    0.9490  (high!)\\n    petal width:    0.1  2.5   1.20   0.76    0.9565  (high!)\\n    ============== ==== ==== ======= ===== ====================\\n\\n    :Missing Attribute Values: None\\n    :Class Distribution: 33.3% for each of 3 classes.\\n    :Creator: R.A. Fisher\\n    :Donor: Michael Marshall (MARSHALL%PLU@io.arc.nasa.gov)\\n    :Date: July, 1988\\n\\nThe famous Iris database, first used by Sir R.A. Fisher. The dataset is taken\\nfrom Fisher\\'s paper. Note that it\\'s the same as in R, but not as in the UCI\\nMachine Learning Repository, which has two wrong data points.\\n\\nThis is perhaps the best known database to be found in the\\npattern recognition literature.  Fisher\\'s paper is a classic in the field and\\nis referenced frequently to this day.  (See Duda & Hart, for example.)  The\\ndata set contains 3 classes of 50 instances each, where each class refers to a\\ntype of iris plant.  One class is linearly separable from the other 2; the\\nlatter are NOT linearly separable from each other.\\n\\n.. topic:: References\\n\\n   - Fisher, R.A. \"The use of multiple measurements in taxonomic problems\"\\n     Annual Eugenics, 7, Part II, 179-188 (1936); also in \"Contributions to\\n     Mathematical Statistics\" (John Wiley, NY, 1950).\\n   - Duda, R.O., & Hart, P.E. (1973) Pattern Classification and Scene Analysis.\\n     (Q327.D83) John Wiley & Sons.  ISBN 0-471-22361-1.  See page 218.\\n   - Dasarathy, B.V. (1980) \"Nosing Around the Neighborhood: A New System\\n     Structure and Classification Rule for Recognition in Partially Exposed\\n     Environments\".  IEEE Transactions on Pattern Analysis and Machine\\n     Intelligence, Vol. PAMI-2, No. 1, 67-71.\\n   - Gates, G.W. (1972) \"The Reduced Nearest Neighbor Rule\".  IEEE Transactions\\n     on Information Theory, May 1972, 431-433.\\n   - See also: 1988 MLC Proceedings, 54-64.  Cheeseman et al\"s AUTOCLASS II\\n     conceptual clustering system finds 3 classes in the data.\\n   - Many, many more ...',\n",
              " 'data': array([[5.1, 3.5, 1.4, 0.2],\n",
              "        [4.9, 3. , 1.4, 0.2],\n",
              "        [4.7, 3.2, 1.3, 0.2],\n",
              "        [4.6, 3.1, 1.5, 0.2],\n",
              "        [5. , 3.6, 1.4, 0.2],\n",
              "        [5.4, 3.9, 1.7, 0.4],\n",
              "        [4.6, 3.4, 1.4, 0.3],\n",
              "        [5. , 3.4, 1.5, 0.2],\n",
              "        [4.4, 2.9, 1.4, 0.2],\n",
              "        [4.9, 3.1, 1.5, 0.1],\n",
              "        [5.4, 3.7, 1.5, 0.2],\n",
              "        [4.8, 3.4, 1.6, 0.2],\n",
              "        [4.8, 3. , 1.4, 0.1],\n",
              "        [4.3, 3. , 1.1, 0.1],\n",
              "        [5.8, 4. , 1.2, 0.2],\n",
              "        [5.7, 4.4, 1.5, 0.4],\n",
              "        [5.4, 3.9, 1.3, 0.4],\n",
              "        [5.1, 3.5, 1.4, 0.3],\n",
              "        [5.7, 3.8, 1.7, 0.3],\n",
              "        [5.1, 3.8, 1.5, 0.3],\n",
              "        [5.4, 3.4, 1.7, 0.2],\n",
              "        [5.1, 3.7, 1.5, 0.4],\n",
              "        [4.6, 3.6, 1. , 0.2],\n",
              "        [5.1, 3.3, 1.7, 0.5],\n",
              "        [4.8, 3.4, 1.9, 0.2],\n",
              "        [5. , 3. , 1.6, 0.2],\n",
              "        [5. , 3.4, 1.6, 0.4],\n",
              "        [5.2, 3.5, 1.5, 0.2],\n",
              "        [5.2, 3.4, 1.4, 0.2],\n",
              "        [4.7, 3.2, 1.6, 0.2],\n",
              "        [4.8, 3.1, 1.6, 0.2],\n",
              "        [5.4, 3.4, 1.5, 0.4],\n",
              "        [5.2, 4.1, 1.5, 0.1],\n",
              "        [5.5, 4.2, 1.4, 0.2],\n",
              "        [4.9, 3.1, 1.5, 0.2],\n",
              "        [5. , 3.2, 1.2, 0.2],\n",
              "        [5.5, 3.5, 1.3, 0.2],\n",
              "        [4.9, 3.6, 1.4, 0.1],\n",
              "        [4.4, 3. , 1.3, 0.2],\n",
              "        [5.1, 3.4, 1.5, 0.2],\n",
              "        [5. , 3.5, 1.3, 0.3],\n",
              "        [4.5, 2.3, 1.3, 0.3],\n",
              "        [4.4, 3.2, 1.3, 0.2],\n",
              "        [5. , 3.5, 1.6, 0.6],\n",
              "        [5.1, 3.8, 1.9, 0.4],\n",
              "        [4.8, 3. , 1.4, 0.3],\n",
              "        [5.1, 3.8, 1.6, 0.2],\n",
              "        [4.6, 3.2, 1.4, 0.2],\n",
              "        [5.3, 3.7, 1.5, 0.2],\n",
              "        [5. , 3.3, 1.4, 0.2],\n",
              "        [7. , 3.2, 4.7, 1.4],\n",
              "        [6.4, 3.2, 4.5, 1.5],\n",
              "        [6.9, 3.1, 4.9, 1.5],\n",
              "        [5.5, 2.3, 4. , 1.3],\n",
              "        [6.5, 2.8, 4.6, 1.5],\n",
              "        [5.7, 2.8, 4.5, 1.3],\n",
              "        [6.3, 3.3, 4.7, 1.6],\n",
              "        [4.9, 2.4, 3.3, 1. ],\n",
              "        [6.6, 2.9, 4.6, 1.3],\n",
              "        [5.2, 2.7, 3.9, 1.4],\n",
              "        [5. , 2. , 3.5, 1. ],\n",
              "        [5.9, 3. , 4.2, 1.5],\n",
              "        [6. , 2.2, 4. , 1. ],\n",
              "        [6.1, 2.9, 4.7, 1.4],\n",
              "        [5.6, 2.9, 3.6, 1.3],\n",
              "        [6.7, 3.1, 4.4, 1.4],\n",
              "        [5.6, 3. , 4.5, 1.5],\n",
              "        [5.8, 2.7, 4.1, 1. ],\n",
              "        [6.2, 2.2, 4.5, 1.5],\n",
              "        [5.6, 2.5, 3.9, 1.1],\n",
              "        [5.9, 3.2, 4.8, 1.8],\n",
              "        [6.1, 2.8, 4. , 1.3],\n",
              "        [6.3, 2.5, 4.9, 1.5],\n",
              "        [6.1, 2.8, 4.7, 1.2],\n",
              "        [6.4, 2.9, 4.3, 1.3],\n",
              "        [6.6, 3. , 4.4, 1.4],\n",
              "        [6.8, 2.8, 4.8, 1.4],\n",
              "        [6.7, 3. , 5. , 1.7],\n",
              "        [6. , 2.9, 4.5, 1.5],\n",
              "        [5.7, 2.6, 3.5, 1. ],\n",
              "        [5.5, 2.4, 3.8, 1.1],\n",
              "        [5.5, 2.4, 3.7, 1. ],\n",
              "        [5.8, 2.7, 3.9, 1.2],\n",
              "        [6. , 2.7, 5.1, 1.6],\n",
              "        [5.4, 3. , 4.5, 1.5],\n",
              "        [6. , 3.4, 4.5, 1.6],\n",
              "        [6.7, 3.1, 4.7, 1.5],\n",
              "        [6.3, 2.3, 4.4, 1.3],\n",
              "        [5.6, 3. , 4.1, 1.3],\n",
              "        [5.5, 2.5, 4. , 1.3],\n",
              "        [5.5, 2.6, 4.4, 1.2],\n",
              "        [6.1, 3. , 4.6, 1.4],\n",
              "        [5.8, 2.6, 4. , 1.2],\n",
              "        [5. , 2.3, 3.3, 1. ],\n",
              "        [5.6, 2.7, 4.2, 1.3],\n",
              "        [5.7, 3. , 4.2, 1.2],\n",
              "        [5.7, 2.9, 4.2, 1.3],\n",
              "        [6.2, 2.9, 4.3, 1.3],\n",
              "        [5.1, 2.5, 3. , 1.1],\n",
              "        [5.7, 2.8, 4.1, 1.3],\n",
              "        [6.3, 3.3, 6. , 2.5],\n",
              "        [5.8, 2.7, 5.1, 1.9],\n",
              "        [7.1, 3. , 5.9, 2.1],\n",
              "        [6.3, 2.9, 5.6, 1.8],\n",
              "        [6.5, 3. , 5.8, 2.2],\n",
              "        [7.6, 3. , 6.6, 2.1],\n",
              "        [4.9, 2.5, 4.5, 1.7],\n",
              "        [7.3, 2.9, 6.3, 1.8],\n",
              "        [6.7, 2.5, 5.8, 1.8],\n",
              "        [7.2, 3.6, 6.1, 2.5],\n",
              "        [6.5, 3.2, 5.1, 2. ],\n",
              "        [6.4, 2.7, 5.3, 1.9],\n",
              "        [6.8, 3. , 5.5, 2.1],\n",
              "        [5.7, 2.5, 5. , 2. ],\n",
              "        [5.8, 2.8, 5.1, 2.4],\n",
              "        [6.4, 3.2, 5.3, 2.3],\n",
              "        [6.5, 3. , 5.5, 1.8],\n",
              "        [7.7, 3.8, 6.7, 2.2],\n",
              "        [7.7, 2.6, 6.9, 2.3],\n",
              "        [6. , 2.2, 5. , 1.5],\n",
              "        [6.9, 3.2, 5.7, 2.3],\n",
              "        [5.6, 2.8, 4.9, 2. ],\n",
              "        [7.7, 2.8, 6.7, 2. ],\n",
              "        [6.3, 2.7, 4.9, 1.8],\n",
              "        [6.7, 3.3, 5.7, 2.1],\n",
              "        [7.2, 3.2, 6. , 1.8],\n",
              "        [6.2, 2.8, 4.8, 1.8],\n",
              "        [6.1, 3. , 4.9, 1.8],\n",
              "        [6.4, 2.8, 5.6, 2.1],\n",
              "        [7.2, 3. , 5.8, 1.6],\n",
              "        [7.4, 2.8, 6.1, 1.9],\n",
              "        [7.9, 3.8, 6.4, 2. ],\n",
              "        [6.4, 2.8, 5.6, 2.2],\n",
              "        [6.3, 2.8, 5.1, 1.5],\n",
              "        [6.1, 2.6, 5.6, 1.4],\n",
              "        [7.7, 3. , 6.1, 2.3],\n",
              "        [6.3, 3.4, 5.6, 2.4],\n",
              "        [6.4, 3.1, 5.5, 1.8],\n",
              "        [6. , 3. , 4.8, 1.8],\n",
              "        [6.9, 3.1, 5.4, 2.1],\n",
              "        [6.7, 3.1, 5.6, 2.4],\n",
              "        [6.9, 3.1, 5.1, 2.3],\n",
              "        [5.8, 2.7, 5.1, 1.9],\n",
              "        [6.8, 3.2, 5.9, 2.3],\n",
              "        [6.7, 3.3, 5.7, 2.5],\n",
              "        [6.7, 3. , 5.2, 2.3],\n",
              "        [6.3, 2.5, 5. , 1.9],\n",
              "        [6.5, 3. , 5.2, 2. ],\n",
              "        [6.2, 3.4, 5.4, 2.3],\n",
              "        [5.9, 3. , 5.1, 1.8]]),\n",
              " 'feature_names': ['sepal length (cm)',\n",
              "  'sepal width (cm)',\n",
              "  'petal length (cm)',\n",
              "  'petal width (cm)'],\n",
              " 'filename': '/usr/local/lib/python3.7/dist-packages/sklearn/datasets/data/iris.csv',\n",
              " 'target': array([0, 0, 0, 0, 0, 0, 0, 0, 0, 0, 0, 0, 0, 0, 0, 0, 0, 0, 0, 0, 0, 0,\n",
              "        0, 0, 0, 0, 0, 0, 0, 0, 0, 0, 0, 0, 0, 0, 0, 0, 0, 0, 0, 0, 0, 0,\n",
              "        0, 0, 0, 0, 0, 0, 1, 1, 1, 1, 1, 1, 1, 1, 1, 1, 1, 1, 1, 1, 1, 1,\n",
              "        1, 1, 1, 1, 1, 1, 1, 1, 1, 1, 1, 1, 1, 1, 1, 1, 1, 1, 1, 1, 1, 1,\n",
              "        1, 1, 1, 1, 1, 1, 1, 1, 1, 1, 1, 1, 2, 2, 2, 2, 2, 2, 2, 2, 2, 2,\n",
              "        2, 2, 2, 2, 2, 2, 2, 2, 2, 2, 2, 2, 2, 2, 2, 2, 2, 2, 2, 2, 2, 2,\n",
              "        2, 2, 2, 2, 2, 2, 2, 2, 2, 2, 2, 2, 2, 2, 2, 2, 2, 2]),\n",
              " 'target_names': array(['setosa', 'versicolor', 'virginica'], dtype='<U10')}"
            ]
          },
          "execution_count": 16,
          "metadata": {},
          "output_type": "execute_result"
        }
      ]
    },
    {
      "cell_type": "code",
      "metadata": {
        "colab": {
          "base_uri": "https://localhost:8080/",
          "height": 417
        },
        "id": "vj59VQamVXD5",
        "outputId": "fd1345e9-e646-410e-b6e0-02a3ca57a1d7"
      },
      "source": [
        "X=pd.DataFrame(iris.data)\n",
        "X"
      ],
      "execution_count": null,
      "outputs": [
        {
          "data": {
            "text/html": [
              "<div>\n",
              "<style scoped>\n",
              "    .dataframe tbody tr th:only-of-type {\n",
              "        vertical-align: middle;\n",
              "    }\n",
              "\n",
              "    .dataframe tbody tr th {\n",
              "        vertical-align: top;\n",
              "    }\n",
              "\n",
              "    .dataframe thead th {\n",
              "        text-align: right;\n",
              "    }\n",
              "</style>\n",
              "<table border=\"1\" class=\"dataframe\">\n",
              "  <thead>\n",
              "    <tr style=\"text-align: right;\">\n",
              "      <th></th>\n",
              "      <th>0</th>\n",
              "      <th>1</th>\n",
              "      <th>2</th>\n",
              "      <th>3</th>\n",
              "    </tr>\n",
              "  </thead>\n",
              "  <tbody>\n",
              "    <tr>\n",
              "      <th>0</th>\n",
              "      <td>5.1</td>\n",
              "      <td>3.5</td>\n",
              "      <td>1.4</td>\n",
              "      <td>0.2</td>\n",
              "    </tr>\n",
              "    <tr>\n",
              "      <th>1</th>\n",
              "      <td>4.9</td>\n",
              "      <td>3.0</td>\n",
              "      <td>1.4</td>\n",
              "      <td>0.2</td>\n",
              "    </tr>\n",
              "    <tr>\n",
              "      <th>2</th>\n",
              "      <td>4.7</td>\n",
              "      <td>3.2</td>\n",
              "      <td>1.3</td>\n",
              "      <td>0.2</td>\n",
              "    </tr>\n",
              "    <tr>\n",
              "      <th>3</th>\n",
              "      <td>4.6</td>\n",
              "      <td>3.1</td>\n",
              "      <td>1.5</td>\n",
              "      <td>0.2</td>\n",
              "    </tr>\n",
              "    <tr>\n",
              "      <th>4</th>\n",
              "      <td>5.0</td>\n",
              "      <td>3.6</td>\n",
              "      <td>1.4</td>\n",
              "      <td>0.2</td>\n",
              "    </tr>\n",
              "    <tr>\n",
              "      <th>...</th>\n",
              "      <td>...</td>\n",
              "      <td>...</td>\n",
              "      <td>...</td>\n",
              "      <td>...</td>\n",
              "    </tr>\n",
              "    <tr>\n",
              "      <th>145</th>\n",
              "      <td>6.7</td>\n",
              "      <td>3.0</td>\n",
              "      <td>5.2</td>\n",
              "      <td>2.3</td>\n",
              "    </tr>\n",
              "    <tr>\n",
              "      <th>146</th>\n",
              "      <td>6.3</td>\n",
              "      <td>2.5</td>\n",
              "      <td>5.0</td>\n",
              "      <td>1.9</td>\n",
              "    </tr>\n",
              "    <tr>\n",
              "      <th>147</th>\n",
              "      <td>6.5</td>\n",
              "      <td>3.0</td>\n",
              "      <td>5.2</td>\n",
              "      <td>2.0</td>\n",
              "    </tr>\n",
              "    <tr>\n",
              "      <th>148</th>\n",
              "      <td>6.2</td>\n",
              "      <td>3.4</td>\n",
              "      <td>5.4</td>\n",
              "      <td>2.3</td>\n",
              "    </tr>\n",
              "    <tr>\n",
              "      <th>149</th>\n",
              "      <td>5.9</td>\n",
              "      <td>3.0</td>\n",
              "      <td>5.1</td>\n",
              "      <td>1.8</td>\n",
              "    </tr>\n",
              "  </tbody>\n",
              "</table>\n",
              "<p>150 rows × 4 columns</p>\n",
              "</div>"
            ],
            "text/plain": [
              "       0    1    2    3\n",
              "0    5.1  3.5  1.4  0.2\n",
              "1    4.9  3.0  1.4  0.2\n",
              "2    4.7  3.2  1.3  0.2\n",
              "3    4.6  3.1  1.5  0.2\n",
              "4    5.0  3.6  1.4  0.2\n",
              "..   ...  ...  ...  ...\n",
              "145  6.7  3.0  5.2  2.3\n",
              "146  6.3  2.5  5.0  1.9\n",
              "147  6.5  3.0  5.2  2.0\n",
              "148  6.2  3.4  5.4  2.3\n",
              "149  5.9  3.0  5.1  1.8\n",
              "\n",
              "[150 rows x 4 columns]"
            ]
          },
          "execution_count": 17,
          "metadata": {},
          "output_type": "execute_result"
        }
      ]
    },
    {
      "cell_type": "code",
      "metadata": {
        "colab": {
          "base_uri": "https://localhost:8080/",
          "height": 203
        },
        "id": "H0ZODGPsVXbH",
        "outputId": "720985d0-3c25-4d76-8bea-1f8d6379b320"
      },
      "source": [
        "X.shape\n",
        "(150,4)\n",
        "X.columns=['Sepal_length','Sepal_width','petal_length','petal_width']\n",
        "X.head()"
      ],
      "execution_count": null,
      "outputs": [
        {
          "data": {
            "text/html": [
              "<div>\n",
              "<style scoped>\n",
              "    .dataframe tbody tr th:only-of-type {\n",
              "        vertical-align: middle;\n",
              "    }\n",
              "\n",
              "    .dataframe tbody tr th {\n",
              "        vertical-align: top;\n",
              "    }\n",
              "\n",
              "    .dataframe thead th {\n",
              "        text-align: right;\n",
              "    }\n",
              "</style>\n",
              "<table border=\"1\" class=\"dataframe\">\n",
              "  <thead>\n",
              "    <tr style=\"text-align: right;\">\n",
              "      <th></th>\n",
              "      <th>Sepal_length</th>\n",
              "      <th>Sepal_width</th>\n",
              "      <th>petal_length</th>\n",
              "      <th>petal_width</th>\n",
              "    </tr>\n",
              "  </thead>\n",
              "  <tbody>\n",
              "    <tr>\n",
              "      <th>0</th>\n",
              "      <td>5.1</td>\n",
              "      <td>3.5</td>\n",
              "      <td>1.4</td>\n",
              "      <td>0.2</td>\n",
              "    </tr>\n",
              "    <tr>\n",
              "      <th>1</th>\n",
              "      <td>4.9</td>\n",
              "      <td>3.0</td>\n",
              "      <td>1.4</td>\n",
              "      <td>0.2</td>\n",
              "    </tr>\n",
              "    <tr>\n",
              "      <th>2</th>\n",
              "      <td>4.7</td>\n",
              "      <td>3.2</td>\n",
              "      <td>1.3</td>\n",
              "      <td>0.2</td>\n",
              "    </tr>\n",
              "    <tr>\n",
              "      <th>3</th>\n",
              "      <td>4.6</td>\n",
              "      <td>3.1</td>\n",
              "      <td>1.5</td>\n",
              "      <td>0.2</td>\n",
              "    </tr>\n",
              "    <tr>\n",
              "      <th>4</th>\n",
              "      <td>5.0</td>\n",
              "      <td>3.6</td>\n",
              "      <td>1.4</td>\n",
              "      <td>0.2</td>\n",
              "    </tr>\n",
              "  </tbody>\n",
              "</table>\n",
              "</div>"
            ],
            "text/plain": [
              "   Sepal_length  Sepal_width  petal_length  petal_width\n",
              "0           5.1          3.5           1.4          0.2\n",
              "1           4.9          3.0           1.4          0.2\n",
              "2           4.7          3.2           1.3          0.2\n",
              "3           4.6          3.1           1.5          0.2\n",
              "4           5.0          3.6           1.4          0.2"
            ]
          },
          "execution_count": 18,
          "metadata": {},
          "output_type": "execute_result"
        }
      ]
    },
    {
      "cell_type": "code",
      "metadata": {
        "colab": {
          "base_uri": "https://localhost:8080/",
          "height": 203
        },
        "id": "tfi14L7xVcwc",
        "outputId": "347b8fe7-26ba-4866-cfb7-32eb1589c694"
      },
      "source": [
        "X.tail()"
      ],
      "execution_count": null,
      "outputs": [
        {
          "data": {
            "text/html": [
              "<div>\n",
              "<style scoped>\n",
              "    .dataframe tbody tr th:only-of-type {\n",
              "        vertical-align: middle;\n",
              "    }\n",
              "\n",
              "    .dataframe tbody tr th {\n",
              "        vertical-align: top;\n",
              "    }\n",
              "\n",
              "    .dataframe thead th {\n",
              "        text-align: right;\n",
              "    }\n",
              "</style>\n",
              "<table border=\"1\" class=\"dataframe\">\n",
              "  <thead>\n",
              "    <tr style=\"text-align: right;\">\n",
              "      <th></th>\n",
              "      <th>Sepal_length</th>\n",
              "      <th>Sepal_width</th>\n",
              "      <th>petal_length</th>\n",
              "      <th>petal_width</th>\n",
              "    </tr>\n",
              "  </thead>\n",
              "  <tbody>\n",
              "    <tr>\n",
              "      <th>145</th>\n",
              "      <td>6.7</td>\n",
              "      <td>3.0</td>\n",
              "      <td>5.2</td>\n",
              "      <td>2.3</td>\n",
              "    </tr>\n",
              "    <tr>\n",
              "      <th>146</th>\n",
              "      <td>6.3</td>\n",
              "      <td>2.5</td>\n",
              "      <td>5.0</td>\n",
              "      <td>1.9</td>\n",
              "    </tr>\n",
              "    <tr>\n",
              "      <th>147</th>\n",
              "      <td>6.5</td>\n",
              "      <td>3.0</td>\n",
              "      <td>5.2</td>\n",
              "      <td>2.0</td>\n",
              "    </tr>\n",
              "    <tr>\n",
              "      <th>148</th>\n",
              "      <td>6.2</td>\n",
              "      <td>3.4</td>\n",
              "      <td>5.4</td>\n",
              "      <td>2.3</td>\n",
              "    </tr>\n",
              "    <tr>\n",
              "      <th>149</th>\n",
              "      <td>5.9</td>\n",
              "      <td>3.0</td>\n",
              "      <td>5.1</td>\n",
              "      <td>1.8</td>\n",
              "    </tr>\n",
              "  </tbody>\n",
              "</table>\n",
              "</div>"
            ],
            "text/plain": [
              "     Sepal_length  Sepal_width  petal_length  petal_width\n",
              "145           6.7          3.0           5.2          2.3\n",
              "146           6.3          2.5           5.0          1.9\n",
              "147           6.5          3.0           5.2          2.0\n",
              "148           6.2          3.4           5.4          2.3\n",
              "149           5.9          3.0           5.1          1.8"
            ]
          },
          "execution_count": 19,
          "metadata": {},
          "output_type": "execute_result"
        }
      ]
    },
    {
      "cell_type": "code",
      "metadata": {
        "colab": {
          "base_uri": "https://localhost:8080/",
          "height": 295
        },
        "id": "FKC3Cbp6Vgf8",
        "outputId": "d9f01ea0-b68d-4ea9-ce40-8b4fed1fac6a"
      },
      "source": [
        "X.describe()"
      ],
      "execution_count": null,
      "outputs": [
        {
          "data": {
            "text/html": [
              "<div>\n",
              "<style scoped>\n",
              "    .dataframe tbody tr th:only-of-type {\n",
              "        vertical-align: middle;\n",
              "    }\n",
              "\n",
              "    .dataframe tbody tr th {\n",
              "        vertical-align: top;\n",
              "    }\n",
              "\n",
              "    .dataframe thead th {\n",
              "        text-align: right;\n",
              "    }\n",
              "</style>\n",
              "<table border=\"1\" class=\"dataframe\">\n",
              "  <thead>\n",
              "    <tr style=\"text-align: right;\">\n",
              "      <th></th>\n",
              "      <th>Sepal_length</th>\n",
              "      <th>Sepal_width</th>\n",
              "      <th>petal_length</th>\n",
              "      <th>petal_width</th>\n",
              "    </tr>\n",
              "  </thead>\n",
              "  <tbody>\n",
              "    <tr>\n",
              "      <th>count</th>\n",
              "      <td>150.000000</td>\n",
              "      <td>150.000000</td>\n",
              "      <td>150.000000</td>\n",
              "      <td>150.000000</td>\n",
              "    </tr>\n",
              "    <tr>\n",
              "      <th>mean</th>\n",
              "      <td>5.843333</td>\n",
              "      <td>3.057333</td>\n",
              "      <td>3.758000</td>\n",
              "      <td>1.199333</td>\n",
              "    </tr>\n",
              "    <tr>\n",
              "      <th>std</th>\n",
              "      <td>0.828066</td>\n",
              "      <td>0.435866</td>\n",
              "      <td>1.765298</td>\n",
              "      <td>0.762238</td>\n",
              "    </tr>\n",
              "    <tr>\n",
              "      <th>min</th>\n",
              "      <td>4.300000</td>\n",
              "      <td>2.000000</td>\n",
              "      <td>1.000000</td>\n",
              "      <td>0.100000</td>\n",
              "    </tr>\n",
              "    <tr>\n",
              "      <th>25%</th>\n",
              "      <td>5.100000</td>\n",
              "      <td>2.800000</td>\n",
              "      <td>1.600000</td>\n",
              "      <td>0.300000</td>\n",
              "    </tr>\n",
              "    <tr>\n",
              "      <th>50%</th>\n",
              "      <td>5.800000</td>\n",
              "      <td>3.000000</td>\n",
              "      <td>4.350000</td>\n",
              "      <td>1.300000</td>\n",
              "    </tr>\n",
              "    <tr>\n",
              "      <th>75%</th>\n",
              "      <td>6.400000</td>\n",
              "      <td>3.300000</td>\n",
              "      <td>5.100000</td>\n",
              "      <td>1.800000</td>\n",
              "    </tr>\n",
              "    <tr>\n",
              "      <th>max</th>\n",
              "      <td>7.900000</td>\n",
              "      <td>4.400000</td>\n",
              "      <td>6.900000</td>\n",
              "      <td>2.500000</td>\n",
              "    </tr>\n",
              "  </tbody>\n",
              "</table>\n",
              "</div>"
            ],
            "text/plain": [
              "       Sepal_length  Sepal_width  petal_length  petal_width\n",
              "count    150.000000   150.000000    150.000000   150.000000\n",
              "mean       5.843333     3.057333      3.758000     1.199333\n",
              "std        0.828066     0.435866      1.765298     0.762238\n",
              "min        4.300000     2.000000      1.000000     0.100000\n",
              "25%        5.100000     2.800000      1.600000     0.300000\n",
              "50%        5.800000     3.000000      4.350000     1.300000\n",
              "75%        6.400000     3.300000      5.100000     1.800000\n",
              "max        7.900000     4.400000      6.900000     2.500000"
            ]
          },
          "execution_count": 20,
          "metadata": {},
          "output_type": "execute_result"
        }
      ]
    },
    {
      "cell_type": "code",
      "metadata": {
        "colab": {
          "base_uri": "https://localhost:8080/",
          "height": 172
        },
        "id": "LYoBeiIoVi8c",
        "outputId": "bc80443a-50cf-407e-aeb9-572d9c691bff"
      },
      "source": [
        "X.cov()"
      ],
      "execution_count": null,
      "outputs": [
        {
          "data": {
            "text/html": [
              "<div>\n",
              "<style scoped>\n",
              "    .dataframe tbody tr th:only-of-type {\n",
              "        vertical-align: middle;\n",
              "    }\n",
              "\n",
              "    .dataframe tbody tr th {\n",
              "        vertical-align: top;\n",
              "    }\n",
              "\n",
              "    .dataframe thead th {\n",
              "        text-align: right;\n",
              "    }\n",
              "</style>\n",
              "<table border=\"1\" class=\"dataframe\">\n",
              "  <thead>\n",
              "    <tr style=\"text-align: right;\">\n",
              "      <th></th>\n",
              "      <th>Sepal_length</th>\n",
              "      <th>Sepal_width</th>\n",
              "      <th>petal_length</th>\n",
              "      <th>petal_width</th>\n",
              "    </tr>\n",
              "  </thead>\n",
              "  <tbody>\n",
              "    <tr>\n",
              "      <th>Sepal_length</th>\n",
              "      <td>0.685694</td>\n",
              "      <td>-0.042434</td>\n",
              "      <td>1.274315</td>\n",
              "      <td>0.516271</td>\n",
              "    </tr>\n",
              "    <tr>\n",
              "      <th>Sepal_width</th>\n",
              "      <td>-0.042434</td>\n",
              "      <td>0.189979</td>\n",
              "      <td>-0.329656</td>\n",
              "      <td>-0.121639</td>\n",
              "    </tr>\n",
              "    <tr>\n",
              "      <th>petal_length</th>\n",
              "      <td>1.274315</td>\n",
              "      <td>-0.329656</td>\n",
              "      <td>3.116278</td>\n",
              "      <td>1.295609</td>\n",
              "    </tr>\n",
              "    <tr>\n",
              "      <th>petal_width</th>\n",
              "      <td>0.516271</td>\n",
              "      <td>-0.121639</td>\n",
              "      <td>1.295609</td>\n",
              "      <td>0.581006</td>\n",
              "    </tr>\n",
              "  </tbody>\n",
              "</table>\n",
              "</div>"
            ],
            "text/plain": [
              "              Sepal_length  Sepal_width  petal_length  petal_width\n",
              "Sepal_length      0.685694    -0.042434      1.274315     0.516271\n",
              "Sepal_width      -0.042434     0.189979     -0.329656    -0.121639\n",
              "petal_length      1.274315    -0.329656      3.116278     1.295609\n",
              "petal_width       0.516271    -0.121639      1.295609     0.581006"
            ]
          },
          "execution_count": 21,
          "metadata": {},
          "output_type": "execute_result"
        }
      ]
    },
    {
      "cell_type": "code",
      "metadata": {
        "colab": {
          "base_uri": "https://localhost:8080/"
        },
        "id": "CiBaYXlVVnmO",
        "outputId": "5ccaf64f-6dd0-4589-ee27-40de08af899f"
      },
      "source": [
        "import numpy as np\n",
        "df=pd.DataFrame({'Name':['ravi','Nani','Chinni','Chikki'],'state':['IND','USA','UK','USSR'],'Grade':['A','A','B','C'],'Age':np.random.uniform(24,35,size=4),'salary':np.random.uniform(3000,5000,size=4),})\n",
        "print(df)"
      ],
      "execution_count": null,
      "outputs": [
        {
          "name": "stdout",
          "output_type": "stream",
          "text": [
            "     Name state Grade        Age       salary\n",
            "0    ravi   IND     A  27.049292  4365.164964\n",
            "1    Nani   USA     A  24.782024  4492.826836\n",
            "2  Chinni    UK     B  24.064192  3823.083249\n",
            "3  Chikki  USSR     C  24.783626  3875.004887\n"
          ]
        }
      ]
    },
    {
      "cell_type": "code",
      "metadata": {
        "colab": {
          "base_uri": "https://localhost:8080/",
          "height": 203
        },
        "id": "f2SqAw0OVxzB",
        "outputId": "3c25f506-cc4c-4303-da16-6007e70861ef"
      },
      "source": [
        "import numpy as np\n",
        "import pandas as pd\n",
        "df=pd.DataFrame({'Name':['ravi','Nani','Chinni','Chikki'],'state':['IND','USA','UK','USSR'],'Grade':['A','A','B','C'],'Age':np.random.uniform(24,35,size=4),'salary':np.random.uniform(3000,5000,size=4),})\n",
        "df.groupby(['Name','state']).max()"
      ],
      "execution_count": null,
      "outputs": [
        {
          "data": {
            "text/html": [
              "<div>\n",
              "<style scoped>\n",
              "    .dataframe tbody tr th:only-of-type {\n",
              "        vertical-align: middle;\n",
              "    }\n",
              "\n",
              "    .dataframe tbody tr th {\n",
              "        vertical-align: top;\n",
              "    }\n",
              "\n",
              "    .dataframe thead th {\n",
              "        text-align: right;\n",
              "    }\n",
              "</style>\n",
              "<table border=\"1\" class=\"dataframe\">\n",
              "  <thead>\n",
              "    <tr style=\"text-align: right;\">\n",
              "      <th></th>\n",
              "      <th></th>\n",
              "      <th>Grade</th>\n",
              "      <th>Age</th>\n",
              "      <th>salary</th>\n",
              "    </tr>\n",
              "    <tr>\n",
              "      <th>Name</th>\n",
              "      <th>state</th>\n",
              "      <th></th>\n",
              "      <th></th>\n",
              "      <th></th>\n",
              "    </tr>\n",
              "  </thead>\n",
              "  <tbody>\n",
              "    <tr>\n",
              "      <th>Chikki</th>\n",
              "      <th>USSR</th>\n",
              "      <td>C</td>\n",
              "      <td>31.356360</td>\n",
              "      <td>4542.861102</td>\n",
              "    </tr>\n",
              "    <tr>\n",
              "      <th>Chinni</th>\n",
              "      <th>UK</th>\n",
              "      <td>B</td>\n",
              "      <td>27.379814</td>\n",
              "      <td>4923.445235</td>\n",
              "    </tr>\n",
              "    <tr>\n",
              "      <th>Nani</th>\n",
              "      <th>USA</th>\n",
              "      <td>A</td>\n",
              "      <td>31.236970</td>\n",
              "      <td>3124.089257</td>\n",
              "    </tr>\n",
              "    <tr>\n",
              "      <th>ravi</th>\n",
              "      <th>IND</th>\n",
              "      <td>A</td>\n",
              "      <td>32.638825</td>\n",
              "      <td>4302.478402</td>\n",
              "    </tr>\n",
              "  </tbody>\n",
              "</table>\n",
              "</div>"
            ],
            "text/plain": [
              "             Grade        Age       salary\n",
              "Name   state                              \n",
              "Chikki USSR      C  31.356360  4542.861102\n",
              "Chinni UK        B  27.379814  4923.445235\n",
              "Nani   USA       A  31.236970  3124.089257\n",
              "ravi   IND       A  32.638825  4302.478402"
            ]
          },
          "execution_count": 25,
          "metadata": {},
          "output_type": "execute_result"
        }
      ]
    },
    {
      "cell_type": "markdown",
      "metadata": {
        "id": "XpWS6MteV0h4"
      },
      "source": [
        "# **Scipy**"
      ]
    },
    {
      "cell_type": "code",
      "metadata": {
        "colab": {
          "base_uri": "https://localhost:8080/"
        },
        "id": "YY-h1uEPV3o5",
        "outputId": "3f758003-cd17-4b74-e26a-c71d711d0540"
      },
      "source": [
        "import numpy as np\n",
        "np.linspace(1.,4.,6)"
      ],
      "execution_count": null,
      "outputs": [
        {
          "data": {
            "text/plain": [
              "array([1. , 1.6, 2.2, 2.8, 3.4, 4. ])"
            ]
          },
          "execution_count": 26,
          "metadata": {},
          "output_type": "execute_result"
        }
      ]
    },
    {
      "cell_type": "code",
      "metadata": {
        "colab": {
          "base_uri": "https://localhost:8080/"
        },
        "id": "rmJkueBNV6c_",
        "outputId": "e2e91530-8429-4e55-a398-cd8fc59530dc"
      },
      "source": [
        "from scipy.cluster.vq import kmeans,vq,whiten\n",
        "from numpy import vstack,array\n",
        "from numpy.random import rand\n",
        "\n",
        "data=vstack((rand(100,3)+array([.5,.5,.5]),rand(100,3)))\n",
        "data"
      ],
      "execution_count": null,
      "outputs": [
        {
          "data": {
            "text/plain": [
              "array([[1.18771339e+00, 1.23047770e+00, 1.19869573e+00],\n",
              "       [8.58931241e-01, 9.51178699e-01, 1.33718854e+00],\n",
              "       [5.97151829e-01, 7.13870189e-01, 9.32584169e-01],\n",
              "       [7.55095304e-01, 1.20664472e+00, 1.26795094e+00],\n",
              "       [8.30184402e-01, 9.53799475e-01, 7.95683447e-01],\n",
              "       [7.82432720e-01, 1.06113031e+00, 7.94174185e-01],\n",
              "       [7.49203498e-01, 9.96199239e-01, 6.50837871e-01],\n",
              "       [1.23863549e+00, 7.29242763e-01, 6.37798164e-01],\n",
              "       [1.13676061e+00, 1.29540857e+00, 1.29799372e+00],\n",
              "       [7.48054425e-01, 6.70283097e-01, 8.14757084e-01],\n",
              "       [1.14032993e+00, 6.58446434e-01, 6.91094657e-01],\n",
              "       [8.04801198e-01, 1.20022464e+00, 9.69721257e-01],\n",
              "       [8.07782036e-01, 1.29778583e+00, 1.07809739e+00],\n",
              "       [1.01490710e+00, 1.49890280e+00, 1.06293248e+00],\n",
              "       [1.25508622e+00, 1.25519904e+00, 7.01435341e-01],\n",
              "       [1.40961519e+00, 5.37661816e-01, 1.33718184e+00],\n",
              "       [7.60399737e-01, 1.49335170e+00, 1.47508770e+00],\n",
              "       [1.20213833e+00, 7.61879083e-01, 7.15953719e-01],\n",
              "       [6.01602297e-01, 1.13196291e+00, 7.58852099e-01],\n",
              "       [1.03528716e+00, 1.39297769e+00, 6.08907467e-01],\n",
              "       [1.15292959e+00, 1.07990111e+00, 1.45380741e+00],\n",
              "       [1.46503320e+00, 9.83327513e-01, 1.24306050e+00],\n",
              "       [1.37448813e+00, 1.12582400e+00, 1.25817135e+00],\n",
              "       [9.73491616e-01, 5.08558943e-01, 7.70259919e-01],\n",
              "       [8.76875110e-01, 7.12515570e-01, 7.80575806e-01],\n",
              "       [1.12534045e+00, 1.37417867e+00, 9.52662606e-01],\n",
              "       [1.48025966e+00, 5.02642495e-01, 8.86024975e-01],\n",
              "       [8.33054829e-01, 1.32443546e+00, 7.41896113e-01],\n",
              "       [1.20251462e+00, 1.08807082e+00, 1.36138995e+00],\n",
              "       [6.33368245e-01, 1.44739144e+00, 1.49283478e+00],\n",
              "       [8.76090825e-01, 9.14096244e-01, 8.62416469e-01],\n",
              "       [1.24402137e+00, 6.25322218e-01, 1.06790685e+00],\n",
              "       [6.67746560e-01, 9.53085665e-01, 8.77239902e-01],\n",
              "       [7.83583866e-01, 1.23662389e+00, 9.81882631e-01],\n",
              "       [1.48958550e+00, 9.73061555e-01, 1.12557576e+00],\n",
              "       [1.37221746e+00, 1.03645613e+00, 1.49471859e+00],\n",
              "       [9.24969304e-01, 6.12704703e-01, 1.36278834e+00],\n",
              "       [5.95589915e-01, 1.21594453e+00, 1.01468028e+00],\n",
              "       [1.07446907e+00, 6.31518572e-01, 9.42844886e-01],\n",
              "       [1.02870747e+00, 1.04268247e+00, 6.42645939e-01],\n",
              "       [1.46644786e+00, 9.30650466e-01, 1.34609525e+00],\n",
              "       [1.11563089e+00, 1.14182810e+00, 1.24390284e+00],\n",
              "       [1.23995836e+00, 9.94741938e-01, 6.64370434e-01],\n",
              "       [1.09685796e+00, 1.27636615e+00, 1.19262075e+00],\n",
              "       [7.05218003e-01, 7.78702932e-01, 1.14189768e+00],\n",
              "       [8.48172972e-01, 9.61735537e-01, 1.34161612e+00],\n",
              "       [1.08249333e+00, 8.04957862e-01, 1.21191740e+00],\n",
              "       [1.04677873e+00, 9.86739162e-01, 1.37466249e+00],\n",
              "       [9.82327470e-01, 5.59306385e-01, 6.42111891e-01],\n",
              "       [6.12393206e-01, 8.03716969e-01, 1.00237045e+00],\n",
              "       [1.01522323e+00, 1.30043719e+00, 1.08466371e+00],\n",
              "       [8.56747626e-01, 1.32793987e+00, 1.13745758e+00],\n",
              "       [1.33420462e+00, 7.35933768e-01, 8.04580770e-01],\n",
              "       [7.31186591e-01, 1.37460629e+00, 1.23810141e+00],\n",
              "       [8.12994147e-01, 8.15839363e-01, 5.82229107e-01],\n",
              "       [1.15808931e+00, 1.08733080e+00, 6.81586629e-01],\n",
              "       [1.49671127e+00, 1.06606537e+00, 6.27897081e-01],\n",
              "       [1.24000651e+00, 6.66828457e-01, 1.46883128e+00],\n",
              "       [6.38857074e-01, 1.25174269e+00, 1.13252831e+00],\n",
              "       [6.32491407e-01, 1.22785477e+00, 7.57711960e-01],\n",
              "       [1.46771242e+00, 1.18100784e+00, 7.32082911e-01],\n",
              "       [6.52598699e-01, 8.49517175e-01, 8.00878496e-01],\n",
              "       [5.42385475e-01, 1.49509369e+00, 1.15263927e+00],\n",
              "       [1.21492561e+00, 1.03700730e+00, 1.49369615e+00],\n",
              "       [8.94394523e-01, 8.70116398e-01, 9.58129301e-01],\n",
              "       [7.74026308e-01, 1.35986795e+00, 1.09393020e+00],\n",
              "       [1.04697967e+00, 5.82633563e-01, 5.80435543e-01],\n",
              "       [1.06683823e+00, 1.40059360e+00, 7.00607983e-01],\n",
              "       [1.11711510e+00, 1.33653991e+00, 1.12503861e+00],\n",
              "       [1.41203918e+00, 8.52180255e-01, 1.33786755e+00],\n",
              "       [6.18322643e-01, 1.26290803e+00, 1.13960985e+00],\n",
              "       [1.04236969e+00, 1.27751328e+00, 8.75714339e-01],\n",
              "       [1.06999208e+00, 9.33390008e-01, 9.33327099e-01],\n",
              "       [1.45377289e+00, 1.19421196e+00, 1.12162026e+00],\n",
              "       [5.98944201e-01, 7.89154532e-01, 1.20538406e+00],\n",
              "       [1.09386730e+00, 6.74538425e-01, 1.40598735e+00],\n",
              "       [1.33709776e+00, 8.02122298e-01, 1.47030959e+00],\n",
              "       [1.35145566e+00, 5.56779784e-01, 7.24236187e-01],\n",
              "       [1.24800617e+00, 1.42684117e+00, 9.37001218e-01],\n",
              "       [5.25027453e-01, 1.27379722e+00, 1.22498890e+00],\n",
              "       [1.39923779e+00, 5.81862414e-01, 1.28804980e+00],\n",
              "       [5.22810956e-01, 1.48043993e+00, 1.12691591e+00],\n",
              "       [5.10658430e-01, 9.09742509e-01, 9.92128938e-01],\n",
              "       [1.06551930e+00, 1.14884751e+00, 1.12888160e+00],\n",
              "       [1.30904251e+00, 6.76903543e-01, 7.71202553e-01],\n",
              "       [6.53506998e-01, 1.24109556e+00, 8.61881523e-01],\n",
              "       [1.26766697e+00, 5.48348227e-01, 9.83651947e-01],\n",
              "       [6.83737079e-01, 6.84863654e-01, 1.37089499e+00],\n",
              "       [9.64127908e-01, 1.32546746e+00, 6.67631766e-01],\n",
              "       [1.44516389e+00, 1.48482406e+00, 1.44926000e+00],\n",
              "       [1.47160599e+00, 1.25849078e+00, 6.46740287e-01],\n",
              "       [9.25885551e-01, 1.28159365e+00, 1.25508688e+00],\n",
              "       [9.89265823e-01, 1.39959161e+00, 1.06042648e+00],\n",
              "       [1.12258396e+00, 1.08706577e+00, 7.87385245e-01],\n",
              "       [5.95460446e-01, 1.02113720e+00, 8.41010569e-01],\n",
              "       [1.23756842e+00, 9.62842870e-01, 1.06762092e+00],\n",
              "       [1.08449382e+00, 6.61866160e-01, 8.04509438e-01],\n",
              "       [1.30525703e+00, 8.42956100e-01, 7.11809059e-01],\n",
              "       [5.45353321e-01, 7.93182606e-01, 8.12983125e-01],\n",
              "       [6.38416748e-01, 9.87072711e-01, 9.56907286e-01],\n",
              "       [8.76067510e-02, 4.13396967e-01, 1.32574287e-01],\n",
              "       [5.64105377e-01, 4.15940531e-01, 6.80082363e-01],\n",
              "       [5.38718398e-01, 8.72908689e-01, 6.01732126e-01],\n",
              "       [2.48664025e-01, 8.90346070e-01, 2.48770492e-01],\n",
              "       [4.85038526e-01, 7.00798475e-01, 7.02899527e-01],\n",
              "       [5.64282001e-01, 1.01444424e-01, 5.03475083e-01],\n",
              "       [3.92925209e-01, 5.86153366e-01, 9.96406676e-01],\n",
              "       [9.32254637e-01, 8.31306721e-01, 5.81076428e-01],\n",
              "       [6.75384142e-01, 7.73018072e-01, 4.57663656e-02],\n",
              "       [7.55298402e-02, 9.82107817e-01, 2.24460026e-01],\n",
              "       [1.15575573e-01, 4.16412226e-01, 8.28653902e-02],\n",
              "       [1.16985814e-01, 6.07864896e-01, 5.83860262e-01],\n",
              "       [2.05493126e-01, 9.67613795e-01, 9.49680895e-02],\n",
              "       [6.13154660e-01, 2.78286662e-02, 1.91541618e-01],\n",
              "       [6.92839282e-01, 7.31922154e-01, 2.81684431e-01],\n",
              "       [3.58602291e-01, 9.76546230e-01, 8.22825483e-01],\n",
              "       [4.52301821e-01, 3.50736486e-01, 2.24386796e-01],\n",
              "       [7.99629495e-01, 1.87841641e-01, 1.56908308e-01],\n",
              "       [5.79864997e-02, 7.85237015e-01, 4.29317923e-02],\n",
              "       [2.96297122e-01, 9.17159393e-01, 6.95227518e-01],\n",
              "       [3.78182250e-01, 2.37381229e-01, 1.62776673e-02],\n",
              "       [2.93617240e-01, 8.13769745e-01, 3.54745713e-01],\n",
              "       [9.53012478e-02, 1.13343977e-01, 3.41135866e-01],\n",
              "       [7.70914336e-01, 8.85619426e-01, 1.76189005e-01],\n",
              "       [6.19979593e-01, 3.11502926e-01, 8.99548219e-01],\n",
              "       [3.83316741e-01, 6.29167486e-01, 6.23029593e-02],\n",
              "       [3.91042241e-01, 3.67310371e-01, 3.94811552e-01],\n",
              "       [3.05425507e-01, 8.94958831e-01, 6.32196394e-01],\n",
              "       [2.31541318e-01, 6.45141878e-01, 4.05823900e-01],\n",
              "       [7.92275667e-01, 7.30585808e-01, 5.92724682e-01],\n",
              "       [3.34742228e-01, 3.82070999e-01, 8.76377891e-01],\n",
              "       [7.12124069e-01, 7.09489358e-01, 7.30394213e-01],\n",
              "       [7.16795473e-01, 9.49207563e-01, 5.26519346e-01],\n",
              "       [2.66094743e-01, 8.91465634e-01, 4.45568161e-01],\n",
              "       [2.05719372e-01, 8.06490626e-01, 5.09946055e-01],\n",
              "       [1.99373450e-01, 2.31220651e-01, 6.28684482e-01],\n",
              "       [3.37710831e-01, 4.96142960e-01, 1.42289379e-01],\n",
              "       [7.41708146e-01, 5.80304515e-01, 5.42254264e-01],\n",
              "       [6.08544950e-01, 5.19485835e-01, 8.21243485e-01],\n",
              "       [6.78202666e-01, 1.68523134e-01, 7.67094300e-01],\n",
              "       [8.26060977e-01, 5.91018888e-01, 9.80320336e-01],\n",
              "       [6.66717765e-01, 1.17209490e-01, 7.60567228e-02],\n",
              "       [8.46774779e-01, 7.62309484e-01, 1.78590159e-02],\n",
              "       [5.54775370e-01, 4.97359541e-01, 7.08655214e-02],\n",
              "       [5.93525649e-01, 9.13376400e-01, 8.62093440e-01],\n",
              "       [9.32374636e-01, 9.40849715e-01, 8.39062097e-01],\n",
              "       [9.47390185e-01, 7.67707398e-01, 3.87352271e-02],\n",
              "       [8.24304640e-01, 2.51193105e-02, 9.35621063e-01],\n",
              "       [4.00935760e-01, 6.75226173e-01, 9.72558787e-01],\n",
              "       [8.35358114e-01, 6.96600540e-01, 6.24801910e-02],\n",
              "       [5.13595788e-01, 1.65681618e-01, 7.11388815e-01],\n",
              "       [7.63514672e-01, 1.39643626e-01, 2.97914391e-01],\n",
              "       [8.26248604e-02, 7.76099412e-01, 3.46390210e-01],\n",
              "       [9.19717237e-01, 6.49793187e-01, 2.10462882e-01],\n",
              "       [1.44713655e-01, 7.82257264e-01, 8.42419481e-01],\n",
              "       [5.29373231e-01, 5.30955173e-01, 8.07563232e-01],\n",
              "       [2.65230262e-02, 5.23404155e-01, 1.29638104e-01],\n",
              "       [9.68322457e-02, 1.58014918e-01, 6.97665087e-01],\n",
              "       [5.99421831e-01, 8.88197210e-01, 7.33703343e-01],\n",
              "       [5.60236796e-01, 3.73744804e-01, 7.62717034e-01],\n",
              "       [8.77434744e-01, 3.15656608e-01, 8.91071667e-01],\n",
              "       [9.76134524e-01, 1.89981999e-01, 7.67696688e-01],\n",
              "       [6.23023599e-01, 8.23451828e-01, 1.31461176e-01],\n",
              "       [1.80879471e-02, 4.46852209e-01, 6.16150171e-01],\n",
              "       [5.36684783e-01, 8.25205250e-01, 7.72598118e-01],\n",
              "       [6.11127436e-01, 6.63146438e-01, 3.41784799e-05],\n",
              "       [7.76696587e-01, 9.69217753e-01, 9.60773147e-02],\n",
              "       [2.74016791e-01, 2.08616552e-01, 6.88317103e-01],\n",
              "       [5.79188728e-02, 7.37718846e-01, 5.82328375e-01],\n",
              "       [9.69882305e-01, 8.60141052e-01, 2.69236611e-01],\n",
              "       [6.96769966e-01, 4.81862437e-01, 2.69454442e-01],\n",
              "       [3.68110218e-03, 3.02595154e-01, 3.54424990e-02],\n",
              "       [7.39010013e-01, 8.25417407e-01, 5.64699596e-01],\n",
              "       [3.06355403e-02, 6.66944756e-01, 2.99364935e-01],\n",
              "       [7.40331383e-01, 9.37756552e-01, 2.77760788e-01],\n",
              "       [9.79065163e-01, 1.46913937e-02, 1.31073408e-01],\n",
              "       [8.22322589e-01, 2.72163204e-02, 8.78433920e-01],\n",
              "       [3.10907225e-01, 1.51161653e-01, 2.84209923e-01],\n",
              "       [5.39972636e-01, 6.33142370e-01, 3.18161783e-01],\n",
              "       [7.43319059e-01, 8.50985875e-01, 2.72865324e-01],\n",
              "       [4.39145210e-01, 3.30742099e-01, 8.03613770e-01],\n",
              "       [7.63288922e-01, 7.63025466e-01, 5.66105793e-01],\n",
              "       [5.38039327e-01, 1.34518605e-01, 1.03271012e-01],\n",
              "       [6.53570365e-01, 2.32675949e-01, 8.86249702e-01],\n",
              "       [8.89414940e-01, 9.72969877e-01, 8.54772214e-01],\n",
              "       [1.78470919e-01, 2.19619480e-01, 8.71320324e-03],\n",
              "       [3.80611122e-01, 8.13417663e-01, 6.99374607e-01],\n",
              "       [2.79670345e-01, 2.32533666e-01, 3.79869144e-01],\n",
              "       [9.12324228e-01, 2.87290754e-01, 1.27590981e-01],\n",
              "       [5.84835496e-01, 1.84977454e-02, 5.12832711e-01],\n",
              "       [9.36391263e-01, 8.48728481e-01, 9.80151805e-01],\n",
              "       [3.77014849e-01, 2.27853639e-01, 7.03891892e-01],\n",
              "       [1.91321997e-01, 1.30375955e-01, 1.29494941e-02],\n",
              "       [7.18005908e-01, 2.19846015e-01, 2.30447503e-01],\n",
              "       [1.57095798e-01, 2.16445680e-01, 4.31063687e-01],\n",
              "       [9.59881026e-01, 6.01641909e-01, 8.21440478e-01],\n",
              "       [7.99375837e-01, 7.81631996e-01, 5.69905066e-01],\n",
              "       [6.78605396e-01, 1.62700043e-01, 8.90196268e-01],\n",
              "       [8.84302830e-01, 9.02264541e-01, 7.43479175e-01],\n",
              "       [8.27967609e-02, 2.58498926e-01, 2.89773279e-01]])"
            ]
          },
          "execution_count": 27,
          "metadata": {},
          "output_type": "execute_result"
        }
      ]
    },
    {
      "cell_type": "code",
      "metadata": {
        "colab": {
          "base_uri": "https://localhost:8080/"
        },
        "id": "WYltBTMnV-91",
        "outputId": "4073b62a-6487-42c3-92c2-7fd27b33c570"
      },
      "source": [
        "data=whiten(data)\n",
        "data"
      ],
      "execution_count": null,
      "outputs": [
        {
          "data": {
            "text/plain": [
              "array([[3.16051352e+00, 3.27596956e+00, 3.02911555e+00],\n",
              "       [2.28562196e+00, 2.53237621e+00, 3.37908821e+00],\n",
              "       [1.58902514e+00, 1.90057650e+00, 2.35664911e+00],\n",
              "       [2.00931382e+00, 3.21251767e+00, 3.20412415e+00],\n",
              "       [2.20912642e+00, 2.53935365e+00, 2.01069967e+00],\n",
              "       [2.08205887e+00, 2.82510653e+00, 2.00688575e+00],\n",
              "       [1.99363568e+00, 2.65223691e+00, 1.64467352e+00],\n",
              "       [3.29601758e+00, 1.94150376e+00, 1.61172205e+00],\n",
              "       [3.02492784e+00, 3.44883862e+00, 3.28004253e+00],\n",
              "       [1.99057799e+00, 1.78453215e+00, 2.05889894e+00],\n",
              "       [3.03442582e+00, 1.75301874e+00, 1.74640280e+00],\n",
              "       [2.14158154e+00, 3.19542514e+00, 2.45049488e+00],\n",
              "       [2.14951357e+00, 3.45516775e+00, 2.72436239e+00],\n",
              "       [2.70067478e+00, 3.99061269e+00, 2.68604052e+00],\n",
              "       [3.33979309e+00, 3.34178655e+00, 1.77253381e+00],\n",
              "       [3.75099574e+00, 1.43144710e+00, 3.37907128e+00],\n",
              "       [2.02342895e+00, 3.97583369e+00, 3.72756071e+00],\n",
              "       [3.19889838e+00, 2.02839326e+00, 1.80922189e+00],\n",
              "       [1.60086786e+00, 3.01368813e+00, 1.91762650e+00],\n",
              "       [2.75490629e+00, 3.70860235e+00, 1.53871499e+00],\n",
              "       [3.06795359e+00, 2.87508107e+00, 3.67378520e+00],\n",
              "       [3.89846345e+00, 2.61796779e+00, 3.14122575e+00],\n",
              "       [3.65752239e+00, 2.99734416e+00, 3.17941103e+00],\n",
              "       [2.59046791e+00, 1.35396489e+00, 1.94645418e+00],\n",
              "       [2.33337072e+00, 1.89697002e+00, 1.97252252e+00],\n",
              "       [2.99453870e+00, 3.65855266e+00, 2.40738751e+00],\n",
              "       [3.93898118e+00, 1.33821320e+00, 2.23899358e+00],\n",
              "       [2.21676465e+00, 3.52611854e+00, 1.87477857e+00],\n",
              "       [3.19989970e+00, 2.89683175e+00, 3.44024542e+00],\n",
              "       [1.68539727e+00, 3.85347113e+00, 3.77240775e+00],\n",
              "       [2.33128373e+00, 2.43364951e+00, 2.17933466e+00],\n",
              "       [3.31034945e+00, 1.66483029e+00, 2.69861081e+00],\n",
              "       [1.77687821e+00, 2.53745323e+00, 2.21679362e+00],\n",
              "       [2.08512208e+00, 3.29233288e+00, 2.48122679e+00],\n",
              "       [3.96379730e+00, 2.59063616e+00, 2.84434069e+00],\n",
              "       [3.65148013e+00, 2.75941508e+00, 3.77716816e+00],\n",
              "       [2.46134970e+00, 1.63123797e+00, 3.44377916e+00],\n",
              "       [1.58486887e+00, 3.23727709e+00, 2.56410677e+00],\n",
              "       [2.85916962e+00, 1.68132719e+00, 2.38257804e+00],\n",
              "       [2.73739769e+00, 2.77599181e+00, 1.62397243e+00],\n",
              "       [3.90222787e+00, 2.47772275e+00, 3.40159555e+00],\n",
              "       [2.96870150e+00, 3.03995275e+00, 3.14335436e+00],\n",
              "       [3.29953775e+00, 2.64835705e+00, 1.67887044e+00],\n",
              "       [2.91874660e+00, 3.39814093e+00, 3.01376403e+00],\n",
              "       [1.87658997e+00, 2.07318433e+00, 2.88558635e+00],\n",
              "       [2.25699413e+00, 2.56048227e+00, 3.39027676e+00],\n",
              "       [2.88052221e+00, 2.14308430e+00, 3.06252685e+00],\n",
              "       [2.78548543e+00, 2.62705081e+00, 3.47378525e+00],\n",
              "       [2.61398018e+00, 1.48907265e+00, 1.62262288e+00],\n",
              "       [1.62958255e+00, 2.13978060e+00, 2.53299970e+00],\n",
              "       [2.70151602e+00, 3.46222662e+00, 2.74095557e+00],\n",
              "       [2.27981135e+00, 3.53544853e+00, 2.87436618e+00],\n",
              "       [3.55032769e+00, 1.95931760e+00, 2.03318329e+00],\n",
              "       [1.94569256e+00, 3.65969113e+00, 3.12869410e+00],\n",
              "       [2.16338304e+00, 2.17205473e+00, 1.47129852e+00],\n",
              "       [3.08168364e+00, 2.89486155e+00, 1.72237592e+00],\n",
              "       [3.98275901e+00, 2.83824542e+00, 1.58670192e+00],\n",
              "       [3.29966589e+00, 1.77533467e+00, 3.71175069e+00],\n",
              "       [1.70000308e+00, 3.33258452e+00, 2.86190985e+00],\n",
              "       [1.68306400e+00, 3.26898636e+00, 1.91474536e+00],\n",
              "       [3.90559287e+00, 3.14426317e+00, 1.84998051e+00],\n",
              "       [1.73656964e+00, 2.26171705e+00, 2.02382761e+00],\n",
              "       [1.44329149e+00, 3.98047147e+00, 2.91273045e+00],\n",
              "       [3.23292542e+00, 2.76088249e+00, 3.77458445e+00],\n",
              "       [2.37999000e+00, 2.31655951e+00, 2.42120190e+00],\n",
              "       [2.05968935e+00, 3.62045243e+00, 2.76437208e+00],\n",
              "       [2.78602013e+00, 1.55117789e+00, 1.46676616e+00],\n",
              "       [2.83886388e+00, 3.72887861e+00, 1.77044307e+00],\n",
              "       [2.97265099e+00, 3.55834489e+00, 2.84298331e+00],\n",
              "       [3.75744602e+00, 2.26880712e+00, 3.38080409e+00],\n",
              "       [1.64536082e+00, 3.36231061e+00, 2.87980498e+00],\n",
              "       [2.77375294e+00, 3.40119499e+00, 2.21293850e+00],\n",
              "       [2.84725631e+00, 2.48501638e+00, 2.35852650e+00],\n",
              "       [3.86849970e+00, 3.17941723e+00, 2.83434511e+00],\n",
              "       [1.59379465e+00, 2.10101021e+00, 3.04601704e+00],\n",
              "       [2.91078843e+00, 1.79586135e+00, 3.55294346e+00],\n",
              "       [3.55802635e+00, 2.13553502e+00, 3.71548638e+00],\n",
              "       [3.59623284e+00, 1.48234593e+00, 1.83015176e+00],\n",
              "       [3.32095303e+00, 3.79875900e+00, 2.36781103e+00],\n",
              "       [1.39710168e+00, 3.39130151e+00, 3.09555864e+00],\n",
              "       [3.72338142e+00, 1.54912482e+00, 3.25491416e+00],\n",
              "       [1.39120356e+00, 3.94145795e+00, 2.84772727e+00],\n",
              "       [1.35886561e+00, 2.42205832e+00, 2.50711931e+00],\n",
              "       [2.83535421e+00, 3.05864092e+00, 2.85269458e+00],\n",
              "       [3.48337117e+00, 1.80215813e+00, 1.94883622e+00],\n",
              "       [1.73898663e+00, 3.30423806e+00, 2.17798284e+00],\n",
              "       [3.37327055e+00, 1.45989813e+00, 2.48569787e+00],\n",
              "       [1.81942908e+00, 1.82335078e+00, 3.46426473e+00],\n",
              "       [2.56555102e+00, 3.52886608e+00, 1.68711185e+00],\n",
              "       [3.84559108e+00, 3.95313007e+00, 3.66229387e+00],\n",
              "       [3.91595369e+00, 3.35055033e+00, 1.63431888e+00],\n",
              "       [2.46378784e+00, 3.41205841e+00, 3.17161655e+00],\n",
              "       [2.63244318e+00, 3.72621095e+00, 2.67970784e+00],\n",
              "       [2.98720366e+00, 2.89415594e+00, 1.98973004e+00],\n",
              "       [1.58452436e+00, 2.71863062e+00, 2.12524174e+00],\n",
              "       [3.29317810e+00, 2.56343038e+00, 2.69788827e+00],\n",
              "       [2.88584553e+00, 1.76212327e+00, 2.03300304e+00],\n",
              "       [3.47329796e+00, 2.24424913e+00, 1.79874829e+00],\n",
              "       [1.45118895e+00, 2.11173438e+00, 2.05441612e+00],\n",
              "       [1.69883137e+00, 2.62793884e+00, 2.41811386e+00],\n",
              "       [2.33122169e-01, 1.10060985e+00, 3.35016491e-01],\n",
              "       [1.50108830e+00, 1.10738172e+00, 1.71857463e+00],\n",
              "       [1.43353338e+00, 2.32399359e+00, 1.52058283e+00],\n",
              "       [6.61696687e-01, 2.37041810e+00, 6.28645411e-01],\n",
              "       [1.29069086e+00, 1.86577494e+00, 1.77623382e+00],\n",
              "       [1.50155830e+00, 2.70081158e-01, 1.27228634e+00],\n",
              "       [1.04557669e+00, 1.56054886e+00, 2.51792919e+00],\n",
              "       [2.48073602e+00, 2.21323434e+00, 1.46838569e+00],\n",
              "       [1.79720186e+00, 2.05804921e+00, 1.15652043e-01],\n",
              "       [2.00985426e-01, 2.61472053e+00, 5.67212629e-01],\n",
              "       [3.07547397e-01, 1.10863754e+00, 2.09401633e-01],\n",
              "       [3.11300057e-01, 1.61835268e+00, 1.47542046e+00],\n",
              "       [5.46818626e-01, 2.57613228e+00, 2.39985269e-01],\n",
              "       [1.63160878e+00, 7.40898133e-02, 4.84027498e-01],\n",
              "       [1.84365011e+00, 1.94863725e+00, 7.11819249e-01],\n",
              "       [9.54243170e-01, 2.59991360e+00, 2.07928786e+00],\n",
              "       [1.20357827e+00, 9.33785347e-01, 5.67027577e-01],\n",
              "       [2.12781960e+00, 5.00101299e-01, 3.96508793e-01],\n",
              "       [1.54302476e-01, 2.09058039e+00, 1.08489049e-01],\n",
              "       [7.88448687e-01, 2.44180471e+00, 1.75684658e+00],\n",
              "       [1.00634558e+00, 6.31993313e-01, 4.11338208e-02],\n",
              "       [7.81317502e-01, 2.16654467e+00, 8.96445806e-01],\n",
              "       [2.53597278e-01, 3.01762005e-01, 8.62053592e-01],\n",
              "       [2.05140837e+00, 2.35783409e+00, 4.45231298e-01],\n",
              "       [1.64976998e+00, 8.29331648e-01, 2.27316694e+00],\n",
              "       [1.02000849e+00, 1.67506776e+00, 1.57440173e-01],\n",
              "       [1.04056610e+00, 9.77910928e-01, 9.97692563e-01],\n",
              "       [8.12739381e-01, 2.38269891e+00, 1.59756633e+00],\n",
              "       [6.16133046e-01, 1.71759728e+00, 1.02552087e+00],\n",
              "       [2.10825102e+00, 1.94507942e+00, 1.49782093e+00],\n",
              "       [8.90751380e-01, 1.01720897e+00, 2.21461530e+00],\n",
              "       [1.89496706e+00, 1.88891317e+00, 1.84571316e+00],\n",
              "       [1.90739770e+00, 2.52712834e+00, 1.33051942e+00],\n",
              "       [7.08079946e-01, 2.37339878e+00, 1.12595500e+00],\n",
              "       [5.47420669e-01, 2.14716506e+00, 1.28863855e+00],\n",
              "       [5.30534127e-01, 6.15591661e-01, 1.58869169e+00],\n",
              "       [8.98650851e-01, 1.32090913e+00, 3.59566619e-01],\n",
              "       [1.97369049e+00, 1.54497714e+00, 1.37028171e+00],\n",
              "       [1.61934231e+00, 1.38305617e+00, 2.07529013e+00],\n",
              "       [1.80470198e+00, 4.48668557e-01, 1.93845463e+00],\n",
              "       [2.19815396e+00, 1.57350261e+00, 2.47727886e+00],\n",
              "       [1.77414057e+00, 3.12053376e-01, 1.92196065e-01],\n",
              "       [2.25327353e+00, 2.02953914e+00, 4.51299037e-02],\n",
              "       [1.47626109e+00, 1.32414810e+00, 1.79077850e-01],\n",
              "       [1.57937585e+00, 2.43173303e+00, 2.17851836e+00],\n",
              "       [2.48105534e+00, 2.50487677e+00, 2.12031794e+00],\n",
              "       [2.52101182e+00, 2.04391031e+00, 9.78842890e-02],\n",
              "       [2.19348034e+00, 6.68765443e-02, 2.36432336e+00],\n",
              "       [1.06689282e+00, 1.79769238e+00, 2.45766535e+00],\n",
              "       [2.22289371e+00, 1.85459855e+00, 1.57888040e-01],\n",
              "       [1.36668194e+00, 4.41103432e-01, 1.79768633e+00],\n",
              "       [2.03171781e+00, 3.71781028e-01, 7.52832512e-01],\n",
              "       [2.19865324e-01, 2.06625284e+00, 8.75331369e-01],\n",
              "       [2.44737391e+00, 1.72998072e+00, 5.31841715e-01],\n",
              "       [3.85084033e-01, 2.08264723e+00, 2.12880208e+00],\n",
              "       [1.40866582e+00, 1.41359163e+00, 2.04072000e+00],\n",
              "       [7.05779558e-02, 1.39348813e+00, 3.27596729e-01],\n",
              "       [2.57671274e-01, 4.20691947e-01, 1.76300634e+00],\n",
              "       [1.59506563e+00, 2.36469707e+00, 1.85407536e+00],\n",
              "       [1.49079398e+00, 9.95041679e-01, 1.92739323e+00],\n",
              "       [2.33485991e+00, 8.40390229e-01, 2.25174662e+00],\n",
              "       [2.59750071e+00, 5.05799693e-01, 1.93997687e+00],\n",
              "       [1.65787010e+00, 2.19232182e+00, 3.32203649e-01],\n",
              "       [4.81321520e-02, 1.18967961e+00, 1.55701737e+00],\n",
              "       [1.42812191e+00, 2.19699005e+00, 1.95236283e+00],\n",
              "       [1.62621432e+00, 1.76553182e+00, 8.63693452e-05],\n",
              "       [2.06679498e+00, 2.58040259e+00, 2.42788292e-01],\n",
              "       [7.29160573e-01, 5.55411506e-01, 1.73938390e+00],\n",
              "       [1.54122520e-01, 1.96407011e+00, 1.47154937e+00],\n",
              "       [2.58086351e+00, 2.29000159e+00, 6.80363488e-01],\n",
              "       [1.85410969e+00, 1.28288929e+00, 6.80913950e-01],\n",
              "       [9.79543830e-03, 8.05615988e-01, 8.95635336e-02],\n",
              "       [1.96651074e+00, 2.19755489e+00, 1.42700127e+00],\n",
              "       [8.15213840e-02, 1.77564430e+00, 7.56498052e-01],\n",
              "       [1.97002692e+00, 2.49664167e+00, 7.01904164e-01],\n",
              "       [2.60529916e+00, 3.91137184e-02, 3.31223754e-01],\n",
              "       [2.18820609e+00, 7.24595308e-02, 2.21981091e+00],\n",
              "       [8.27326272e-01, 4.02446118e-01, 7.18201191e-01],\n",
              "       [1.43687091e+00, 1.68565031e+00, 8.03997865e-01],\n",
              "       [1.97797714e+00, 2.26562725e+00, 6.89533281e-01],\n",
              "       [1.16856843e+00, 8.80553174e-01, 2.03073967e+00],\n",
              "       [2.03111709e+00, 2.03144534e+00, 1.43055475e+00],\n",
              "       [1.43172636e+00, 3.58136400e-01, 2.60966835e-01],\n",
              "       [1.73915525e+00, 6.19466181e-01, 2.23956147e+00],\n",
              "       [2.36673929e+00, 2.59039208e+00, 2.16001755e+00],\n",
              "       [4.74912347e-01, 5.84705216e-01, 2.20183478e-02],\n",
              "       [1.01280882e+00, 2.16560730e+00, 1.76732631e+00],\n",
              "       [7.44204718e-01, 6.19087374e-01, 9.59932956e-01],\n",
              "       [2.42770107e+00, 7.64870230e-01, 3.22423628e-01],\n",
              "       [1.55625129e+00, 4.92475814e-02, 1.29593316e+00],\n",
              "       [2.49174361e+00, 2.25961727e+00, 2.47685298e+00],\n",
              "       [1.00323912e+00, 6.06627477e-01, 1.77874154e+00],\n",
              "       [5.09109155e-01, 3.47107190e-01, 3.27234953e-02],\n",
              "       [1.91061868e+00, 5.85308333e-01, 5.82343042e-01],\n",
              "       [4.18033002e-01, 5.76255430e-01, 1.08930206e+00],\n",
              "       [2.55425003e+00, 1.60178488e+00, 2.07578794e+00],\n",
              "       [2.12714462e+00, 2.08098254e+00, 1.44015555e+00],\n",
              "       [1.80577364e+00, 4.33165417e-01, 2.24953448e+00],\n",
              "       [2.35313593e+00, 2.40214931e+00, 1.87877898e+00],\n",
              "       [2.20322752e-01, 6.88216136e-01, 7.32259846e-01]])"
            ]
          },
          "execution_count": 28,
          "metadata": {},
          "output_type": "execute_result"
        }
      ]
    },
    {
      "cell_type": "code",
      "metadata": {
        "colab": {
          "base_uri": "https://localhost:8080/"
        },
        "id": "fSbbYgdEWDzK",
        "outputId": "df6775b2-8948-4f74-9cdc-dab7794bafc3"
      },
      "source": [
        "centroids,_=kmeans(data,3)\n",
        "centroids"
      ],
      "execution_count": null,
      "outputs": [
        {
          "data": {
            "text/plain": [
              "array([[1.00140861, 1.20196929, 0.80677514],\n",
              "       [2.14561748, 1.92527544, 1.92149352],\n",
              "       [2.82702032, 3.09935724, 2.82399127]])"
            ]
          },
          "execution_count": 29,
          "metadata": {},
          "output_type": "execute_result"
        }
      ]
    },
    {
      "cell_type": "code",
      "metadata": {
        "colab": {
          "base_uri": "https://localhost:8080/"
        },
        "id": "UKt3Sb7tWGu8",
        "outputId": "9bf5c9a0-e270-4a7f-eeba-b0e33523961d"
      },
      "source": [
        "clx,_=vq(data,centroids)\n",
        "clx"
      ],
      "execution_count": null,
      "outputs": [
        {
          "data": {
            "text/plain": [
              "array([2, 2, 1, 2, 1, 1, 1, 1, 2, 1, 1, 2, 2, 2, 2, 2, 2, 1, 1, 2, 2, 2,\n",
              "       2, 1, 1, 2, 1, 2, 2, 2, 1, 1, 1, 2, 2, 2, 1, 2, 1, 1, 2, 2, 2, 2,\n",
              "       1, 2, 2, 2, 1, 1, 2, 2, 1, 2, 1, 2, 2, 2, 2, 1, 2, 1, 2, 2, 1, 2,\n",
              "       1, 2, 2, 2, 2, 2, 2, 2, 1, 2, 2, 1, 2, 2, 2, 2, 1, 2, 1, 2, 1, 1,\n",
              "       2, 2, 2, 2, 2, 2, 1, 2, 1, 1, 1, 1, 0, 0, 1, 0, 1, 0, 1, 1, 0, 0,\n",
              "       0, 0, 0, 0, 0, 1, 0, 0, 0, 1, 0, 0, 0, 1, 1, 0, 0, 0, 0, 1, 0, 1,\n",
              "       1, 0, 0, 0, 0, 1, 1, 1, 1, 0, 0, 0, 1, 1, 1, 1, 1, 0, 0, 0, 0, 1,\n",
              "       0, 1, 0, 0, 1, 1, 1, 1, 0, 0, 1, 0, 1, 0, 0, 1, 0, 0, 1, 0, 1, 0,\n",
              "       1, 0, 0, 1, 0, 1, 0, 1, 1, 0, 1, 0, 0, 0, 1, 0, 0, 0, 0, 1, 1, 1,\n",
              "       1, 0], dtype=int32)"
            ]
          },
          "execution_count": 30,
          "metadata": {},
          "output_type": "execute_result"
        }
      ]
    },
    {
      "cell_type": "code",
      "metadata": {
        "colab": {
          "base_uri": "https://localhost:8080/"
        },
        "id": "6B196fNaWKjs",
        "outputId": "bb028c40-532b-4281-f228-9be31a7b0e82"
      },
      "source": [
        "from scipy.fftpack import fft\n",
        "\n",
        "x=np.array([1.0,2.0,1.0,-1.0,1.5])\n",
        "\n",
        "y=fft(x)\n",
        "print(\"FFT :\\n\",y)"
      ],
      "execution_count": null,
      "outputs": [
        {
          "name": "stdout",
          "output_type": "stream",
          "text": [
            "FFT :\n",
            " [ 4.5       -0.j          2.08155948-1.65109876j -1.83155948+1.60822041j\n",
            " -1.83155948-1.60822041j  2.08155948+1.65109876j]\n"
          ]
        }
      ]
    },
    {
      "cell_type": "code",
      "metadata": {
        "colab": {
          "base_uri": "https://localhost:8080/"
        },
        "id": "xBLT5KkEWNZ_",
        "outputId": "5a313265-c7ed-4fda-f900-fc72f8d5f6ce"
      },
      "source": [
        "from scipy.fftpack import ifft\n",
        "yinv=ifft(y)\n",
        "print(\"FFT Inverse:\\n\",yinv)"
      ],
      "execution_count": null,
      "outputs": [
        {
          "name": "stdout",
          "output_type": "stream",
          "text": [
            "FFT Inverse:\n",
            " [ 1. +0.j  2. +0.j  1. +0.j -1. +0.j  1.5+0.j]\n"
          ]
        }
      ]
    },
    {
      "cell_type": "code",
      "metadata": {
        "colab": {
          "base_uri": "https://localhost:8080/"
        },
        "id": "m4Uc7JQCWPnp",
        "outputId": "5f07d5ca-f1f8-4289-cc30-d0e8b2451145"
      },
      "source": [
        "from scipy.fftpack import dct\n",
        "print(\"DCT:\\n\",dct(np.array([4.,3.,5.,10.,5.,3.])))"
      ],
      "execution_count": null,
      "outputs": [
        {
          "name": "stdout",
          "output_type": "stream",
          "text": [
            "DCT:\n",
            " [ 60.          -3.48476592 -13.85640646  11.3137085    6.\n",
            "  -6.31319305]\n"
          ]
        }
      ]
    },
    {
      "cell_type": "code",
      "metadata": {
        "colab": {
          "base_uri": "https://localhost:8080/"
        },
        "id": "P2EoQDELWSkY",
        "outputId": "437a0654-7700-41a1-d73d-4afd70f6c5ff"
      },
      "source": [
        "from scipy.fftpack import idct\n",
        "print(\"IDCT:\\n\",idct(np.array([4.,3.,5.,10.,5.,3.])))"
      ],
      "execution_count": null,
      "outputs": [
        {
          "name": "stdout",
          "output_type": "stream",
          "text": [
            "IDCT:\n",
            " [ 39.15085889 -20.14213562  -6.45392043   7.13341236   8.14213562\n",
            "  -3.83035081]\n"
          ]
        }
      ]
    },
    {
      "cell_type": "markdown",
      "metadata": {
        "id": "E4U3ioq6WZEs"
      },
      "source": [
        "# **SciPy-Integrated**"
      ]
    },
    {
      "cell_type": "markdown",
      "metadata": {
        "id": "i_7db4qVWbSF"
      },
      "source": [
        "The general form of quad is scipy.integrate.quad(f,a,b), Where 'f' is the name of the function to be integrated. Whereas, 'a' and 'b' are the lower and upper limits, respectively. Let us see an example of the Gaussian function, integrated over a range of 0 and 1                                "
      ]
    },
    {
      "cell_type": "markdown",
      "metadata": {
        "id": "Qr0Q_2SsWdjT"
      },
      "source": [
        "  # **∫f(x)dx**"
      ]
    },
    {
      "cell_type": "code",
      "metadata": {
        "colab": {
          "base_uri": "https://localhost:8080/"
        },
        "id": "x2EPuq72WkY8",
        "outputId": "9112413d-ab2d-466d-fdaf-32188c7fd747"
      },
      "source": [
        "import scipy.integrate\n",
        "from numpy import exp\n",
        "f=lambda x:exp(-x**2)\n",
        "i=scipy.integrate.quad(f,0,1)\n",
        "print(i)"
      ],
      "execution_count": null,
      "outputs": [
        {
          "name": "stdout",
          "output_type": "stream",
          "text": [
            "(0.7468241328124271, 8.291413475940725e-15)\n"
          ]
        }
      ]
    },
    {
      "cell_type": "markdown",
      "metadata": {
        "id": "HbMTpaj6WocZ"
      },
      "source": [
        "# **Linear Algebra**\n",
        "\n",
        "**x+3y+5z=10**\n",
        "\n",
        "**2x+5y+z=8**\n",
        "\n",
        "**2x+3y+8z=3 ***"
      ]
    },
    {
      "cell_type": "code",
      "metadata": {
        "colab": {
          "base_uri": "https://localhost:8080/"
        },
        "id": "qi-DUx7jWvMq",
        "outputId": "76107610-0da7-4e3e-c5f3-48b709ead5f9"
      },
      "source": [
        "\n",
        "from scipy import linalg\n",
        "import numpy as np\n",
        "\n",
        "a=np.array([[1,3,5],[2,5,1],[2,3,8]])\n",
        "b=np.array([10,8,3])\n",
        "\n",
        "X=linalg.solve(a,b)\n",
        "\n",
        "print(X)"
      ],
      "execution_count": null,
      "outputs": [
        {
          "name": "stdout",
          "output_type": "stream",
          "text": [
            "[-9.28  5.16  0.76]\n"
          ]
        }
      ]
    },
    {
      "cell_type": "markdown",
      "metadata": {
        "id": "48SK7QpLW0VW"
      },
      "source": [
        "# **Finding an Determinant**"
      ]
    },
    {
      "cell_type": "code",
      "metadata": {
        "colab": {
          "base_uri": "https://localhost:8080/"
        },
        "id": "ocWaG57GW3Za",
        "outputId": "14c814a2-107e-4869-e2f3-3869bed8c1cc"
      },
      "source": [
        "from scipy import linalg\n",
        "import numpy as np\n",
        " \n",
        "A=np.array([[1,2],[3,4]])\n",
        " \n",
        "x=linalg.det(A)\n",
        " \n",
        "print(x)"
      ],
      "execution_count": null,
      "outputs": [
        {
          "name": "stdout",
          "output_type": "stream",
          "text": [
            "-2.0\n"
          ]
        }
      ]
    },
    {
      "cell_type": "markdown",
      "metadata": {
        "id": "TJ5MnDpSW7wH"
      },
      "source": [
        "# **Eigen values and Eigen Vectors**"
      ]
    },
    {
      "cell_type": "code",
      "metadata": {
        "colab": {
          "base_uri": "https://localhost:8080/"
        },
        "id": "CWSCTaBTW-l-",
        "outputId": "4ff13940-f986-4d8a-a9d3-2cf02c6360bd"
      },
      "source": [
        "from scipy import linalg\n",
        "import numpy as np\n",
        " \n",
        "A=np.array([[1,2],[3,4]])\n",
        " \n",
        "l,v=linalg.eig(A)\n",
        " \n",
        "print(\"Eigen Values :\\n\",l)\n",
        " \n",
        "print(\"Eigen Vectors:\\n\",v)"
      ],
      "execution_count": null,
      "outputs": [
        {
          "name": "stdout",
          "output_type": "stream",
          "text": [
            "Eigen Values :\n",
            " [-0.37228132+0.j  5.37228132+0.j]\n",
            "Eigen Vectors:\n",
            " [[-0.82456484 -0.41597356]\n",
            " [ 0.56576746 -0.90937671]]\n"
          ]
        }
      ]
    },
    {
      "cell_type": "markdown",
      "metadata": {
        "id": "KRjcNDBNXBev"
      },
      "source": [
        "# **Matplot Library**"
      ]
    },
    {
      "cell_type": "code",
      "metadata": {
        "colab": {
          "base_uri": "https://localhost:8080/",
          "height": 222
        },
        "id": "4QMg3THWXFwi",
        "outputId": "31c0fe16-a105-41ad-e9d3-478977f9ca4f"
      },
      "source": [
        "import matplotlib.pyplot as plt\n",
        "import numpy as np\n",
        " \n",
        "x=np.arange(5)\n",
        "y=(35,45,23,27,60)\n",
        " \n",
        "plt.bar(x,y)\n",
        "plt.show()"
      ],
      "execution_count": null,
      "outputs": [
        {
          "data": {
            "image/png": "[encoded data removed]",
            "text/plain": [
              "<Figure size 432x288 with 1 Axes>"
            ]
          },
          "metadata": {},
          "output_type": "display_data"
        }
      ]
    },
    {
      "cell_type": "code",
      "metadata": {
        "id": "MoL-m0RpXJVT"
      },
      "source": [
        "plt.scatter(x,y)\n",
        "plt.show()"
      ],
      "execution_count": null,
      "outputs": []
    },
    {
      "cell_type": "code",
      "metadata": {
        "colab": {
          "base_uri": "https://localhost:8080/",
          "height": 203
        },
        "id": "wIQssFDlXOAr",
        "outputId": "aec04b25-5a5a-45a3-a12b-7195ada1676d"
      },
      "source": [
        "import pandas as pd\n",
        "from sklearn.datasets import load_iris\n",
        "iris=load_iris()\n",
        "df=pd.DataFrame(iris.data)\n",
        " \n",
        "df.columns=['sepal_Length','sepal_Width','petal_Length','petal_Width']\n",
        "df.head()"
      ],
      "execution_count": null,
      "outputs": [
        {
          "data": {
            "text/html": [
              "<div>\n",
              "<style scoped>\n",
              "    .dataframe tbody tr th:only-of-type {\n",
              "        vertical-align: middle;\n",
              "    }\n",
              "\n",
              "    .dataframe tbody tr th {\n",
              "        vertical-align: top;\n",
              "    }\n",
              "\n",
              "    .dataframe thead th {\n",
              "        text-align: right;\n",
              "    }\n",
              "</style>\n",
              "<table border=\"1\" class=\"dataframe\">\n",
              "  <thead>\n",
              "    <tr style=\"text-align: right;\">\n",
              "      <th></th>\n",
              "      <th>sepal_Length</th>\n",
              "      <th>sepal_Width</th>\n",
              "      <th>petal_Length</th>\n",
              "      <th>petal_Width</th>\n",
              "    </tr>\n",
              "  </thead>\n",
              "  <tbody>\n",
              "    <tr>\n",
              "      <th>0</th>\n",
              "      <td>5.1</td>\n",
              "      <td>3.5</td>\n",
              "      <td>1.4</td>\n",
              "      <td>0.2</td>\n",
              "    </tr>\n",
              "    <tr>\n",
              "      <th>1</th>\n",
              "      <td>4.9</td>\n",
              "      <td>3.0</td>\n",
              "      <td>1.4</td>\n",
              "      <td>0.2</td>\n",
              "    </tr>\n",
              "    <tr>\n",
              "      <th>2</th>\n",
              "      <td>4.7</td>\n",
              "      <td>3.2</td>\n",
              "      <td>1.3</td>\n",
              "      <td>0.2</td>\n",
              "    </tr>\n",
              "    <tr>\n",
              "      <th>3</th>\n",
              "      <td>4.6</td>\n",
              "      <td>3.1</td>\n",
              "      <td>1.5</td>\n",
              "      <td>0.2</td>\n",
              "    </tr>\n",
              "    <tr>\n",
              "      <th>4</th>\n",
              "      <td>5.0</td>\n",
              "      <td>3.6</td>\n",
              "      <td>1.4</td>\n",
              "      <td>0.2</td>\n",
              "    </tr>\n",
              "  </tbody>\n",
              "</table>\n",
              "</div>"
            ],
            "text/plain": [
              "   sepal_Length  sepal_Width  petal_Length  petal_Width\n",
              "0           5.1          3.5           1.4          0.2\n",
              "1           4.9          3.0           1.4          0.2\n",
              "2           4.7          3.2           1.3          0.2\n",
              "3           4.6          3.1           1.5          0.2\n",
              "4           5.0          3.6           1.4          0.2"
            ]
          },
          "execution_count": 42,
          "metadata": {},
          "output_type": "execute_result"
        }
      ]
    },
    {
      "cell_type": "code",
      "metadata": {
        "id": "S4L3TvQwXQdM"
      },
      "source": [
        "df.hist()\n",
        "plt.show()"
      ],
      "execution_count": null,
      "outputs": []
    },
    {
      "cell_type": "code",
      "metadata": {
        "colab": {
          "base_uri": "https://localhost:8080/",
          "height": 426
        },
        "id": "Dipl6XyhXTR5",
        "outputId": "54d0a379-1e3a-48a0-bcfe-93c1e3166bcd"
      },
      "source": [
        "df.plot()\n",
        "plt.show()"
      ],
      "execution_count": null,
      "outputs": [
        {
          "ename": "NameError",
          "evalue": "ignored",
          "output_type": "error",
          "traceback": [
            "\u001b[0;31m---------------------------------------------------------------------------\u001b[0m",
            "\u001b[0;31mNameError\u001b[0m                                 Traceback (most recent call last)",
            "\u001b[0;32m<ipython-input-44-b10099301634>\u001b[0m in \u001b[0;36m<module>\u001b[0;34m()\u001b[0m\n\u001b[1;32m      1\u001b[0m \u001b[0mdf\u001b[0m\u001b[0;34m.\u001b[0m\u001b[0mplot\u001b[0m\u001b[0;34m(\u001b[0m\u001b[0;34m)\u001b[0m\u001b[0;34m\u001b[0m\u001b[0;34m\u001b[0m\u001b[0m\n\u001b[0;32m----> 2\u001b[0;31m \u001b[0mplt\u001b[0m\u001b[0;34m.\u001b[0m\u001b[0mshow\u001b[0m\u001b[0;34m(\u001b[0m\u001b[0;34m)\u001b[0m\u001b[0;34m\u001b[0m\u001b[0;34m\u001b[0m\u001b[0m\n\u001b[0m",
            "\u001b[0;31mNameError\u001b[0m: name 'plt' is not defined"
          ]
        },
        {
          "data": {
            "image/png": "[encoded data removed]",
            "text/plain": [
              "<Figure size 432x288 with 1 Axes>"
            ]
          },
          "metadata": {},
          "output_type": "display_data"
        }
      ]
    },
    {
      "cell_type": "code",
      "metadata": {
        "colab": {
          "base_uri": "https://localhost:8080/",
          "height": 428
        },
        "id": "xxcAq6p_XWws",
        "outputId": "475ea32b-77f8-4aea-fe19-6d1e763067b0"
      },
      "source": [
        "df.boxplot()\n",
        "plt.show()"
      ],
      "execution_count": null,
      "outputs": [
        {
          "ename": "NameError",
          "evalue": "ignored",
          "output_type": "error",
          "traceback": [
            "\u001b[0;31m---------------------------------------------------------------------------\u001b[0m",
            "\u001b[0;31mNameError\u001b[0m                                 Traceback (most recent call last)",
            "\u001b[0;32m<ipython-input-45-34018bf5362c>\u001b[0m in \u001b[0;36m<module>\u001b[0;34m()\u001b[0m\n\u001b[1;32m      1\u001b[0m \u001b[0mdf\u001b[0m\u001b[0;34m.\u001b[0m\u001b[0mboxplot\u001b[0m\u001b[0;34m(\u001b[0m\u001b[0;34m)\u001b[0m\u001b[0;34m\u001b[0m\u001b[0;34m\u001b[0m\u001b[0m\n\u001b[0;32m----> 2\u001b[0;31m \u001b[0mplt\u001b[0m\u001b[0;34m.\u001b[0m\u001b[0mshow\u001b[0m\u001b[0;34m(\u001b[0m\u001b[0;34m)\u001b[0m\u001b[0;34m\u001b[0m\u001b[0;34m\u001b[0m\u001b[0m\n\u001b[0m",
            "\u001b[0;31mNameError\u001b[0m: name 'plt' is not defined"
          ]
        },
        {
          "data": {
            "image/png": "[encoded data removed]",
            "text/plain": [
              "<Figure size 432x288 with 1 Axes>"
            ]
          },
          "metadata": {},
          "output_type": "display_data"
        }
      ]
    },
    {
      "cell_type": "code",
      "metadata": {
        "id": "tgNTfOb2XZRA"
      },
      "source": [
        "import numpy as np\n",
        "x=np.linspace(0,20,1000)\n",
        "y=np.sin(x)\n",
        " \n",
        "plt.plot(x,y,label='sample Label')\n",
        "plt.title('sample plot title')\n",
        "plt.xlabel('x axis label')\n",
        "plt.ylabel('y axis label')\n",
        "plt.grid(True)\n",
        " \n",
        "plt.figtext(0.5,0.01,'Fig1:Sinusodial', ha='right',va='bottom')\n",
        " \n",
        "plt.legend(loc='best',framealpha=0.5,prop={'size':'small'})\n",
        " \n",
        "plt.tight_layout(pad=1)\n",
        " \n",
        "plt.show()"
      ],
      "execution_count": null,
      "outputs": []
    }
  ]
}